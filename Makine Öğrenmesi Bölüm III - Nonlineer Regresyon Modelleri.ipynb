{
 "cells": [
  {
   "cell_type": "code",
   "execution_count": 226,
   "id": "b1f8deda",
   "metadata": {},
   "outputs": [],
   "source": [
    "import numpy as np\n",
    "import pandas as pd \n",
    "from sklearn.model_selection import train_test_split, GridSearchCV,cross_val_score\n",
    "from sklearn.metrics import mean_squared_error, r2_score\n",
    "import matplotlib.pyplot as plt\n",
    "from sklearn.preprocessing import scale \n",
    "from sklearn import model_selection\n",
    "from sklearn.tree import DecisionTreeRegressor, DecisionTreeClassifier\n",
    "from sklearn.neighbors import KNeighborsRegressor\n",
    "from sklearn.ensemble import BaggingRegressor\n",
    "\n",
    "from warnings import filterwarnings\n",
    "filterwarnings('ignore')"
   ]
  },
  {
   "cell_type": "markdown",
   "id": "077a2059",
   "metadata": {},
   "source": [
    "# KNN"
   ]
  },
  {
   "cell_type": "code",
   "execution_count": 3,
   "id": "e30a55a6",
   "metadata": {},
   "outputs": [],
   "source": [
    "hit = pd.read_csv(\"Hitters.csv\")\n",
    "df = hit.copy()\n",
    "df = df.dropna()\n",
    "dms = pd.get_dummies(df[['League', 'Division', 'NewLeague']])\n",
    "y = df[\"Salary\"]\n",
    "X_ = df.drop(['Salary', 'League', 'Division', 'NewLeague'], axis=1).astype('float64')\n",
    "X = pd.concat([X_, dms[['League_N', 'Division_W', 'NewLeague_N']]], axis=1)\n",
    "X_train, X_test, y_train, y_test = train_test_split(X, y, \n",
    "                                                    test_size=0.25, \n",
    "                                                    random_state=42)"
   ]
  },
  {
   "cell_type": "code",
   "execution_count": 4,
   "id": "c7561722",
   "metadata": {},
   "outputs": [],
   "source": [
    "knn_model = KNeighborsRegressor().fit(X_train, y_train)"
   ]
  },
  {
   "cell_type": "code",
   "execution_count": 5,
   "id": "81124315",
   "metadata": {},
   "outputs": [
    {
     "data": {
      "text/plain": [
       "KNeighborsRegressor()"
      ]
     },
     "execution_count": 5,
     "metadata": {},
     "output_type": "execute_result"
    }
   ],
   "source": [
    "knn_model"
   ]
  },
  {
   "cell_type": "code",
   "execution_count": 6,
   "id": "f550d465",
   "metadata": {},
   "outputs": [
    {
     "data": {
      "text/plain": [
       "5"
      ]
     },
     "execution_count": 6,
     "metadata": {},
     "output_type": "execute_result"
    }
   ],
   "source": [
    "knn_model.n_neighbors"
   ]
  },
  {
   "cell_type": "markdown",
   "id": "97af497f",
   "metadata": {},
   "source": [
    "# KNN TAHMİNİ"
   ]
  },
  {
   "cell_type": "code",
   "execution_count": 7,
   "id": "f111ea75",
   "metadata": {},
   "outputs": [
    {
     "data": {
      "text/plain": [
       "array([ 102.5   ,  952.    ,  904.    ,  325.5   ,  768.6666, 1180.6666,\n",
       "        118.    ,   90.5   ,  708.6666,  840.4   , 1612.1142,  160.    ,\n",
       "        982.    ,  771.    ,  716.6666,  745.    ,  670.    ,   79.5   ,\n",
       "        247.5   ,  303.    ,  576.    ,  996.6666,  551.    ,  451.5   ,\n",
       "         81.6   ,  962.5   ,  491.    ,  425.    ,   88.6   ,  463.    ,\n",
       "         70.6   ,  680.3334, 1152.3332,   78.6   ,  433.3334,  103.5   ,\n",
       "        281.2   ,  799.4   ,  106.5   ,   79.5   ,   79.5   ,  553.5   ,\n",
       "        198.8334,  249.    ,  336.    , 1052.    ,  205.5   ,  126.3   ,\n",
       "        637.    ,  602.    ,  498.    ,  248.    ,  322.    ,  160.    ,\n",
       "       1103.6666,  148.4   ,  627.    ,  707.5   ,  220.    , 1472.1142,\n",
       "        803.    ,  274.2   ,  588.    ,  487.5   ,  150.5   ,  158.3   ,\n",
       "         84.    ,  694.5   ,  159.5   ,  303.5   ,  336.    ,  986.6666,\n",
       "        737.5   ,  904.    , 1138.6666,  778.    ,  181.5   ,  498.    ,\n",
       "        417.5   ,  840.4   ,  412.5   ,  510.    , 1116.    ,  581.    ,\n",
       "        167.4   ,  598.    ,  637.    ,  762.5   ,  989.    ,  740.    ,\n",
       "        158.9   ,  227.2   , 1190.3332,   90.    ,  451.5   , 1023.3334,\n",
       "        840.4   ,  637.    ,  757.5   ,  995.    ,  374.5   ,  230.8334,\n",
       "        890.1666,  591.5   ,  188.5   ,  970.    ,  743.    ,  110.5   ,\n",
       "        255.5   ,  670.    ,  352.    ,  740.6666,  548.3334,  747.    ,\n",
       "        506.    ,  117.3   ,  826.5   , 1005.    ,  195.    ,  436.    ,\n",
       "        723.    ,  549.    ,  901.6666,  217.    ,   81.6   ,  199.    ,\n",
       "        649.3334,   84.    ,  134.4   ,  487.5   ,  671.    ,  456.5   ,\n",
       "       1612.1142,  720.4   , 1106.6666,  451.5   , 1005.    ,  458.    ,\n",
       "        224.    ,  840.4   ,  108.5   ,  106.5   ,  618.3334,  451.5   ,\n",
       "        259.8334,  453.    ,  748.3334,  404.5   ,  590.5   ,  808.6666,\n",
       "        103.5   ,  112.    ,   79.5   ,  138.4   ,  158.3   ,  303.    ,\n",
       "        549.    ,   94.    ,  823.5   ,  507.    ,  669.6666,  524.5   ,\n",
       "        995.    ,  240.5334,  747.    ,  904.    ,  278.    ,  251.8334,\n",
       "        472.5   ,  904.    ,  665.    ,   84.    ,  483.3334,  993.3334,\n",
       "        157.5   ,  245.3334,  284.    ,  472.    ,  549.    , 1180.6666,\n",
       "        320.    ,  538.    ,  145.5   ,  518.3334,  602.    ,  970.    ,\n",
       "        532.3334,  181.5   ,  108.5   ,  281.5334,  181.5   ,  629.    ,\n",
       "        764.3334,  677.5   ,  144.4   ,  550.    ,  125.5   ])"
      ]
     },
     "execution_count": 7,
     "metadata": {},
     "output_type": "execute_result"
    }
   ],
   "source": [
    "knn_model.predict(X_train)"
   ]
  },
  {
   "cell_type": "code",
   "execution_count": 8,
   "id": "e78cf3e2",
   "metadata": {},
   "outputs": [
    {
     "data": {
      "text/plain": [
       "array([ 510.3334,  808.3334,  772.5   ,  125.5   , 1005.    ,  325.5   ,\n",
       "        216.5   ,  101.5   ,  982.    ,  886.6666,  590.    ,  901.6666,\n",
       "        831.6666,  157.5   ,  393.    , 1005.    ,  735.5   ,   97.    ,\n",
       "        884.4   ,  302.    ,  450.    ,  817.6666,  832.6666,  392.3334,\n",
       "        528.    ,   81.6   ,  735.    ,  470.    ,  722.5   ,  101.    ,\n",
       "         90.5   ,   74.6   ,  748.3334,  217.    ,  280.5334, 1044.5   ,\n",
       "        955.    ,  232.    ,   78.6   ,  529.    ,   77.6   ,  106.5   ,\n",
       "        516.6666,  593.6666, 1005.    ,  649.1666,  715.    ,  101.5   ,\n",
       "        134.5   ,  810.    ,  743.    ,  521.3334,  664.3334,  195.    ,\n",
       "        102.4   ,  728.5   ,  488.    ,  962.5   ,  230.8334, 1040.    ,\n",
       "        885.    ,  542.    ,  720.4   ,  571.    ,  735.    ,   81.6   ])"
      ]
     },
     "execution_count": 8,
     "metadata": {},
     "output_type": "execute_result"
    }
   ],
   "source": [
    "knn_model.predict(X_test)"
   ]
  },
  {
   "cell_type": "code",
   "execution_count": 9,
   "id": "a54c02ef",
   "metadata": {},
   "outputs": [],
   "source": [
    "y_pred = knn_model.predict(X_test)"
   ]
  },
  {
   "cell_type": "code",
   "execution_count": 10,
   "id": "71a0598f",
   "metadata": {},
   "outputs": [
    {
     "data": {
      "text/plain": [
       "426.6570764525201"
      ]
     },
     "execution_count": 10,
     "metadata": {},
     "output_type": "execute_result"
    }
   ],
   "source": [
    "np.sqrt(mean_squared_error(y_test, y_pred))"
   ]
  },
  {
   "cell_type": "code",
   "execution_count": 11,
   "id": "af397d13",
   "metadata": {},
   "outputs": [
    {
     "name": "stdout",
     "output_type": "stream",
     "text": [
      "k = 1 için RMSE değeri:  0.0\n",
      "k = 2 için RMSE değeri:  179.52761335480352\n",
      "k = 3 için RMSE değeri:  205.20157172291863\n",
      "k = 4 için RMSE değeri:  220.5139794876305\n",
      "k = 5 için RMSE değeri:  239.6467132541376\n",
      "k = 6 için RMSE değeri:  243.5904190007242\n",
      "k = 7 için RMSE değeri:  258.1478781634636\n",
      "k = 8 için RMSE değeri:  266.05374203349805\n",
      "k = 9 için RMSE değeri:  269.73782093553376\n",
      "k = 10 için RMSE değeri:  271.2798300436963\n"
     ]
    }
   ],
   "source": [
    "RMSE = [] \n",
    "\n",
    "for k in range(10):\n",
    "    k = k+1\n",
    "    knn_model = KNeighborsRegressor(n_neighbors = k).fit(X_train, y_train)\n",
    "    y_pred = knn_model.predict(X_train) \n",
    "    rmse = np.sqrt(mean_squared_error(y_train,y_pred)) \n",
    "    RMSE.append(rmse) \n",
    "    print(\"k =\" , k , \"için RMSE değeri: \", rmse)\n"
   ]
  },
  {
   "cell_type": "markdown",
   "id": "a6910392",
   "metadata": {},
   "source": [
    "# KNN MODEL TUNİNG"
   ]
  },
  {
   "cell_type": "code",
   "execution_count": 12,
   "id": "0246ac88",
   "metadata": {},
   "outputs": [],
   "source": [
    "from sklearn.model_selection import GridSearchCV"
   ]
  },
  {
   "cell_type": "code",
   "execution_count": 13,
   "id": "be58b233",
   "metadata": {},
   "outputs": [],
   "source": [
    "knn_params ={\"n_neighbors\": np.arange(1,30,1)}"
   ]
  },
  {
   "cell_type": "code",
   "execution_count": 14,
   "id": "d5d1d650",
   "metadata": {},
   "outputs": [
    {
     "data": {
      "text/plain": [
       "array([ 1,  2,  3,  4,  5,  6,  7,  8,  9, 10, 11, 12, 13, 14, 15, 16, 17,\n",
       "       18, 19, 20, 21, 22, 23, 24, 25, 26, 27, 28, 29])"
      ]
     },
     "execution_count": 14,
     "metadata": {},
     "output_type": "execute_result"
    }
   ],
   "source": [
    "np.arange(1,30,1)"
   ]
  },
  {
   "cell_type": "code",
   "execution_count": 15,
   "id": "dc322eaf",
   "metadata": {},
   "outputs": [],
   "source": [
    "knn= KNeighborsRegressor()    "
   ]
  },
  {
   "cell_type": "code",
   "execution_count": 16,
   "id": "db760573",
   "metadata": {},
   "outputs": [],
   "source": [
    "knn_cv_model = GridSearchCV(knn, knn_params, cv=10)"
   ]
  },
  {
   "cell_type": "code",
   "execution_count": 17,
   "id": "763df0c0",
   "metadata": {},
   "outputs": [
    {
     "data": {
      "text/plain": [
       "GridSearchCV(cv=10, estimator=KNeighborsRegressor(),\n",
       "             param_grid={'n_neighbors': array([ 1,  2,  3,  4,  5,  6,  7,  8,  9, 10, 11, 12, 13, 14, 15, 16, 17,\n",
       "       18, 19, 20, 21, 22, 23, 24, 25, 26, 27, 28, 29])})"
      ]
     },
     "execution_count": 17,
     "metadata": {},
     "output_type": "execute_result"
    }
   ],
   "source": [
    "knn_cv_model.fit(X_train,y_train)"
   ]
  },
  {
   "cell_type": "code",
   "execution_count": 19,
   "id": "2c56d9a6",
   "metadata": {},
   "outputs": [
    {
     "data": {
      "text/plain": [
       "8"
      ]
     },
     "execution_count": 19,
     "metadata": {},
     "output_type": "execute_result"
    }
   ],
   "source": [
    "knn_cv_model.best_params_[\"n_neighbors\"]\n",
    "#8. komşuluk değerinin en iyi değer olduğunu anlarız. Aşağıda daha güzel anlatılıyor."
   ]
  },
  {
   "cell_type": "code",
   "execution_count": 20,
   "id": "16d1f7a7",
   "metadata": {},
   "outputs": [
    {
     "name": "stdout",
     "output_type": "stream",
     "text": [
      "k = 1 için RMSE değeri:  0.0 RMSE_CV değeri:  325.3947514706382\n",
      "k = 2 için RMSE değeri:  179.52761335480352 RMSE_CV değeri:  293.24000183333817\n",
      "k = 3 için RMSE değeri:  205.20157172291863 RMSE_CV değeri:  283.7486667487823\n",
      "k = 4 için RMSE değeri:  220.5139794876305 RMSE_CV değeri:  286.3240222024089\n",
      "k = 5 için RMSE değeri:  239.6467132541376 RMSE_CV değeri:  290.0705466132226\n",
      "k = 6 için RMSE değeri:  243.5904190007242 RMSE_CV değeri:  298.1263115575851\n",
      "k = 7 için RMSE değeri:  258.1478781634636 RMSE_CV değeri:  294.77070479194987\n",
      "k = 8 için RMSE değeri:  266.05374203349805 RMSE_CV değeri:  291.98672028891235\n",
      "k = 9 için RMSE değeri:  269.73782093553376 RMSE_CV değeri:  295.7162739573105\n",
      "k = 10 için RMSE değeri:  271.2798300436963 RMSE_CV değeri:  301.31047022701154\n"
     ]
    }
   ],
   "source": [
    "RMSE = [] \n",
    "RMSE_CV = []\n",
    "for k in range(10):\n",
    "    k = k+1\n",
    "    knn_model = KNeighborsRegressor(n_neighbors = k).fit(X_train, y_train)\n",
    "    y_pred = knn_model.predict(X_train) \n",
    "    rmse = np.sqrt(mean_squared_error(y_train,y_pred)) \n",
    "    rmse_cv = np.sqrt(-1*cross_val_score(knn_model, X_train, y_train, cv=10, \n",
    "                                         scoring = \"neg_mean_squared_error\").mean())\n",
    "    RMSE.append(rmse) \n",
    "    RMSE_CV.append(rmse_cv)\n",
    "    print(\"k =\" , k , \"için RMSE değeri: \", rmse, \"RMSE_CV değeri: \", rmse_cv )\n"
   ]
  },
  {
   "cell_type": "code",
   "execution_count": 21,
   "id": "8763f177",
   "metadata": {},
   "outputs": [],
   "source": [
    "knn_tuned = KNeighborsRegressor(n_neighbors = knn_cv_model.best_params_[\"n_neighbors\"])"
   ]
  },
  {
   "cell_type": "code",
   "execution_count": 22,
   "id": "742440f7",
   "metadata": {},
   "outputs": [
    {
     "data": {
      "text/plain": [
       "KNeighborsRegressor(n_neighbors=8)"
      ]
     },
     "execution_count": 22,
     "metadata": {},
     "output_type": "execute_result"
    }
   ],
   "source": [
    "knn_tuned.fit(X_train,y_train)"
   ]
  },
  {
   "cell_type": "code",
   "execution_count": 24,
   "id": "a97d7126",
   "metadata": {},
   "outputs": [
    {
     "data": {
      "text/plain": [
       "413.7094731463598"
      ]
     },
     "execution_count": 24,
     "metadata": {},
     "output_type": "execute_result"
    }
   ],
   "source": [
    "#en az hata verecek komşu sayısı ile fit edilmiş final modelin test hatası:\n",
    "np.sqrt(mean_squared_error(y_test, knn_tuned.predict(X_test)))"
   ]
  },
  {
   "cell_type": "markdown",
   "id": "be3ca482",
   "metadata": {},
   "source": [
    "# DESTEK VEKTÖR REGRESYONU(SVR)"
   ]
  },
  {
   "cell_type": "code",
   "execution_count": 25,
   "id": "61b02969",
   "metadata": {},
   "outputs": [],
   "source": [
    "hit = pd.read_csv(\"Hitters.csv\")\n",
    "df = hit.copy()\n",
    "df = df.dropna()\n",
    "dms = pd.get_dummies(df[['League', 'Division', 'NewLeague']])\n",
    "y = df[\"Salary\"]\n",
    "X_ = df.drop(['Salary', 'League', 'Division', 'NewLeague'], axis=1).astype('float64')\n",
    "X = pd.concat([X_, dms[['League_N', 'Division_W', 'NewLeague_N']]], axis=1)\n",
    "X_train, X_test, y_train, y_test = train_test_split(X, y, \n",
    "                                                    test_size=0.25, \n",
    "                                                    random_state=42)"
   ]
  },
  {
   "cell_type": "code",
   "execution_count": 26,
   "id": "2300d155",
   "metadata": {},
   "outputs": [],
   "source": [
    "X_train = pd.DataFrame(X_train[\"Hits\"])\n",
    "X_test = pd.DataFrame(X_test[\"Hits\"])"
   ]
  },
  {
   "cell_type": "code",
   "execution_count": 27,
   "id": "170a980c",
   "metadata": {},
   "outputs": [],
   "source": [
    "from sklearn.svm import SVR"
   ]
  },
  {
   "cell_type": "code",
   "execution_count": 29,
   "id": "05693218",
   "metadata": {},
   "outputs": [],
   "source": [
    "svr_model = SVR(kernel=\"linear\").fit(X_train, y_train)"
   ]
  },
  {
   "cell_type": "code",
   "execution_count": 32,
   "id": "c18c2f19",
   "metadata": {},
   "outputs": [
    {
     "data": {
      "text/plain": [
       "array([403.52804878, 666.91219512, 706.66829268, 194.80853659,\n",
       "       423.40609756])"
      ]
     },
     "execution_count": 32,
     "metadata": {},
     "output_type": "execute_result"
    }
   ],
   "source": [
    "svr_model.predict(X_train)[0:5]"
   ]
  },
  {
   "cell_type": "code",
   "execution_count": 33,
   "id": "5cb5c46f",
   "metadata": {},
   "outputs": [
    {
     "name": "stdout",
     "output_type": "stream",
     "text": [
      "y = -48.69756097561513 + 4.969512195122093 x\n"
     ]
    }
   ],
   "source": [
    "print (\"y = {0} + {1} x\".format(svr_model.intercept_[0], \n",
    "                                svr_model.coef_[0][0])) "
   ]
  },
  {
   "cell_type": "code",
   "execution_count": 34,
   "id": "e3c63b41",
   "metadata": {},
   "outputs": [
    {
     "data": {
      "text/plain": [
       "183    91.0\n",
       "Name: Hits, dtype: float64"
      ]
     },
     "execution_count": 34,
     "metadata": {},
     "output_type": "execute_result"
    }
   ],
   "source": [
    "X_train[\"Hits\"][0:1]"
   ]
  },
  {
   "cell_type": "code",
   "execution_count": 37,
   "id": "7be951c9",
   "metadata": {},
   "outputs": [
    {
     "data": {
      "text/plain": [
       "403.5280487804953"
      ]
     },
     "execution_count": 37,
     "metadata": {},
     "output_type": "execute_result"
    }
   ],
   "source": [
    "#ilk değere göre svr olarak maaş tahmini ?\n",
    "-48.69756097561513 + 4.969512195122093*91"
   ]
  },
  {
   "cell_type": "code",
   "execution_count": 38,
   "id": "a294ba00",
   "metadata": {},
   "outputs": [],
   "source": [
    "y_pred = svr_model.predict(X_train)"
   ]
  },
  {
   "cell_type": "code",
   "execution_count": 45,
   "id": "35b5f2e7",
   "metadata": {},
   "outputs": [
    {
     "ename": "InvalidIndexError",
     "evalue": "(slice(None, None, None), None)",
     "output_type": "error",
     "traceback": [
      "\u001b[1;31m---------------------------------------------------------------------------\u001b[0m",
      "\u001b[1;31mTypeError\u001b[0m                                 Traceback (most recent call last)",
      "File \u001b[1;32m~\\anaconda3\\lib\\site-packages\\pandas\\core\\indexes\\base.py:3621\u001b[0m, in \u001b[0;36mIndex.get_loc\u001b[1;34m(self, key, method, tolerance)\u001b[0m\n\u001b[0;32m   3620\u001b[0m \u001b[38;5;28;01mtry\u001b[39;00m:\n\u001b[1;32m-> 3621\u001b[0m     \u001b[38;5;28;01mreturn\u001b[39;00m \u001b[38;5;28;43mself\u001b[39;49m\u001b[38;5;241;43m.\u001b[39;49m\u001b[43m_engine\u001b[49m\u001b[38;5;241;43m.\u001b[39;49m\u001b[43mget_loc\u001b[49m\u001b[43m(\u001b[49m\u001b[43mcasted_key\u001b[49m\u001b[43m)\u001b[49m\n\u001b[0;32m   3622\u001b[0m \u001b[38;5;28;01mexcept\u001b[39;00m \u001b[38;5;167;01mKeyError\u001b[39;00m \u001b[38;5;28;01mas\u001b[39;00m err:\n",
      "File \u001b[1;32m~\\anaconda3\\lib\\site-packages\\pandas\\_libs\\index.pyx:136\u001b[0m, in \u001b[0;36mpandas._libs.index.IndexEngine.get_loc\u001b[1;34m()\u001b[0m\n",
      "File \u001b[1;32m~\\anaconda3\\lib\\site-packages\\pandas\\_libs\\index.pyx:142\u001b[0m, in \u001b[0;36mpandas._libs.index.IndexEngine.get_loc\u001b[1;34m()\u001b[0m\n",
      "\u001b[1;31mTypeError\u001b[0m: '(slice(None, None, None), None)' is an invalid key",
      "\nDuring handling of the above exception, another exception occurred:\n",
      "\u001b[1;31mInvalidIndexError\u001b[0m                         Traceback (most recent call last)",
      "Input \u001b[1;32mIn [45]\u001b[0m, in \u001b[0;36m<cell line: 3>\u001b[1;34m()\u001b[0m\n\u001b[0;32m      1\u001b[0m \u001b[38;5;28;01mimport\u001b[39;00m \u001b[38;5;21;01mmatplotlib\u001b[39;00m\u001b[38;5;21;01m.\u001b[39;00m\u001b[38;5;21;01mpyplot\u001b[39;00m \u001b[38;5;28;01mas\u001b[39;00m \u001b[38;5;21;01mplt\u001b[39;00m\n\u001b[0;32m      2\u001b[0m plt\u001b[38;5;241m.\u001b[39mscatter(X_train, y_train)\n\u001b[1;32m----> 3\u001b[0m \u001b[43mplt\u001b[49m\u001b[38;5;241;43m.\u001b[39;49m\u001b[43mplot\u001b[49m\u001b[43m(\u001b[49m\u001b[43mX_train\u001b[49m\u001b[43m,\u001b[49m\u001b[43my_pred\u001b[49m\u001b[43m,\u001b[49m\u001b[43m \u001b[49m\u001b[43mcolor\u001b[49m\u001b[43m \u001b[49m\u001b[38;5;241;43m=\u001b[39;49m\u001b[43m \u001b[49m\u001b[38;5;124;43m\"\u001b[39;49m\u001b[38;5;124;43mr\u001b[39;49m\u001b[38;5;124;43m\"\u001b[39;49m\u001b[43m)\u001b[49m\n",
      "File \u001b[1;32m~\\anaconda3\\lib\\site-packages\\matplotlib\\pyplot.py:2757\u001b[0m, in \u001b[0;36mplot\u001b[1;34m(scalex, scaley, data, *args, **kwargs)\u001b[0m\n\u001b[0;32m   2755\u001b[0m \u001b[38;5;129m@_copy_docstring_and_deprecators\u001b[39m(Axes\u001b[38;5;241m.\u001b[39mplot)\n\u001b[0;32m   2756\u001b[0m \u001b[38;5;28;01mdef\u001b[39;00m \u001b[38;5;21mplot\u001b[39m(\u001b[38;5;241m*\u001b[39margs, scalex\u001b[38;5;241m=\u001b[39m\u001b[38;5;28;01mTrue\u001b[39;00m, scaley\u001b[38;5;241m=\u001b[39m\u001b[38;5;28;01mTrue\u001b[39;00m, data\u001b[38;5;241m=\u001b[39m\u001b[38;5;28;01mNone\u001b[39;00m, \u001b[38;5;241m*\u001b[39m\u001b[38;5;241m*\u001b[39mkwargs):\n\u001b[1;32m-> 2757\u001b[0m     \u001b[38;5;28;01mreturn\u001b[39;00m gca()\u001b[38;5;241m.\u001b[39mplot(\n\u001b[0;32m   2758\u001b[0m         \u001b[38;5;241m*\u001b[39margs, scalex\u001b[38;5;241m=\u001b[39mscalex, scaley\u001b[38;5;241m=\u001b[39mscaley,\n\u001b[0;32m   2759\u001b[0m         \u001b[38;5;241m*\u001b[39m\u001b[38;5;241m*\u001b[39m({\u001b[38;5;124m\"\u001b[39m\u001b[38;5;124mdata\u001b[39m\u001b[38;5;124m\"\u001b[39m: data} \u001b[38;5;28;01mif\u001b[39;00m data \u001b[38;5;129;01mis\u001b[39;00m \u001b[38;5;129;01mnot\u001b[39;00m \u001b[38;5;28;01mNone\u001b[39;00m \u001b[38;5;28;01melse\u001b[39;00m {}), \u001b[38;5;241m*\u001b[39m\u001b[38;5;241m*\u001b[39mkwargs)\n",
      "File \u001b[1;32m~\\anaconda3\\lib\\site-packages\\matplotlib\\axes\\_axes.py:1632\u001b[0m, in \u001b[0;36mAxes.plot\u001b[1;34m(self, scalex, scaley, data, *args, **kwargs)\u001b[0m\n\u001b[0;32m   1390\u001b[0m \u001b[38;5;124;03m\"\"\"\u001b[39;00m\n\u001b[0;32m   1391\u001b[0m \u001b[38;5;124;03mPlot y versus x as lines and/or markers.\u001b[39;00m\n\u001b[0;32m   1392\u001b[0m \n\u001b[1;32m   (...)\u001b[0m\n\u001b[0;32m   1629\u001b[0m \u001b[38;5;124;03m(``'green'``) or hex strings (``'#008000'``).\u001b[39;00m\n\u001b[0;32m   1630\u001b[0m \u001b[38;5;124;03m\"\"\"\u001b[39;00m\n\u001b[0;32m   1631\u001b[0m kwargs \u001b[38;5;241m=\u001b[39m cbook\u001b[38;5;241m.\u001b[39mnormalize_kwargs(kwargs, mlines\u001b[38;5;241m.\u001b[39mLine2D)\n\u001b[1;32m-> 1632\u001b[0m lines \u001b[38;5;241m=\u001b[39m [\u001b[38;5;241m*\u001b[39m\u001b[38;5;28mself\u001b[39m\u001b[38;5;241m.\u001b[39m_get_lines(\u001b[38;5;241m*\u001b[39margs, data\u001b[38;5;241m=\u001b[39mdata, \u001b[38;5;241m*\u001b[39m\u001b[38;5;241m*\u001b[39mkwargs)]\n\u001b[0;32m   1633\u001b[0m \u001b[38;5;28;01mfor\u001b[39;00m line \u001b[38;5;129;01min\u001b[39;00m lines:\n\u001b[0;32m   1634\u001b[0m     \u001b[38;5;28mself\u001b[39m\u001b[38;5;241m.\u001b[39madd_line(line)\n",
      "File \u001b[1;32m~\\anaconda3\\lib\\site-packages\\matplotlib\\axes\\_base.py:312\u001b[0m, in \u001b[0;36m_process_plot_var_args.__call__\u001b[1;34m(self, data, *args, **kwargs)\u001b[0m\n\u001b[0;32m    310\u001b[0m     this \u001b[38;5;241m+\u001b[39m\u001b[38;5;241m=\u001b[39m args[\u001b[38;5;241m0\u001b[39m],\n\u001b[0;32m    311\u001b[0m     args \u001b[38;5;241m=\u001b[39m args[\u001b[38;5;241m1\u001b[39m:]\n\u001b[1;32m--> 312\u001b[0m \u001b[38;5;28;01myield from\u001b[39;00m \u001b[38;5;28;43mself\u001b[39;49m\u001b[38;5;241;43m.\u001b[39;49m\u001b[43m_plot_args\u001b[49m\u001b[43m(\u001b[49m\u001b[43mthis\u001b[49m\u001b[43m,\u001b[49m\u001b[43m \u001b[49m\u001b[43mkwargs\u001b[49m\u001b[43m)\u001b[49m\n",
      "File \u001b[1;32m~\\anaconda3\\lib\\site-packages\\matplotlib\\axes\\_base.py:487\u001b[0m, in \u001b[0;36m_process_plot_var_args._plot_args\u001b[1;34m(self, tup, kwargs, return_kwargs)\u001b[0m\n\u001b[0;32m    484\u001b[0m         kw[prop_name] \u001b[38;5;241m=\u001b[39m val\n\u001b[0;32m    486\u001b[0m \u001b[38;5;28;01mif\u001b[39;00m \u001b[38;5;28mlen\u001b[39m(xy) \u001b[38;5;241m==\u001b[39m \u001b[38;5;241m2\u001b[39m:\n\u001b[1;32m--> 487\u001b[0m     x \u001b[38;5;241m=\u001b[39m \u001b[43m_check_1d\u001b[49m\u001b[43m(\u001b[49m\u001b[43mxy\u001b[49m\u001b[43m[\u001b[49m\u001b[38;5;241;43m0\u001b[39;49m\u001b[43m]\u001b[49m\u001b[43m)\u001b[49m\n\u001b[0;32m    488\u001b[0m     y \u001b[38;5;241m=\u001b[39m _check_1d(xy[\u001b[38;5;241m1\u001b[39m])\n\u001b[0;32m    489\u001b[0m \u001b[38;5;28;01melse\u001b[39;00m:\n",
      "File \u001b[1;32m~\\anaconda3\\lib\\site-packages\\matplotlib\\cbook\\__init__.py:1327\u001b[0m, in \u001b[0;36m_check_1d\u001b[1;34m(x)\u001b[0m\n\u001b[0;32m   1321\u001b[0m \u001b[38;5;28;01mwith\u001b[39;00m warnings\u001b[38;5;241m.\u001b[39mcatch_warnings(record\u001b[38;5;241m=\u001b[39m\u001b[38;5;28;01mTrue\u001b[39;00m) \u001b[38;5;28;01mas\u001b[39;00m w:\n\u001b[0;32m   1322\u001b[0m     warnings\u001b[38;5;241m.\u001b[39mfilterwarnings(\n\u001b[0;32m   1323\u001b[0m         \u001b[38;5;124m\"\u001b[39m\u001b[38;5;124malways\u001b[39m\u001b[38;5;124m\"\u001b[39m,\n\u001b[0;32m   1324\u001b[0m         category\u001b[38;5;241m=\u001b[39m\u001b[38;5;167;01mWarning\u001b[39;00m,\n\u001b[0;32m   1325\u001b[0m         message\u001b[38;5;241m=\u001b[39m\u001b[38;5;124m'\u001b[39m\u001b[38;5;124mSupport for multi-dimensional indexing\u001b[39m\u001b[38;5;124m'\u001b[39m)\n\u001b[1;32m-> 1327\u001b[0m     ndim \u001b[38;5;241m=\u001b[39m \u001b[43mx\u001b[49m\u001b[43m[\u001b[49m\u001b[43m:\u001b[49m\u001b[43m,\u001b[49m\u001b[43m \u001b[49m\u001b[38;5;28;43;01mNone\u001b[39;49;00m\u001b[43m]\u001b[49m\u001b[38;5;241m.\u001b[39mndim\n\u001b[0;32m   1328\u001b[0m     \u001b[38;5;66;03m# we have definitely hit a pandas index or series object\u001b[39;00m\n\u001b[0;32m   1329\u001b[0m     \u001b[38;5;66;03m# cast to a numpy array.\u001b[39;00m\n\u001b[0;32m   1330\u001b[0m     \u001b[38;5;28;01mif\u001b[39;00m \u001b[38;5;28mlen\u001b[39m(w) \u001b[38;5;241m>\u001b[39m \u001b[38;5;241m0\u001b[39m:\n",
      "File \u001b[1;32m~\\anaconda3\\lib\\site-packages\\pandas\\core\\frame.py:3505\u001b[0m, in \u001b[0;36mDataFrame.__getitem__\u001b[1;34m(self, key)\u001b[0m\n\u001b[0;32m   3503\u001b[0m \u001b[38;5;28;01mif\u001b[39;00m \u001b[38;5;28mself\u001b[39m\u001b[38;5;241m.\u001b[39mcolumns\u001b[38;5;241m.\u001b[39mnlevels \u001b[38;5;241m>\u001b[39m \u001b[38;5;241m1\u001b[39m:\n\u001b[0;32m   3504\u001b[0m     \u001b[38;5;28;01mreturn\u001b[39;00m \u001b[38;5;28mself\u001b[39m\u001b[38;5;241m.\u001b[39m_getitem_multilevel(key)\n\u001b[1;32m-> 3505\u001b[0m indexer \u001b[38;5;241m=\u001b[39m \u001b[38;5;28;43mself\u001b[39;49m\u001b[38;5;241;43m.\u001b[39;49m\u001b[43mcolumns\u001b[49m\u001b[38;5;241;43m.\u001b[39;49m\u001b[43mget_loc\u001b[49m\u001b[43m(\u001b[49m\u001b[43mkey\u001b[49m\u001b[43m)\u001b[49m\n\u001b[0;32m   3506\u001b[0m \u001b[38;5;28;01mif\u001b[39;00m is_integer(indexer):\n\u001b[0;32m   3507\u001b[0m     indexer \u001b[38;5;241m=\u001b[39m [indexer]\n",
      "File \u001b[1;32m~\\anaconda3\\lib\\site-packages\\pandas\\core\\indexes\\base.py:3628\u001b[0m, in \u001b[0;36mIndex.get_loc\u001b[1;34m(self, key, method, tolerance)\u001b[0m\n\u001b[0;32m   3623\u001b[0m         \u001b[38;5;28;01mraise\u001b[39;00m \u001b[38;5;167;01mKeyError\u001b[39;00m(key) \u001b[38;5;28;01mfrom\u001b[39;00m \u001b[38;5;21;01merr\u001b[39;00m\n\u001b[0;32m   3624\u001b[0m     \u001b[38;5;28;01mexcept\u001b[39;00m \u001b[38;5;167;01mTypeError\u001b[39;00m:\n\u001b[0;32m   3625\u001b[0m         \u001b[38;5;66;03m# If we have a listlike key, _check_indexing_error will raise\u001b[39;00m\n\u001b[0;32m   3626\u001b[0m         \u001b[38;5;66;03m#  InvalidIndexError. Otherwise we fall through and re-raise\u001b[39;00m\n\u001b[0;32m   3627\u001b[0m         \u001b[38;5;66;03m#  the TypeError.\u001b[39;00m\n\u001b[1;32m-> 3628\u001b[0m         \u001b[38;5;28;43mself\u001b[39;49m\u001b[38;5;241;43m.\u001b[39;49m\u001b[43m_check_indexing_error\u001b[49m\u001b[43m(\u001b[49m\u001b[43mkey\u001b[49m\u001b[43m)\u001b[49m\n\u001b[0;32m   3629\u001b[0m         \u001b[38;5;28;01mraise\u001b[39;00m\n\u001b[0;32m   3631\u001b[0m \u001b[38;5;66;03m# GH#42269\u001b[39;00m\n",
      "File \u001b[1;32m~\\anaconda3\\lib\\site-packages\\pandas\\core\\indexes\\base.py:5637\u001b[0m, in \u001b[0;36mIndex._check_indexing_error\u001b[1;34m(self, key)\u001b[0m\n\u001b[0;32m   5633\u001b[0m \u001b[38;5;28;01mdef\u001b[39;00m \u001b[38;5;21m_check_indexing_error\u001b[39m(\u001b[38;5;28mself\u001b[39m, key):\n\u001b[0;32m   5634\u001b[0m     \u001b[38;5;28;01mif\u001b[39;00m \u001b[38;5;129;01mnot\u001b[39;00m is_scalar(key):\n\u001b[0;32m   5635\u001b[0m         \u001b[38;5;66;03m# if key is not a scalar, directly raise an error (the code below\u001b[39;00m\n\u001b[0;32m   5636\u001b[0m         \u001b[38;5;66;03m# would convert to numpy arrays and raise later any way) - GH29926\u001b[39;00m\n\u001b[1;32m-> 5637\u001b[0m         \u001b[38;5;28;01mraise\u001b[39;00m InvalidIndexError(key)\n",
      "\u001b[1;31mInvalidIndexError\u001b[0m: (slice(None, None, None), None)"
     ]
    },
    {
     "data": {
      "image/png": "[encoded data removed]",
      "text/plain": [
       "<Figure size 432x288 with 1 Axes>"
      ]
     },
     "metadata": {
      "needs_background": "light"
     },
     "output_type": "display_data"
    }
   ],
   "source": [
    "import matplotlib.pyplot as plt\n",
    "plt.scatter(X_train, y_train)\n",
    "plt.plot(X_train,y_pred, color = \"r\")"
   ]
  },
  {
   "cell_type": "code",
   "execution_count": 46,
   "id": "6116ff8b",
   "metadata": {},
   "outputs": [
    {
     "name": "stdout",
     "output_type": "stream",
     "text": [
      "y = -8.814095480334572 + 5.1724561354706875 x\n"
     ]
    }
   ],
   "source": [
    "from sklearn.linear_model import LinearRegression\n",
    "lm_model = LinearRegression().fit(X_train, y_train)\n",
    "lm_pred  = lm_model.predict(X_train)\n",
    "print(\"y = {0} + {1} x\".format(lm_model.intercept_, lm_model.coef_[0]))"
   ]
  },
  {
   "cell_type": "code",
   "execution_count": 47,
   "id": "09eb97d6",
   "metadata": {},
   "outputs": [
    {
     "data": {
      "text/plain": [
       "461.879412847498"
      ]
     },
     "execution_count": 47,
     "metadata": {},
     "output_type": "execute_result"
    }
   ],
   "source": [
    "#ilk değere göre regresyon olarak maaş tahmini ?\n",
    "-8.814095480334572 + 5.1724561354706875*91"
   ]
  },
  {
   "cell_type": "code",
   "execution_count": 52,
   "id": "78988e43",
   "metadata": {},
   "outputs": [
    {
     "ename": "InvalidIndexError",
     "evalue": "(slice(None, None, None), None)",
     "output_type": "error",
     "traceback": [
      "\u001b[1;31m---------------------------------------------------------------------------\u001b[0m",
      "\u001b[1;31mTypeError\u001b[0m                                 Traceback (most recent call last)",
      "File \u001b[1;32m~\\anaconda3\\lib\\site-packages\\pandas\\core\\indexes\\base.py:3621\u001b[0m, in \u001b[0;36mIndex.get_loc\u001b[1;34m(self, key, method, tolerance)\u001b[0m\n\u001b[0;32m   3620\u001b[0m \u001b[38;5;28;01mtry\u001b[39;00m:\n\u001b[1;32m-> 3621\u001b[0m     \u001b[38;5;28;01mreturn\u001b[39;00m \u001b[38;5;28;43mself\u001b[39;49m\u001b[38;5;241;43m.\u001b[39;49m\u001b[43m_engine\u001b[49m\u001b[38;5;241;43m.\u001b[39;49m\u001b[43mget_loc\u001b[49m\u001b[43m(\u001b[49m\u001b[43mcasted_key\u001b[49m\u001b[43m)\u001b[49m\n\u001b[0;32m   3622\u001b[0m \u001b[38;5;28;01mexcept\u001b[39;00m \u001b[38;5;167;01mKeyError\u001b[39;00m \u001b[38;5;28;01mas\u001b[39;00m err:\n",
      "File \u001b[1;32m~\\anaconda3\\lib\\site-packages\\pandas\\_libs\\index.pyx:136\u001b[0m, in \u001b[0;36mpandas._libs.index.IndexEngine.get_loc\u001b[1;34m()\u001b[0m\n",
      "File \u001b[1;32m~\\anaconda3\\lib\\site-packages\\pandas\\_libs\\index.pyx:142\u001b[0m, in \u001b[0;36mpandas._libs.index.IndexEngine.get_loc\u001b[1;34m()\u001b[0m\n",
      "\u001b[1;31mTypeError\u001b[0m: '(slice(None, None, None), None)' is an invalid key",
      "\nDuring handling of the above exception, another exception occurred:\n",
      "\u001b[1;31mInvalidIndexError\u001b[0m                         Traceback (most recent call last)",
      "Input \u001b[1;32mIn [52]\u001b[0m, in \u001b[0;36m<cell line: 2>\u001b[1;34m()\u001b[0m\n\u001b[0;32m      1\u001b[0m plt\u001b[38;5;241m.\u001b[39mscatter(X_train, y_train, alpha\u001b[38;5;241m=\u001b[39m\u001b[38;5;241m0.5\u001b[39m, s\u001b[38;5;241m=\u001b[39m\u001b[38;5;241m23\u001b[39m)\n\u001b[1;32m----> 2\u001b[0m \u001b[43mplt\u001b[49m\u001b[38;5;241;43m.\u001b[39;49m\u001b[43mplot\u001b[49m\u001b[43m(\u001b[49m\u001b[43mX_train\u001b[49m\u001b[43m,\u001b[49m\u001b[43m \u001b[49m\u001b[43mlm_pred\u001b[49m\u001b[43m,\u001b[49m\u001b[43m \u001b[49m\u001b[38;5;124;43m'\u001b[39;49m\u001b[38;5;124;43mg\u001b[39;49m\u001b[38;5;124;43m'\u001b[39;49m\u001b[43m)\u001b[49m\n\u001b[0;32m      3\u001b[0m plt\u001b[38;5;241m.\u001b[39mplot(X_train, y_pred, color\u001b[38;5;241m=\u001b[39m\u001b[38;5;124m'\u001b[39m\u001b[38;5;124mr\u001b[39m\u001b[38;5;124m'\u001b[39m)\n\u001b[0;32m      5\u001b[0m plt\u001b[38;5;241m.\u001b[39mxlabel(\u001b[38;5;124m\"\u001b[39m\u001b[38;5;124mAtış Sayısı(Hits)\u001b[39m\u001b[38;5;124m\"\u001b[39m)\n",
      "File \u001b[1;32m~\\anaconda3\\lib\\site-packages\\matplotlib\\pyplot.py:2757\u001b[0m, in \u001b[0;36mplot\u001b[1;34m(scalex, scaley, data, *args, **kwargs)\u001b[0m\n\u001b[0;32m   2755\u001b[0m \u001b[38;5;129m@_copy_docstring_and_deprecators\u001b[39m(Axes\u001b[38;5;241m.\u001b[39mplot)\n\u001b[0;32m   2756\u001b[0m \u001b[38;5;28;01mdef\u001b[39;00m \u001b[38;5;21mplot\u001b[39m(\u001b[38;5;241m*\u001b[39margs, scalex\u001b[38;5;241m=\u001b[39m\u001b[38;5;28;01mTrue\u001b[39;00m, scaley\u001b[38;5;241m=\u001b[39m\u001b[38;5;28;01mTrue\u001b[39;00m, data\u001b[38;5;241m=\u001b[39m\u001b[38;5;28;01mNone\u001b[39;00m, \u001b[38;5;241m*\u001b[39m\u001b[38;5;241m*\u001b[39mkwargs):\n\u001b[1;32m-> 2757\u001b[0m     \u001b[38;5;28;01mreturn\u001b[39;00m gca()\u001b[38;5;241m.\u001b[39mplot(\n\u001b[0;32m   2758\u001b[0m         \u001b[38;5;241m*\u001b[39margs, scalex\u001b[38;5;241m=\u001b[39mscalex, scaley\u001b[38;5;241m=\u001b[39mscaley,\n\u001b[0;32m   2759\u001b[0m         \u001b[38;5;241m*\u001b[39m\u001b[38;5;241m*\u001b[39m({\u001b[38;5;124m\"\u001b[39m\u001b[38;5;124mdata\u001b[39m\u001b[38;5;124m\"\u001b[39m: data} \u001b[38;5;28;01mif\u001b[39;00m data \u001b[38;5;129;01mis\u001b[39;00m \u001b[38;5;129;01mnot\u001b[39;00m \u001b[38;5;28;01mNone\u001b[39;00m \u001b[38;5;28;01melse\u001b[39;00m {}), \u001b[38;5;241m*\u001b[39m\u001b[38;5;241m*\u001b[39mkwargs)\n",
      "File \u001b[1;32m~\\anaconda3\\lib\\site-packages\\matplotlib\\axes\\_axes.py:1632\u001b[0m, in \u001b[0;36mAxes.plot\u001b[1;34m(self, scalex, scaley, data, *args, **kwargs)\u001b[0m\n\u001b[0;32m   1390\u001b[0m \u001b[38;5;124;03m\"\"\"\u001b[39;00m\n\u001b[0;32m   1391\u001b[0m \u001b[38;5;124;03mPlot y versus x as lines and/or markers.\u001b[39;00m\n\u001b[0;32m   1392\u001b[0m \n\u001b[1;32m   (...)\u001b[0m\n\u001b[0;32m   1629\u001b[0m \u001b[38;5;124;03m(``'green'``) or hex strings (``'#008000'``).\u001b[39;00m\n\u001b[0;32m   1630\u001b[0m \u001b[38;5;124;03m\"\"\"\u001b[39;00m\n\u001b[0;32m   1631\u001b[0m kwargs \u001b[38;5;241m=\u001b[39m cbook\u001b[38;5;241m.\u001b[39mnormalize_kwargs(kwargs, mlines\u001b[38;5;241m.\u001b[39mLine2D)\n\u001b[1;32m-> 1632\u001b[0m lines \u001b[38;5;241m=\u001b[39m [\u001b[38;5;241m*\u001b[39m\u001b[38;5;28mself\u001b[39m\u001b[38;5;241m.\u001b[39m_get_lines(\u001b[38;5;241m*\u001b[39margs, data\u001b[38;5;241m=\u001b[39mdata, \u001b[38;5;241m*\u001b[39m\u001b[38;5;241m*\u001b[39mkwargs)]\n\u001b[0;32m   1633\u001b[0m \u001b[38;5;28;01mfor\u001b[39;00m line \u001b[38;5;129;01min\u001b[39;00m lines:\n\u001b[0;32m   1634\u001b[0m     \u001b[38;5;28mself\u001b[39m\u001b[38;5;241m.\u001b[39madd_line(line)\n",
      "File \u001b[1;32m~\\anaconda3\\lib\\site-packages\\matplotlib\\axes\\_base.py:312\u001b[0m, in \u001b[0;36m_process_plot_var_args.__call__\u001b[1;34m(self, data, *args, **kwargs)\u001b[0m\n\u001b[0;32m    310\u001b[0m     this \u001b[38;5;241m+\u001b[39m\u001b[38;5;241m=\u001b[39m args[\u001b[38;5;241m0\u001b[39m],\n\u001b[0;32m    311\u001b[0m     args \u001b[38;5;241m=\u001b[39m args[\u001b[38;5;241m1\u001b[39m:]\n\u001b[1;32m--> 312\u001b[0m \u001b[38;5;28;01myield from\u001b[39;00m \u001b[38;5;28;43mself\u001b[39;49m\u001b[38;5;241;43m.\u001b[39;49m\u001b[43m_plot_args\u001b[49m\u001b[43m(\u001b[49m\u001b[43mthis\u001b[49m\u001b[43m,\u001b[49m\u001b[43m \u001b[49m\u001b[43mkwargs\u001b[49m\u001b[43m)\u001b[49m\n",
      "File \u001b[1;32m~\\anaconda3\\lib\\site-packages\\matplotlib\\axes\\_base.py:487\u001b[0m, in \u001b[0;36m_process_plot_var_args._plot_args\u001b[1;34m(self, tup, kwargs, return_kwargs)\u001b[0m\n\u001b[0;32m    484\u001b[0m         kw[prop_name] \u001b[38;5;241m=\u001b[39m val\n\u001b[0;32m    486\u001b[0m \u001b[38;5;28;01mif\u001b[39;00m \u001b[38;5;28mlen\u001b[39m(xy) \u001b[38;5;241m==\u001b[39m \u001b[38;5;241m2\u001b[39m:\n\u001b[1;32m--> 487\u001b[0m     x \u001b[38;5;241m=\u001b[39m \u001b[43m_check_1d\u001b[49m\u001b[43m(\u001b[49m\u001b[43mxy\u001b[49m\u001b[43m[\u001b[49m\u001b[38;5;241;43m0\u001b[39;49m\u001b[43m]\u001b[49m\u001b[43m)\u001b[49m\n\u001b[0;32m    488\u001b[0m     y \u001b[38;5;241m=\u001b[39m _check_1d(xy[\u001b[38;5;241m1\u001b[39m])\n\u001b[0;32m    489\u001b[0m \u001b[38;5;28;01melse\u001b[39;00m:\n",
      "File \u001b[1;32m~\\anaconda3\\lib\\site-packages\\matplotlib\\cbook\\__init__.py:1327\u001b[0m, in \u001b[0;36m_check_1d\u001b[1;34m(x)\u001b[0m\n\u001b[0;32m   1321\u001b[0m \u001b[38;5;28;01mwith\u001b[39;00m warnings\u001b[38;5;241m.\u001b[39mcatch_warnings(record\u001b[38;5;241m=\u001b[39m\u001b[38;5;28;01mTrue\u001b[39;00m) \u001b[38;5;28;01mas\u001b[39;00m w:\n\u001b[0;32m   1322\u001b[0m     warnings\u001b[38;5;241m.\u001b[39mfilterwarnings(\n\u001b[0;32m   1323\u001b[0m         \u001b[38;5;124m\"\u001b[39m\u001b[38;5;124malways\u001b[39m\u001b[38;5;124m\"\u001b[39m,\n\u001b[0;32m   1324\u001b[0m         category\u001b[38;5;241m=\u001b[39m\u001b[38;5;167;01mWarning\u001b[39;00m,\n\u001b[0;32m   1325\u001b[0m         message\u001b[38;5;241m=\u001b[39m\u001b[38;5;124m'\u001b[39m\u001b[38;5;124mSupport for multi-dimensional indexing\u001b[39m\u001b[38;5;124m'\u001b[39m)\n\u001b[1;32m-> 1327\u001b[0m     ndim \u001b[38;5;241m=\u001b[39m \u001b[43mx\u001b[49m\u001b[43m[\u001b[49m\u001b[43m:\u001b[49m\u001b[43m,\u001b[49m\u001b[43m \u001b[49m\u001b[38;5;28;43;01mNone\u001b[39;49;00m\u001b[43m]\u001b[49m\u001b[38;5;241m.\u001b[39mndim\n\u001b[0;32m   1328\u001b[0m     \u001b[38;5;66;03m# we have definitely hit a pandas index or series object\u001b[39;00m\n\u001b[0;32m   1329\u001b[0m     \u001b[38;5;66;03m# cast to a numpy array.\u001b[39;00m\n\u001b[0;32m   1330\u001b[0m     \u001b[38;5;28;01mif\u001b[39;00m \u001b[38;5;28mlen\u001b[39m(w) \u001b[38;5;241m>\u001b[39m \u001b[38;5;241m0\u001b[39m:\n",
      "File \u001b[1;32m~\\anaconda3\\lib\\site-packages\\pandas\\core\\frame.py:3505\u001b[0m, in \u001b[0;36mDataFrame.__getitem__\u001b[1;34m(self, key)\u001b[0m\n\u001b[0;32m   3503\u001b[0m \u001b[38;5;28;01mif\u001b[39;00m \u001b[38;5;28mself\u001b[39m\u001b[38;5;241m.\u001b[39mcolumns\u001b[38;5;241m.\u001b[39mnlevels \u001b[38;5;241m>\u001b[39m \u001b[38;5;241m1\u001b[39m:\n\u001b[0;32m   3504\u001b[0m     \u001b[38;5;28;01mreturn\u001b[39;00m \u001b[38;5;28mself\u001b[39m\u001b[38;5;241m.\u001b[39m_getitem_multilevel(key)\n\u001b[1;32m-> 3505\u001b[0m indexer \u001b[38;5;241m=\u001b[39m \u001b[38;5;28;43mself\u001b[39;49m\u001b[38;5;241;43m.\u001b[39;49m\u001b[43mcolumns\u001b[49m\u001b[38;5;241;43m.\u001b[39;49m\u001b[43mget_loc\u001b[49m\u001b[43m(\u001b[49m\u001b[43mkey\u001b[49m\u001b[43m)\u001b[49m\n\u001b[0;32m   3506\u001b[0m \u001b[38;5;28;01mif\u001b[39;00m is_integer(indexer):\n\u001b[0;32m   3507\u001b[0m     indexer \u001b[38;5;241m=\u001b[39m [indexer]\n",
      "File \u001b[1;32m~\\anaconda3\\lib\\site-packages\\pandas\\core\\indexes\\base.py:3628\u001b[0m, in \u001b[0;36mIndex.get_loc\u001b[1;34m(self, key, method, tolerance)\u001b[0m\n\u001b[0;32m   3623\u001b[0m         \u001b[38;5;28;01mraise\u001b[39;00m \u001b[38;5;167;01mKeyError\u001b[39;00m(key) \u001b[38;5;28;01mfrom\u001b[39;00m \u001b[38;5;21;01merr\u001b[39;00m\n\u001b[0;32m   3624\u001b[0m     \u001b[38;5;28;01mexcept\u001b[39;00m \u001b[38;5;167;01mTypeError\u001b[39;00m:\n\u001b[0;32m   3625\u001b[0m         \u001b[38;5;66;03m# If we have a listlike key, _check_indexing_error will raise\u001b[39;00m\n\u001b[0;32m   3626\u001b[0m         \u001b[38;5;66;03m#  InvalidIndexError. Otherwise we fall through and re-raise\u001b[39;00m\n\u001b[0;32m   3627\u001b[0m         \u001b[38;5;66;03m#  the TypeError.\u001b[39;00m\n\u001b[1;32m-> 3628\u001b[0m         \u001b[38;5;28;43mself\u001b[39;49m\u001b[38;5;241;43m.\u001b[39;49m\u001b[43m_check_indexing_error\u001b[49m\u001b[43m(\u001b[49m\u001b[43mkey\u001b[49m\u001b[43m)\u001b[49m\n\u001b[0;32m   3629\u001b[0m         \u001b[38;5;28;01mraise\u001b[39;00m\n\u001b[0;32m   3631\u001b[0m \u001b[38;5;66;03m# GH#42269\u001b[39;00m\n",
      "File \u001b[1;32m~\\anaconda3\\lib\\site-packages\\pandas\\core\\indexes\\base.py:5637\u001b[0m, in \u001b[0;36mIndex._check_indexing_error\u001b[1;34m(self, key)\u001b[0m\n\u001b[0;32m   5633\u001b[0m \u001b[38;5;28;01mdef\u001b[39;00m \u001b[38;5;21m_check_indexing_error\u001b[39m(\u001b[38;5;28mself\u001b[39m, key):\n\u001b[0;32m   5634\u001b[0m     \u001b[38;5;28;01mif\u001b[39;00m \u001b[38;5;129;01mnot\u001b[39;00m is_scalar(key):\n\u001b[0;32m   5635\u001b[0m         \u001b[38;5;66;03m# if key is not a scalar, directly raise an error (the code below\u001b[39;00m\n\u001b[0;32m   5636\u001b[0m         \u001b[38;5;66;03m# would convert to numpy arrays and raise later any way) - GH29926\u001b[39;00m\n\u001b[1;32m-> 5637\u001b[0m         \u001b[38;5;28;01mraise\u001b[39;00m InvalidIndexError(key)\n",
      "\u001b[1;31mInvalidIndexError\u001b[0m: (slice(None, None, None), None)"
     ]
    },
    {
     "data": {
      "image/png": "[encoded data removed]",
      "text/plain": [
       "<Figure size 432x288 with 1 Axes>"
      ]
     },
     "metadata": {
      "needs_background": "light"
     },
     "output_type": "display_data"
    }
   ],
   "source": [
    "plt.scatter(X_train, y_train, alpha=0.5, s=23)\n",
    "plt.plot(X_train, lm_pred, 'g')\n",
    "plt.plot(X_train, y_pred, color='r')\n",
    "\n",
    "plt.xlabel(\"Atış Sayısı(Hits)\")\n",
    "plt.ylabel(\"Maaş (Salary)\")"
   ]
  },
  {
   "cell_type": "markdown",
   "id": "fe4f3d47",
   "metadata": {},
   "source": [
    "# SVR TAHMİN"
   ]
  },
  {
   "cell_type": "code",
   "execution_count": 53,
   "id": "a2c48324",
   "metadata": {},
   "outputs": [
    {
     "name": "stdout",
     "output_type": "stream",
     "text": [
      "y = -48.69756097561513 + 4.969512195122093 x\n"
     ]
    }
   ],
   "source": [
    "print (\"y = {0} + {1} x\".format(svr_model.intercept_[0], svr_model.coef_[0][0])) "
   ]
  },
  {
   "cell_type": "code",
   "execution_count": 54,
   "id": "e6c48f70",
   "metadata": {},
   "outputs": [
    {
     "data": {
      "text/plain": [
       "array([403.52804878])"
      ]
     },
     "execution_count": 54,
     "metadata": {},
     "output_type": "execute_result"
    }
   ],
   "source": [
    "svr_model.predict([[91]])"
   ]
  },
  {
   "cell_type": "code",
   "execution_count": 55,
   "id": "5831b3f2",
   "metadata": {},
   "outputs": [],
   "source": [
    "y_pred = svr_model.predict(X_test)"
   ]
  },
  {
   "cell_type": "code",
   "execution_count": 56,
   "id": "d438cf60",
   "metadata": {},
   "outputs": [
    {
     "data": {
      "text/plain": [
       "459.0187960365147"
      ]
     },
     "execution_count": 56,
     "metadata": {},
     "output_type": "execute_result"
    }
   ],
   "source": [
    "np.sqrt(mean_squared_error(y_test, y_pred))"
   ]
  },
  {
   "cell_type": "code",
   "execution_count": 57,
   "id": "f93fc116",
   "metadata": {},
   "outputs": [
    {
     "data": {
      "text/plain": [
       "SVR(kernel='linear')"
      ]
     },
     "execution_count": 57,
     "metadata": {},
     "output_type": "execute_result"
    }
   ],
   "source": [
    "svr_model"
   ]
  },
  {
   "cell_type": "markdown",
   "id": "d4cd8d30",
   "metadata": {},
   "source": [
    "# SVR MODEL TUNİNG"
   ]
  },
  {
   "cell_type": "code",
   "execution_count": 58,
   "id": "6d7244d3",
   "metadata": {},
   "outputs": [
    {
     "data": {
      "text/plain": [
       "SVR(kernel='linear')"
      ]
     },
     "execution_count": 58,
     "metadata": {},
     "output_type": "execute_result"
    }
   ],
   "source": [
    "svr_model"
   ]
  },
  {
   "cell_type": "code",
   "execution_count": 59,
   "id": "60072b30",
   "metadata": {},
   "outputs": [],
   "source": [
    "svr_params = {\"C\": np.arange(0.1,2,0.1)}\n",
    "svr_cv_model = GridSearchCV(svr_model, svr_params, cv = 10).fit(X_train,y_train)"
   ]
  },
  {
   "cell_type": "code",
   "execution_count": 68,
   "id": "37a2e86c",
   "metadata": {},
   "outputs": [
    {
     "data": {
      "text/plain": [
       "0.1"
      ]
     },
     "execution_count": 68,
     "metadata": {},
     "output_type": "execute_result"
    }
   ],
   "source": [
    "pd.Series(svr_cv_model.best_params_)[0]"
   ]
  },
  {
   "cell_type": "code",
   "execution_count": 62,
   "id": "cb5ecb1c",
   "metadata": {},
   "outputs": [],
   "source": [
    "svr_tuned = SVR(kernel=\"linear\", \n",
    "                C = pd.Series(svr_cv_model.best_params_)[0]).fit(X_train, y_train)\n",
    "\n"
   ]
  },
  {
   "cell_type": "code",
   "execution_count": 63,
   "id": "c197b7f5",
   "metadata": {},
   "outputs": [],
   "source": [
    "y_pred = svr_tuned.predict(X_test)"
   ]
  },
  {
   "cell_type": "code",
   "execution_count": 64,
   "id": "c0479dbe",
   "metadata": {},
   "outputs": [
    {
     "data": {
      "text/plain": [
       "458.198966781116"
      ]
     },
     "execution_count": 64,
     "metadata": {},
     "output_type": "execute_result"
    }
   ],
   "source": [
    "np.sqrt(mean_squared_error(y_test, y_pred))"
   ]
  },
  {
   "cell_type": "code",
   "execution_count": 67,
   "id": "64159225",
   "metadata": {},
   "outputs": [
    {
     "data": {
      "text/plain": [
       "458.198966781116"
      ]
     },
     "execution_count": 67,
     "metadata": {},
     "output_type": "execute_result"
    }
   ],
   "source": [
    "np.sqrt(mean_squared_error(y_test, y_pred))"
   ]
  },
  {
   "cell_type": "markdown",
   "id": "9b154992",
   "metadata": {},
   "source": [
    "# NONLİNEER SVR "
   ]
  },
  {
   "cell_type": "code",
   "execution_count": 69,
   "id": "b372a440",
   "metadata": {},
   "outputs": [],
   "source": [
    "np.random.seed(3)\n",
    "\n",
    "x_sim = np.random.uniform(2, 10, 145)\n",
    "y_sim = np.sin(x_sim) + np.random.normal(0, 0.4, 145)\n",
    "\n",
    "x_outliers = np.arange(2.5, 5, 0.5)\n",
    "y_outliers = -5*np.ones(5)\n",
    "\n",
    "x_sim_idx = np.argsort(np.concatenate([x_sim, x_outliers]))\n",
    "x_sim = np.concatenate([x_sim, x_outliers])[x_sim_idx]\n",
    "y_sim = np.concatenate([y_sim, y_outliers])[x_sim_idx]"
   ]
  },
  {
   "cell_type": "code",
   "execution_count": 71,
   "id": "092e0929",
   "metadata": {},
   "outputs": [],
   "source": [
    "\n",
    "from sklearn.linear_model import LinearRegression\n",
    "ols = LinearRegression()\n",
    "ols.fit(np.sin(x_sim[:, np.newaxis]), y_sim)\n",
    "ols_pred = ols.predict(np.sin(x_sim[:, np.newaxis]))\n",
    "\n",
    "from sklearn.svm import SVR\n",
    "eps = 0.1\n",
    "svr = SVR(kernel='rbf', epsilon = eps)\n",
    "svr.fit(x_sim[:, np.newaxis], y_sim)\n",
    "svr_pred = svr.predict(x_sim[:, np.newaxis])"
   ]
  },
  {
   "cell_type": "code",
   "execution_count": 72,
   "id": "679d760a",
   "metadata": {},
   "outputs": [
    {
     "data": {
      "image/png": "[encoded data removed]",
      "text/plain": [
       "<Figure size 432x288 with 1 Axes>"
      ]
     },
     "metadata": {
      "needs_background": "light"
     },
     "output_type": "display_data"
    }
   ],
   "source": [
    "plt.scatter(x_sim, y_sim, alpha=0.5, s=26)\n",
    "plt_ols, = plt.plot(x_sim, ols_pred, 'g')\n",
    "plt_svr, = plt.plot(x_sim, svr_pred, color='r')\n",
    "plt.xlabel(\"Bağımsız Değişken\")\n",
    "plt.ylabel(\"Bağımlı Değişken\")\n",
    "plt.ylim(-5.2, 2.2)\n",
    "plt.legend([plt_ols, plt_svr], ['EKK', 'SVR'], loc = 4);"
   ]
  },
  {
   "cell_type": "code",
   "execution_count": 73,
   "id": "babaac51",
   "metadata": {},
   "outputs": [],
   "source": [
    "hit = pd.read_csv(\"Hitters.csv\")\n",
    "df = hit.copy()\n",
    "df = df.dropna()\n",
    "dms = pd.get_dummies(df[['League', 'Division', 'NewLeague']])\n",
    "y = df[\"Salary\"]\n",
    "X_ = df.drop(['Salary', 'League', 'Division', 'NewLeague'], axis=1).astype('float64')\n",
    "X = pd.concat([X_, dms[['League_N', 'Division_W', 'NewLeague_N']]], axis=1)\n",
    "X_train, X_test, y_train, y_test = train_test_split(X, y, \n",
    "                                                    test_size=0.25, \n",
    "                                                    random_state=42)"
   ]
  },
  {
   "cell_type": "code",
   "execution_count": 75,
   "id": "2a9a8a6e",
   "metadata": {},
   "outputs": [],
   "source": [
    "svr_rbf = SVR(kernel=\"rbf\").fit(X_train, y_train)"
   ]
  },
  {
   "cell_type": "markdown",
   "id": "b4b91621",
   "metadata": {},
   "source": [
    "# NONLİNEER SVR TAHMİN"
   ]
  },
  {
   "cell_type": "code",
   "execution_count": 76,
   "id": "5867f2ca",
   "metadata": {},
   "outputs": [],
   "source": [
    "y_pred = svr_rbf.predict(X_test)"
   ]
  },
  {
   "cell_type": "code",
   "execution_count": 77,
   "id": "87d0f4bd",
   "metadata": {},
   "outputs": [
    {
     "data": {
      "text/plain": [
       "460.0032657244849"
      ]
     },
     "execution_count": 77,
     "metadata": {},
     "output_type": "execute_result"
    }
   ],
   "source": [
    "np.sqrt(mean_squared_error(y_test, y_pred))"
   ]
  },
  {
   "cell_type": "markdown",
   "id": "5ebca445",
   "metadata": {},
   "source": [
    "# NONLİNEER SVR MODEL TUNİNG"
   ]
  },
  {
   "cell_type": "code",
   "execution_count": 78,
   "id": "914539a0",
   "metadata": {},
   "outputs": [
    {
     "data": {
      "text/plain": [
       "SVR()"
      ]
     },
     "execution_count": 78,
     "metadata": {},
     "output_type": "execute_result"
    }
   ],
   "source": [
    "svr_rbf"
   ]
  },
  {
   "cell_type": "code",
   "execution_count": 79,
   "id": "2a769c02",
   "metadata": {},
   "outputs": [
    {
     "data": {
      "text/plain": [
       "GridSearchCV(cv=10, estimator=SVR(),\n",
       "             param_grid={'C': [0.01, 0.1, 0.4, 5, 10, 20, 30, 40, 50]})"
      ]
     },
     "execution_count": 79,
     "metadata": {},
     "output_type": "execute_result"
    }
   ],
   "source": [
    "svr_params = {\"C\": [0.01, 0.1,0.4,5,10,20,30,40,50]}\n",
    "svr_cv_model = GridSearchCV(svr_rbf,svr_params, cv = 10)\n",
    "svr_cv_model.fit(X_train, y_train)"
   ]
  },
  {
   "cell_type": "code",
   "execution_count": 80,
   "id": "fd1d8d42",
   "metadata": {},
   "outputs": [
    {
     "data": {
      "text/plain": [
       "50"
      ]
     },
     "execution_count": 80,
     "metadata": {},
     "output_type": "execute_result"
    }
   ],
   "source": [
    "pd.Series(svr_cv_model.best_params_)[0]"
   ]
  },
  {
   "cell_type": "code",
   "execution_count": 82,
   "id": "ce1d4d37",
   "metadata": {},
   "outputs": [],
   "source": [
    "svr_tuned = SVR(kernel=\"rbf\", C = pd.Series(svr_cv_model.best_params_)[0]).fit(X_train, \n",
    "                                                                        y_train)\n"
   ]
  },
  {
   "cell_type": "code",
   "execution_count": 83,
   "id": "1e5ee581",
   "metadata": {},
   "outputs": [
    {
     "data": {
      "text/plain": [
       "428.00406888095694"
      ]
     },
     "execution_count": 83,
     "metadata": {},
     "output_type": "execute_result"
    }
   ],
   "source": [
    "y_pred = svr_tuned.predict(X_test)\n",
    "\n",
    "np.sqrt(mean_squared_error(y_test, y_pred))"
   ]
  },
  {
   "cell_type": "code",
   "execution_count": null,
   "id": "98cd4682",
   "metadata": {},
   "outputs": [],
   "source": []
  },
  {
   "cell_type": "code",
   "execution_count": null,
   "id": "6785a98a",
   "metadata": {},
   "outputs": [],
   "source": []
  },
  {
   "cell_type": "code",
   "execution_count": null,
   "id": "872b1b7a",
   "metadata": {},
   "outputs": [],
   "source": []
  },
  {
   "cell_type": "code",
   "execution_count": null,
   "id": "24b06f2f",
   "metadata": {},
   "outputs": [],
   "source": []
  },
  {
   "cell_type": "markdown",
   "id": "6f95734b",
   "metadata": {},
   "source": [
    "# YAPAY SİNİR AĞLARI"
   ]
  },
  {
   "cell_type": "code",
   "execution_count": 33,
   "id": "cd375594",
   "metadata": {},
   "outputs": [],
   "source": [
    "hit = pd.read_csv(\"Hitters.csv\")\n",
    "df = hit.copy()\n",
    "df = df.dropna()\n",
    "dms = pd.get_dummies(df[['League', 'Division', 'NewLeague']])\n",
    "y = df[\"Salary\"]\n",
    "X_ = df.drop(['Salary', 'League', 'Division', 'NewLeague'], axis=1).astype('float64')\n",
    "X = pd.concat([X_, dms[['League_N', 'Division_W', 'NewLeague_N']]], axis=1)\n",
    "X_train, X_test, y_train, y_test = train_test_split(X, y, \n",
    "                                                    test_size=0.25, \n",
    "                                                    random_state=42)"
   ]
  },
  {
   "cell_type": "code",
   "execution_count": 34,
   "id": "f1ef72da",
   "metadata": {},
   "outputs": [],
   "source": [
    "from sklearn.preprocessing import StandardScaler"
   ]
  },
  {
   "cell_type": "code",
   "execution_count": 35,
   "id": "8e0feeeb",
   "metadata": {},
   "outputs": [
    {
     "data": {
      "text/plain": [
       "StandardScaler()"
      ]
     },
     "execution_count": 35,
     "metadata": {},
     "output_type": "execute_result"
    }
   ],
   "source": [
    "scaler = StandardScaler()\n",
    "scaler.fit(X_train)"
   ]
  },
  {
   "cell_type": "code",
   "execution_count": 36,
   "id": "56182e54",
   "metadata": {},
   "outputs": [],
   "source": [
    "X_train_scaled = scaler.transform(X_train)"
   ]
  },
  {
   "cell_type": "code",
   "execution_count": 37,
   "id": "19009fc5",
   "metadata": {},
   "outputs": [],
   "source": [
    "X_test_scaled = scaler.transform(X_test)"
   ]
  },
  {
   "cell_type": "code",
   "execution_count": 38,
   "id": "20f195a4",
   "metadata": {},
   "outputs": [],
   "source": [
    "from sklearn.neural_network import MLPRegressor"
   ]
  },
  {
   "cell_type": "code",
   "execution_count": 39,
   "id": "3fb91d93",
   "metadata": {},
   "outputs": [
    {
     "name": "stderr",
     "output_type": "stream",
     "text": [
      "C:\\Users\\Fatih Emre\\anaconda3\\lib\\site-packages\\sklearn\\neural_network\\_multilayer_perceptron.py:692: ConvergenceWarning: Stochastic Optimizer: Maximum iterations (200) reached and the optimization hasn't converged yet.\n",
      "  warnings.warn(\n"
     ]
    }
   ],
   "source": [
    "mlp_model = MLPRegressor(hidden_layer_sizes = (100,20)).fit(X_train_scaled, y_train)"
   ]
  },
  {
   "cell_type": "code",
   "execution_count": 40,
   "id": "8b5c08e1",
   "metadata": {},
   "outputs": [
    {
     "data": {
      "text/plain": [
       "MLPRegressor(hidden_layer_sizes=(100, 20))"
      ]
     },
     "execution_count": 40,
     "metadata": {},
     "output_type": "execute_result"
    }
   ],
   "source": [
    "mlp_model"
   ]
  },
  {
   "cell_type": "code",
   "execution_count": 41,
   "id": "993db126",
   "metadata": {},
   "outputs": [
    {
     "data": {
      "text/plain": [
       "4"
      ]
     },
     "execution_count": 41,
     "metadata": {},
     "output_type": "execute_result"
    }
   ],
   "source": [
    "mlp_model.n_layers_"
   ]
  },
  {
   "cell_type": "code",
   "execution_count": 42,
   "id": "4cbcd569",
   "metadata": {},
   "outputs": [
    {
     "data": {
      "text/plain": [
       "(100, 20)"
      ]
     },
     "execution_count": 42,
     "metadata": {},
     "output_type": "execute_result"
    }
   ],
   "source": [
    "mlp_model.hidden_layer_sizes"
   ]
  },
  {
   "cell_type": "markdown",
   "id": "6f5a6d34",
   "metadata": {},
   "source": [
    "# YSA TAHMİN"
   ]
  },
  {
   "cell_type": "code",
   "execution_count": 43,
   "id": "6b201d31",
   "metadata": {},
   "outputs": [
    {
     "data": {
      "text/plain": [
       "array([ 67.45457151, 283.72791837, 249.98189938,  53.04032033,\n",
       "        41.11768679])"
      ]
     },
     "execution_count": 43,
     "metadata": {},
     "output_type": "execute_result"
    }
   ],
   "source": [
    "mlp_model.predict(X_train_scaled)[0:5]"
   ]
  },
  {
   "cell_type": "code",
   "execution_count": 44,
   "id": "4ec8f3ed",
   "metadata": {},
   "outputs": [],
   "source": [
    "y_pred = mlp_model.predict(X_test_scaled)"
   ]
  },
  {
   "cell_type": "code",
   "execution_count": 45,
   "id": "9f45415d",
   "metadata": {},
   "outputs": [
    {
     "data": {
      "text/plain": [
       "485.0328711545009"
      ]
     },
     "execution_count": 45,
     "metadata": {},
     "output_type": "execute_result"
    }
   ],
   "source": [
    "from sklearn.metrics import mean_squared_error\n",
    "np.sqrt(mean_squared_error(y_test,y_pred))"
   ]
  },
  {
   "cell_type": "markdown",
   "id": "072b6c93",
   "metadata": {},
   "source": [
    "# YSA MODEL TUNİNG"
   ]
  },
  {
   "cell_type": "code",
   "execution_count": 55,
   "id": "2a79d3f6",
   "metadata": {},
   "outputs": [
    {
     "data": {
      "text/plain": [
       "MLPRegressor(hidden_layer_sizes=(100, 20))"
      ]
     },
     "execution_count": 55,
     "metadata": {},
     "output_type": "execute_result"
    }
   ],
   "source": [
    "from sklearn.model_selection import train_test_split, GridSearchCV,cross_val_score\n",
    "\n",
    "mlp_model"
   ]
  },
  {
   "cell_type": "code",
   "execution_count": 56,
   "id": "fdc858c6",
   "metadata": {},
   "outputs": [],
   "source": [
    "mlp_params = {'alpha': [0.1, 0.01,0.02,0.005],\n",
    "             'hidden_layer_sizes': [(20,20),(100,50,150),(300,200,150)],\n",
    "             'activation': ['relu','logistic']}"
   ]
  },
  {
   "cell_type": "code",
   "execution_count": 57,
   "id": "e7148a10",
   "metadata": {},
   "outputs": [],
   "source": [
    "mlp_cv_model = GridSearchCV(mlp_model, mlp_params, cv = 10)"
   ]
  },
  {
   "cell_type": "code",
   "execution_count": 58,
   "id": "7fdc5a1d",
   "metadata": {},
   "outputs": [
    {
     "name": "stderr",
     "output_type": "stream",
     "text": [
      "C:\\Users\\Fatih Emre\\anaconda3\\lib\\site-packages\\sklearn\\neural_network\\_multilayer_perceptron.py:692: ConvergenceWarning: Stochastic Optimizer: Maximum iterations (200) reached and the optimization hasn't converged yet.\n",
      "  warnings.warn(\n",
      "C:\\Users\\Fatih Emre\\anaconda3\\lib\\site-packages\\sklearn\\neural_network\\_multilayer_perceptron.py:692: ConvergenceWarning: Stochastic Optimizer: Maximum iterations (200) reached and the optimization hasn't converged yet.\n",
      "  warnings.warn(\n",
      "C:\\Users\\Fatih Emre\\anaconda3\\lib\\site-packages\\sklearn\\neural_network\\_multilayer_perceptron.py:692: ConvergenceWarning: Stochastic Optimizer: Maximum iterations (200) reached and the optimization hasn't converged yet.\n",
      "  warnings.warn(\n",
      "C:\\Users\\Fatih Emre\\anaconda3\\lib\\site-packages\\sklearn\\neural_network\\_multilayer_perceptron.py:692: ConvergenceWarning: Stochastic Optimizer: Maximum iterations (200) reached and the optimization hasn't converged yet.\n",
      "  warnings.warn(\n",
      "C:\\Users\\Fatih Emre\\anaconda3\\lib\\site-packages\\sklearn\\neural_network\\_multilayer_perceptron.py:692: ConvergenceWarning: Stochastic Optimizer: Maximum iterations (200) reached and the optimization hasn't converged yet.\n",
      "  warnings.warn(\n",
      "C:\\Users\\Fatih Emre\\anaconda3\\lib\\site-packages\\sklearn\\neural_network\\_multilayer_perceptron.py:692: ConvergenceWarning: Stochastic Optimizer: Maximum iterations (200) reached and the optimization hasn't converged yet.\n",
      "  warnings.warn(\n",
      "C:\\Users\\Fatih Emre\\anaconda3\\lib\\site-packages\\sklearn\\neural_network\\_multilayer_perceptron.py:692: ConvergenceWarning: Stochastic Optimizer: Maximum iterations (200) reached and the optimization hasn't converged yet.\n",
      "  warnings.warn(\n",
      "C:\\Users\\Fatih Emre\\anaconda3\\lib\\site-packages\\sklearn\\neural_network\\_multilayer_perceptron.py:692: ConvergenceWarning: Stochastic Optimizer: Maximum iterations (200) reached and the optimization hasn't converged yet.\n",
      "  warnings.warn(\n",
      "C:\\Users\\Fatih Emre\\anaconda3\\lib\\site-packages\\sklearn\\neural_network\\_multilayer_perceptron.py:692: ConvergenceWarning: Stochastic Optimizer: Maximum iterations (200) reached and the optimization hasn't converged yet.\n",
      "  warnings.warn(\n",
      "C:\\Users\\Fatih Emre\\anaconda3\\lib\\site-packages\\sklearn\\neural_network\\_multilayer_perceptron.py:692: ConvergenceWarning: Stochastic Optimizer: Maximum iterations (200) reached and the optimization hasn't converged yet.\n",
      "  warnings.warn(\n",
      "C:\\Users\\Fatih Emre\\anaconda3\\lib\\site-packages\\sklearn\\neural_network\\_multilayer_perceptron.py:692: ConvergenceWarning: Stochastic Optimizer: Maximum iterations (200) reached and the optimization hasn't converged yet.\n",
      "  warnings.warn(\n",
      "C:\\Users\\Fatih Emre\\anaconda3\\lib\\site-packages\\sklearn\\neural_network\\_multilayer_perceptron.py:692: ConvergenceWarning: Stochastic Optimizer: Maximum iterations (200) reached and the optimization hasn't converged yet.\n",
      "  warnings.warn(\n",
      "C:\\Users\\Fatih Emre\\anaconda3\\lib\\site-packages\\sklearn\\neural_network\\_multilayer_perceptron.py:692: ConvergenceWarning: Stochastic Optimizer: Maximum iterations (200) reached and the optimization hasn't converged yet.\n",
      "  warnings.warn(\n",
      "C:\\Users\\Fatih Emre\\anaconda3\\lib\\site-packages\\sklearn\\neural_network\\_multilayer_perceptron.py:692: ConvergenceWarning: Stochastic Optimizer: Maximum iterations (200) reached and the optimization hasn't converged yet.\n",
      "  warnings.warn(\n",
      "C:\\Users\\Fatih Emre\\anaconda3\\lib\\site-packages\\sklearn\\neural_network\\_multilayer_perceptron.py:692: ConvergenceWarning: Stochastic Optimizer: Maximum iterations (200) reached and the optimization hasn't converged yet.\n",
      "  warnings.warn(\n",
      "C:\\Users\\Fatih Emre\\anaconda3\\lib\\site-packages\\sklearn\\neural_network\\_multilayer_perceptron.py:692: ConvergenceWarning: Stochastic Optimizer: Maximum iterations (200) reached and the optimization hasn't converged yet.\n",
      "  warnings.warn(\n",
      "C:\\Users\\Fatih Emre\\anaconda3\\lib\\site-packages\\sklearn\\neural_network\\_multilayer_perceptron.py:692: ConvergenceWarning: Stochastic Optimizer: Maximum iterations (200) reached and the optimization hasn't converged yet.\n",
      "  warnings.warn(\n",
      "C:\\Users\\Fatih Emre\\anaconda3\\lib\\site-packages\\sklearn\\neural_network\\_multilayer_perceptron.py:692: ConvergenceWarning: Stochastic Optimizer: Maximum iterations (200) reached and the optimization hasn't converged yet.\n",
      "  warnings.warn(\n",
      "C:\\Users\\Fatih Emre\\anaconda3\\lib\\site-packages\\sklearn\\neural_network\\_multilayer_perceptron.py:692: ConvergenceWarning: Stochastic Optimizer: Maximum iterations (200) reached and the optimization hasn't converged yet.\n",
      "  warnings.warn(\n",
      "C:\\Users\\Fatih Emre\\anaconda3\\lib\\site-packages\\sklearn\\neural_network\\_multilayer_perceptron.py:692: ConvergenceWarning: Stochastic Optimizer: Maximum iterations (200) reached and the optimization hasn't converged yet.\n",
      "  warnings.warn(\n",
      "C:\\Users\\Fatih Emre\\anaconda3\\lib\\site-packages\\sklearn\\neural_network\\_multilayer_perceptron.py:692: ConvergenceWarning: Stochastic Optimizer: Maximum iterations (200) reached and the optimization hasn't converged yet.\n",
      "  warnings.warn(\n",
      "C:\\Users\\Fatih Emre\\anaconda3\\lib\\site-packages\\sklearn\\neural_network\\_multilayer_perceptron.py:692: ConvergenceWarning: Stochastic Optimizer: Maximum iterations (200) reached and the optimization hasn't converged yet.\n",
      "  warnings.warn(\n",
      "C:\\Users\\Fatih Emre\\anaconda3\\lib\\site-packages\\sklearn\\neural_network\\_multilayer_perceptron.py:692: ConvergenceWarning: Stochastic Optimizer: Maximum iterations (200) reached and the optimization hasn't converged yet.\n",
      "  warnings.warn(\n",
      "C:\\Users\\Fatih Emre\\anaconda3\\lib\\site-packages\\sklearn\\neural_network\\_multilayer_perceptron.py:692: ConvergenceWarning: Stochastic Optimizer: Maximum iterations (200) reached and the optimization hasn't converged yet.\n",
      "  warnings.warn(\n",
      "C:\\Users\\Fatih Emre\\anaconda3\\lib\\site-packages\\sklearn\\neural_network\\_multilayer_perceptron.py:692: ConvergenceWarning: Stochastic Optimizer: Maximum iterations (200) reached and the optimization hasn't converged yet.\n",
      "  warnings.warn(\n",
      "C:\\Users\\Fatih Emre\\anaconda3\\lib\\site-packages\\sklearn\\neural_network\\_multilayer_perceptron.py:692: ConvergenceWarning: Stochastic Optimizer: Maximum iterations (200) reached and the optimization hasn't converged yet.\n",
      "  warnings.warn(\n",
      "C:\\Users\\Fatih Emre\\anaconda3\\lib\\site-packages\\sklearn\\neural_network\\_multilayer_perceptron.py:692: ConvergenceWarning: Stochastic Optimizer: Maximum iterations (200) reached and the optimization hasn't converged yet.\n",
      "  warnings.warn(\n",
      "C:\\Users\\Fatih Emre\\anaconda3\\lib\\site-packages\\sklearn\\neural_network\\_multilayer_perceptron.py:692: ConvergenceWarning: Stochastic Optimizer: Maximum iterations (200) reached and the optimization hasn't converged yet.\n",
      "  warnings.warn(\n",
      "C:\\Users\\Fatih Emre\\anaconda3\\lib\\site-packages\\sklearn\\neural_network\\_multilayer_perceptron.py:692: ConvergenceWarning: Stochastic Optimizer: Maximum iterations (200) reached and the optimization hasn't converged yet.\n",
      "  warnings.warn(\n",
      "C:\\Users\\Fatih Emre\\anaconda3\\lib\\site-packages\\sklearn\\neural_network\\_multilayer_perceptron.py:692: ConvergenceWarning: Stochastic Optimizer: Maximum iterations (200) reached and the optimization hasn't converged yet.\n",
      "  warnings.warn(\n",
      "C:\\Users\\Fatih Emre\\anaconda3\\lib\\site-packages\\sklearn\\neural_network\\_multilayer_perceptron.py:692: ConvergenceWarning: Stochastic Optimizer: Maximum iterations (200) reached and the optimization hasn't converged yet.\n",
      "  warnings.warn(\n",
      "C:\\Users\\Fatih Emre\\anaconda3\\lib\\site-packages\\sklearn\\neural_network\\_multilayer_perceptron.py:692: ConvergenceWarning: Stochastic Optimizer: Maximum iterations (200) reached and the optimization hasn't converged yet.\n",
      "  warnings.warn(\n",
      "C:\\Users\\Fatih Emre\\anaconda3\\lib\\site-packages\\sklearn\\neural_network\\_multilayer_perceptron.py:692: ConvergenceWarning: Stochastic Optimizer: Maximum iterations (200) reached and the optimization hasn't converged yet.\n",
      "  warnings.warn(\n",
      "C:\\Users\\Fatih Emre\\anaconda3\\lib\\site-packages\\sklearn\\neural_network\\_multilayer_perceptron.py:692: ConvergenceWarning: Stochastic Optimizer: Maximum iterations (200) reached and the optimization hasn't converged yet.\n",
      "  warnings.warn(\n",
      "C:\\Users\\Fatih Emre\\anaconda3\\lib\\site-packages\\sklearn\\neural_network\\_multilayer_perceptron.py:692: ConvergenceWarning: Stochastic Optimizer: Maximum iterations (200) reached and the optimization hasn't converged yet.\n",
      "  warnings.warn(\n"
     ]
    },
    {
     "name": "stderr",
     "output_type": "stream",
     "text": [
      "C:\\Users\\Fatih Emre\\anaconda3\\lib\\site-packages\\sklearn\\neural_network\\_multilayer_perceptron.py:692: ConvergenceWarning: Stochastic Optimizer: Maximum iterations (200) reached and the optimization hasn't converged yet.\n",
      "  warnings.warn(\n",
      "C:\\Users\\Fatih Emre\\anaconda3\\lib\\site-packages\\sklearn\\neural_network\\_multilayer_perceptron.py:692: ConvergenceWarning: Stochastic Optimizer: Maximum iterations (200) reached and the optimization hasn't converged yet.\n",
      "  warnings.warn(\n",
      "C:\\Users\\Fatih Emre\\anaconda3\\lib\\site-packages\\sklearn\\neural_network\\_multilayer_perceptron.py:692: ConvergenceWarning: Stochastic Optimizer: Maximum iterations (200) reached and the optimization hasn't converged yet.\n",
      "  warnings.warn(\n",
      "C:\\Users\\Fatih Emre\\anaconda3\\lib\\site-packages\\sklearn\\neural_network\\_multilayer_perceptron.py:692: ConvergenceWarning: Stochastic Optimizer: Maximum iterations (200) reached and the optimization hasn't converged yet.\n",
      "  warnings.warn(\n",
      "C:\\Users\\Fatih Emre\\anaconda3\\lib\\site-packages\\sklearn\\neural_network\\_multilayer_perceptron.py:692: ConvergenceWarning: Stochastic Optimizer: Maximum iterations (200) reached and the optimization hasn't converged yet.\n",
      "  warnings.warn(\n",
      "C:\\Users\\Fatih Emre\\anaconda3\\lib\\site-packages\\sklearn\\neural_network\\_multilayer_perceptron.py:692: ConvergenceWarning: Stochastic Optimizer: Maximum iterations (200) reached and the optimization hasn't converged yet.\n",
      "  warnings.warn(\n",
      "C:\\Users\\Fatih Emre\\anaconda3\\lib\\site-packages\\sklearn\\neural_network\\_multilayer_perceptron.py:692: ConvergenceWarning: Stochastic Optimizer: Maximum iterations (200) reached and the optimization hasn't converged yet.\n",
      "  warnings.warn(\n",
      "C:\\Users\\Fatih Emre\\anaconda3\\lib\\site-packages\\sklearn\\neural_network\\_multilayer_perceptron.py:692: ConvergenceWarning: Stochastic Optimizer: Maximum iterations (200) reached and the optimization hasn't converged yet.\n",
      "  warnings.warn(\n",
      "C:\\Users\\Fatih Emre\\anaconda3\\lib\\site-packages\\sklearn\\neural_network\\_multilayer_perceptron.py:692: ConvergenceWarning: Stochastic Optimizer: Maximum iterations (200) reached and the optimization hasn't converged yet.\n",
      "  warnings.warn(\n",
      "C:\\Users\\Fatih Emre\\anaconda3\\lib\\site-packages\\sklearn\\neural_network\\_multilayer_perceptron.py:692: ConvergenceWarning: Stochastic Optimizer: Maximum iterations (200) reached and the optimization hasn't converged yet.\n",
      "  warnings.warn(\n",
      "C:\\Users\\Fatih Emre\\anaconda3\\lib\\site-packages\\sklearn\\neural_network\\_multilayer_perceptron.py:692: ConvergenceWarning: Stochastic Optimizer: Maximum iterations (200) reached and the optimization hasn't converged yet.\n",
      "  warnings.warn(\n",
      "C:\\Users\\Fatih Emre\\anaconda3\\lib\\site-packages\\sklearn\\neural_network\\_multilayer_perceptron.py:692: ConvergenceWarning: Stochastic Optimizer: Maximum iterations (200) reached and the optimization hasn't converged yet.\n",
      "  warnings.warn(\n",
      "C:\\Users\\Fatih Emre\\anaconda3\\lib\\site-packages\\sklearn\\neural_network\\_multilayer_perceptron.py:692: ConvergenceWarning: Stochastic Optimizer: Maximum iterations (200) reached and the optimization hasn't converged yet.\n",
      "  warnings.warn(\n",
      "C:\\Users\\Fatih Emre\\anaconda3\\lib\\site-packages\\sklearn\\neural_network\\_multilayer_perceptron.py:692: ConvergenceWarning: Stochastic Optimizer: Maximum iterations (200) reached and the optimization hasn't converged yet.\n",
      "  warnings.warn(\n",
      "C:\\Users\\Fatih Emre\\anaconda3\\lib\\site-packages\\sklearn\\neural_network\\_multilayer_perceptron.py:692: ConvergenceWarning: Stochastic Optimizer: Maximum iterations (200) reached and the optimization hasn't converged yet.\n",
      "  warnings.warn(\n",
      "C:\\Users\\Fatih Emre\\anaconda3\\lib\\site-packages\\sklearn\\neural_network\\_multilayer_perceptron.py:692: ConvergenceWarning: Stochastic Optimizer: Maximum iterations (200) reached and the optimization hasn't converged yet.\n",
      "  warnings.warn(\n",
      "C:\\Users\\Fatih Emre\\anaconda3\\lib\\site-packages\\sklearn\\neural_network\\_multilayer_perceptron.py:692: ConvergenceWarning: Stochastic Optimizer: Maximum iterations (200) reached and the optimization hasn't converged yet.\n",
      "  warnings.warn(\n",
      "C:\\Users\\Fatih Emre\\anaconda3\\lib\\site-packages\\sklearn\\neural_network\\_multilayer_perceptron.py:692: ConvergenceWarning: Stochastic Optimizer: Maximum iterations (200) reached and the optimization hasn't converged yet.\n",
      "  warnings.warn(\n",
      "C:\\Users\\Fatih Emre\\anaconda3\\lib\\site-packages\\sklearn\\neural_network\\_multilayer_perceptron.py:692: ConvergenceWarning: Stochastic Optimizer: Maximum iterations (200) reached and the optimization hasn't converged yet.\n",
      "  warnings.warn(\n",
      "C:\\Users\\Fatih Emre\\anaconda3\\lib\\site-packages\\sklearn\\neural_network\\_multilayer_perceptron.py:692: ConvergenceWarning: Stochastic Optimizer: Maximum iterations (200) reached and the optimization hasn't converged yet.\n",
      "  warnings.warn(\n",
      "C:\\Users\\Fatih Emre\\anaconda3\\lib\\site-packages\\sklearn\\neural_network\\_multilayer_perceptron.py:692: ConvergenceWarning: Stochastic Optimizer: Maximum iterations (200) reached and the optimization hasn't converged yet.\n",
      "  warnings.warn(\n",
      "C:\\Users\\Fatih Emre\\anaconda3\\lib\\site-packages\\sklearn\\neural_network\\_multilayer_perceptron.py:692: ConvergenceWarning: Stochastic Optimizer: Maximum iterations (200) reached and the optimization hasn't converged yet.\n",
      "  warnings.warn(\n",
      "C:\\Users\\Fatih Emre\\anaconda3\\lib\\site-packages\\sklearn\\neural_network\\_multilayer_perceptron.py:692: ConvergenceWarning: Stochastic Optimizer: Maximum iterations (200) reached and the optimization hasn't converged yet.\n",
      "  warnings.warn(\n",
      "C:\\Users\\Fatih Emre\\anaconda3\\lib\\site-packages\\sklearn\\neural_network\\_multilayer_perceptron.py:692: ConvergenceWarning: Stochastic Optimizer: Maximum iterations (200) reached and the optimization hasn't converged yet.\n",
      "  warnings.warn(\n",
      "C:\\Users\\Fatih Emre\\anaconda3\\lib\\site-packages\\sklearn\\neural_network\\_multilayer_perceptron.py:692: ConvergenceWarning: Stochastic Optimizer: Maximum iterations (200) reached and the optimization hasn't converged yet.\n",
      "  warnings.warn(\n",
      "C:\\Users\\Fatih Emre\\anaconda3\\lib\\site-packages\\sklearn\\neural_network\\_multilayer_perceptron.py:692: ConvergenceWarning: Stochastic Optimizer: Maximum iterations (200) reached and the optimization hasn't converged yet.\n",
      "  warnings.warn(\n",
      "C:\\Users\\Fatih Emre\\anaconda3\\lib\\site-packages\\sklearn\\neural_network\\_multilayer_perceptron.py:692: ConvergenceWarning: Stochastic Optimizer: Maximum iterations (200) reached and the optimization hasn't converged yet.\n",
      "  warnings.warn(\n",
      "C:\\Users\\Fatih Emre\\anaconda3\\lib\\site-packages\\sklearn\\neural_network\\_multilayer_perceptron.py:692: ConvergenceWarning: Stochastic Optimizer: Maximum iterations (200) reached and the optimization hasn't converged yet.\n",
      "  warnings.warn(\n",
      "C:\\Users\\Fatih Emre\\anaconda3\\lib\\site-packages\\sklearn\\neural_network\\_multilayer_perceptron.py:692: ConvergenceWarning: Stochastic Optimizer: Maximum iterations (200) reached and the optimization hasn't converged yet.\n",
      "  warnings.warn(\n",
      "C:\\Users\\Fatih Emre\\anaconda3\\lib\\site-packages\\sklearn\\neural_network\\_multilayer_perceptron.py:692: ConvergenceWarning: Stochastic Optimizer: Maximum iterations (200) reached and the optimization hasn't converged yet.\n",
      "  warnings.warn(\n",
      "C:\\Users\\Fatih Emre\\anaconda3\\lib\\site-packages\\sklearn\\neural_network\\_multilayer_perceptron.py:692: ConvergenceWarning: Stochastic Optimizer: Maximum iterations (200) reached and the optimization hasn't converged yet.\n",
      "  warnings.warn(\n",
      "C:\\Users\\Fatih Emre\\anaconda3\\lib\\site-packages\\sklearn\\neural_network\\_multilayer_perceptron.py:692: ConvergenceWarning: Stochastic Optimizer: Maximum iterations (200) reached and the optimization hasn't converged yet.\n",
      "  warnings.warn(\n",
      "C:\\Users\\Fatih Emre\\anaconda3\\lib\\site-packages\\sklearn\\neural_network\\_multilayer_perceptron.py:692: ConvergenceWarning: Stochastic Optimizer: Maximum iterations (200) reached and the optimization hasn't converged yet.\n",
      "  warnings.warn(\n",
      "C:\\Users\\Fatih Emre\\anaconda3\\lib\\site-packages\\sklearn\\neural_network\\_multilayer_perceptron.py:692: ConvergenceWarning: Stochastic Optimizer: Maximum iterations (200) reached and the optimization hasn't converged yet.\n",
      "  warnings.warn(\n",
      "C:\\Users\\Fatih Emre\\anaconda3\\lib\\site-packages\\sklearn\\neural_network\\_multilayer_perceptron.py:692: ConvergenceWarning: Stochastic Optimizer: Maximum iterations (200) reached and the optimization hasn't converged yet.\n",
      "  warnings.warn(\n"
     ]
    },
    {
     "name": "stderr",
     "output_type": "stream",
     "text": [
      "C:\\Users\\Fatih Emre\\anaconda3\\lib\\site-packages\\sklearn\\neural_network\\_multilayer_perceptron.py:692: ConvergenceWarning: Stochastic Optimizer: Maximum iterations (200) reached and the optimization hasn't converged yet.\n",
      "  warnings.warn(\n",
      "C:\\Users\\Fatih Emre\\anaconda3\\lib\\site-packages\\sklearn\\neural_network\\_multilayer_perceptron.py:692: ConvergenceWarning: Stochastic Optimizer: Maximum iterations (200) reached and the optimization hasn't converged yet.\n",
      "  warnings.warn(\n",
      "C:\\Users\\Fatih Emre\\anaconda3\\lib\\site-packages\\sklearn\\neural_network\\_multilayer_perceptron.py:692: ConvergenceWarning: Stochastic Optimizer: Maximum iterations (200) reached and the optimization hasn't converged yet.\n",
      "  warnings.warn(\n",
      "C:\\Users\\Fatih Emre\\anaconda3\\lib\\site-packages\\sklearn\\neural_network\\_multilayer_perceptron.py:692: ConvergenceWarning: Stochastic Optimizer: Maximum iterations (200) reached and the optimization hasn't converged yet.\n",
      "  warnings.warn(\n",
      "C:\\Users\\Fatih Emre\\anaconda3\\lib\\site-packages\\sklearn\\neural_network\\_multilayer_perceptron.py:692: ConvergenceWarning: Stochastic Optimizer: Maximum iterations (200) reached and the optimization hasn't converged yet.\n",
      "  warnings.warn(\n",
      "C:\\Users\\Fatih Emre\\anaconda3\\lib\\site-packages\\sklearn\\neural_network\\_multilayer_perceptron.py:692: ConvergenceWarning: Stochastic Optimizer: Maximum iterations (200) reached and the optimization hasn't converged yet.\n",
      "  warnings.warn(\n",
      "C:\\Users\\Fatih Emre\\anaconda3\\lib\\site-packages\\sklearn\\neural_network\\_multilayer_perceptron.py:692: ConvergenceWarning: Stochastic Optimizer: Maximum iterations (200) reached and the optimization hasn't converged yet.\n",
      "  warnings.warn(\n",
      "C:\\Users\\Fatih Emre\\anaconda3\\lib\\site-packages\\sklearn\\neural_network\\_multilayer_perceptron.py:692: ConvergenceWarning: Stochastic Optimizer: Maximum iterations (200) reached and the optimization hasn't converged yet.\n",
      "  warnings.warn(\n",
      "C:\\Users\\Fatih Emre\\anaconda3\\lib\\site-packages\\sklearn\\neural_network\\_multilayer_perceptron.py:692: ConvergenceWarning: Stochastic Optimizer: Maximum iterations (200) reached and the optimization hasn't converged yet.\n",
      "  warnings.warn(\n",
      "C:\\Users\\Fatih Emre\\anaconda3\\lib\\site-packages\\sklearn\\neural_network\\_multilayer_perceptron.py:692: ConvergenceWarning: Stochastic Optimizer: Maximum iterations (200) reached and the optimization hasn't converged yet.\n",
      "  warnings.warn(\n",
      "C:\\Users\\Fatih Emre\\anaconda3\\lib\\site-packages\\sklearn\\neural_network\\_multilayer_perceptron.py:692: ConvergenceWarning: Stochastic Optimizer: Maximum iterations (200) reached and the optimization hasn't converged yet.\n",
      "  warnings.warn(\n",
      "C:\\Users\\Fatih Emre\\anaconda3\\lib\\site-packages\\sklearn\\neural_network\\_multilayer_perceptron.py:692: ConvergenceWarning: Stochastic Optimizer: Maximum iterations (200) reached and the optimization hasn't converged yet.\n",
      "  warnings.warn(\n",
      "C:\\Users\\Fatih Emre\\anaconda3\\lib\\site-packages\\sklearn\\neural_network\\_multilayer_perceptron.py:692: ConvergenceWarning: Stochastic Optimizer: Maximum iterations (200) reached and the optimization hasn't converged yet.\n",
      "  warnings.warn(\n",
      "C:\\Users\\Fatih Emre\\anaconda3\\lib\\site-packages\\sklearn\\neural_network\\_multilayer_perceptron.py:692: ConvergenceWarning: Stochastic Optimizer: Maximum iterations (200) reached and the optimization hasn't converged yet.\n",
      "  warnings.warn(\n",
      "C:\\Users\\Fatih Emre\\anaconda3\\lib\\site-packages\\sklearn\\neural_network\\_multilayer_perceptron.py:692: ConvergenceWarning: Stochastic Optimizer: Maximum iterations (200) reached and the optimization hasn't converged yet.\n",
      "  warnings.warn(\n",
      "C:\\Users\\Fatih Emre\\anaconda3\\lib\\site-packages\\sklearn\\neural_network\\_multilayer_perceptron.py:692: ConvergenceWarning: Stochastic Optimizer: Maximum iterations (200) reached and the optimization hasn't converged yet.\n",
      "  warnings.warn(\n",
      "C:\\Users\\Fatih Emre\\anaconda3\\lib\\site-packages\\sklearn\\neural_network\\_multilayer_perceptron.py:692: ConvergenceWarning: Stochastic Optimizer: Maximum iterations (200) reached and the optimization hasn't converged yet.\n",
      "  warnings.warn(\n",
      "C:\\Users\\Fatih Emre\\anaconda3\\lib\\site-packages\\sklearn\\neural_network\\_multilayer_perceptron.py:692: ConvergenceWarning: Stochastic Optimizer: Maximum iterations (200) reached and the optimization hasn't converged yet.\n",
      "  warnings.warn(\n",
      "C:\\Users\\Fatih Emre\\anaconda3\\lib\\site-packages\\sklearn\\neural_network\\_multilayer_perceptron.py:692: ConvergenceWarning: Stochastic Optimizer: Maximum iterations (200) reached and the optimization hasn't converged yet.\n",
      "  warnings.warn(\n",
      "C:\\Users\\Fatih Emre\\anaconda3\\lib\\site-packages\\sklearn\\neural_network\\_multilayer_perceptron.py:692: ConvergenceWarning: Stochastic Optimizer: Maximum iterations (200) reached and the optimization hasn't converged yet.\n",
      "  warnings.warn(\n",
      "C:\\Users\\Fatih Emre\\anaconda3\\lib\\site-packages\\sklearn\\neural_network\\_multilayer_perceptron.py:692: ConvergenceWarning: Stochastic Optimizer: Maximum iterations (200) reached and the optimization hasn't converged yet.\n",
      "  warnings.warn(\n",
      "C:\\Users\\Fatih Emre\\anaconda3\\lib\\site-packages\\sklearn\\neural_network\\_multilayer_perceptron.py:692: ConvergenceWarning: Stochastic Optimizer: Maximum iterations (200) reached and the optimization hasn't converged yet.\n",
      "  warnings.warn(\n",
      "C:\\Users\\Fatih Emre\\anaconda3\\lib\\site-packages\\sklearn\\neural_network\\_multilayer_perceptron.py:692: ConvergenceWarning: Stochastic Optimizer: Maximum iterations (200) reached and the optimization hasn't converged yet.\n",
      "  warnings.warn(\n",
      "C:\\Users\\Fatih Emre\\anaconda3\\lib\\site-packages\\sklearn\\neural_network\\_multilayer_perceptron.py:692: ConvergenceWarning: Stochastic Optimizer: Maximum iterations (200) reached and the optimization hasn't converged yet.\n",
      "  warnings.warn(\n",
      "C:\\Users\\Fatih Emre\\anaconda3\\lib\\site-packages\\sklearn\\neural_network\\_multilayer_perceptron.py:692: ConvergenceWarning: Stochastic Optimizer: Maximum iterations (200) reached and the optimization hasn't converged yet.\n",
      "  warnings.warn(\n",
      "C:\\Users\\Fatih Emre\\anaconda3\\lib\\site-packages\\sklearn\\neural_network\\_multilayer_perceptron.py:692: ConvergenceWarning: Stochastic Optimizer: Maximum iterations (200) reached and the optimization hasn't converged yet.\n",
      "  warnings.warn(\n",
      "C:\\Users\\Fatih Emre\\anaconda3\\lib\\site-packages\\sklearn\\neural_network\\_multilayer_perceptron.py:692: ConvergenceWarning: Stochastic Optimizer: Maximum iterations (200) reached and the optimization hasn't converged yet.\n",
      "  warnings.warn(\n",
      "C:\\Users\\Fatih Emre\\anaconda3\\lib\\site-packages\\sklearn\\neural_network\\_multilayer_perceptron.py:692: ConvergenceWarning: Stochastic Optimizer: Maximum iterations (200) reached and the optimization hasn't converged yet.\n",
      "  warnings.warn(\n",
      "C:\\Users\\Fatih Emre\\anaconda3\\lib\\site-packages\\sklearn\\neural_network\\_multilayer_perceptron.py:692: ConvergenceWarning: Stochastic Optimizer: Maximum iterations (200) reached and the optimization hasn't converged yet.\n",
      "  warnings.warn(\n",
      "C:\\Users\\Fatih Emre\\anaconda3\\lib\\site-packages\\sklearn\\neural_network\\_multilayer_perceptron.py:692: ConvergenceWarning: Stochastic Optimizer: Maximum iterations (200) reached and the optimization hasn't converged yet.\n",
      "  warnings.warn(\n",
      "C:\\Users\\Fatih Emre\\anaconda3\\lib\\site-packages\\sklearn\\neural_network\\_multilayer_perceptron.py:692: ConvergenceWarning: Stochastic Optimizer: Maximum iterations (200) reached and the optimization hasn't converged yet.\n",
      "  warnings.warn(\n",
      "C:\\Users\\Fatih Emre\\anaconda3\\lib\\site-packages\\sklearn\\neural_network\\_multilayer_perceptron.py:692: ConvergenceWarning: Stochastic Optimizer: Maximum iterations (200) reached and the optimization hasn't converged yet.\n",
      "  warnings.warn(\n",
      "C:\\Users\\Fatih Emre\\anaconda3\\lib\\site-packages\\sklearn\\neural_network\\_multilayer_perceptron.py:692: ConvergenceWarning: Stochastic Optimizer: Maximum iterations (200) reached and the optimization hasn't converged yet.\n",
      "  warnings.warn(\n",
      "C:\\Users\\Fatih Emre\\anaconda3\\lib\\site-packages\\sklearn\\neural_network\\_multilayer_perceptron.py:692: ConvergenceWarning: Stochastic Optimizer: Maximum iterations (200) reached and the optimization hasn't converged yet.\n",
      "  warnings.warn(\n",
      "C:\\Users\\Fatih Emre\\anaconda3\\lib\\site-packages\\sklearn\\neural_network\\_multilayer_perceptron.py:692: ConvergenceWarning: Stochastic Optimizer: Maximum iterations (200) reached and the optimization hasn't converged yet.\n",
      "  warnings.warn(\n"
     ]
    },
    {
     "name": "stderr",
     "output_type": "stream",
     "text": [
      "C:\\Users\\Fatih Emre\\anaconda3\\lib\\site-packages\\sklearn\\neural_network\\_multilayer_perceptron.py:692: ConvergenceWarning: Stochastic Optimizer: Maximum iterations (200) reached and the optimization hasn't converged yet.\n",
      "  warnings.warn(\n",
      "C:\\Users\\Fatih Emre\\anaconda3\\lib\\site-packages\\sklearn\\neural_network\\_multilayer_perceptron.py:692: ConvergenceWarning: Stochastic Optimizer: Maximum iterations (200) reached and the optimization hasn't converged yet.\n",
      "  warnings.warn(\n",
      "C:\\Users\\Fatih Emre\\anaconda3\\lib\\site-packages\\sklearn\\neural_network\\_multilayer_perceptron.py:692: ConvergenceWarning: Stochastic Optimizer: Maximum iterations (200) reached and the optimization hasn't converged yet.\n",
      "  warnings.warn(\n",
      "C:\\Users\\Fatih Emre\\anaconda3\\lib\\site-packages\\sklearn\\neural_network\\_multilayer_perceptron.py:692: ConvergenceWarning: Stochastic Optimizer: Maximum iterations (200) reached and the optimization hasn't converged yet.\n",
      "  warnings.warn(\n",
      "C:\\Users\\Fatih Emre\\anaconda3\\lib\\site-packages\\sklearn\\neural_network\\_multilayer_perceptron.py:692: ConvergenceWarning: Stochastic Optimizer: Maximum iterations (200) reached and the optimization hasn't converged yet.\n",
      "  warnings.warn(\n",
      "C:\\Users\\Fatih Emre\\anaconda3\\lib\\site-packages\\sklearn\\neural_network\\_multilayer_perceptron.py:692: ConvergenceWarning: Stochastic Optimizer: Maximum iterations (200) reached and the optimization hasn't converged yet.\n",
      "  warnings.warn(\n",
      "C:\\Users\\Fatih Emre\\anaconda3\\lib\\site-packages\\sklearn\\neural_network\\_multilayer_perceptron.py:692: ConvergenceWarning: Stochastic Optimizer: Maximum iterations (200) reached and the optimization hasn't converged yet.\n",
      "  warnings.warn(\n",
      "C:\\Users\\Fatih Emre\\anaconda3\\lib\\site-packages\\sklearn\\neural_network\\_multilayer_perceptron.py:692: ConvergenceWarning: Stochastic Optimizer: Maximum iterations (200) reached and the optimization hasn't converged yet.\n",
      "  warnings.warn(\n",
      "C:\\Users\\Fatih Emre\\anaconda3\\lib\\site-packages\\sklearn\\neural_network\\_multilayer_perceptron.py:692: ConvergenceWarning: Stochastic Optimizer: Maximum iterations (200) reached and the optimization hasn't converged yet.\n",
      "  warnings.warn(\n",
      "C:\\Users\\Fatih Emre\\anaconda3\\lib\\site-packages\\sklearn\\neural_network\\_multilayer_perceptron.py:692: ConvergenceWarning: Stochastic Optimizer: Maximum iterations (200) reached and the optimization hasn't converged yet.\n",
      "  warnings.warn(\n",
      "C:\\Users\\Fatih Emre\\anaconda3\\lib\\site-packages\\sklearn\\neural_network\\_multilayer_perceptron.py:692: ConvergenceWarning: Stochastic Optimizer: Maximum iterations (200) reached and the optimization hasn't converged yet.\n",
      "  warnings.warn(\n",
      "C:\\Users\\Fatih Emre\\anaconda3\\lib\\site-packages\\sklearn\\neural_network\\_multilayer_perceptron.py:692: ConvergenceWarning: Stochastic Optimizer: Maximum iterations (200) reached and the optimization hasn't converged yet.\n",
      "  warnings.warn(\n",
      "C:\\Users\\Fatih Emre\\anaconda3\\lib\\site-packages\\sklearn\\neural_network\\_multilayer_perceptron.py:692: ConvergenceWarning: Stochastic Optimizer: Maximum iterations (200) reached and the optimization hasn't converged yet.\n",
      "  warnings.warn(\n",
      "C:\\Users\\Fatih Emre\\anaconda3\\lib\\site-packages\\sklearn\\neural_network\\_multilayer_perceptron.py:692: ConvergenceWarning: Stochastic Optimizer: Maximum iterations (200) reached and the optimization hasn't converged yet.\n",
      "  warnings.warn(\n",
      "C:\\Users\\Fatih Emre\\anaconda3\\lib\\site-packages\\sklearn\\neural_network\\_multilayer_perceptron.py:692: ConvergenceWarning: Stochastic Optimizer: Maximum iterations (200) reached and the optimization hasn't converged yet.\n",
      "  warnings.warn(\n",
      "C:\\Users\\Fatih Emre\\anaconda3\\lib\\site-packages\\sklearn\\neural_network\\_multilayer_perceptron.py:692: ConvergenceWarning: Stochastic Optimizer: Maximum iterations (200) reached and the optimization hasn't converged yet.\n",
      "  warnings.warn(\n",
      "C:\\Users\\Fatih Emre\\anaconda3\\lib\\site-packages\\sklearn\\neural_network\\_multilayer_perceptron.py:692: ConvergenceWarning: Stochastic Optimizer: Maximum iterations (200) reached and the optimization hasn't converged yet.\n",
      "  warnings.warn(\n",
      "C:\\Users\\Fatih Emre\\anaconda3\\lib\\site-packages\\sklearn\\neural_network\\_multilayer_perceptron.py:692: ConvergenceWarning: Stochastic Optimizer: Maximum iterations (200) reached and the optimization hasn't converged yet.\n",
      "  warnings.warn(\n",
      "C:\\Users\\Fatih Emre\\anaconda3\\lib\\site-packages\\sklearn\\neural_network\\_multilayer_perceptron.py:692: ConvergenceWarning: Stochastic Optimizer: Maximum iterations (200) reached and the optimization hasn't converged yet.\n",
      "  warnings.warn(\n",
      "C:\\Users\\Fatih Emre\\anaconda3\\lib\\site-packages\\sklearn\\neural_network\\_multilayer_perceptron.py:692: ConvergenceWarning: Stochastic Optimizer: Maximum iterations (200) reached and the optimization hasn't converged yet.\n",
      "  warnings.warn(\n",
      "C:\\Users\\Fatih Emre\\anaconda3\\lib\\site-packages\\sklearn\\neural_network\\_multilayer_perceptron.py:692: ConvergenceWarning: Stochastic Optimizer: Maximum iterations (200) reached and the optimization hasn't converged yet.\n",
      "  warnings.warn(\n",
      "C:\\Users\\Fatih Emre\\anaconda3\\lib\\site-packages\\sklearn\\neural_network\\_multilayer_perceptron.py:692: ConvergenceWarning: Stochastic Optimizer: Maximum iterations (200) reached and the optimization hasn't converged yet.\n",
      "  warnings.warn(\n",
      "C:\\Users\\Fatih Emre\\anaconda3\\lib\\site-packages\\sklearn\\neural_network\\_multilayer_perceptron.py:692: ConvergenceWarning: Stochastic Optimizer: Maximum iterations (200) reached and the optimization hasn't converged yet.\n",
      "  warnings.warn(\n",
      "C:\\Users\\Fatih Emre\\anaconda3\\lib\\site-packages\\sklearn\\neural_network\\_multilayer_perceptron.py:692: ConvergenceWarning: Stochastic Optimizer: Maximum iterations (200) reached and the optimization hasn't converged yet.\n",
      "  warnings.warn(\n",
      "C:\\Users\\Fatih Emre\\anaconda3\\lib\\site-packages\\sklearn\\neural_network\\_multilayer_perceptron.py:692: ConvergenceWarning: Stochastic Optimizer: Maximum iterations (200) reached and the optimization hasn't converged yet.\n",
      "  warnings.warn(\n",
      "C:\\Users\\Fatih Emre\\anaconda3\\lib\\site-packages\\sklearn\\neural_network\\_multilayer_perceptron.py:692: ConvergenceWarning: Stochastic Optimizer: Maximum iterations (200) reached and the optimization hasn't converged yet.\n",
      "  warnings.warn(\n",
      "C:\\Users\\Fatih Emre\\anaconda3\\lib\\site-packages\\sklearn\\neural_network\\_multilayer_perceptron.py:692: ConvergenceWarning: Stochastic Optimizer: Maximum iterations (200) reached and the optimization hasn't converged yet.\n",
      "  warnings.warn(\n",
      "C:\\Users\\Fatih Emre\\anaconda3\\lib\\site-packages\\sklearn\\neural_network\\_multilayer_perceptron.py:692: ConvergenceWarning: Stochastic Optimizer: Maximum iterations (200) reached and the optimization hasn't converged yet.\n",
      "  warnings.warn(\n",
      "C:\\Users\\Fatih Emre\\anaconda3\\lib\\site-packages\\sklearn\\neural_network\\_multilayer_perceptron.py:692: ConvergenceWarning: Stochastic Optimizer: Maximum iterations (200) reached and the optimization hasn't converged yet.\n",
      "  warnings.warn(\n",
      "C:\\Users\\Fatih Emre\\anaconda3\\lib\\site-packages\\sklearn\\neural_network\\_multilayer_perceptron.py:692: ConvergenceWarning: Stochastic Optimizer: Maximum iterations (200) reached and the optimization hasn't converged yet.\n",
      "  warnings.warn(\n",
      "C:\\Users\\Fatih Emre\\anaconda3\\lib\\site-packages\\sklearn\\neural_network\\_multilayer_perceptron.py:692: ConvergenceWarning: Stochastic Optimizer: Maximum iterations (200) reached and the optimization hasn't converged yet.\n",
      "  warnings.warn(\n",
      "C:\\Users\\Fatih Emre\\anaconda3\\lib\\site-packages\\sklearn\\neural_network\\_multilayer_perceptron.py:692: ConvergenceWarning: Stochastic Optimizer: Maximum iterations (200) reached and the optimization hasn't converged yet.\n",
      "  warnings.warn(\n",
      "C:\\Users\\Fatih Emre\\anaconda3\\lib\\site-packages\\sklearn\\neural_network\\_multilayer_perceptron.py:692: ConvergenceWarning: Stochastic Optimizer: Maximum iterations (200) reached and the optimization hasn't converged yet.\n",
      "  warnings.warn(\n",
      "C:\\Users\\Fatih Emre\\anaconda3\\lib\\site-packages\\sklearn\\neural_network\\_multilayer_perceptron.py:692: ConvergenceWarning: Stochastic Optimizer: Maximum iterations (200) reached and the optimization hasn't converged yet.\n",
      "  warnings.warn(\n",
      "C:\\Users\\Fatih Emre\\anaconda3\\lib\\site-packages\\sklearn\\neural_network\\_multilayer_perceptron.py:692: ConvergenceWarning: Stochastic Optimizer: Maximum iterations (200) reached and the optimization hasn't converged yet.\n",
      "  warnings.warn(\n"
     ]
    },
    {
     "name": "stderr",
     "output_type": "stream",
     "text": [
      "C:\\Users\\Fatih Emre\\anaconda3\\lib\\site-packages\\sklearn\\neural_network\\_multilayer_perceptron.py:692: ConvergenceWarning: Stochastic Optimizer: Maximum iterations (200) reached and the optimization hasn't converged yet.\n",
      "  warnings.warn(\n",
      "C:\\Users\\Fatih Emre\\anaconda3\\lib\\site-packages\\sklearn\\neural_network\\_multilayer_perceptron.py:692: ConvergenceWarning: Stochastic Optimizer: Maximum iterations (200) reached and the optimization hasn't converged yet.\n",
      "  warnings.warn(\n",
      "C:\\Users\\Fatih Emre\\anaconda3\\lib\\site-packages\\sklearn\\neural_network\\_multilayer_perceptron.py:692: ConvergenceWarning: Stochastic Optimizer: Maximum iterations (200) reached and the optimization hasn't converged yet.\n",
      "  warnings.warn(\n",
      "C:\\Users\\Fatih Emre\\anaconda3\\lib\\site-packages\\sklearn\\neural_network\\_multilayer_perceptron.py:692: ConvergenceWarning: Stochastic Optimizer: Maximum iterations (200) reached and the optimization hasn't converged yet.\n",
      "  warnings.warn(\n",
      "C:\\Users\\Fatih Emre\\anaconda3\\lib\\site-packages\\sklearn\\neural_network\\_multilayer_perceptron.py:692: ConvergenceWarning: Stochastic Optimizer: Maximum iterations (200) reached and the optimization hasn't converged yet.\n",
      "  warnings.warn(\n",
      "C:\\Users\\Fatih Emre\\anaconda3\\lib\\site-packages\\sklearn\\neural_network\\_multilayer_perceptron.py:692: ConvergenceWarning: Stochastic Optimizer: Maximum iterations (200) reached and the optimization hasn't converged yet.\n",
      "  warnings.warn(\n",
      "C:\\Users\\Fatih Emre\\anaconda3\\lib\\site-packages\\sklearn\\neural_network\\_multilayer_perceptron.py:692: ConvergenceWarning: Stochastic Optimizer: Maximum iterations (200) reached and the optimization hasn't converged yet.\n",
      "  warnings.warn(\n",
      "C:\\Users\\Fatih Emre\\anaconda3\\lib\\site-packages\\sklearn\\neural_network\\_multilayer_perceptron.py:692: ConvergenceWarning: Stochastic Optimizer: Maximum iterations (200) reached and the optimization hasn't converged yet.\n",
      "  warnings.warn(\n",
      "C:\\Users\\Fatih Emre\\anaconda3\\lib\\site-packages\\sklearn\\neural_network\\_multilayer_perceptron.py:692: ConvergenceWarning: Stochastic Optimizer: Maximum iterations (200) reached and the optimization hasn't converged yet.\n",
      "  warnings.warn(\n",
      "C:\\Users\\Fatih Emre\\anaconda3\\lib\\site-packages\\sklearn\\neural_network\\_multilayer_perceptron.py:692: ConvergenceWarning: Stochastic Optimizer: Maximum iterations (200) reached and the optimization hasn't converged yet.\n",
      "  warnings.warn(\n",
      "C:\\Users\\Fatih Emre\\anaconda3\\lib\\site-packages\\sklearn\\neural_network\\_multilayer_perceptron.py:692: ConvergenceWarning: Stochastic Optimizer: Maximum iterations (200) reached and the optimization hasn't converged yet.\n",
      "  warnings.warn(\n",
      "C:\\Users\\Fatih Emre\\anaconda3\\lib\\site-packages\\sklearn\\neural_network\\_multilayer_perceptron.py:692: ConvergenceWarning: Stochastic Optimizer: Maximum iterations (200) reached and the optimization hasn't converged yet.\n",
      "  warnings.warn(\n",
      "C:\\Users\\Fatih Emre\\anaconda3\\lib\\site-packages\\sklearn\\neural_network\\_multilayer_perceptron.py:692: ConvergenceWarning: Stochastic Optimizer: Maximum iterations (200) reached and the optimization hasn't converged yet.\n",
      "  warnings.warn(\n",
      "C:\\Users\\Fatih Emre\\anaconda3\\lib\\site-packages\\sklearn\\neural_network\\_multilayer_perceptron.py:692: ConvergenceWarning: Stochastic Optimizer: Maximum iterations (200) reached and the optimization hasn't converged yet.\n",
      "  warnings.warn(\n",
      "C:\\Users\\Fatih Emre\\anaconda3\\lib\\site-packages\\sklearn\\neural_network\\_multilayer_perceptron.py:692: ConvergenceWarning: Stochastic Optimizer: Maximum iterations (200) reached and the optimization hasn't converged yet.\n",
      "  warnings.warn(\n",
      "C:\\Users\\Fatih Emre\\anaconda3\\lib\\site-packages\\sklearn\\neural_network\\_multilayer_perceptron.py:692: ConvergenceWarning: Stochastic Optimizer: Maximum iterations (200) reached and the optimization hasn't converged yet.\n",
      "  warnings.warn(\n",
      "C:\\Users\\Fatih Emre\\anaconda3\\lib\\site-packages\\sklearn\\neural_network\\_multilayer_perceptron.py:692: ConvergenceWarning: Stochastic Optimizer: Maximum iterations (200) reached and the optimization hasn't converged yet.\n",
      "  warnings.warn(\n",
      "C:\\Users\\Fatih Emre\\anaconda3\\lib\\site-packages\\sklearn\\neural_network\\_multilayer_perceptron.py:692: ConvergenceWarning: Stochastic Optimizer: Maximum iterations (200) reached and the optimization hasn't converged yet.\n",
      "  warnings.warn(\n",
      "C:\\Users\\Fatih Emre\\anaconda3\\lib\\site-packages\\sklearn\\neural_network\\_multilayer_perceptron.py:692: ConvergenceWarning: Stochastic Optimizer: Maximum iterations (200) reached and the optimization hasn't converged yet.\n",
      "  warnings.warn(\n",
      "C:\\Users\\Fatih Emre\\anaconda3\\lib\\site-packages\\sklearn\\neural_network\\_multilayer_perceptron.py:692: ConvergenceWarning: Stochastic Optimizer: Maximum iterations (200) reached and the optimization hasn't converged yet.\n",
      "  warnings.warn(\n",
      "C:\\Users\\Fatih Emre\\anaconda3\\lib\\site-packages\\sklearn\\neural_network\\_multilayer_perceptron.py:692: ConvergenceWarning: Stochastic Optimizer: Maximum iterations (200) reached and the optimization hasn't converged yet.\n",
      "  warnings.warn(\n",
      "C:\\Users\\Fatih Emre\\anaconda3\\lib\\site-packages\\sklearn\\neural_network\\_multilayer_perceptron.py:692: ConvergenceWarning: Stochastic Optimizer: Maximum iterations (200) reached and the optimization hasn't converged yet.\n",
      "  warnings.warn(\n",
      "C:\\Users\\Fatih Emre\\anaconda3\\lib\\site-packages\\sklearn\\neural_network\\_multilayer_perceptron.py:692: ConvergenceWarning: Stochastic Optimizer: Maximum iterations (200) reached and the optimization hasn't converged yet.\n",
      "  warnings.warn(\n",
      "C:\\Users\\Fatih Emre\\anaconda3\\lib\\site-packages\\sklearn\\neural_network\\_multilayer_perceptron.py:692: ConvergenceWarning: Stochastic Optimizer: Maximum iterations (200) reached and the optimization hasn't converged yet.\n",
      "  warnings.warn(\n",
      "C:\\Users\\Fatih Emre\\anaconda3\\lib\\site-packages\\sklearn\\neural_network\\_multilayer_perceptron.py:692: ConvergenceWarning: Stochastic Optimizer: Maximum iterations (200) reached and the optimization hasn't converged yet.\n",
      "  warnings.warn(\n",
      "C:\\Users\\Fatih Emre\\anaconda3\\lib\\site-packages\\sklearn\\neural_network\\_multilayer_perceptron.py:692: ConvergenceWarning: Stochastic Optimizer: Maximum iterations (200) reached and the optimization hasn't converged yet.\n",
      "  warnings.warn(\n",
      "C:\\Users\\Fatih Emre\\anaconda3\\lib\\site-packages\\sklearn\\neural_network\\_multilayer_perceptron.py:692: ConvergenceWarning: Stochastic Optimizer: Maximum iterations (200) reached and the optimization hasn't converged yet.\n",
      "  warnings.warn(\n",
      "C:\\Users\\Fatih Emre\\anaconda3\\lib\\site-packages\\sklearn\\neural_network\\_multilayer_perceptron.py:692: ConvergenceWarning: Stochastic Optimizer: Maximum iterations (200) reached and the optimization hasn't converged yet.\n",
      "  warnings.warn(\n",
      "C:\\Users\\Fatih Emre\\anaconda3\\lib\\site-packages\\sklearn\\neural_network\\_multilayer_perceptron.py:692: ConvergenceWarning: Stochastic Optimizer: Maximum iterations (200) reached and the optimization hasn't converged yet.\n",
      "  warnings.warn(\n",
      "C:\\Users\\Fatih Emre\\anaconda3\\lib\\site-packages\\sklearn\\neural_network\\_multilayer_perceptron.py:692: ConvergenceWarning: Stochastic Optimizer: Maximum iterations (200) reached and the optimization hasn't converged yet.\n",
      "  warnings.warn(\n",
      "C:\\Users\\Fatih Emre\\anaconda3\\lib\\site-packages\\sklearn\\neural_network\\_multilayer_perceptron.py:692: ConvergenceWarning: Stochastic Optimizer: Maximum iterations (200) reached and the optimization hasn't converged yet.\n",
      "  warnings.warn(\n",
      "C:\\Users\\Fatih Emre\\anaconda3\\lib\\site-packages\\sklearn\\neural_network\\_multilayer_perceptron.py:692: ConvergenceWarning: Stochastic Optimizer: Maximum iterations (200) reached and the optimization hasn't converged yet.\n",
      "  warnings.warn(\n",
      "C:\\Users\\Fatih Emre\\anaconda3\\lib\\site-packages\\sklearn\\neural_network\\_multilayer_perceptron.py:692: ConvergenceWarning: Stochastic Optimizer: Maximum iterations (200) reached and the optimization hasn't converged yet.\n",
      "  warnings.warn(\n",
      "C:\\Users\\Fatih Emre\\anaconda3\\lib\\site-packages\\sklearn\\neural_network\\_multilayer_perceptron.py:692: ConvergenceWarning: Stochastic Optimizer: Maximum iterations (200) reached and the optimization hasn't converged yet.\n",
      "  warnings.warn(\n",
      "C:\\Users\\Fatih Emre\\anaconda3\\lib\\site-packages\\sklearn\\neural_network\\_multilayer_perceptron.py:692: ConvergenceWarning: Stochastic Optimizer: Maximum iterations (200) reached and the optimization hasn't converged yet.\n",
      "  warnings.warn(\n"
     ]
    },
    {
     "name": "stderr",
     "output_type": "stream",
     "text": [
      "C:\\Users\\Fatih Emre\\anaconda3\\lib\\site-packages\\sklearn\\neural_network\\_multilayer_perceptron.py:692: ConvergenceWarning: Stochastic Optimizer: Maximum iterations (200) reached and the optimization hasn't converged yet.\n",
      "  warnings.warn(\n",
      "C:\\Users\\Fatih Emre\\anaconda3\\lib\\site-packages\\sklearn\\neural_network\\_multilayer_perceptron.py:692: ConvergenceWarning: Stochastic Optimizer: Maximum iterations (200) reached and the optimization hasn't converged yet.\n",
      "  warnings.warn(\n",
      "C:\\Users\\Fatih Emre\\anaconda3\\lib\\site-packages\\sklearn\\neural_network\\_multilayer_perceptron.py:692: ConvergenceWarning: Stochastic Optimizer: Maximum iterations (200) reached and the optimization hasn't converged yet.\n",
      "  warnings.warn(\n",
      "C:\\Users\\Fatih Emre\\anaconda3\\lib\\site-packages\\sklearn\\neural_network\\_multilayer_perceptron.py:692: ConvergenceWarning: Stochastic Optimizer: Maximum iterations (200) reached and the optimization hasn't converged yet.\n",
      "  warnings.warn(\n",
      "C:\\Users\\Fatih Emre\\anaconda3\\lib\\site-packages\\sklearn\\neural_network\\_multilayer_perceptron.py:692: ConvergenceWarning: Stochastic Optimizer: Maximum iterations (200) reached and the optimization hasn't converged yet.\n",
      "  warnings.warn(\n",
      "C:\\Users\\Fatih Emre\\anaconda3\\lib\\site-packages\\sklearn\\neural_network\\_multilayer_perceptron.py:692: ConvergenceWarning: Stochastic Optimizer: Maximum iterations (200) reached and the optimization hasn't converged yet.\n",
      "  warnings.warn(\n",
      "C:\\Users\\Fatih Emre\\anaconda3\\lib\\site-packages\\sklearn\\neural_network\\_multilayer_perceptron.py:692: ConvergenceWarning: Stochastic Optimizer: Maximum iterations (200) reached and the optimization hasn't converged yet.\n",
      "  warnings.warn(\n",
      "C:\\Users\\Fatih Emre\\anaconda3\\lib\\site-packages\\sklearn\\neural_network\\_multilayer_perceptron.py:692: ConvergenceWarning: Stochastic Optimizer: Maximum iterations (200) reached and the optimization hasn't converged yet.\n",
      "  warnings.warn(\n",
      "C:\\Users\\Fatih Emre\\anaconda3\\lib\\site-packages\\sklearn\\neural_network\\_multilayer_perceptron.py:692: ConvergenceWarning: Stochastic Optimizer: Maximum iterations (200) reached and the optimization hasn't converged yet.\n",
      "  warnings.warn(\n",
      "C:\\Users\\Fatih Emre\\anaconda3\\lib\\site-packages\\sklearn\\neural_network\\_multilayer_perceptron.py:692: ConvergenceWarning: Stochastic Optimizer: Maximum iterations (200) reached and the optimization hasn't converged yet.\n",
      "  warnings.warn(\n",
      "C:\\Users\\Fatih Emre\\anaconda3\\lib\\site-packages\\sklearn\\neural_network\\_multilayer_perceptron.py:692: ConvergenceWarning: Stochastic Optimizer: Maximum iterations (200) reached and the optimization hasn't converged yet.\n",
      "  warnings.warn(\n",
      "C:\\Users\\Fatih Emre\\anaconda3\\lib\\site-packages\\sklearn\\neural_network\\_multilayer_perceptron.py:692: ConvergenceWarning: Stochastic Optimizer: Maximum iterations (200) reached and the optimization hasn't converged yet.\n",
      "  warnings.warn(\n",
      "C:\\Users\\Fatih Emre\\anaconda3\\lib\\site-packages\\sklearn\\neural_network\\_multilayer_perceptron.py:692: ConvergenceWarning: Stochastic Optimizer: Maximum iterations (200) reached and the optimization hasn't converged yet.\n",
      "  warnings.warn(\n",
      "C:\\Users\\Fatih Emre\\anaconda3\\lib\\site-packages\\sklearn\\neural_network\\_multilayer_perceptron.py:692: ConvergenceWarning: Stochastic Optimizer: Maximum iterations (200) reached and the optimization hasn't converged yet.\n",
      "  warnings.warn(\n",
      "C:\\Users\\Fatih Emre\\anaconda3\\lib\\site-packages\\sklearn\\neural_network\\_multilayer_perceptron.py:692: ConvergenceWarning: Stochastic Optimizer: Maximum iterations (200) reached and the optimization hasn't converged yet.\n",
      "  warnings.warn(\n",
      "C:\\Users\\Fatih Emre\\anaconda3\\lib\\site-packages\\sklearn\\neural_network\\_multilayer_perceptron.py:692: ConvergenceWarning: Stochastic Optimizer: Maximum iterations (200) reached and the optimization hasn't converged yet.\n",
      "  warnings.warn(\n",
      "C:\\Users\\Fatih Emre\\anaconda3\\lib\\site-packages\\sklearn\\neural_network\\_multilayer_perceptron.py:692: ConvergenceWarning: Stochastic Optimizer: Maximum iterations (200) reached and the optimization hasn't converged yet.\n",
      "  warnings.warn(\n",
      "C:\\Users\\Fatih Emre\\anaconda3\\lib\\site-packages\\sklearn\\neural_network\\_multilayer_perceptron.py:692: ConvergenceWarning: Stochastic Optimizer: Maximum iterations (200) reached and the optimization hasn't converged yet.\n",
      "  warnings.warn(\n",
      "C:\\Users\\Fatih Emre\\anaconda3\\lib\\site-packages\\sklearn\\neural_network\\_multilayer_perceptron.py:692: ConvergenceWarning: Stochastic Optimizer: Maximum iterations (200) reached and the optimization hasn't converged yet.\n",
      "  warnings.warn(\n",
      "C:\\Users\\Fatih Emre\\anaconda3\\lib\\site-packages\\sklearn\\neural_network\\_multilayer_perceptron.py:692: ConvergenceWarning: Stochastic Optimizer: Maximum iterations (200) reached and the optimization hasn't converged yet.\n",
      "  warnings.warn(\n",
      "C:\\Users\\Fatih Emre\\anaconda3\\lib\\site-packages\\sklearn\\neural_network\\_multilayer_perceptron.py:692: ConvergenceWarning: Stochastic Optimizer: Maximum iterations (200) reached and the optimization hasn't converged yet.\n",
      "  warnings.warn(\n",
      "C:\\Users\\Fatih Emre\\anaconda3\\lib\\site-packages\\sklearn\\neural_network\\_multilayer_perceptron.py:692: ConvergenceWarning: Stochastic Optimizer: Maximum iterations (200) reached and the optimization hasn't converged yet.\n",
      "  warnings.warn(\n",
      "C:\\Users\\Fatih Emre\\anaconda3\\lib\\site-packages\\sklearn\\neural_network\\_multilayer_perceptron.py:692: ConvergenceWarning: Stochastic Optimizer: Maximum iterations (200) reached and the optimization hasn't converged yet.\n",
      "  warnings.warn(\n",
      "C:\\Users\\Fatih Emre\\anaconda3\\lib\\site-packages\\sklearn\\neural_network\\_multilayer_perceptron.py:692: ConvergenceWarning: Stochastic Optimizer: Maximum iterations (200) reached and the optimization hasn't converged yet.\n",
      "  warnings.warn(\n",
      "C:\\Users\\Fatih Emre\\anaconda3\\lib\\site-packages\\sklearn\\neural_network\\_multilayer_perceptron.py:692: ConvergenceWarning: Stochastic Optimizer: Maximum iterations (200) reached and the optimization hasn't converged yet.\n",
      "  warnings.warn(\n",
      "C:\\Users\\Fatih Emre\\anaconda3\\lib\\site-packages\\sklearn\\neural_network\\_multilayer_perceptron.py:692: ConvergenceWarning: Stochastic Optimizer: Maximum iterations (200) reached and the optimization hasn't converged yet.\n",
      "  warnings.warn(\n",
      "C:\\Users\\Fatih Emre\\anaconda3\\lib\\site-packages\\sklearn\\neural_network\\_multilayer_perceptron.py:692: ConvergenceWarning: Stochastic Optimizer: Maximum iterations (200) reached and the optimization hasn't converged yet.\n",
      "  warnings.warn(\n",
      "C:\\Users\\Fatih Emre\\anaconda3\\lib\\site-packages\\sklearn\\neural_network\\_multilayer_perceptron.py:692: ConvergenceWarning: Stochastic Optimizer: Maximum iterations (200) reached and the optimization hasn't converged yet.\n",
      "  warnings.warn(\n",
      "C:\\Users\\Fatih Emre\\anaconda3\\lib\\site-packages\\sklearn\\neural_network\\_multilayer_perceptron.py:692: ConvergenceWarning: Stochastic Optimizer: Maximum iterations (200) reached and the optimization hasn't converged yet.\n",
      "  warnings.warn(\n",
      "C:\\Users\\Fatih Emre\\anaconda3\\lib\\site-packages\\sklearn\\neural_network\\_multilayer_perceptron.py:692: ConvergenceWarning: Stochastic Optimizer: Maximum iterations (200) reached and the optimization hasn't converged yet.\n",
      "  warnings.warn(\n",
      "C:\\Users\\Fatih Emre\\anaconda3\\lib\\site-packages\\sklearn\\neural_network\\_multilayer_perceptron.py:692: ConvergenceWarning: Stochastic Optimizer: Maximum iterations (200) reached and the optimization hasn't converged yet.\n",
      "  warnings.warn(\n",
      "C:\\Users\\Fatih Emre\\anaconda3\\lib\\site-packages\\sklearn\\neural_network\\_multilayer_perceptron.py:692: ConvergenceWarning: Stochastic Optimizer: Maximum iterations (200) reached and the optimization hasn't converged yet.\n",
      "  warnings.warn(\n",
      "C:\\Users\\Fatih Emre\\anaconda3\\lib\\site-packages\\sklearn\\neural_network\\_multilayer_perceptron.py:692: ConvergenceWarning: Stochastic Optimizer: Maximum iterations (200) reached and the optimization hasn't converged yet.\n",
      "  warnings.warn(\n",
      "C:\\Users\\Fatih Emre\\anaconda3\\lib\\site-packages\\sklearn\\neural_network\\_multilayer_perceptron.py:692: ConvergenceWarning: Stochastic Optimizer: Maximum iterations (200) reached and the optimization hasn't converged yet.\n",
      "  warnings.warn(\n",
      "C:\\Users\\Fatih Emre\\anaconda3\\lib\\site-packages\\sklearn\\neural_network\\_multilayer_perceptron.py:692: ConvergenceWarning: Stochastic Optimizer: Maximum iterations (200) reached and the optimization hasn't converged yet.\n",
      "  warnings.warn(\n",
      "C:\\Users\\Fatih Emre\\anaconda3\\lib\\site-packages\\sklearn\\neural_network\\_multilayer_perceptron.py:692: ConvergenceWarning: Stochastic Optimizer: Maximum iterations (200) reached and the optimization hasn't converged yet.\n",
      "  warnings.warn(\n"
     ]
    },
    {
     "name": "stderr",
     "output_type": "stream",
     "text": [
      "C:\\Users\\Fatih Emre\\anaconda3\\lib\\site-packages\\sklearn\\neural_network\\_multilayer_perceptron.py:692: ConvergenceWarning: Stochastic Optimizer: Maximum iterations (200) reached and the optimization hasn't converged yet.\n",
      "  warnings.warn(\n",
      "C:\\Users\\Fatih Emre\\anaconda3\\lib\\site-packages\\sklearn\\neural_network\\_multilayer_perceptron.py:692: ConvergenceWarning: Stochastic Optimizer: Maximum iterations (200) reached and the optimization hasn't converged yet.\n",
      "  warnings.warn(\n",
      "C:\\Users\\Fatih Emre\\anaconda3\\lib\\site-packages\\sklearn\\neural_network\\_multilayer_perceptron.py:692: ConvergenceWarning: Stochastic Optimizer: Maximum iterations (200) reached and the optimization hasn't converged yet.\n",
      "  warnings.warn(\n",
      "C:\\Users\\Fatih Emre\\anaconda3\\lib\\site-packages\\sklearn\\neural_network\\_multilayer_perceptron.py:692: ConvergenceWarning: Stochastic Optimizer: Maximum iterations (200) reached and the optimization hasn't converged yet.\n",
      "  warnings.warn(\n",
      "C:\\Users\\Fatih Emre\\anaconda3\\lib\\site-packages\\sklearn\\neural_network\\_multilayer_perceptron.py:692: ConvergenceWarning: Stochastic Optimizer: Maximum iterations (200) reached and the optimization hasn't converged yet.\n",
      "  warnings.warn(\n",
      "C:\\Users\\Fatih Emre\\anaconda3\\lib\\site-packages\\sklearn\\neural_network\\_multilayer_perceptron.py:692: ConvergenceWarning: Stochastic Optimizer: Maximum iterations (200) reached and the optimization hasn't converged yet.\n",
      "  warnings.warn(\n",
      "C:\\Users\\Fatih Emre\\anaconda3\\lib\\site-packages\\sklearn\\neural_network\\_multilayer_perceptron.py:692: ConvergenceWarning: Stochastic Optimizer: Maximum iterations (200) reached and the optimization hasn't converged yet.\n",
      "  warnings.warn(\n",
      "C:\\Users\\Fatih Emre\\anaconda3\\lib\\site-packages\\sklearn\\neural_network\\_multilayer_perceptron.py:692: ConvergenceWarning: Stochastic Optimizer: Maximum iterations (200) reached and the optimization hasn't converged yet.\n",
      "  warnings.warn(\n",
      "C:\\Users\\Fatih Emre\\anaconda3\\lib\\site-packages\\sklearn\\neural_network\\_multilayer_perceptron.py:692: ConvergenceWarning: Stochastic Optimizer: Maximum iterations (200) reached and the optimization hasn't converged yet.\n",
      "  warnings.warn(\n",
      "C:\\Users\\Fatih Emre\\anaconda3\\lib\\site-packages\\sklearn\\neural_network\\_multilayer_perceptron.py:692: ConvergenceWarning: Stochastic Optimizer: Maximum iterations (200) reached and the optimization hasn't converged yet.\n",
      "  warnings.warn(\n",
      "C:\\Users\\Fatih Emre\\anaconda3\\lib\\site-packages\\sklearn\\neural_network\\_multilayer_perceptron.py:692: ConvergenceWarning: Stochastic Optimizer: Maximum iterations (200) reached and the optimization hasn't converged yet.\n",
      "  warnings.warn(\n",
      "C:\\Users\\Fatih Emre\\anaconda3\\lib\\site-packages\\sklearn\\neural_network\\_multilayer_perceptron.py:692: ConvergenceWarning: Stochastic Optimizer: Maximum iterations (200) reached and the optimization hasn't converged yet.\n",
      "  warnings.warn(\n",
      "C:\\Users\\Fatih Emre\\anaconda3\\lib\\site-packages\\sklearn\\neural_network\\_multilayer_perceptron.py:692: ConvergenceWarning: Stochastic Optimizer: Maximum iterations (200) reached and the optimization hasn't converged yet.\n",
      "  warnings.warn(\n",
      "C:\\Users\\Fatih Emre\\anaconda3\\lib\\site-packages\\sklearn\\neural_network\\_multilayer_perceptron.py:692: ConvergenceWarning: Stochastic Optimizer: Maximum iterations (200) reached and the optimization hasn't converged yet.\n",
      "  warnings.warn(\n",
      "C:\\Users\\Fatih Emre\\anaconda3\\lib\\site-packages\\sklearn\\neural_network\\_multilayer_perceptron.py:692: ConvergenceWarning: Stochastic Optimizer: Maximum iterations (200) reached and the optimization hasn't converged yet.\n",
      "  warnings.warn(\n",
      "C:\\Users\\Fatih Emre\\anaconda3\\lib\\site-packages\\sklearn\\neural_network\\_multilayer_perceptron.py:692: ConvergenceWarning: Stochastic Optimizer: Maximum iterations (200) reached and the optimization hasn't converged yet.\n",
      "  warnings.warn(\n",
      "C:\\Users\\Fatih Emre\\anaconda3\\lib\\site-packages\\sklearn\\neural_network\\_multilayer_perceptron.py:692: ConvergenceWarning: Stochastic Optimizer: Maximum iterations (200) reached and the optimization hasn't converged yet.\n",
      "  warnings.warn(\n",
      "C:\\Users\\Fatih Emre\\anaconda3\\lib\\site-packages\\sklearn\\neural_network\\_multilayer_perceptron.py:692: ConvergenceWarning: Stochastic Optimizer: Maximum iterations (200) reached and the optimization hasn't converged yet.\n",
      "  warnings.warn(\n",
      "C:\\Users\\Fatih Emre\\anaconda3\\lib\\site-packages\\sklearn\\neural_network\\_multilayer_perceptron.py:692: ConvergenceWarning: Stochastic Optimizer: Maximum iterations (200) reached and the optimization hasn't converged yet.\n",
      "  warnings.warn(\n",
      "C:\\Users\\Fatih Emre\\anaconda3\\lib\\site-packages\\sklearn\\neural_network\\_multilayer_perceptron.py:692: ConvergenceWarning: Stochastic Optimizer: Maximum iterations (200) reached and the optimization hasn't converged yet.\n",
      "  warnings.warn(\n",
      "C:\\Users\\Fatih Emre\\anaconda3\\lib\\site-packages\\sklearn\\neural_network\\_multilayer_perceptron.py:692: ConvergenceWarning: Stochastic Optimizer: Maximum iterations (200) reached and the optimization hasn't converged yet.\n",
      "  warnings.warn(\n",
      "C:\\Users\\Fatih Emre\\anaconda3\\lib\\site-packages\\sklearn\\neural_network\\_multilayer_perceptron.py:692: ConvergenceWarning: Stochastic Optimizer: Maximum iterations (200) reached and the optimization hasn't converged yet.\n",
      "  warnings.warn(\n",
      "C:\\Users\\Fatih Emre\\anaconda3\\lib\\site-packages\\sklearn\\neural_network\\_multilayer_perceptron.py:692: ConvergenceWarning: Stochastic Optimizer: Maximum iterations (200) reached and the optimization hasn't converged yet.\n",
      "  warnings.warn(\n",
      "C:\\Users\\Fatih Emre\\anaconda3\\lib\\site-packages\\sklearn\\neural_network\\_multilayer_perceptron.py:692: ConvergenceWarning: Stochastic Optimizer: Maximum iterations (200) reached and the optimization hasn't converged yet.\n",
      "  warnings.warn(\n",
      "C:\\Users\\Fatih Emre\\anaconda3\\lib\\site-packages\\sklearn\\neural_network\\_multilayer_perceptron.py:692: ConvergenceWarning: Stochastic Optimizer: Maximum iterations (200) reached and the optimization hasn't converged yet.\n",
      "  warnings.warn(\n",
      "C:\\Users\\Fatih Emre\\anaconda3\\lib\\site-packages\\sklearn\\neural_network\\_multilayer_perceptron.py:692: ConvergenceWarning: Stochastic Optimizer: Maximum iterations (200) reached and the optimization hasn't converged yet.\n",
      "  warnings.warn(\n",
      "C:\\Users\\Fatih Emre\\anaconda3\\lib\\site-packages\\sklearn\\neural_network\\_multilayer_perceptron.py:692: ConvergenceWarning: Stochastic Optimizer: Maximum iterations (200) reached and the optimization hasn't converged yet.\n",
      "  warnings.warn(\n",
      "C:\\Users\\Fatih Emre\\anaconda3\\lib\\site-packages\\sklearn\\neural_network\\_multilayer_perceptron.py:692: ConvergenceWarning: Stochastic Optimizer: Maximum iterations (200) reached and the optimization hasn't converged yet.\n",
      "  warnings.warn(\n",
      "C:\\Users\\Fatih Emre\\anaconda3\\lib\\site-packages\\sklearn\\neural_network\\_multilayer_perceptron.py:692: ConvergenceWarning: Stochastic Optimizer: Maximum iterations (200) reached and the optimization hasn't converged yet.\n",
      "  warnings.warn(\n",
      "C:\\Users\\Fatih Emre\\anaconda3\\lib\\site-packages\\sklearn\\neural_network\\_multilayer_perceptron.py:692: ConvergenceWarning: Stochastic Optimizer: Maximum iterations (200) reached and the optimization hasn't converged yet.\n",
      "  warnings.warn(\n"
     ]
    },
    {
     "data": {
      "text/plain": [
       "GridSearchCV(cv=10, estimator=MLPRegressor(hidden_layer_sizes=(100, 20)),\n",
       "             param_grid={'activation': ['relu', 'logistic'],\n",
       "                         'alpha': [0.1, 0.01, 0.02, 0.005],\n",
       "                         'hidden_layer_sizes': [(20, 20), (100, 50, 150),\n",
       "                                                (300, 200, 150)]})"
      ]
     },
     "execution_count": 58,
     "metadata": {},
     "output_type": "execute_result"
    }
   ],
   "source": [
    "mlp_cv_model.fit(X_train_scaled, y_train)"
   ]
  },
  {
   "cell_type": "code",
   "execution_count": 64,
   "id": "8a5a2850",
   "metadata": {},
   "outputs": [
    {
     "data": {
      "text/plain": [
       "{'activation': 'relu', 'alpha': 0.1, 'hidden_layer_sizes': (100, 50, 150)}"
      ]
     },
     "execution_count": 64,
     "metadata": {},
     "output_type": "execute_result"
    }
   ],
   "source": [
    "mlp_cv_model.best_params_"
   ]
  },
  {
   "cell_type": "code",
   "execution_count": 65,
   "id": "789aa104",
   "metadata": {},
   "outputs": [],
   "source": [
    "mlp_tuned = MLPRegressor(alpha = 0.02, hidden_layer_sizes = (100,50,150))"
   ]
  },
  {
   "cell_type": "code",
   "execution_count": 66,
   "id": "bb7d550e",
   "metadata": {},
   "outputs": [
    {
     "name": "stderr",
     "output_type": "stream",
     "text": [
      "C:\\Users\\Fatih Emre\\anaconda3\\lib\\site-packages\\sklearn\\neural_network\\_multilayer_perceptron.py:692: ConvergenceWarning: Stochastic Optimizer: Maximum iterations (200) reached and the optimization hasn't converged yet.\n",
      "  warnings.warn(\n"
     ]
    },
    {
     "data": {
      "text/plain": [
       "MLPRegressor(alpha=0.02, hidden_layer_sizes=(100, 50, 150))"
      ]
     },
     "execution_count": 66,
     "metadata": {},
     "output_type": "execute_result"
    }
   ],
   "source": [
    "mlp_tuned.fit(X_train_scaled, y_train)"
   ]
  },
  {
   "cell_type": "code",
   "execution_count": 67,
   "id": "db55ad6f",
   "metadata": {},
   "outputs": [],
   "source": [
    "y_pred = mlp_tuned.predict(X_test_scaled)"
   ]
  },
  {
   "cell_type": "code",
   "execution_count": 68,
   "id": "1b413cf1",
   "metadata": {},
   "outputs": [
    {
     "data": {
      "text/plain": [
       "356.5013551754868"
      ]
     },
     "execution_count": 68,
     "metadata": {},
     "output_type": "execute_result"
    }
   ],
   "source": [
    "#NLP Burada denediğimiz tüm modellerden daha düşük bir hata ile modeli uyguladı.\n",
    "np.sqrt(mean_squared_error(y_test, y_pred))"
   ]
  },
  {
   "cell_type": "code",
   "execution_count": null,
   "id": "17271841",
   "metadata": {},
   "outputs": [],
   "source": []
  },
  {
   "cell_type": "code",
   "execution_count": null,
   "id": "6801e984",
   "metadata": {},
   "outputs": [],
   "source": []
  },
  {
   "cell_type": "code",
   "execution_count": null,
   "id": "227bf3c7",
   "metadata": {},
   "outputs": [],
   "source": []
  },
  {
   "cell_type": "markdown",
   "id": "b9efe236",
   "metadata": {},
   "source": [
    "# CART\n"
   ]
  },
  {
   "cell_type": "code",
   "execution_count": 119,
   "id": "b409f908",
   "metadata": {},
   "outputs": [],
   "source": [
    "hit = pd.read_csv(\"Hitters.csv\")\n",
    "df = hit.copy()\n",
    "df = df.dropna()\n",
    "dms = pd.get_dummies(df[['League', 'Division', 'NewLeague']])\n",
    "y = df[\"Salary\"]\n",
    "X_ = df.drop(['Salary', 'League', 'Division', 'NewLeague'], axis=1).astype('float64')\n",
    "X = pd.concat([X_, dms[['League_N', 'Division_W', 'NewLeague_N']]], axis=1)\n",
    "X_train, X_test, y_train, y_test = train_test_split(X, y, \n",
    "                                                    test_size=0.25, \n",
    "                                                    random_state=42)\n"
   ]
  },
  {
   "cell_type": "code",
   "execution_count": 120,
   "id": "c6f9e30f",
   "metadata": {},
   "outputs": [],
   "source": [
    "X_train = pd.DataFrame(X_train[\"Hits\"])\n",
    "X_test = pd.DataFrame(X_test[\"Hits\"])"
   ]
  },
  {
   "cell_type": "code",
   "execution_count": 85,
   "id": "4f0f09ed",
   "metadata": {},
   "outputs": [],
   "source": [
    "cart_model = DecisionTreeRegressor(max_leaf_nodes=3)\n",
    "#Leaf nodes'i değiştirdikçe çizimimiz değişir."
   ]
  },
  {
   "cell_type": "code",
   "execution_count": 86,
   "id": "43bd3942",
   "metadata": {},
   "outputs": [
    {
     "data": {
      "text/plain": [
       "DecisionTreeRegressor(max_leaf_nodes=3)"
      ]
     },
     "execution_count": 86,
     "metadata": {},
     "output_type": "execute_result"
    }
   ],
   "source": [
    "cart_model"
   ]
  },
  {
   "cell_type": "code",
   "execution_count": 87,
   "id": "81cebbbb",
   "metadata": {},
   "outputs": [
    {
     "data": {
      "text/plain": [
       "DecisionTreeRegressor(max_leaf_nodes=3)"
      ]
     },
     "execution_count": 87,
     "metadata": {},
     "output_type": "execute_result"
    }
   ],
   "source": [
    "cart_model.fit(X_train, y_train)"
   ]
  },
  {
   "cell_type": "code",
   "execution_count": 88,
   "id": "6d43abb4",
   "metadata": {},
   "outputs": [
    {
     "data": {
      "image/png": "[encoded data removed]",
      "text/plain": [
       "<Figure size 432x288 with 1 Axes>"
      ]
     },
     "metadata": {
      "needs_background": "light"
     },
     "output_type": "display_data"
    }
   ],
   "source": [
    "X_grid = np.arange(min(np.array(X_train)),max(np.array(X_train)), 0.01) \n",
    "X_grid = X_grid.reshape((len(X_grid), 1))  \n",
    "plt.scatter(X_train, y_train, color = 'red') \n",
    "plt.plot(X_grid, cart_model.predict(X_grid), color = 'blue')  \n",
    "plt.title('CART REGRESON AĞACI')  \n",
    "plt.xlabel('Atış Sayısı(Hits)') \n",
    "plt.ylabel('Maaş (Salary)') ;"
   ]
  },
  {
   "cell_type": "code",
   "execution_count": 91,
   "id": "576121c4",
   "metadata": {},
   "outputs": [
    {
     "name": "stdout",
     "output_type": "stream",
     "text": [
      "Requirement already satisfied: skompiler in c:\\users\\fatih emre\\anaconda3\\lib\\site-packages (0.7)\n",
      "Requirement already satisfied: scikit-learn>=0.22 in c:\\users\\fatih emre\\anaconda3\\lib\\site-packages (from skompiler) (1.0.2)\n",
      "Requirement already satisfied: scipy>=1.1.0 in c:\\users\\fatih emre\\anaconda3\\lib\\site-packages (from scikit-learn>=0.22->skompiler) (1.7.3)\n",
      "Requirement already satisfied: threadpoolctl>=2.0.0 in c:\\users\\fatih emre\\anaconda3\\lib\\site-packages (from scikit-learn>=0.22->skompiler) (2.2.0)\n",
      "Requirement already satisfied: numpy>=1.14.6 in c:\\users\\fatih emre\\anaconda3\\lib\\site-packages (from scikit-learn>=0.22->skompiler) (1.22.4)\n",
      "Requirement already satisfied: joblib>=0.11 in c:\\users\\fatih emre\\anaconda3\\lib\\site-packages (from scikit-learn>=0.22->skompiler) (1.1.0)\n"
     ]
    }
   ],
   "source": [
    "!pip install skompiler"
   ]
  },
  {
   "cell_type": "code",
   "execution_count": 92,
   "id": "86ea5905",
   "metadata": {},
   "outputs": [],
   "source": [
    "from skompiler import skompile"
   ]
  },
  {
   "cell_type": "code",
   "execution_count": 96,
   "id": "71ed2cef",
   "metadata": {},
   "outputs": [
    {
     "name": "stdout",
     "output_type": "stream",
     "text": [
      "Collecting astor\n",
      "  Downloading astor-0.8.1-py2.py3-none-any.whl (27 kB)\n",
      "Installing collected packages: astor\n",
      "Successfully installed astor-0.8.1\n",
      "Note: you may need to restart the kernel to use updated packages.\n"
     ]
    }
   ],
   "source": [
    "pip install astor\n"
   ]
  },
  {
   "cell_type": "code",
   "execution_count": 97,
   "id": "f05b0977",
   "metadata": {},
   "outputs": [
    {
     "name": "stdout",
     "output_type": "stream",
     "text": [
      "(345.2011551724138 if x[0] <= 117.5 else 813.0988 if x[0] <= 225.5 else 1975.0)\n",
      "\n"
     ]
    }
   ],
   "source": [
    "print(skompile(cart_model.predict).to('python/code'))"
   ]
  },
  {
   "cell_type": "markdown",
   "id": "8c3d4213",
   "metadata": {},
   "source": [
    "# CART TAHMİN"
   ]
  },
  {
   "cell_type": "code",
   "execution_count": 98,
   "id": "46146312",
   "metadata": {},
   "outputs": [],
   "source": [
    "x = [91]"
   ]
  },
  {
   "cell_type": "code",
   "execution_count": 99,
   "id": "01b2b150",
   "metadata": {},
   "outputs": [
    {
     "data": {
      "text/plain": [
       "345.2011551724138"
      ]
     },
     "execution_count": 99,
     "metadata": {},
     "output_type": "execute_result"
    }
   ],
   "source": [
    "(345.2011551724138 if x[0] <= 117.5 else ((((1300.0 if x[0] <= 118.5 else \n",
    "    641.0) if x[0] <= 122.5 else 1468.5236666666667) if x[0] <= 125.5 else \n",
    "    621.9679230769232) if x[0] <= 143.0 else (958.6111111111111 if x[0] <= \n",
    "    150.5 else 2460.0) if x[0] <= 151.5 else 499.1666666666667 if x[0] <= \n",
    "    157.5 else 892.5402413793104) if x[0] <= 225.5 else 1975.0)"
   ]
  },
  {
   "cell_type": "code",
   "execution_count": 100,
   "id": "a649d5be",
   "metadata": {},
   "outputs": [
    {
     "data": {
      "text/plain": [
       "array([813.0988    , 813.0988    , 813.0988    , 345.20115517,\n",
       "       345.20115517])"
      ]
     },
     "execution_count": 100,
     "metadata": {},
     "output_type": "execute_result"
    }
   ],
   "source": [
    "cart_model.predict(X_test)[0:5]"
   ]
  },
  {
   "cell_type": "code",
   "execution_count": 101,
   "id": "d5144ddc",
   "metadata": {},
   "outputs": [
    {
     "data": {
      "text/plain": [
       "array([345.20115517])"
      ]
     },
     "execution_count": 101,
     "metadata": {},
     "output_type": "execute_result"
    }
   ],
   "source": [
    "cart_model.predict([[91]])"
   ]
  },
  {
   "cell_type": "code",
   "execution_count": 102,
   "id": "3557b709",
   "metadata": {},
   "outputs": [],
   "source": [
    "y_pred =cart_model.predict(X_test)"
   ]
  },
  {
   "cell_type": "code",
   "execution_count": 103,
   "id": "05a832f0",
   "metadata": {},
   "outputs": [
    {
     "data": {
      "text/plain": [
       "460.0663148428844"
      ]
     },
     "execution_count": 103,
     "metadata": {},
     "output_type": "execute_result"
    }
   ],
   "source": [
    "np.sqrt(mean_squared_error(y_test, y_pred))"
   ]
  },
  {
   "cell_type": "markdown",
   "id": "c6f7b1b3",
   "metadata": {},
   "source": [
    "# MODEL TUNİNG"
   ]
  },
  {
   "cell_type": "code",
   "execution_count": 121,
   "id": "5409659e",
   "metadata": {},
   "outputs": [],
   "source": [
    "cart_model = DecisionTreeRegressor()\n",
    "cart_model.fit(X_train, y_train)\n",
    "y_pred = cart_model.predict(X_test)"
   ]
  },
  {
   "cell_type": "code",
   "execution_count": 122,
   "id": "b18e6061",
   "metadata": {},
   "outputs": [
    {
     "data": {
      "text/plain": [
       "468.49579052913884"
      ]
     },
     "execution_count": 122,
     "metadata": {},
     "output_type": "execute_result"
    }
   ],
   "source": [
    "np.sqrt(mean_squared_error(y_test, y_pred))"
   ]
  },
  {
   "cell_type": "code",
   "execution_count": 123,
   "id": "1dd22ed0",
   "metadata": {},
   "outputs": [],
   "source": [
    "cart_params = {\"min_samples_split\": range(2,100),\n",
    "               \"max_leaf_nodes\": range(2,10)}"
   ]
  },
  {
   "cell_type": "code",
   "execution_count": 124,
   "id": "2dc71da0",
   "metadata": {},
   "outputs": [],
   "source": [
    "cart_cv_model = GridSearchCV(cart_model, cart_params, cv = 10)"
   ]
  },
  {
   "cell_type": "code",
   "execution_count": 131,
   "id": "dd3308ca",
   "metadata": {},
   "outputs": [
    {
     "data": {
      "text/plain": [
       "GridSearchCV(cv=10, estimator=DecisionTreeRegressor(),\n",
       "             param_grid={'max_leaf_nodes': range(2, 10),\n",
       "                         'min_samples_split': range(2, 100)})"
      ]
     },
     "execution_count": 131,
     "metadata": {},
     "output_type": "execute_result"
    }
   ],
   "source": [
    "cart_cv_model.fit(X_train, y_train)"
   ]
  },
  {
   "cell_type": "code",
   "execution_count": 132,
   "id": "373d5b01",
   "metadata": {},
   "outputs": [
    {
     "data": {
      "text/plain": [
       "{'max_leaf_nodes': 9, 'min_samples_split': 76}"
      ]
     },
     "execution_count": 132,
     "metadata": {},
     "output_type": "execute_result"
    }
   ],
   "source": [
    "cart_cv_model.best_params_"
   ]
  },
  {
   "cell_type": "code",
   "execution_count": 141,
   "id": "7b1cd930",
   "metadata": {},
   "outputs": [],
   "source": [
    "cart_tuned = DecisionTreeRegressor(max_leaf_nodes = 9, min_samples_split = 37)"
   ]
  },
  {
   "cell_type": "code",
   "execution_count": 142,
   "id": "1f271dbe",
   "metadata": {},
   "outputs": [
    {
     "data": {
      "text/plain": [
       "DecisionTreeRegressor(max_leaf_nodes=9, min_samples_split=37)"
      ]
     },
     "execution_count": 142,
     "metadata": {},
     "output_type": "execute_result"
    }
   ],
   "source": [
    "cart_tuned.fit(X_train, y_train)"
   ]
  },
  {
   "cell_type": "code",
   "execution_count": 143,
   "id": "dff5e272",
   "metadata": {},
   "outputs": [],
   "source": [
    "y_pred = cart_tuned.predict(X_test)"
   ]
  },
  {
   "cell_type": "code",
   "execution_count": 144,
   "id": "8c96211d",
   "metadata": {},
   "outputs": [
    {
     "data": {
      "text/plain": [
       "434.2326688144208"
      ]
     },
     "execution_count": 144,
     "metadata": {},
     "output_type": "execute_result"
    }
   ],
   "source": [
    "np.sqrt(mean_squared_error(y_test, y_pred))"
   ]
  },
  {
   "cell_type": "code",
   "execution_count": null,
   "id": "667c4845",
   "metadata": {},
   "outputs": [],
   "source": []
  },
  {
   "cell_type": "code",
   "execution_count": null,
   "id": "d887d0ab",
   "metadata": {},
   "outputs": [],
   "source": []
  },
  {
   "cell_type": "code",
   "execution_count": null,
   "id": "de5e103d",
   "metadata": {},
   "outputs": [],
   "source": []
  },
  {
   "cell_type": "markdown",
   "id": "3884f56d",
   "metadata": {},
   "source": [
    "# BAGGİNG TREES"
   ]
  },
  {
   "cell_type": "code",
   "execution_count": 145,
   "id": "6100f35b",
   "metadata": {},
   "outputs": [],
   "source": [
    "hit = pd.read_csv(\"Hitters.csv\")\n",
    "df = hit.copy()\n",
    "df = df.dropna()\n",
    "dms = pd.get_dummies(df[['League', 'Division', 'NewLeague']])\n",
    "y = df[\"Salary\"]\n",
    "X_ = df.drop(['Salary', 'League', 'Division', 'NewLeague'], axis=1).astype('float64')\n",
    "X = pd.concat([X_, dms[['League_N', 'Division_W', 'NewLeague_N']]], axis=1)\n",
    "X_train, X_test, y_train, y_test = train_test_split(X, y, \n",
    "                                                    test_size=0.25, \n",
    "                                                    random_state=42)\n"
   ]
  },
  {
   "cell_type": "code",
   "execution_count": 146,
   "id": "38d3107a",
   "metadata": {},
   "outputs": [
    {
     "data": {
      "text/plain": [
       "BaggingRegressor(bootstrap_features=True)"
      ]
     },
     "execution_count": 146,
     "metadata": {},
     "output_type": "execute_result"
    }
   ],
   "source": [
    "bag_model = BaggingRegressor(bootstrap_features=True)\n",
    "bag_model.fit(X_train, y_train)"
   ]
  },
  {
   "cell_type": "code",
   "execution_count": 147,
   "id": "807f705d",
   "metadata": {},
   "outputs": [
    {
     "data": {
      "text/plain": [
       "10"
      ]
     },
     "execution_count": 147,
     "metadata": {},
     "output_type": "execute_result"
    }
   ],
   "source": [
    "bag_model.n_estimators"
   ]
  },
  {
   "cell_type": "code",
   "execution_count": 148,
   "id": "6b9b080f",
   "metadata": {},
   "outputs": [
    {
     "data": {
      "text/plain": [
       "[DecisionTreeRegressor(random_state=2028830587),\n",
       " DecisionTreeRegressor(random_state=1411697450),\n",
       " DecisionTreeRegressor(random_state=1304202199),\n",
       " DecisionTreeRegressor(random_state=1753020297),\n",
       " DecisionTreeRegressor(random_state=1184643089),\n",
       " DecisionTreeRegressor(random_state=842478450),\n",
       " DecisionTreeRegressor(random_state=2019599141),\n",
       " DecisionTreeRegressor(random_state=208405057),\n",
       " DecisionTreeRegressor(random_state=1715505063),\n",
       " DecisionTreeRegressor(random_state=82913250)]"
      ]
     },
     "execution_count": 148,
     "metadata": {},
     "output_type": "execute_result"
    }
   ],
   "source": [
    "bag_model.estimators_"
   ]
  },
  {
   "cell_type": "code",
   "execution_count": 149,
   "id": "92aa3b3a",
   "metadata": {},
   "outputs": [
    {
     "data": {
      "text/plain": [
       "[array([142, 164,   5,  80, 152,  86, 134,  85,  37, 190,  27, 119,  78,\n",
       "        105,  79,  10,  30,  94,  30, 108,  23,  43, 135, 163,  52, 101,\n",
       "        110, 133, 153,  28, 130, 133,  95, 124, 180,  52, 144, 146, 196,\n",
       "         72,  33,   4,  38, 141,  72,  32, 165, 128,  46,  27,  72, 126,\n",
       "        138, 114,  71,  18,  95,  80, 180, 196,  28,  57, 148, 182, 166,\n",
       "         40,  26, 183,  34,  39, 141,  87, 196, 112, 100,  73,  58,  86,\n",
       "        168, 127,  53,  99,  88,  36, 125, 110, 170, 131,  31,  60,  25,\n",
       "         77, 191,  41,  16, 176, 120,  20, 118, 140, 183,  24,  94,  77,\n",
       "        180,   6, 131, 125,  24,  97,  80, 141, 114, 163,  40, 190, 142,\n",
       "         51,   4, 156,  92,  19,   2, 124,   0,  33, 105, 185, 181,  74,\n",
       "         51,  53, 153, 157,  31, 180, 148, 156,  77, 123, 160, 125, 193,\n",
       "        166,  53,  43, 131, 128, 177, 116,  11, 177, 125,  62,  90,  64,\n",
       "         19,  50, 123,  12,  66, 108,  86,  14,  11, 133,  34,  11, 166,\n",
       "         56, 155, 135,  79,  49,  47, 145, 139,  20, 179,  76,  95,  88,\n",
       "        116,  55, 106, 169, 103, 143,  77,  55,  54, 113,  19,  64, 105,\n",
       "         66, 122]),\n",
       " array([ 82,  15, 181, 141,  31, 116, 160,  69, 194, 163, 178, 187, 137,\n",
       "         69,  40, 104, 101, 106,  95, 114, 111, 135, 140,   4, 124,  70,\n",
       "         51, 107, 123, 163,  86,  76,  64,  66,  71,  90,  40,  78, 187,\n",
       "        102,  44,   3, 105,  93,  36, 130, 180,  85, 157,  95, 134, 168,\n",
       "         32,  15, 103,  23, 185, 111, 154,  24,  78, 129, 178, 193,  21,\n",
       "         60, 145,  28, 135,  35, 128,  96,  37, 136, 114,  81,  24,  99,\n",
       "         18,  58, 166, 162,  89, 165, 131, 188,  32, 127, 113,  85,  89,\n",
       "         70, 104, 121,  25, 147, 173,  11, 105, 169,  14,  53, 111,   6,\n",
       "         24, 115, 181, 149,  56,   4,  75,  73,  56,  99,  36,  60,  68,\n",
       "        102, 120,  98, 158,  86,  95,  37,  92, 131, 151,  46,  97,  76,\n",
       "         82,  89,  87,  19,   8, 184,  85,  90,  95,  37,  76,  78,  91,\n",
       "         83,  91, 182, 120, 167, 152,  52, 109,  93,  52, 135,  64,  90,\n",
       "        107,   2, 121, 179,  74, 123, 175,   0,  51,  58,  73, 153,  11,\n",
       "         47, 133, 110,  63, 140, 193,   8,  70,  68, 171,  54,  78, 145,\n",
       "        122, 105, 160,  17,  55, 188,  45, 164, 106, 109, 160,  64,   9,\n",
       "        182,  42]),\n",
       " array([ 42, 170,  40,  43,  48,  79, 147, 119, 137, 195,  75, 113,  14,\n",
       "         40,  58, 108,  88,  67, 149, 131, 171, 125,  52, 177,  14,  71,\n",
       "        166,  98, 192,   2,  24, 193, 157, 196,  31,  31,  49,  12, 193,\n",
       "         39, 172, 121, 163, 190,  51, 112, 160,  12, 116,  61, 178,  95,\n",
       "         49,  49,  66,  83,  35, 151, 129,  60, 171,  36,  63, 130,  24,\n",
       "        175, 154, 124, 182,  63,  21, 100,  56,  25,  67, 129, 120, 114,\n",
       "         86, 118,  15,  17,   4,  76,  57, 193,  86,  10,  49,   4,   3,\n",
       "        115, 122,   9,  57, 126, 121,   1,  76,  95, 153, 171,  45,  18,\n",
       "         39, 142, 115,  48, 122,  91, 134, 136, 183, 155,  76, 102,  92,\n",
       "         99, 151,  54, 127,   3,  57,  99, 193,  21,  91, 104,  29,  36,\n",
       "        171, 117, 176,  93, 141, 152,  86, 195, 156, 180,  85,  71,  71,\n",
       "         34,  22,  13, 128,  60,  86,  84,  59,  76, 112,  13,  68,   4,\n",
       "        150, 158, 172, 120,  19,  69,  64,  20,  34,  57, 168, 169, 174,\n",
       "        180, 165,  15,  25,  10,  29,   9, 191,  26,   0, 148, 115, 135,\n",
       "        171, 116, 190, 185,  70, 169,  35,  55, 113, 117, 176,  84,  49,\n",
       "        136,  19]),\n",
       " array([ 52,  71,  69, 183, 119, 133,  56,   5, 193, 122,  60, 161,   5,\n",
       "         78, 105,  14,  37, 161,  13,  69,  71,  99,  36, 187,  64,  54,\n",
       "         23,  33,  21,  59,  88, 152, 110,  28,  72,  62, 156,  85,  80,\n",
       "          8, 122,  78, 188, 136,   1,  91,  26,  50,  93, 183, 185,  42,\n",
       "        186,  56,  32, 142,  94, 150, 124,  77,  75, 168, 175,  88, 172,\n",
       "         88, 153, 140,  32, 133, 109,  72,  19,   0, 156,  41, 173, 114,\n",
       "        132,  68, 155,  84,  24, 130,  77, 148,  10,  84, 185,  81, 160,\n",
       "        119,  82,  48,  47,  42,  85,  82,  39,  41, 164,  86, 169,  61,\n",
       "         99,  20, 184,  71,  16,  25, 121, 146,  68,  68, 116, 163,  98,\n",
       "        143, 112, 105,   6,  72, 164,  92,  52,  45, 111, 169, 145,  48,\n",
       "         20, 138,  42,  67, 131,  20, 155, 156,  60, 146,  16, 174,  19,\n",
       "         55,  49,  78, 114,  65,  68, 163, 117,  34, 188,  10,   8, 142,\n",
       "         26, 104,  54,  83, 108,  44,  89,  78, 104, 187,   5, 160, 190,\n",
       "        173,  53,  73,   9, 129, 147,  96,  32, 138, 193, 194, 141,  36,\n",
       "        123, 140,  30,  26, 165, 125,  13,  83, 148,   7,  71, 137, 105,\n",
       "         39, 159]),\n",
       " array([  3,  45, 141, 102,   4,  41,  22,  93,  41,  11, 192,  30,  25,\n",
       "         42,  87,  33, 116, 191,  25,  56, 137, 125, 190,  83, 118,  68,\n",
       "        123,   7,  32,  38,  97, 130, 181,  47,  86,  42, 112,  95, 191,\n",
       "        193,  54, 194, 147,  80,  11, 107, 151,  43,  58, 115,  84, 193,\n",
       "        141, 112,  75,   9,  33,   3, 161, 169, 152, 187, 160,  88,  74,\n",
       "        196,  42, 177,  22,  42, 175, 115, 112, 188,  23, 155, 186, 103,\n",
       "        111, 134, 146, 183, 151, 118, 189,  52, 146, 172, 107, 175,  95,\n",
       "        161, 125, 127,  93, 131,  75,  66,  52, 193,  62,  31,  42, 194,\n",
       "         20,  11, 128,  60, 152, 192,  19, 189, 114,  25,  71, 137,  37,\n",
       "         64, 176, 146, 102,  26,  93,  30,  42, 125, 178,  80, 122, 144,\n",
       "        120,  63, 182,  63, 196,  95,  37, 127,  73, 163, 155,  60, 141,\n",
       "        171,  44,  18,  75, 103,  99, 180, 109, 180,  94, 129,  42, 118,\n",
       "        159, 137,  44, 172, 111, 155,  78, 122, 187,  75, 127,  95,  43,\n",
       "        116, 196,  91, 189,  33,  42,  88,  98, 184, 178,  75, 119, 157,\n",
       "         61,  37, 182, 167, 127, 115, 153, 149, 172,  95, 144, 151,   0,\n",
       "        117,  63]),\n",
       " array([148, 176, 112, 128, 174, 194, 194, 160,  66, 110, 126, 114, 196,\n",
       "         10,  42,  66,  65, 140, 103, 146,  17,  70,  68, 159,  43,  90,\n",
       "        195, 118,   4, 195,  38, 195,  99,  50,  50, 176, 111, 172, 187,\n",
       "         76,  80,  50, 174, 175, 174, 189,  98, 165,  33,  45,  29, 152,\n",
       "         72, 136, 144,  78,   8,  14, 110,  43,   5,  23,  50, 112,  44,\n",
       "        166, 140, 171, 122,  61, 172, 157,  66, 160,  24, 191, 160, 132,\n",
       "         67,  77,  24, 153,  83, 173, 175,  98,  71,  96, 165, 149,  92,\n",
       "         28,   3,  50, 115, 103,  35,  60,  90,  70,  54,  34, 152, 151,\n",
       "        161, 159, 166,  39,  85, 168, 149, 125, 100,  39, 113,  99,  44,\n",
       "        175,   4,  65, 185, 119,   3,  44,  39,  16, 116,  79, 194,   1,\n",
       "        158, 109, 144, 108,  82, 116, 128, 174,  38, 161, 136,  82, 190,\n",
       "        120, 188, 132,  27,  99,   6,  21,  49,  95, 158,  95,  71,  52,\n",
       "         50,  32,  50, 103,  40,   1, 188, 164,  44, 115, 165, 196, 192,\n",
       "          9, 115,  54,   4,   1,  11,   2,  31,  61,  18,  30, 143,  34,\n",
       "        138,  71, 114,   0,   9, 182, 133, 139, 195,  47,  90, 158,  17,\n",
       "        180,  68]),\n",
       " array([ 36, 132,   4,  69, 148, 171,  40,  76,  93,  67, 110, 133, 144,\n",
       "         27, 115,  46, 114,  15, 121, 156, 145, 161,  63, 116,  77, 109,\n",
       "        144, 177,  29, 167, 181,  85,   5, 196,  17,  12, 169,   7, 104,\n",
       "        141,  58,  97,   6, 144,  90, 121, 137,  86,  62,  35,  25, 161,\n",
       "         13,  42, 120,  34, 134, 144, 190, 111,   3, 115, 145, 138,  68,\n",
       "        176, 179,  29, 152, 176,  57,  59,  55, 158,  19, 149, 113, 131,\n",
       "        183, 164, 159,   2, 192,  14, 124, 159, 164, 133, 113, 128, 131,\n",
       "        128,  27,  38, 159,  76, 132,  66, 117,  42,  31,   6,  45, 169,\n",
       "         84, 128, 109, 144,  98,  89, 139,  91, 115,  41, 109, 162, 136,\n",
       "         56,  51,  12, 142,  94,  33, 154,  95, 182, 103,  23,  61,  41,\n",
       "         51,  99, 161,  41,  70,  74, 100, 112,   4,  90, 186,  94,  46,\n",
       "         68, 166, 189, 118, 128, 112,  30, 133,   5, 146, 158,  16, 140,\n",
       "        114, 145, 171, 120, 157, 105,  74,  24, 181,   9, 177,  50,  45,\n",
       "         82, 129,  48, 121,   3,  43,  26, 122,  98,  29, 159, 107,  25,\n",
       "         94,  20,  21,  45,  22, 148, 112,  48, 191,  70, 164, 145, 178,\n",
       "         60, 172]),\n",
       " array([  5,  21,  12,  72,  86,  58,  20,  13, 196,  74, 165, 150, 191,\n",
       "        196,  80, 182,  31, 113,  76, 181, 137,  59, 142,   7, 105,  85,\n",
       "         91,  67, 144,  24,  28,  68,  53, 174,  90, 108, 120,  90,  72,\n",
       "         64,  97,  75,   1, 192, 122, 151,  18,  21, 131,  18,  81,  59,\n",
       "         76,  98, 148,  29,   9,  66,  90,  29,  80,  47,  90,  49,   8,\n",
       "        102, 115,  22, 123,  52,  52, 140, 168,  10,  43, 180, 142, 132,\n",
       "         53,  96, 194,  78,  90,  45, 159, 115,  91,  64, 142, 159, 158,\n",
       "         72,  35,  56,  20, 111, 144,  12,  33,  80, 185, 153,  30, 112,\n",
       "         83, 112, 110,  21,  18,  34,  18,  96,  60,   6,  82, 152,  28,\n",
       "         43, 138,  36, 114, 179, 118,  99, 166,  68,  49,  73,  72, 139,\n",
       "        187,  62, 104,   6, 150,  34,  81, 160, 184,  74,  66,   4,  52,\n",
       "        105,  46,  30, 170,  97, 164,  34, 158, 189, 138,  12, 186, 183,\n",
       "        145,  95, 109,  18, 107, 188, 110,   6,  56,  35,   6, 138, 107,\n",
       "         83,  48, 148, 107, 149, 192, 148, 131,  29,  14,  87,  48,  47,\n",
       "         51, 120, 110,  56, 196,  29, 162,  25, 145,  84,  85,  38, 141,\n",
       "        156, 155]),\n",
       " array([118,  68,  17,  14,   7,  42,  94, 152, 178,  16,  92,  36, 179,\n",
       "          2,  53, 138,  26,  84,   8,  33, 133, 175, 156,  54, 143,  37,\n",
       "        185,  76, 194,  88,  52,  24, 158,  73,  24,  72, 184,  38, 122,\n",
       "        178, 188,  94, 157, 135,  66, 183, 133,  34, 111, 164, 103,  70,\n",
       "        148, 182, 169, 130,  16, 183, 100, 160,  61,  10, 149,  27,   5,\n",
       "        114, 134, 167,  91, 134, 155,  68,  29,  85,  51,  82, 170,  48,\n",
       "         81,  75, 174, 151, 117,  72, 183,   7, 111, 192,  64, 101, 157,\n",
       "          6, 105,  45,  25, 162,  56, 155, 154,   3,  15, 129,  88,  93,\n",
       "          2,  85,  88, 155, 125, 193, 133, 131, 174, 158,   7,  20,  65,\n",
       "        117,  97,  63,  52, 195, 154, 186,  53, 156,  24,  25, 161, 107,\n",
       "        170, 170, 111,  90,  65,  61,  14, 169,   5,  65, 118, 113,  48,\n",
       "         37,   6,   6, 170,  98, 165, 160, 169,  16, 186, 169, 115,  44,\n",
       "         33, 129,   7, 171,  48,   6,  52, 150, 170,  98,  73,  73,  68,\n",
       "        156, 195,   5, 179, 103,   6, 126,  63,  26,  86, 182,  66, 126,\n",
       "         20, 172, 104, 183, 154, 169, 144, 171,  71,  78,  79,  91, 169,\n",
       "        136,  77]),\n",
       " array([ 44, 109,  90, 102, 179, 151, 158,  56,  23,  89,  40,   5, 129,\n",
       "         97, 139, 154, 168,  44, 182, 119,  49, 179, 112, 148, 143, 192,\n",
       "         23, 121,  23, 127,  42,  45, 168, 188,  91,  84, 153, 125, 124,\n",
       "        195, 141, 144,   6, 160,  26,  73,  39,  67,  89, 164, 154, 188,\n",
       "         68, 180, 173,   7, 137,  81, 188,  92, 126, 174,  28,  90,  25,\n",
       "         30, 132,  20, 112, 107,   4,  58,  90, 125,  58, 180,  62,  58,\n",
       "         51, 112,   9, 142,  29,  53,  50,  80, 149, 161,  52, 177,  17,\n",
       "          1,   8,  85,  61,  96, 104,  23, 183, 149, 187,   5, 138, 162,\n",
       "         84, 175,  10, 177,  61,  93,   4,  70, 181,  99,  46, 137, 102,\n",
       "         80, 193, 176,  91,  40, 115,  68, 189, 147,  27, 177, 192,  20,\n",
       "         93,  45,  32,  90,  10,  35, 143,  65,  23, 165, 176, 127, 156,\n",
       "          1, 111, 190, 116, 113, 162, 173,  83,  69, 178,  68, 103, 175,\n",
       "        105,  89,  25,  24,  35, 146,  19, 190, 129, 109,  12, 189,   6,\n",
       "         18, 141, 124, 166,  38, 165,  17,  33,  71, 136,  25,  83, 132,\n",
       "        158,  12, 183,  67, 191, 188, 116, 189, 173,  12,  42,   1,  47,\n",
       "         79,  15])]"
      ]
     },
     "execution_count": 149,
     "metadata": {},
     "output_type": "execute_result"
    }
   ],
   "source": [
    "#her bir ağaçtaki örneklere erişmek için\n",
    "bag_model.estimators_samples_"
   ]
  },
  {
   "cell_type": "code",
   "execution_count": 150,
   "id": "2c0fde1f",
   "metadata": {},
   "outputs": [
    {
     "data": {
      "text/plain": [
       "[array([10,  8,  2,  2, 18, 12, 13, 12,  2,  4, 10,  1, 13, 16, 11, 16, 13,\n",
       "         1, 10]),\n",
       " array([10, 15,  9,  4,  9, 11,  7,  6,  4,  0,  1, 16,  4, 10, 10, 15,  5,\n",
       "        15, 12]),\n",
       " array([17,  0, 11, 14,  0,  9, 14, 12, 17, 18,  1, 11,  6, 11,  3, 11, 17,\n",
       "         5,  8]),\n",
       " array([ 9,  8,  7,  1,  4,  5,  3,  0,  0, 17,  1,  2, 11,  2,  5, 15,  2,\n",
       "        12, 12]),\n",
       " array([17,  7,  4, 13, 16,  8,  0,  2,  0,  7, 10,  2,  4, 10,  0, 10,  2,\n",
       "        14, 11]),\n",
       " array([18,  3, 10,  3, 10, 10,  6,  6, 13, 14, 18,  3,  7,  2, 18,  9, 16,\n",
       "         9,  4]),\n",
       " array([ 5,  8, 15,  0, 17,  7, 10, 15,  5, 13,  7, 14,  4, 10,  9, 11, 11,\n",
       "        14,  4]),\n",
       " array([ 1, 14,  9,  8,  6, 11,  8,  6, 15,  5,  3,  3, 11, 15, 15,  0, 13,\n",
       "         4, 16]),\n",
       " array([ 7, 14,  6, 11,  8, 12,  3, 14,  9,  5,  7,  6, 13, 13,  4,  3, 15,\n",
       "         1,  9]),\n",
       " array([ 2,  4,  4,  2, 15,  7,  1, 13, 15, 18, 10,  9,  1,  6,  4,  6,  7,\n",
       "         5, 10])]"
      ]
     },
     "execution_count": 150,
     "metadata": {},
     "output_type": "execute_result"
    }
   ],
   "source": [
    "#ağaçların kullandığı değişkenler ve indexlerine eriştik.\n",
    "bag_model.estimators_features_"
   ]
  },
  {
   "cell_type": "code",
   "execution_count": 157,
   "id": "0dafb4d5",
   "metadata": {},
   "outputs": [
    {
     "data": {
      "text/plain": [
       "DecisionTreeRegressor(random_state=2028830587)"
      ]
     },
     "execution_count": 157,
     "metadata": {},
     "output_type": "execute_result"
    }
   ],
   "source": [
    "bag_model.estimators_[0]"
   ]
  },
  {
   "cell_type": "markdown",
   "id": "0fad2ff7",
   "metadata": {},
   "source": [
    "# BAGGED TREES TAHMİN"
   ]
  },
  {
   "cell_type": "code",
   "execution_count": 158,
   "id": "f52f025f",
   "metadata": {},
   "outputs": [],
   "source": [
    "y_pred = bag_model.predict(X_test)"
   ]
  },
  {
   "cell_type": "code",
   "execution_count": 174,
   "id": "2107a8b4",
   "metadata": {},
   "outputs": [
    {
     "data": {
      "text/plain": [
       "410.2505609679921"
      ]
     },
     "execution_count": 174,
     "metadata": {},
     "output_type": "execute_result"
    }
   ],
   "source": [
    "np.sqrt(mean_squared_error(y_test, y_pred))"
   ]
  },
  {
   "cell_type": "code",
   "execution_count": 161,
   "id": "5762ec2f",
   "metadata": {},
   "outputs": [],
   "source": [
    "#ikinci ağaca gidip hatasının hesabını sormak istediğimizde:\n",
    "iki_pred = bag_model.estimators_[1].fit(X_train,y_train).predict(X_test)"
   ]
  },
  {
   "cell_type": "code",
   "execution_count": 162,
   "id": "9d6a8ee8",
   "metadata": {},
   "outputs": [
    {
     "data": {
      "text/plain": [
       "553.0077063007624"
      ]
     },
     "execution_count": 162,
     "metadata": {},
     "output_type": "execute_result"
    }
   ],
   "source": [
    "np.sqrt(mean_squared_error(y_test, iki_pred))"
   ]
  },
  {
   "cell_type": "code",
   "execution_count": 163,
   "id": "2e4e1b9a",
   "metadata": {},
   "outputs": [],
   "source": [
    "#yedinci ağaca gidip hatasının hesabını sormak istediğimizde:\n",
    "yedi_pred = bag_model.estimators_[6].fit(X_train,y_train).predict(X_test)"
   ]
  },
  {
   "cell_type": "code",
   "execution_count": 164,
   "id": "94b0ff99",
   "metadata": {},
   "outputs": [
    {
     "data": {
      "text/plain": [
       "467.56302916675406"
      ]
     },
     "execution_count": 164,
     "metadata": {},
     "output_type": "execute_result"
    }
   ],
   "source": [
    "np.sqrt(mean_squared_error(y_test, yedi_pred))"
   ]
  },
  {
   "cell_type": "markdown",
   "id": "875177bf",
   "metadata": {},
   "source": [
    "# BAGGED TREES MODEL TUNİNG"
   ]
  },
  {
   "cell_type": "code",
   "execution_count": 165,
   "id": "50fd1f9c",
   "metadata": {},
   "outputs": [
    {
     "data": {
      "text/plain": [
       "BaggingRegressor(bootstrap_features=True)"
      ]
     },
     "execution_count": 165,
     "metadata": {},
     "output_type": "execute_result"
    }
   ],
   "source": [
    "bag_model = BaggingRegressor(bootstrap_features = True)\n",
    "bag_model.fit(X_train, y_train)"
   ]
  },
  {
   "cell_type": "code",
   "execution_count": 166,
   "id": "32602d8f",
   "metadata": {},
   "outputs": [],
   "source": [
    "bag_params = {\"n_estimators\": range(2,20)}"
   ]
  },
  {
   "cell_type": "code",
   "execution_count": 167,
   "id": "14c05b47",
   "metadata": {},
   "outputs": [],
   "source": [
    "bag_cv_model = GridSearchCV(bag_model, bag_params, cv = 10)"
   ]
  },
  {
   "cell_type": "code",
   "execution_count": 168,
   "id": "c4e98714",
   "metadata": {},
   "outputs": [
    {
     "data": {
      "text/plain": [
       "GridSearchCV(cv=10, estimator=BaggingRegressor(bootstrap_features=True),\n",
       "             param_grid={'n_estimators': range(2, 20)})"
      ]
     },
     "execution_count": 168,
     "metadata": {},
     "output_type": "execute_result"
    }
   ],
   "source": [
    "bag_cv_model.fit(X_train, y_train)"
   ]
  },
  {
   "cell_type": "code",
   "execution_count": 169,
   "id": "c78afe28",
   "metadata": {},
   "outputs": [
    {
     "data": {
      "text/plain": [
       "{'n_estimators': 3}"
      ]
     },
     "execution_count": 169,
     "metadata": {},
     "output_type": "execute_result"
    }
   ],
   "source": [
    "bag_cv_model.best_params_"
   ]
  },
  {
   "cell_type": "code",
   "execution_count": 170,
   "id": "c7b1026e",
   "metadata": {},
   "outputs": [],
   "source": [
    "bag_tuned = BaggingRegressor( n_estimators = 3, random_state = 45)"
   ]
  },
  {
   "cell_type": "code",
   "execution_count": 171,
   "id": "4fbfe1c4",
   "metadata": {},
   "outputs": [
    {
     "data": {
      "text/plain": [
       "BaggingRegressor(n_estimators=3, random_state=45)"
      ]
     },
     "execution_count": 171,
     "metadata": {},
     "output_type": "execute_result"
    }
   ],
   "source": [
    "bag_tuned.fit(X_train, y_train)"
   ]
  },
  {
   "cell_type": "code",
   "execution_count": 172,
   "id": "22a5dba6",
   "metadata": {},
   "outputs": [],
   "source": [
    "y_pred = bag_tuned.predict(X_test)"
   ]
  },
  {
   "cell_type": "code",
   "execution_count": 173,
   "id": "e8d40c15",
   "metadata": {},
   "outputs": [
    {
     "data": {
      "text/plain": [
       "410.2505609679921"
      ]
     },
     "execution_count": 173,
     "metadata": {},
     "output_type": "execute_result"
    }
   ],
   "source": [
    "np.sqrt(mean_squared_error(y_test, y_pred))"
   ]
  },
  {
   "cell_type": "code",
   "execution_count": null,
   "id": "94b0feb7",
   "metadata": {},
   "outputs": [],
   "source": []
  },
  {
   "cell_type": "code",
   "execution_count": null,
   "id": "fe2f9ca3",
   "metadata": {},
   "outputs": [],
   "source": []
  },
  {
   "cell_type": "code",
   "execution_count": null,
   "id": "f0df7b79",
   "metadata": {},
   "outputs": [],
   "source": []
  },
  {
   "cell_type": "code",
   "execution_count": null,
   "id": "7f703d65",
   "metadata": {},
   "outputs": [],
   "source": []
  },
  {
   "cell_type": "markdown",
   "id": "0b13682c",
   "metadata": {},
   "source": [
    "# RANDOM FOREST"
   ]
  },
  {
   "cell_type": "code",
   "execution_count": 175,
   "id": "53eaf654",
   "metadata": {},
   "outputs": [],
   "source": [
    "hit = pd.read_csv(\"Hitters.csv\")\n",
    "df = hit.copy()\n",
    "df = df.dropna()\n",
    "dms = pd.get_dummies(df[['League', 'Division', 'NewLeague']])\n",
    "y = df[\"Salary\"]\n",
    "X_ = df.drop(['Salary', 'League', 'Division', 'NewLeague'], axis=1).astype('float64')\n",
    "X = pd.concat([X_, dms[['League_N', 'Division_W', 'NewLeague_N']]], axis=1)\n",
    "X_train, X_test, y_train, y_test = train_test_split(X, y, \n",
    "                                                    test_size=0.25, \n",
    "                                                    random_state=42)\n"
   ]
  },
  {
   "cell_type": "code",
   "execution_count": 176,
   "id": "2a11e8a0",
   "metadata": {},
   "outputs": [],
   "source": [
    "from sklearn.ensemble import RandomForestRegressor"
   ]
  },
  {
   "cell_type": "code",
   "execution_count": 177,
   "id": "46d91d90",
   "metadata": {},
   "outputs": [],
   "source": [
    "rf_model = RandomForestRegressor(random_state = 42)"
   ]
  },
  {
   "cell_type": "code",
   "execution_count": 178,
   "id": "e98fbc9b",
   "metadata": {},
   "outputs": [
    {
     "data": {
      "text/plain": [
       "RandomForestRegressor(random_state=42)"
      ]
     },
     "execution_count": 178,
     "metadata": {},
     "output_type": "execute_result"
    }
   ],
   "source": [
    "rf_model.fit(X_train, y_train)"
   ]
  },
  {
   "cell_type": "markdown",
   "id": "51901ce0",
   "metadata": {},
   "source": [
    "# RANDOM FOREST TAHMİN"
   ]
  },
  {
   "cell_type": "code",
   "execution_count": 179,
   "id": "a42e3c8e",
   "metadata": {},
   "outputs": [
    {
     "data": {
      "text/plain": [
       "array([ 738.69167,  913.51164, 1181.145  ,  139.65167,  634.60833])"
      ]
     },
     "execution_count": 179,
     "metadata": {},
     "output_type": "execute_result"
    }
   ],
   "source": [
    "rf_model.predict(X_test)[0:5]"
   ]
  },
  {
   "cell_type": "code",
   "execution_count": 180,
   "id": "3395b201",
   "metadata": {},
   "outputs": [],
   "source": [
    "y_pred = rf_model.predict(X_test)"
   ]
  },
  {
   "cell_type": "code",
   "execution_count": 181,
   "id": "61081ba4",
   "metadata": {},
   "outputs": [
    {
     "data": {
      "text/plain": [
       "344.8191624908484"
      ]
     },
     "execution_count": 181,
     "metadata": {},
     "output_type": "execute_result"
    }
   ],
   "source": [
    "np.sqrt(mean_squared_error(y_test, y_pred))"
   ]
  },
  {
   "cell_type": "markdown",
   "id": "14aa1081",
   "metadata": {},
   "source": [
    "# RANDOM FOREST MODEL TUNİNG"
   ]
  },
  {
   "cell_type": "code",
   "execution_count": 182,
   "id": "b228e228",
   "metadata": {},
   "outputs": [],
   "source": [
    "rf_params = {'max_depth': list(range(1,10)),\n",
    "            'max_features': [3,5,10,15],\n",
    "            'n_estimators' : [100, 200, 500, 1000, 2000]}\n",
    "#Estimators ağaç sayısını ifade eder."
   ]
  },
  {
   "cell_type": "code",
   "execution_count": 183,
   "id": "fc99cf03",
   "metadata": {},
   "outputs": [],
   "source": [
    "rf_model = RandomForestRegressor(random_state = 42)"
   ]
  },
  {
   "cell_type": "code",
   "execution_count": 184,
   "id": "cdd06671",
   "metadata": {},
   "outputs": [],
   "source": [
    "rf_cv_model = GridSearchCV(rf_model, \n",
    "                           rf_params, \n",
    "                           cv = 10, \n",
    "                            n_jobs = -1)\n",
    "#njobs parametresi, paralel olarak işlemlerin hızlıca halledilmesini sağlar\n",
    "#bu parametre sayesinde bilgisayar full performans ile çalıştığı için, bilgisayarın soğutucusu bile çalışır."
   ]
  },
  {
   "cell_type": "code",
   "execution_count": 185,
   "id": "53e91e65",
   "metadata": {},
   "outputs": [
    {
     "data": {
      "text/plain": [
       "GridSearchCV(cv=10, estimator=RandomForestRegressor(random_state=42), n_jobs=-1,\n",
       "             param_grid={'max_depth': [1, 2, 3, 4, 5, 6, 7, 8, 9],\n",
       "                         'max_features': [3, 5, 10, 15],\n",
       "                         'n_estimators': [100, 200, 500, 1000, 2000]})"
      ]
     },
     "execution_count": 185,
     "metadata": {},
     "output_type": "execute_result"
    }
   ],
   "source": [
    "rf_cv_model.fit(X_train, y_train)"
   ]
  },
  {
   "cell_type": "code",
   "execution_count": 187,
   "id": "3cf7674f",
   "metadata": {},
   "outputs": [
    {
     "data": {
      "text/plain": [
       "{'max_depth': 8, 'max_features': 3, 'n_estimators': 200}"
      ]
     },
     "execution_count": 187,
     "metadata": {},
     "output_type": "execute_result"
    }
   ],
   "source": [
    "rf_cv_model.best_params_"
   ]
  },
  {
   "cell_type": "code",
   "execution_count": 188,
   "id": "8c6b3428",
   "metadata": {},
   "outputs": [],
   "source": [
    "rf_tuned = RandomForestRegressor(max_depth  = 8, \n",
    "                                 max_features = 3, \n",
    "                                 n_estimators =200)"
   ]
  },
  {
   "cell_type": "code",
   "execution_count": 189,
   "id": "69001e42",
   "metadata": {},
   "outputs": [
    {
     "data": {
      "text/plain": [
       "RandomForestRegressor(max_depth=8, max_features=3, n_estimators=200)"
      ]
     },
     "execution_count": 189,
     "metadata": {},
     "output_type": "execute_result"
    }
   ],
   "source": [
    "rf_tuned.fit(X_train, y_train)"
   ]
  },
  {
   "cell_type": "code",
   "execution_count": 190,
   "id": "d7b53851",
   "metadata": {},
   "outputs": [],
   "source": [
    "y_pred = rf_tuned.predict(X_test)"
   ]
  },
  {
   "cell_type": "code",
   "execution_count": 191,
   "id": "0f8faf3c",
   "metadata": {},
   "outputs": [
    {
     "data": {
      "text/plain": [
       "342.13916147787205"
      ]
     },
     "execution_count": 191,
     "metadata": {},
     "output_type": "execute_result"
    }
   ],
   "source": [
    "np.sqrt(mean_squared_error(y_test, y_pred))"
   ]
  },
  {
   "cell_type": "code",
   "execution_count": 192,
   "id": "b6a890b4",
   "metadata": {},
   "outputs": [],
   "source": [
    "Importance = pd.DataFrame({\"Importance\": rf_tuned.feature_importances_*100},\n",
    "                         index = X_train.columns)"
   ]
  },
  {
   "cell_type": "code",
   "execution_count": 194,
   "id": "58561176",
   "metadata": {},
   "outputs": [
    {
     "data": {
      "text/plain": [
       "Text(0.5, 0, 'Değişken Önem Düzeyleri')"
      ]
     },
     "execution_count": 194,
     "metadata": {},
     "output_type": "execute_result"
    },
    {
     "data": {
      "image/png": "[encoded data removed]",
      "text/plain": [
       "<Figure size 432x288 with 1 Axes>"
      ]
     },
     "metadata": {
      "needs_background": "light"
     },
     "output_type": "display_data"
    }
   ],
   "source": [
    "Importance.sort_values(by = \"Importance\", \n",
    "                       axis = 0, \n",
    "                       ascending = True).plot(kind =\"barh\", color = \"r\")\n",
    "\n",
    "plt.xlabel(\"Değişken Önem Düzeyleri\")\n",
    "#burada değişkenlerin y bağımlı değişkenin onlara olan bağ önemi gösterilmektedir."
   ]
  },
  {
   "cell_type": "code",
   "execution_count": null,
   "id": "32254d2e",
   "metadata": {},
   "outputs": [],
   "source": []
  },
  {
   "cell_type": "code",
   "execution_count": null,
   "id": "bbf3d2bc",
   "metadata": {},
   "outputs": [],
   "source": []
  },
  {
   "cell_type": "code",
   "execution_count": null,
   "id": "a0c8f148",
   "metadata": {},
   "outputs": [],
   "source": []
  },
  {
   "cell_type": "code",
   "execution_count": null,
   "id": "a18fa10f",
   "metadata": {},
   "outputs": [],
   "source": []
  },
  {
   "cell_type": "markdown",
   "id": "56398262",
   "metadata": {},
   "source": [
    "# GRADİENT BOOSTİNG MACHİNES"
   ]
  },
  {
   "cell_type": "code",
   "execution_count": 195,
   "id": "a96d2ab3",
   "metadata": {},
   "outputs": [],
   "source": [
    "from sklearn.ensemble import GradientBoostingRegressor"
   ]
  },
  {
   "cell_type": "code",
   "execution_count": 196,
   "id": "1a28a350",
   "metadata": {},
   "outputs": [
    {
     "data": {
      "text/plain": [
       "GradientBoostingRegressor()"
      ]
     },
     "execution_count": 196,
     "metadata": {},
     "output_type": "execute_result"
    }
   ],
   "source": [
    "gbm_model = GradientBoostingRegressor()\n",
    "gbm_model.fit(X_train, y_train)"
   ]
  },
  {
   "cell_type": "markdown",
   "id": "4b3d03e3",
   "metadata": {},
   "source": [
    "# GBM TAHMİN"
   ]
  },
  {
   "cell_type": "code",
   "execution_count": 197,
   "id": "fc01bea0",
   "metadata": {},
   "outputs": [
    {
     "data": {
      "text/plain": [
       "348.90989664214936"
      ]
     },
     "execution_count": 197,
     "metadata": {},
     "output_type": "execute_result"
    }
   ],
   "source": [
    "y_pred = gbm_model.predict(X_test)\n",
    "np.sqrt(mean_squared_error(y_test, y_pred))"
   ]
  },
  {
   "cell_type": "markdown",
   "id": "aa4b5997",
   "metadata": {},
   "source": [
    "# GBM MODEL TUNİNG"
   ]
  },
  {
   "cell_type": "code",
   "execution_count": 198,
   "id": "94ff529b",
   "metadata": {},
   "outputs": [],
   "source": [
    "gbm_params = {\n",
    "    'learning_rate': [0.001, 0.01, 0.1, 0.2],\n",
    "    'max_depth': [3, 5, 8,50,100],\n",
    "    'n_estimators': [200, 500, 1000, 2000],\n",
    "    'subsample': [1,0.5,0.75],\n",
    "}"
   ]
  },
  {
   "cell_type": "code",
   "execution_count": 199,
   "id": "f8c750dc",
   "metadata": {},
   "outputs": [
    {
     "name": "stdout",
     "output_type": "stream",
     "text": [
      "Fitting 10 folds for each of 240 candidates, totalling 2400 fits\n"
     ]
    },
    {
     "data": {
      "text/plain": [
       "GridSearchCV(cv=10, estimator=GradientBoostingRegressor(), n_jobs=-1,\n",
       "             param_grid={'learning_rate': [0.001, 0.01, 0.1, 0.2],\n",
       "                         'max_depth': [3, 5, 8, 50, 100],\n",
       "                         'n_estimators': [200, 500, 1000, 2000],\n",
       "                         'subsample': [1, 0.5, 0.75]},\n",
       "             verbose=2)"
      ]
     },
     "execution_count": 199,
     "metadata": {},
     "output_type": "execute_result"
    }
   ],
   "source": [
    "gbm = GradientBoostingRegressor()\n",
    "gbm_cv_model = GridSearchCV(gbm, gbm_params, cv = 10, n_jobs = -1, verbose = 2)\n",
    "gbm_cv_model.fit(X_train, y_train)"
   ]
  },
  {
   "cell_type": "code",
   "execution_count": 200,
   "id": "ad1fccad",
   "metadata": {},
   "outputs": [
    {
     "data": {
      "text/plain": [
       "{'learning_rate': 0.1, 'max_depth': 3, 'n_estimators': 200, 'subsample': 0.75}"
      ]
     },
     "execution_count": 200,
     "metadata": {},
     "output_type": "execute_result"
    }
   ],
   "source": [
    "gbm_cv_model.best_params_"
   ]
  },
  {
   "cell_type": "code",
   "execution_count": 201,
   "id": "609ac100",
   "metadata": {},
   "outputs": [],
   "source": [
    "gbm_tuned = GradientBoostingRegressor(learning_rate = 0.1,  \n",
    "                                      max_depth = 3, \n",
    "                                      n_estimators = 200, \n",
    "                                      subsample = 0.75)\n",
    "\n",
    "gbm_tuned = gbm_tuned.fit(X_train,y_train)"
   ]
  },
  {
   "cell_type": "code",
   "execution_count": 202,
   "id": "a0d06968",
   "metadata": {},
   "outputs": [
    {
     "data": {
      "text/plain": [
       "334.5312868921862"
      ]
     },
     "execution_count": 202,
     "metadata": {},
     "output_type": "execute_result"
    }
   ],
   "source": [
    "y_pred = gbm_tuned.predict(X_test)\n",
    "np.sqrt(mean_squared_error(y_test, y_pred))"
   ]
  },
  {
   "cell_type": "code",
   "execution_count": 203,
   "id": "96859976",
   "metadata": {},
   "outputs": [],
   "source": [
    "Importance = pd.DataFrame({\"Importance\": gbm_tuned.feature_importances_*100},\n",
    "                         index = X_train.columns)"
   ]
  },
  {
   "cell_type": "code",
   "execution_count": 204,
   "id": "0ecfe37c",
   "metadata": {},
   "outputs": [
    {
     "data": {
      "text/plain": [
       "Text(0.5, 0, 'Değişken Önem Düzeyleri')"
      ]
     },
     "execution_count": 204,
     "metadata": {},
     "output_type": "execute_result"
    },
    {
     "data": {
      "image/png": "[encoded data removed]",
      "text/plain": [
       "<Figure size 432x288 with 1 Axes>"
      ]
     },
     "metadata": {
      "needs_background": "light"
     },
     "output_type": "display_data"
    }
   ],
   "source": [
    "Importance.sort_values(by = \"Importance\", \n",
    "                       axis = 0, \n",
    "                       ascending = True).plot(kind =\"barh\", color = \"r\")\n",
    "\n",
    "plt.xlabel(\"Değişken Önem Düzeyleri\")"
   ]
  },
  {
   "cell_type": "code",
   "execution_count": null,
   "id": "0b5532f9",
   "metadata": {},
   "outputs": [],
   "source": []
  },
  {
   "cell_type": "code",
   "execution_count": null,
   "id": "91e3f0a3",
   "metadata": {},
   "outputs": [],
   "source": []
  },
  {
   "cell_type": "code",
   "execution_count": null,
   "id": "39cb1b79",
   "metadata": {},
   "outputs": [],
   "source": []
  },
  {
   "cell_type": "code",
   "execution_count": null,
   "id": "7ca5748e",
   "metadata": {},
   "outputs": [],
   "source": []
  },
  {
   "cell_type": "markdown",
   "id": "b04c67ab",
   "metadata": {},
   "source": [
    "# XGBOOST"
   ]
  },
  {
   "cell_type": "code",
   "execution_count": 205,
   "id": "e3e9994c",
   "metadata": {},
   "outputs": [],
   "source": [
    "hit = pd.read_csv(\"Hitters.csv\")\n",
    "df = hit.copy()\n",
    "df = df.dropna()\n",
    "dms = pd.get_dummies(df[['League', 'Division', 'NewLeague']])\n",
    "y = df[\"Salary\"]\n",
    "X_ = df.drop(['Salary', 'League', 'Division', 'NewLeague'], axis=1).astype('float64')\n",
    "X = pd.concat([X_, dms[['League_N', 'Division_W', 'NewLeague_N']]], axis=1)\n",
    "X_train, X_test, y_train, y_test = train_test_split(X, y, \n",
    "                                                    test_size=0.25, \n",
    "                                                    random_state=42)\n"
   ]
  },
  {
   "cell_type": "code",
   "execution_count": 206,
   "id": "e4d6e48a",
   "metadata": {},
   "outputs": [
    {
     "name": "stdout",
     "output_type": "stream",
     "text": [
      "Collecting xgboost\n",
      "  Downloading xgboost-2.0.3-py3-none-win_amd64.whl (99.8 MB)\n",
      "Requirement already satisfied: numpy in c:\\users\\fatih emre\\anaconda3\\lib\\site-packages (from xgboost) (1.22.4)\n",
      "Requirement already satisfied: scipy in c:\\users\\fatih emre\\anaconda3\\lib\\site-packages (from xgboost) (1.7.3)\n",
      "Installing collected packages: xgboost\n",
      "Successfully installed xgboost-2.0.3\n"
     ]
    }
   ],
   "source": [
    "!pip install xgboost"
   ]
  },
  {
   "cell_type": "code",
   "execution_count": 207,
   "id": "ecfb7d1c",
   "metadata": {},
   "outputs": [],
   "source": [
    "import xgboost as xgb"
   ]
  },
  {
   "cell_type": "code",
   "execution_count": 208,
   "id": "bb7e5e42",
   "metadata": {},
   "outputs": [],
   "source": [
    "DM_train = xgb.DMatrix(data = X_train, label = y_train)\n",
    "DM_test = xgb.DMatrix(data = X_test, label = y_test)"
   ]
  },
  {
   "cell_type": "code",
   "execution_count": 209,
   "id": "1bc849f3",
   "metadata": {},
   "outputs": [],
   "source": [
    "from xgboost import XGBRegressor"
   ]
  },
  {
   "cell_type": "code",
   "execution_count": 210,
   "id": "20e29b13",
   "metadata": {},
   "outputs": [],
   "source": [
    "xgb_model = XGBRegressor().fit(X_train, y_train)"
   ]
  },
  {
   "cell_type": "markdown",
   "id": "2ffd341d",
   "metadata": {},
   "source": [
    "# XGBOOST TAHMİN"
   ]
  },
  {
   "cell_type": "code",
   "execution_count": 211,
   "id": "e44e7951",
   "metadata": {},
   "outputs": [
    {
     "data": {
      "text/plain": [
       "366.3863437634965"
      ]
     },
     "execution_count": 211,
     "metadata": {},
     "output_type": "execute_result"
    }
   ],
   "source": [
    "y_pred = xgb_model.predict(X_test)\n",
    "np.sqrt(mean_squared_error(y_test, y_pred))"
   ]
  },
  {
   "cell_type": "markdown",
   "id": "8a13c40a",
   "metadata": {},
   "source": [
    "# XGBOOST MODEL TUNİNG"
   ]
  },
  {
   "cell_type": "code",
   "execution_count": 212,
   "id": "14138689",
   "metadata": {},
   "outputs": [
    {
     "data": {
      "text/plain": [
       "XGBRegressor(base_score=None, booster=None, callbacks=None,\n",
       "             colsample_bylevel=None, colsample_bynode=None,\n",
       "             colsample_bytree=None, device=None, early_stopping_rounds=None,\n",
       "             enable_categorical=False, eval_metric=None, feature_types=None,\n",
       "             gamma=None, grow_policy=None, importance_type=None,\n",
       "             interaction_constraints=None, learning_rate=None, max_bin=None,\n",
       "             max_cat_threshold=None, max_cat_to_onehot=None,\n",
       "             max_delta_step=None, max_depth=None, max_leaves=None,\n",
       "             min_child_weight=None, missing=nan, monotone_constraints=None,\n",
       "             multi_strategy=None, n_estimators=None, n_jobs=None,\n",
       "             num_parallel_tree=None, random_state=None, ...)"
      ]
     },
     "execution_count": 212,
     "metadata": {},
     "output_type": "execute_result"
    }
   ],
   "source": [
    "xgb_model"
   ]
  },
  {
   "cell_type": "code",
   "execution_count": 213,
   "id": "a59ef00c",
   "metadata": {},
   "outputs": [],
   "source": [
    "xgb_grid = {\n",
    "     'colsample_bytree': [0.4, 0.5,0.6,0.9,1], \n",
    "     'n_estimators':[100, 200, 500, 1000],\n",
    "     'max_depth': [2,3,4,5,6],\n",
    "     'learning_rate': [0.1, 0.01, 0.5]\n",
    "}\n"
   ]
  },
  {
   "cell_type": "code",
   "execution_count": 214,
   "id": "9f2f0e03",
   "metadata": {},
   "outputs": [
    {
     "name": "stdout",
     "output_type": "stream",
     "text": [
      "Fitting 10 folds for each of 300 candidates, totalling 3000 fits\n"
     ]
    },
    {
     "data": {
      "text/plain": [
       "GridSearchCV(cv=10,\n",
       "             estimator=XGBRegressor(base_score=None, booster=None,\n",
       "                                    callbacks=None, colsample_bylevel=None,\n",
       "                                    colsample_bynode=None,\n",
       "                                    colsample_bytree=None, device=None,\n",
       "                                    early_stopping_rounds=None,\n",
       "                                    enable_categorical=False, eval_metric=None,\n",
       "                                    feature_types=None, gamma=None,\n",
       "                                    grow_policy=None, importance_type=None,\n",
       "                                    interaction_constraints=None,\n",
       "                                    learning_rate=None,...\n",
       "                                    max_cat_to_onehot=None, max_delta_step=None,\n",
       "                                    max_depth=None, max_leaves=None,\n",
       "                                    min_child_weight=None, missing=nan,\n",
       "                                    monotone_constraints=None,\n",
       "                                    multi_strategy=None, n_estimators=None,\n",
       "                                    n_jobs=None, num_parallel_tree=None,\n",
       "                                    random_state=None, ...),\n",
       "             n_jobs=-1,\n",
       "             param_grid={'colsample_bytree': [0.4, 0.5, 0.6, 0.9, 1],\n",
       "                         'learning_rate': [0.1, 0.01, 0.5],\n",
       "                         'max_depth': [2, 3, 4, 5, 6],\n",
       "                         'n_estimators': [100, 200, 500, 1000]},\n",
       "             verbose=2)"
      ]
     },
     "execution_count": 214,
     "metadata": {},
     "output_type": "execute_result"
    }
   ],
   "source": [
    "xgb = XGBRegressor()\n",
    "\n",
    "xgb_cv = GridSearchCV(xgb, \n",
    "                      param_grid = xgb_grid, \n",
    "                      cv = 10, \n",
    "                      n_jobs = -1,\n",
    "                      verbose = 2)\n",
    "\n",
    "\n",
    "xgb_cv.fit(X_train, y_train)"
   ]
  },
  {
   "cell_type": "code",
   "execution_count": 215,
   "id": "13aef5d5",
   "metadata": {},
   "outputs": [
    {
     "data": {
      "text/plain": [
       "{'colsample_bytree': 0.4,\n",
       " 'learning_rate': 0.1,\n",
       " 'max_depth': 6,\n",
       " 'n_estimators': 100}"
      ]
     },
     "execution_count": 215,
     "metadata": {},
     "output_type": "execute_result"
    }
   ],
   "source": [
    "xgb_cv.best_params_"
   ]
  },
  {
   "cell_type": "code",
   "execution_count": 216,
   "id": "b4eeb929",
   "metadata": {},
   "outputs": [],
   "source": [
    "xgb_tuned = XGBRegressor(colsample_bytree = 0.4, \n",
    "                         learning_rate = 0.1, \n",
    "                         max_depth = 6, \n",
    "                         n_estimators = 100) \n",
    "\n",
    "xgb_tuned = xgb_tuned.fit(X_train,y_train)"
   ]
  },
  {
   "cell_type": "code",
   "execution_count": 217,
   "id": "754b36cf",
   "metadata": {},
   "outputs": [
    {
     "data": {
      "text/plain": [
       "343.6101991802883"
      ]
     },
     "execution_count": 217,
     "metadata": {},
     "output_type": "execute_result"
    }
   ],
   "source": [
    "y_pred = xgb_tuned.predict(X_test)\n",
    "np.sqrt(mean_squared_error(y_test, y_pred))"
   ]
  },
  {
   "cell_type": "code",
   "execution_count": null,
   "id": "a2dc28f0",
   "metadata": {},
   "outputs": [],
   "source": []
  },
  {
   "cell_type": "code",
   "execution_count": null,
   "id": "76f4c5d4",
   "metadata": {},
   "outputs": [],
   "source": []
  },
  {
   "cell_type": "code",
   "execution_count": null,
   "id": "3a5ed6ad",
   "metadata": {},
   "outputs": [],
   "source": []
  },
  {
   "cell_type": "markdown",
   "id": "a92047c6",
   "metadata": {},
   "source": [
    "# LİGHTGBM"
   ]
  },
  {
   "cell_type": "code",
   "execution_count": 227,
   "id": "ca2f2c42",
   "metadata": {},
   "outputs": [],
   "source": [
    "hit = pd.read_csv(\"Hitters.csv\")\n",
    "df = hit.copy()\n",
    "df = df.dropna()\n",
    "dms = pd.get_dummies(df[['League', 'Division', 'NewLeague']])\n",
    "y = df[\"Salary\"]\n",
    "X_ = df.drop(['Salary', 'League', 'Division', 'NewLeague'], axis=1).astype('float64')\n",
    "X = pd.concat([X_, dms[['League_N', 'Division_W', 'NewLeague_N']]], axis=1)\n",
    "X_train, X_test, y_train, y_test = train_test_split(X, y, \n",
    "                                                    test_size=0.25, \n",
    "                                                    random_state=42)\n"
   ]
  },
  {
   "cell_type": "code",
   "execution_count": 228,
   "id": "be4c731f",
   "metadata": {},
   "outputs": [
    {
     "name": "stdout",
     "output_type": "stream",
     "text": [
      "^C\n"
     ]
    }
   ],
   "source": [
    "!pip install lightgbm"
   ]
  },
  {
   "cell_type": "code",
   "execution_count": 231,
   "id": "b71f73a3",
   "metadata": {},
   "outputs": [],
   "source": [
    "from lightgbm import LGBMRegressor"
   ]
  },
  {
   "cell_type": "code",
   "execution_count": 230,
   "id": "4440e7f3",
   "metadata": {},
   "outputs": [
    {
     "name": "stdout",
     "output_type": "stream",
     "text": [
      "Requirement already satisfied: lightgbm in c:\\users\\fatih emre\\anaconda3\\lib\\site-packages (4.3.0)\n",
      "Requirement already satisfied: numpy in c:\\users\\fatih emre\\anaconda3\\lib\\site-packages (from lightgbm) (1.22.4)\n",
      "Requirement already satisfied: scipy in c:\\users\\fatih emre\\anaconda3\\lib\\site-packages (from lightgbm) (1.7.3)\n",
      "\n",
      "Note: you may need to restart the kernel to use updated packages.\n"
     ]
    },
    {
     "name": "stderr",
     "output_type": "stream",
     "text": [
      "usage: conda-script.py [-h] [-V] command ...\n",
      "conda-script.py: error: unrecognized arguments: lightgbm\n"
     ]
    }
   ],
   "source": [
    "conda install -c conda-forge lightgbm"
   ]
  },
  {
   "cell_type": "code",
   "execution_count": 232,
   "id": "00347353",
   "metadata": {},
   "outputs": [],
   "source": [
    "from lightgbm import LGBMRegressor"
   ]
  },
  {
   "cell_type": "code",
   "execution_count": 233,
   "id": "46dffb96",
   "metadata": {},
   "outputs": [
    {
     "name": "stdout",
     "output_type": "stream",
     "text": [
      "[LightGBM] [Info] Auto-choosing col-wise multi-threading, the overhead of testing was 0.000678 seconds.\n",
      "You can set `force_col_wise=true` to remove the overhead.\n",
      "[LightGBM] [Info] Total Bins 831\n",
      "[LightGBM] [Info] Number of data points in the train set: 197, number of used features: 19\n",
      "[LightGBM] [Info] Start training from score 543.483442\n",
      "[LightGBM] [Warning] No further splits with positive gain, best gain: -inf\n",
      "[LightGBM] [Warning] No further splits with positive gain, best gain: -inf\n",
      "[LightGBM] [Warning] No further splits with positive gain, best gain: -inf\n",
      "[LightGBM] [Warning] No further splits with positive gain, best gain: -inf\n",
      "[LightGBM] [Warning] No further splits with positive gain, best gain: -inf\n",
      "[LightGBM] [Warning] No further splits with positive gain, best gain: -inf\n",
      "[LightGBM] [Warning] No further splits with positive gain, best gain: -inf\n",
      "[LightGBM] [Warning] No further splits with positive gain, best gain: -inf\n",
      "[LightGBM] [Warning] No further splits with positive gain, best gain: -inf\n",
      "[LightGBM] [Warning] No further splits with positive gain, best gain: -inf\n",
      "[LightGBM] [Warning] No further splits with positive gain, best gain: -inf\n",
      "[LightGBM] [Warning] No further splits with positive gain, best gain: -inf\n",
      "[LightGBM] [Warning] No further splits with positive gain, best gain: -inf\n",
      "[LightGBM] [Warning] No further splits with positive gain, best gain: -inf\n",
      "[LightGBM] [Warning] No further splits with positive gain, best gain: -inf\n",
      "[LightGBM] [Warning] No further splits with positive gain, best gain: -inf\n",
      "[LightGBM] [Warning] No further splits with positive gain, best gain: -inf\n",
      "[LightGBM] [Warning] No further splits with positive gain, best gain: -inf\n",
      "[LightGBM] [Warning] No further splits with positive gain, best gain: -inf\n",
      "[LightGBM] [Warning] No further splits with positive gain, best gain: -inf\n",
      "[LightGBM] [Warning] No further splits with positive gain, best gain: -inf\n",
      "[LightGBM] [Warning] No further splits with positive gain, best gain: -inf\n",
      "[LightGBM] [Warning] No further splits with positive gain, best gain: -inf\n",
      "[LightGBM] [Warning] No further splits with positive gain, best gain: -inf\n",
      "[LightGBM] [Warning] No further splits with positive gain, best gain: -inf\n",
      "[LightGBM] [Warning] No further splits with positive gain, best gain: -inf\n",
      "[LightGBM] [Warning] No further splits with positive gain, best gain: -inf\n",
      "[LightGBM] [Warning] No further splits with positive gain, best gain: -inf\n",
      "[LightGBM] [Warning] No further splits with positive gain, best gain: -inf\n",
      "[LightGBM] [Warning] No further splits with positive gain, best gain: -inf\n",
      "[LightGBM] [Warning] No further splits with positive gain, best gain: -inf\n",
      "[LightGBM] [Warning] No further splits with positive gain, best gain: -inf\n",
      "[LightGBM] [Warning] No further splits with positive gain, best gain: -inf\n",
      "[LightGBM] [Warning] No further splits with positive gain, best gain: -inf\n",
      "[LightGBM] [Warning] No further splits with positive gain, best gain: -inf\n",
      "[LightGBM] [Warning] No further splits with positive gain, best gain: -inf\n",
      "[LightGBM] [Warning] No further splits with positive gain, best gain: -inf\n",
      "[LightGBM] [Warning] No further splits with positive gain, best gain: -inf\n",
      "[LightGBM] [Warning] No further splits with positive gain, best gain: -inf\n",
      "[LightGBM] [Warning] No further splits with positive gain, best gain: -inf\n",
      "[LightGBM] [Warning] No further splits with positive gain, best gain: -inf\n",
      "[LightGBM] [Warning] No further splits with positive gain, best gain: -inf\n",
      "[LightGBM] [Warning] No further splits with positive gain, best gain: -inf\n",
      "[LightGBM] [Warning] No further splits with positive gain, best gain: -inf\n",
      "[LightGBM] [Warning] No further splits with positive gain, best gain: -inf\n",
      "[LightGBM] [Warning] No further splits with positive gain, best gain: -inf\n",
      "[LightGBM] [Warning] No further splits with positive gain, best gain: -inf\n",
      "[LightGBM] [Warning] No further splits with positive gain, best gain: -inf\n",
      "[LightGBM] [Warning] No further splits with positive gain, best gain: -inf\n",
      "[LightGBM] [Warning] No further splits with positive gain, best gain: -inf\n",
      "[LightGBM] [Warning] No further splits with positive gain, best gain: -inf\n",
      "[LightGBM] [Warning] No further splits with positive gain, best gain: -inf\n",
      "[LightGBM] [Warning] No further splits with positive gain, best gain: -inf\n",
      "[LightGBM] [Warning] No further splits with positive gain, best gain: -inf\n",
      "[LightGBM] [Warning] No further splits with positive gain, best gain: -inf\n",
      "[LightGBM] [Warning] No further splits with positive gain, best gain: -inf\n",
      "[LightGBM] [Warning] No further splits with positive gain, best gain: -inf\n",
      "[LightGBM] [Warning] No further splits with positive gain, best gain: -inf\n",
      "[LightGBM] [Warning] No further splits with positive gain, best gain: -inf\n",
      "[LightGBM] [Warning] No further splits with positive gain, best gain: -inf\n",
      "[LightGBM] [Warning] No further splits with positive gain, best gain: -inf\n",
      "[LightGBM] [Warning] No further splits with positive gain, best gain: -inf\n",
      "[LightGBM] [Warning] No further splits with positive gain, best gain: -inf\n",
      "[LightGBM] [Warning] No further splits with positive gain, best gain: -inf\n",
      "[LightGBM] [Warning] No further splits with positive gain, best gain: -inf\n",
      "[LightGBM] [Warning] No further splits with positive gain, best gain: -inf\n",
      "[LightGBM] [Warning] No further splits with positive gain, best gain: -inf\n",
      "[LightGBM] [Warning] No further splits with positive gain, best gain: -inf\n",
      "[LightGBM] [Warning] No further splits with positive gain, best gain: -inf\n",
      "[LightGBM] [Warning] No further splits with positive gain, best gain: -inf\n",
      "[LightGBM] [Warning] No further splits with positive gain, best gain: -inf\n",
      "[LightGBM] [Warning] No further splits with positive gain, best gain: -inf\n",
      "[LightGBM] [Warning] No further splits with positive gain, best gain: -inf\n",
      "[LightGBM] [Warning] No further splits with positive gain, best gain: -inf\n",
      "[LightGBM] [Warning] No further splits with positive gain, best gain: -inf\n",
      "[LightGBM] [Warning] No further splits with positive gain, best gain: -inf\n",
      "[LightGBM] [Warning] No further splits with positive gain, best gain: -inf\n",
      "[LightGBM] [Warning] No further splits with positive gain, best gain: -inf\n",
      "[LightGBM] [Warning] No further splits with positive gain, best gain: -inf\n",
      "[LightGBM] [Warning] No further splits with positive gain, best gain: -inf\n",
      "[LightGBM] [Warning] No further splits with positive gain, best gain: -inf\n",
      "[LightGBM] [Warning] No further splits with positive gain, best gain: -inf\n",
      "[LightGBM] [Warning] No further splits with positive gain, best gain: -inf\n",
      "[LightGBM] [Warning] No further splits with positive gain, best gain: -inf\n",
      "[LightGBM] [Warning] No further splits with positive gain, best gain: -inf\n",
      "[LightGBM] [Warning] No further splits with positive gain, best gain: -inf\n",
      "[LightGBM] [Warning] No further splits with positive gain, best gain: -inf\n",
      "[LightGBM] [Warning] No further splits with positive gain, best gain: -inf\n",
      "[LightGBM] [Warning] No further splits with positive gain, best gain: -inf\n",
      "[LightGBM] [Warning] No further splits with positive gain, best gain: -inf\n",
      "[LightGBM] [Warning] No further splits with positive gain, best gain: -inf\n",
      "[LightGBM] [Warning] No further splits with positive gain, best gain: -inf\n",
      "[LightGBM] [Warning] No further splits with positive gain, best gain: -inf\n",
      "[LightGBM] [Warning] No further splits with positive gain, best gain: -inf\n",
      "[LightGBM] [Warning] No further splits with positive gain, best gain: -inf\n",
      "[LightGBM] [Warning] No further splits with positive gain, best gain: -inf\n",
      "[LightGBM] [Warning] No further splits with positive gain, best gain: -inf\n",
      "[LightGBM] [Warning] No further splits with positive gain, best gain: -inf\n",
      "[LightGBM] [Warning] No further splits with positive gain, best gain: -inf\n",
      "[LightGBM] [Warning] No further splits with positive gain, best gain: -inf\n"
     ]
    }
   ],
   "source": [
    "lgbm = LGBMRegressor()\n",
    "lgbm_model = lgbm.fit(X_train, y_train)"
   ]
  },
  {
   "cell_type": "markdown",
   "id": "fe0cfd64",
   "metadata": {},
   "source": [
    "# LİGHTGBM TAHMİN"
   ]
  },
  {
   "cell_type": "code",
   "execution_count": 234,
   "id": "7613fff7",
   "metadata": {},
   "outputs": [],
   "source": [
    "y_pred = lgbm_model.predict(X_test, \n",
    "                            num_iteration = lgbm_model.best_iteration_)"
   ]
  },
  {
   "cell_type": "code",
   "execution_count": 235,
   "id": "c1e20b11",
   "metadata": {},
   "outputs": [
    {
     "data": {
      "text/plain": [
       "363.8712087611089"
      ]
     },
     "execution_count": 235,
     "metadata": {},
     "output_type": "execute_result"
    }
   ],
   "source": [
    "np.sqrt(mean_squared_error(y_test, y_pred))"
   ]
  },
  {
   "cell_type": "markdown",
   "id": "2ee084ff",
   "metadata": {},
   "source": [
    "# LİGHTGBM MODEL TUNİNG"
   ]
  },
  {
   "cell_type": "code",
   "execution_count": 236,
   "id": "c029d83f",
   "metadata": {},
   "outputs": [
    {
     "data": {
      "text/plain": [
       "LGBMRegressor()"
      ]
     },
     "execution_count": 236,
     "metadata": {},
     "output_type": "execute_result"
    }
   ],
   "source": [
    "lgbm_model"
   ]
  },
  {
   "cell_type": "code",
   "execution_count": 237,
   "id": "3593497a",
   "metadata": {},
   "outputs": [],
   "source": [
    "lgbm_grid = {\n",
    "    'colsample_bytree': [0.4, 0.5,0.6,0.9,1],\n",
    "    'learning_rate': [0.01, 0.1, 0.5,1],\n",
    "    'n_estimators': [20, 40, 100, 200, 500,1000],\n",
    "    'max_depth': [1,2,3,4,5,6,7,8] }\n",
    "\n",
    "lgbm = LGBMRegressor()\n",
    "lgbm_cv_model = GridSearchCV(lgbm, lgbm_grid, cv=10, n_jobs = -1, verbose = 2)"
   ]
  },
  {
   "cell_type": "code",
   "execution_count": 239,
   "id": "18aa44ff",
   "metadata": {},
   "outputs": [
    {
     "name": "stdout",
     "output_type": "stream",
     "text": [
      "Fitting 10 folds for each of 960 candidates, totalling 9600 fits\n",
      "[LightGBM] [Warning] Accuracy may be bad since you didn't explicitly set num_leaves OR 2^max_depth > num_leaves. (num_leaves=31).\n",
      "[LightGBM] [Warning] Accuracy may be bad since you didn't explicitly set num_leaves OR 2^max_depth > num_leaves. (num_leaves=31).\n",
      "[LightGBM] [Info] Auto-choosing col-wise multi-threading, the overhead of testing was 0.000220 seconds.\n",
      "You can set `force_col_wise=true` to remove the overhead.\n",
      "[LightGBM] [Info] Total Bins 831\n",
      "[LightGBM] [Info] Number of data points in the train set: 197, number of used features: 19\n",
      "[LightGBM] [Info] Start training from score 543.483442\n",
      "[LightGBM] [Warning] No further splits with positive gain, best gain: -inf\n",
      "[LightGBM] [Warning] No further splits with positive gain, best gain: -inf\n",
      "[LightGBM] [Warning] No further splits with positive gain, best gain: -inf\n",
      "[LightGBM] [Warning] No further splits with positive gain, best gain: -inf\n",
      "[LightGBM] [Warning] No further splits with positive gain, best gain: -inf\n",
      "[LightGBM] [Warning] No further splits with positive gain, best gain: -inf\n",
      "[LightGBM] [Warning] No further splits with positive gain, best gain: -inf\n",
      "[LightGBM] [Warning] No further splits with positive gain, best gain: -inf\n",
      "[LightGBM] [Warning] No further splits with positive gain, best gain: -inf\n",
      "[LightGBM] [Warning] No further splits with positive gain, best gain: -inf\n",
      "[LightGBM] [Warning] No further splits with positive gain, best gain: -inf\n",
      "[LightGBM] [Warning] No further splits with positive gain, best gain: -inf\n",
      "[LightGBM] [Warning] No further splits with positive gain, best gain: -inf\n",
      "[LightGBM] [Warning] No further splits with positive gain, best gain: -inf\n",
      "[LightGBM] [Warning] No further splits with positive gain, best gain: -inf\n",
      "[LightGBM] [Warning] No further splits with positive gain, best gain: -inf\n",
      "[LightGBM] [Warning] No further splits with positive gain, best gain: -inf\n",
      "[LightGBM] [Warning] No further splits with positive gain, best gain: -inf\n",
      "[LightGBM] [Warning] No further splits with positive gain, best gain: -inf\n",
      "[LightGBM] [Warning] No further splits with positive gain, best gain: -inf\n"
     ]
    },
    {
     "data": {
      "text/plain": [
       "GridSearchCV(cv=10, estimator=LGBMRegressor(), n_jobs=-1,\n",
       "             param_grid={'colsample_bytree': [0.4, 0.5, 0.6, 0.9, 1],\n",
       "                         'learning_rate': [0.01, 0.1, 0.5, 1],\n",
       "                         'max_depth': [1, 2, 3, 4, 5, 6, 7, 8],\n",
       "                         'n_estimators': [20, 40, 100, 200, 500, 1000]},\n",
       "             verbose=2)"
      ]
     },
     "execution_count": 239,
     "metadata": {},
     "output_type": "execute_result"
    }
   ],
   "source": [
    "lgbm_cv_model.fit(X_train, y_train)"
   ]
  },
  {
   "cell_type": "code",
   "execution_count": 240,
   "id": "bc2a35fd",
   "metadata": {},
   "outputs": [
    {
     "data": {
      "text/plain": [
       "{'colsample_bytree': 0.5,\n",
       " 'learning_rate': 0.1,\n",
       " 'max_depth': 6,\n",
       " 'n_estimators': 20}"
      ]
     },
     "execution_count": 240,
     "metadata": {},
     "output_type": "execute_result"
    }
   ],
   "source": [
    "lgbm_cv_model.best_params_"
   ]
  },
  {
   "cell_type": "code",
   "execution_count": 244,
   "id": "33c5eb52",
   "metadata": {},
   "outputs": [
    {
     "name": "stdout",
     "output_type": "stream",
     "text": [
      "[LightGBM] [Warning] Accuracy may be bad since you didn't explicitly set num_leaves OR 2^max_depth > num_leaves. (num_leaves=31).\n",
      "[LightGBM] [Warning] Accuracy may be bad since you didn't explicitly set num_leaves OR 2^max_depth > num_leaves. (num_leaves=31).\n",
      "[LightGBM] [Info] Auto-choosing col-wise multi-threading, the overhead of testing was 0.000085 seconds.\n",
      "You can set `force_col_wise=true` to remove the overhead.\n",
      "[LightGBM] [Info] Total Bins 831\n",
      "[LightGBM] [Info] Number of data points in the train set: 197, number of used features: 19\n",
      "[LightGBM] [Info] Start training from score 543.483442\n",
      "[LightGBM] [Warning] No further splits with positive gain, best gain: -inf\n",
      "[LightGBM] [Warning] No further splits with positive gain, best gain: -inf\n",
      "[LightGBM] [Warning] No further splits with positive gain, best gain: -inf\n",
      "[LightGBM] [Warning] No further splits with positive gain, best gain: -inf\n",
      "[LightGBM] [Warning] No further splits with positive gain, best gain: -inf\n",
      "[LightGBM] [Warning] No further splits with positive gain, best gain: -inf\n",
      "[LightGBM] [Warning] No further splits with positive gain, best gain: -inf\n",
      "[LightGBM] [Warning] No further splits with positive gain, best gain: -inf\n",
      "[LightGBM] [Warning] No further splits with positive gain, best gain: -inf\n",
      "[LightGBM] [Warning] No further splits with positive gain, best gain: -inf\n",
      "[LightGBM] [Warning] No further splits with positive gain, best gain: -inf\n",
      "[LightGBM] [Warning] No further splits with positive gain, best gain: -inf\n",
      "[LightGBM] [Warning] No further splits with positive gain, best gain: -inf\n",
      "[LightGBM] [Warning] No further splits with positive gain, best gain: -inf\n",
      "[LightGBM] [Warning] No further splits with positive gain, best gain: -inf\n",
      "[LightGBM] [Warning] No further splits with positive gain, best gain: -inf\n",
      "[LightGBM] [Warning] No further splits with positive gain, best gain: -inf\n",
      "[LightGBM] [Warning] No further splits with positive gain, best gain: -inf\n",
      "[LightGBM] [Warning] No further splits with positive gain, best gain: -inf\n",
      "[LightGBM] [Warning] No further splits with positive gain, best gain: -inf\n"
     ]
    }
   ],
   "source": [
    "lgbm_tuned = LGBMRegressor(learning_rate = 0.1, \n",
    "                           max_depth = 6, \n",
    "                           n_estimators = 20,\n",
    "                          colsample_bytree = 0.5)\n",
    "\n",
    "lgbm_tuned = lgbm_tuned.fit(X_train,y_train)"
   ]
  },
  {
   "cell_type": "code",
   "execution_count": 245,
   "id": "a13080cb",
   "metadata": {},
   "outputs": [
    {
     "name": "stdout",
     "output_type": "stream",
     "text": [
      "[LightGBM] [Warning] Accuracy may be bad since you didn't explicitly set num_leaves OR 2^max_depth > num_leaves. (num_leaves=31).\n"
     ]
    }
   ],
   "source": [
    "y_pred = lgbm_tuned.predict(X_test)"
   ]
  },
  {
   "cell_type": "code",
   "execution_count": 246,
   "id": "a3c8b631",
   "metadata": {},
   "outputs": [
    {
     "data": {
      "text/plain": [
       "375.6085209015434"
      ]
     },
     "execution_count": 246,
     "metadata": {},
     "output_type": "execute_result"
    }
   ],
   "source": [
    "np.sqrt(mean_squared_error(y_test, y_pred))"
   ]
  },
  {
   "cell_type": "code",
   "execution_count": null,
   "id": "5a182499",
   "metadata": {},
   "outputs": [],
   "source": []
  },
  {
   "cell_type": "code",
   "execution_count": null,
   "id": "6e2c9f61",
   "metadata": {},
   "outputs": [],
   "source": []
  },
  {
   "cell_type": "code",
   "execution_count": null,
   "id": "7003b71e",
   "metadata": {},
   "outputs": [],
   "source": []
  },
  {
   "cell_type": "markdown",
   "id": "0b630b45",
   "metadata": {},
   "source": [
    "# CATBOOST"
   ]
  },
  {
   "cell_type": "code",
   "execution_count": 247,
   "id": "7f4a8b6c",
   "metadata": {},
   "outputs": [],
   "source": [
    "hit = pd.read_csv(\"Hitters.csv\")\n",
    "df = hit.copy()\n",
    "df = df.dropna()\n",
    "dms = pd.get_dummies(df[['League', 'Division', 'NewLeague']])\n",
    "y = df[\"Salary\"]\n",
    "X_ = df.drop(['Salary', 'League', 'Division', 'NewLeague'], axis=1).astype('float64')\n",
    "X = pd.concat([X_, dms[['League_N', 'Division_W', 'NewLeague_N']]], axis=1)\n",
    "X_train, X_test, y_train, y_test = train_test_split(X, y, \n",
    "                                                    test_size=0.25, \n",
    "                                                    random_state=42)\n"
   ]
  },
  {
   "cell_type": "code",
   "execution_count": 248,
   "id": "e5659869",
   "metadata": {},
   "outputs": [
    {
     "name": "stdout",
     "output_type": "stream",
     "text": [
      "Collecting catboost\n",
      "  Downloading catboost-1.2.3-cp39-cp39-win_amd64.whl (101.1 MB)\n",
      "Collecting graphviz\n",
      "  Downloading graphviz-0.20.1-py3-none-any.whl (47 kB)\n",
      "Requirement already satisfied: matplotlib in c:\\users\\fatih emre\\anaconda3\\lib\\site-packages (from catboost) (3.5.1)\n",
      "Requirement already satisfied: numpy>=1.16.0 in c:\\users\\fatih emre\\anaconda3\\lib\\site-packages (from catboost) (1.22.4)\n",
      "Requirement already satisfied: scipy in c:\\users\\fatih emre\\anaconda3\\lib\\site-packages (from catboost) (1.7.3)\n",
      "Requirement already satisfied: six in c:\\users\\fatih emre\\anaconda3\\lib\\site-packages (from catboost) (1.16.0)\n",
      "Requirement already satisfied: plotly in c:\\users\\fatih emre\\anaconda3\\lib\\site-packages (from catboost) (5.6.0)\n",
      "Requirement already satisfied: pandas>=0.24 in c:\\users\\fatih emre\\anaconda3\\lib\\site-packages (from catboost) (1.4.2)\n",
      "Requirement already satisfied: python-dateutil>=2.8.1 in c:\\users\\fatih emre\\anaconda3\\lib\\site-packages (from pandas>=0.24->catboost) (2.8.2)\n",
      "Requirement already satisfied: pytz>=2020.1 in c:\\users\\fatih emre\\anaconda3\\lib\\site-packages (from pandas>=0.24->catboost) (2021.3)\n",
      "Requirement already satisfied: packaging>=20.0 in c:\\users\\fatih emre\\anaconda3\\lib\\site-packages (from matplotlib->catboost) (21.3)\n",
      "Requirement already satisfied: cycler>=0.10 in c:\\users\\fatih emre\\anaconda3\\lib\\site-packages (from matplotlib->catboost) (0.11.0)\n",
      "Requirement already satisfied: pillow>=6.2.0 in c:\\users\\fatih emre\\anaconda3\\lib\\site-packages (from matplotlib->catboost) (9.0.1)\n",
      "Requirement already satisfied: kiwisolver>=1.0.1 in c:\\users\\fatih emre\\anaconda3\\lib\\site-packages (from matplotlib->catboost) (1.3.2)\n",
      "Requirement already satisfied: pyparsing>=2.2.1 in c:\\users\\fatih emre\\anaconda3\\lib\\site-packages (from matplotlib->catboost) (3.0.4)\n",
      "Requirement already satisfied: fonttools>=4.22.0 in c:\\users\\fatih emre\\anaconda3\\lib\\site-packages (from matplotlib->catboost) (4.25.0)\n",
      "Requirement already satisfied: tenacity>=6.2.0 in c:\\users\\fatih emre\\anaconda3\\lib\\site-packages (from plotly->catboost) (8.0.1)\n",
      "Installing collected packages: graphviz, catboost\n",
      "Successfully installed catboost-1.2.3 graphviz-0.20.1\n"
     ]
    }
   ],
   "source": [
    "!pip install catboost"
   ]
  },
  {
   "cell_type": "code",
   "execution_count": 250,
   "id": "b12bfc21",
   "metadata": {},
   "outputs": [],
   "source": [
    "from catboost import CatBoostRegressor"
   ]
  },
  {
   "cell_type": "code",
   "execution_count": 251,
   "id": "76231c89",
   "metadata": {},
   "outputs": [
    {
     "name": "stdout",
     "output_type": "stream",
     "text": [
      "Learning rate set to 0.031674\n",
      "0:\tlearn: 437.6430699\ttotal: 137ms\tremaining: 2m 16s\n",
      "1:\tlearn: 431.3923642\ttotal: 139ms\tremaining: 1m 9s\n",
      "2:\tlearn: 424.8820360\ttotal: 141ms\tremaining: 46.9s\n",
      "3:\tlearn: 418.2514904\ttotal: 143ms\tremaining: 35.5s\n",
      "4:\tlearn: 412.6394021\ttotal: 144ms\tremaining: 28.7s\n",
      "5:\tlearn: 406.6247020\ttotal: 146ms\tremaining: 24.2s\n",
      "6:\tlearn: 400.5321206\ttotal: 149ms\tremaining: 21.1s\n",
      "7:\tlearn: 394.6683437\ttotal: 151ms\tremaining: 18.7s\n",
      "8:\tlearn: 388.2496484\ttotal: 152ms\tremaining: 16.8s\n",
      "9:\tlearn: 382.9448842\ttotal: 154ms\tremaining: 15.2s\n",
      "10:\tlearn: 377.2600080\ttotal: 156ms\tremaining: 14s\n",
      "11:\tlearn: 372.4829606\ttotal: 158ms\tremaining: 13s\n",
      "12:\tlearn: 366.6823437\ttotal: 160ms\tremaining: 12.1s\n",
      "13:\tlearn: 362.6076230\ttotal: 162ms\tremaining: 11.4s\n",
      "14:\tlearn: 358.0107745\ttotal: 163ms\tremaining: 10.7s\n",
      "15:\tlearn: 353.2802665\ttotal: 165ms\tremaining: 10.2s\n",
      "16:\tlearn: 348.5646265\ttotal: 167ms\tremaining: 9.67s\n",
      "17:\tlearn: 343.6407912\ttotal: 169ms\tremaining: 9.21s\n",
      "18:\tlearn: 339.2363847\ttotal: 171ms\tremaining: 8.81s\n",
      "19:\tlearn: 334.3431252\ttotal: 172ms\tremaining: 8.44s\n",
      "20:\tlearn: 330.3247028\ttotal: 174ms\tremaining: 8.12s\n",
      "21:\tlearn: 326.6118334\ttotal: 177ms\tremaining: 7.88s\n",
      "22:\tlearn: 322.7759981\ttotal: 180ms\tremaining: 7.63s\n",
      "23:\tlearn: 318.9511822\ttotal: 182ms\tremaining: 7.4s\n",
      "24:\tlearn: 315.4216253\ttotal: 185ms\tremaining: 7.2s\n",
      "25:\tlearn: 311.3551377\ttotal: 190ms\tremaining: 7.12s\n",
      "26:\tlearn: 308.1492371\ttotal: 195ms\tremaining: 7.02s\n",
      "27:\tlearn: 304.7284729\ttotal: 197ms\tremaining: 6.83s\n",
      "28:\tlearn: 301.3893204\ttotal: 199ms\tremaining: 6.65s\n",
      "29:\tlearn: 298.2080758\ttotal: 200ms\tremaining: 6.48s\n",
      "30:\tlearn: 295.6878398\ttotal: 203ms\tremaining: 6.33s\n",
      "31:\tlearn: 292.3912243\ttotal: 205ms\tremaining: 6.19s\n",
      "32:\tlearn: 289.6345744\ttotal: 207ms\tremaining: 6.05s\n",
      "33:\tlearn: 287.2158711\ttotal: 209ms\tremaining: 5.93s\n",
      "34:\tlearn: 284.3879081\ttotal: 211ms\tremaining: 5.81s\n",
      "35:\tlearn: 281.7994818\ttotal: 212ms\tremaining: 5.69s\n",
      "36:\tlearn: 279.2028261\ttotal: 214ms\tremaining: 5.58s\n",
      "37:\tlearn: 276.5821160\ttotal: 216ms\tremaining: 5.47s\n",
      "38:\tlearn: 273.8890894\ttotal: 218ms\tremaining: 5.36s\n",
      "39:\tlearn: 271.1681677\ttotal: 220ms\tremaining: 5.27s\n",
      "40:\tlearn: 269.0159531\ttotal: 222ms\tremaining: 5.19s\n",
      "41:\tlearn: 266.3601804\ttotal: 224ms\tremaining: 5.1s\n",
      "42:\tlearn: 263.8608958\ttotal: 226ms\tremaining: 5.02s\n",
      "43:\tlearn: 261.1405566\ttotal: 227ms\tremaining: 4.94s\n",
      "44:\tlearn: 258.9314736\ttotal: 229ms\tremaining: 4.87s\n",
      "45:\tlearn: 256.3885577\ttotal: 231ms\tremaining: 4.79s\n",
      "46:\tlearn: 254.2857349\ttotal: 233ms\tremaining: 4.72s\n",
      "47:\tlearn: 252.2347121\ttotal: 234ms\tremaining: 4.65s\n",
      "48:\tlearn: 250.1779367\ttotal: 236ms\tremaining: 4.58s\n",
      "49:\tlearn: 248.2687430\ttotal: 238ms\tremaining: 4.53s\n",
      "50:\tlearn: 246.3685582\ttotal: 240ms\tremaining: 4.47s\n",
      "51:\tlearn: 244.8719988\ttotal: 242ms\tremaining: 4.41s\n",
      "52:\tlearn: 242.7348892\ttotal: 243ms\tremaining: 4.35s\n",
      "53:\tlearn: 241.1611112\ttotal: 245ms\tremaining: 4.29s\n",
      "54:\tlearn: 239.4819462\ttotal: 247ms\tremaining: 4.25s\n",
      "55:\tlearn: 237.3877895\ttotal: 249ms\tremaining: 4.2s\n",
      "56:\tlearn: 235.7619262\ttotal: 251ms\tremaining: 4.15s\n",
      "57:\tlearn: 233.9604804\ttotal: 253ms\tremaining: 4.1s\n",
      "58:\tlearn: 232.4948011\ttotal: 254ms\tremaining: 4.05s\n",
      "59:\tlearn: 230.6283304\ttotal: 256ms\tremaining: 4.02s\n",
      "60:\tlearn: 228.9920307\ttotal: 258ms\tremaining: 3.97s\n",
      "61:\tlearn: 227.5197637\ttotal: 260ms\tremaining: 3.93s\n",
      "62:\tlearn: 226.0561213\ttotal: 262ms\tremaining: 3.89s\n",
      "63:\tlearn: 224.3484762\ttotal: 263ms\tremaining: 3.85s\n",
      "64:\tlearn: 223.0652023\ttotal: 266ms\tremaining: 3.82s\n",
      "65:\tlearn: 221.6608069\ttotal: 267ms\tremaining: 3.78s\n",
      "66:\tlearn: 220.2445284\ttotal: 269ms\tremaining: 3.75s\n",
      "67:\tlearn: 219.0044262\ttotal: 271ms\tremaining: 3.71s\n",
      "68:\tlearn: 217.4624313\ttotal: 273ms\tremaining: 3.68s\n",
      "69:\tlearn: 216.0502248\ttotal: 275ms\tremaining: 3.65s\n",
      "70:\tlearn: 214.5361705\ttotal: 277ms\tremaining: 3.62s\n",
      "71:\tlearn: 213.1812509\ttotal: 278ms\tremaining: 3.59s\n",
      "72:\tlearn: 211.7399390\ttotal: 280ms\tremaining: 3.56s\n",
      "73:\tlearn: 210.5557639\ttotal: 282ms\tremaining: 3.53s\n",
      "74:\tlearn: 209.4242283\ttotal: 285ms\tremaining: 3.51s\n",
      "75:\tlearn: 208.4366109\ttotal: 287ms\tremaining: 3.48s\n",
      "76:\tlearn: 207.4514860\ttotal: 288ms\tremaining: 3.46s\n",
      "77:\tlearn: 206.1912213\ttotal: 290ms\tremaining: 3.43s\n",
      "78:\tlearn: 205.2585316\ttotal: 292ms\tremaining: 3.4s\n",
      "79:\tlearn: 203.8747879\ttotal: 294ms\tremaining: 3.38s\n",
      "80:\tlearn: 202.5993031\ttotal: 295ms\tremaining: 3.35s\n",
      "81:\tlearn: 201.4719061\ttotal: 297ms\tremaining: 3.33s\n",
      "82:\tlearn: 200.2871874\ttotal: 299ms\tremaining: 3.3s\n",
      "83:\tlearn: 199.1074683\ttotal: 300ms\tremaining: 3.28s\n",
      "84:\tlearn: 197.8511342\ttotal: 303ms\tremaining: 3.26s\n",
      "85:\tlearn: 196.8788042\ttotal: 304ms\tremaining: 3.23s\n",
      "86:\tlearn: 195.9815130\ttotal: 306ms\tremaining: 3.21s\n",
      "87:\tlearn: 195.0807956\ttotal: 308ms\tremaining: 3.19s\n",
      "88:\tlearn: 193.9775466\ttotal: 309ms\tremaining: 3.17s\n",
      "89:\tlearn: 192.8810426\ttotal: 312ms\tremaining: 3.15s\n",
      "90:\tlearn: 192.5363626\ttotal: 313ms\tremaining: 3.13s\n",
      "91:\tlearn: 191.3259849\ttotal: 315ms\tremaining: 3.11s\n",
      "92:\tlearn: 190.3650025\ttotal: 317ms\tremaining: 3.09s\n",
      "93:\tlearn: 189.3255643\ttotal: 319ms\tremaining: 3.07s\n",
      "94:\tlearn: 188.2433480\ttotal: 321ms\tremaining: 3.05s\n",
      "95:\tlearn: 187.2786096\ttotal: 323ms\tremaining: 3.04s\n",
      "96:\tlearn: 186.1284681\ttotal: 324ms\tremaining: 3.02s\n",
      "97:\tlearn: 185.0190872\ttotal: 326ms\tremaining: 3s\n",
      "98:\tlearn: 184.2888024\ttotal: 328ms\tremaining: 2.98s\n",
      "99:\tlearn: 183.3111217\ttotal: 330ms\tremaining: 2.97s\n",
      "100:\tlearn: 182.2519940\ttotal: 332ms\tremaining: 2.95s\n",
      "101:\tlearn: 181.0186200\ttotal: 334ms\tremaining: 2.94s\n",
      "102:\tlearn: 179.9672344\ttotal: 335ms\tremaining: 2.92s\n",
      "103:\tlearn: 178.9776753\ttotal: 337ms\tremaining: 2.9s\n",
      "104:\tlearn: 178.2445101\ttotal: 340ms\tremaining: 2.9s\n",
      "105:\tlearn: 177.4055906\ttotal: 342ms\tremaining: 2.88s\n",
      "106:\tlearn: 176.2405445\ttotal: 344ms\tremaining: 2.87s\n",
      "107:\tlearn: 175.1813091\ttotal: 347ms\tremaining: 2.86s\n",
      "108:\tlearn: 174.5537682\ttotal: 351ms\tremaining: 2.87s\n",
      "109:\tlearn: 173.8231890\ttotal: 354ms\tremaining: 2.86s\n",
      "110:\tlearn: 172.9324461\ttotal: 358ms\tremaining: 2.87s\n",
      "111:\tlearn: 172.0019421\ttotal: 362ms\tremaining: 2.87s\n",
      "112:\tlearn: 171.2945678\ttotal: 365ms\tremaining: 2.86s\n",
      "113:\tlearn: 170.4815313\ttotal: 369ms\tremaining: 2.87s\n",
      "114:\tlearn: 169.9491294\ttotal: 372ms\tremaining: 2.86s\n",
      "115:\tlearn: 169.2483859\ttotal: 379ms\tremaining: 2.89s\n",
      "116:\tlearn: 168.7342383\ttotal: 386ms\tremaining: 2.92s\n",
      "117:\tlearn: 168.1837140\ttotal: 389ms\tremaining: 2.91s\n",
      "118:\tlearn: 167.1222358\ttotal: 394ms\tremaining: 2.92s\n",
      "119:\tlearn: 166.3472734\ttotal: 397ms\tremaining: 2.91s\n",
      "120:\tlearn: 165.5330342\ttotal: 399ms\tremaining: 2.9s\n",
      "121:\tlearn: 164.8476246\ttotal: 401ms\tremaining: 2.89s\n",
      "122:\tlearn: 164.2399797\ttotal: 403ms\tremaining: 2.87s\n",
      "123:\tlearn: 164.0121571\ttotal: 405ms\tremaining: 2.86s\n",
      "124:\tlearn: 162.9794212\ttotal: 408ms\tremaining: 2.85s\n",
      "125:\tlearn: 162.2095741\ttotal: 409ms\tremaining: 2.84s\n",
      "126:\tlearn: 161.1695920\ttotal: 411ms\tremaining: 2.83s\n",
      "127:\tlearn: 160.3516612\ttotal: 413ms\tremaining: 2.82s\n",
      "128:\tlearn: 159.1596356\ttotal: 416ms\tremaining: 2.81s\n",
      "129:\tlearn: 158.5354394\ttotal: 418ms\tremaining: 2.79s\n",
      "130:\tlearn: 157.5922383\ttotal: 419ms\tremaining: 2.78s\n",
      "131:\tlearn: 156.9689796\ttotal: 422ms\tremaining: 2.78s\n",
      "132:\tlearn: 156.4170623\ttotal: 424ms\tremaining: 2.77s\n",
      "133:\tlearn: 156.1222595\ttotal: 426ms\tremaining: 2.75s\n",
      "134:\tlearn: 155.5996569\ttotal: 428ms\tremaining: 2.74s\n",
      "135:\tlearn: 154.8990155\ttotal: 430ms\tremaining: 2.73s\n",
      "136:\tlearn: 154.3704896\ttotal: 431ms\tremaining: 2.72s\n",
      "137:\tlearn: 153.8560012\ttotal: 433ms\tremaining: 2.7s\n",
      "138:\tlearn: 153.2399938\ttotal: 435ms\tremaining: 2.69s\n",
      "139:\tlearn: 152.2142414\ttotal: 436ms\tremaining: 2.68s\n",
      "140:\tlearn: 151.5976950\ttotal: 439ms\tremaining: 2.67s\n",
      "141:\tlearn: 151.4426506\ttotal: 441ms\tremaining: 2.67s\n",
      "142:\tlearn: 150.8467135\ttotal: 443ms\tremaining: 2.65s\n",
      "143:\tlearn: 150.0175883\ttotal: 445ms\tremaining: 2.64s\n",
      "144:\tlearn: 149.6327647\ttotal: 446ms\tremaining: 2.63s\n",
      "145:\tlearn: 148.9265718\ttotal: 448ms\tremaining: 2.62s\n",
      "146:\tlearn: 148.4460764\ttotal: 450ms\tremaining: 2.61s\n",
      "147:\tlearn: 147.8108318\ttotal: 452ms\tremaining: 2.6s\n",
      "148:\tlearn: 147.2766525\ttotal: 454ms\tremaining: 2.59s\n",
      "149:\tlearn: 146.8537279\ttotal: 455ms\tremaining: 2.58s\n",
      "150:\tlearn: 146.0227438\ttotal: 457ms\tremaining: 2.57s\n",
      "151:\tlearn: 145.5603059\ttotal: 459ms\tremaining: 2.56s\n",
      "152:\tlearn: 145.0318400\ttotal: 461ms\tremaining: 2.55s\n",
      "153:\tlearn: 144.6082188\ttotal: 463ms\tremaining: 2.54s\n",
      "154:\tlearn: 144.2070501\ttotal: 464ms\tremaining: 2.53s\n",
      "155:\tlearn: 143.8060676\ttotal: 466ms\tremaining: 2.52s\n",
      "156:\tlearn: 143.3819707\ttotal: 468ms\tremaining: 2.51s\n",
      "157:\tlearn: 143.0764402\ttotal: 470ms\tremaining: 2.5s\n",
      "158:\tlearn: 142.4609449\ttotal: 472ms\tremaining: 2.49s\n",
      "159:\tlearn: 142.3321970\ttotal: 473ms\tremaining: 2.48s\n",
      "160:\tlearn: 141.9044208\ttotal: 475ms\tremaining: 2.48s\n",
      "161:\tlearn: 141.4544471\ttotal: 477ms\tremaining: 2.47s\n",
      "162:\tlearn: 140.9391569\ttotal: 479ms\tremaining: 2.46s\n",
      "163:\tlearn: 140.3413557\ttotal: 481ms\tremaining: 2.45s\n",
      "164:\tlearn: 139.7992277\ttotal: 483ms\tremaining: 2.44s\n",
      "165:\tlearn: 139.3139418\ttotal: 484ms\tremaining: 2.43s\n",
      "166:\tlearn: 139.1617594\ttotal: 486ms\tremaining: 2.42s\n",
      "167:\tlearn: 138.8837397\ttotal: 488ms\tremaining: 2.42s\n",
      "168:\tlearn: 138.6951410\ttotal: 489ms\tremaining: 2.41s\n",
      "169:\tlearn: 138.0167618\ttotal: 491ms\tremaining: 2.4s\n",
      "170:\tlearn: 137.7020324\ttotal: 493ms\tremaining: 2.39s\n",
      "171:\tlearn: 137.1976478\ttotal: 494ms\tremaining: 2.38s\n",
      "172:\tlearn: 136.6670434\ttotal: 497ms\tremaining: 2.37s\n",
      "173:\tlearn: 136.4670074\ttotal: 498ms\tremaining: 2.37s\n",
      "174:\tlearn: 136.0663779\ttotal: 500ms\tremaining: 2.36s\n",
      "175:\tlearn: 135.9542221\ttotal: 502ms\tremaining: 2.35s\n",
      "176:\tlearn: 135.6178437\ttotal: 504ms\tremaining: 2.34s\n",
      "177:\tlearn: 134.6062854\ttotal: 506ms\tremaining: 2.33s\n",
      "178:\tlearn: 134.5063344\ttotal: 507ms\tremaining: 2.32s\n",
      "179:\tlearn: 133.9371247\ttotal: 508ms\tremaining: 2.31s\n",
      "180:\tlearn: 133.8431589\ttotal: 509ms\tremaining: 2.3s\n",
      "181:\tlearn: 133.4293648\ttotal: 510ms\tremaining: 2.29s\n",
      "182:\tlearn: 133.2065999\ttotal: 512ms\tremaining: 2.29s\n",
      "183:\tlearn: 132.9235113\ttotal: 514ms\tremaining: 2.28s\n",
      "184:\tlearn: 132.6695944\ttotal: 516ms\tremaining: 2.27s\n",
      "185:\tlearn: 132.3135234\ttotal: 518ms\tremaining: 2.27s\n",
      "186:\tlearn: 132.2233433\ttotal: 519ms\tremaining: 2.25s\n"
     ]
    },
    {
     "name": "stdout",
     "output_type": "stream",
     "text": [
      "187:\tlearn: 132.0628764\ttotal: 521ms\tremaining: 2.25s\n",
      "188:\tlearn: 131.8624217\ttotal: 524ms\tremaining: 2.25s\n",
      "189:\tlearn: 131.3846390\ttotal: 526ms\tremaining: 2.24s\n",
      "190:\tlearn: 131.0638781\ttotal: 529ms\tremaining: 2.24s\n",
      "191:\tlearn: 130.4721276\ttotal: 531ms\tremaining: 2.23s\n",
      "192:\tlearn: 129.9910319\ttotal: 534ms\tremaining: 2.23s\n",
      "193:\tlearn: 129.7074214\ttotal: 537ms\tremaining: 2.23s\n",
      "194:\tlearn: 129.0491404\ttotal: 540ms\tremaining: 2.23s\n",
      "195:\tlearn: 128.6928621\ttotal: 542ms\tremaining: 2.22s\n",
      "196:\tlearn: 128.5117514\ttotal: 544ms\tremaining: 2.22s\n",
      "197:\tlearn: 128.4035709\ttotal: 546ms\tremaining: 2.21s\n",
      "198:\tlearn: 127.9924182\ttotal: 548ms\tremaining: 2.21s\n",
      "199:\tlearn: 127.7690317\ttotal: 550ms\tremaining: 2.2s\n",
      "200:\tlearn: 127.6252249\ttotal: 553ms\tremaining: 2.2s\n",
      "201:\tlearn: 127.4951417\ttotal: 554ms\tremaining: 2.19s\n",
      "202:\tlearn: 127.0315349\ttotal: 556ms\tremaining: 2.18s\n",
      "203:\tlearn: 126.7791475\ttotal: 558ms\tremaining: 2.17s\n",
      "204:\tlearn: 126.4903107\ttotal: 559ms\tremaining: 2.17s\n",
      "205:\tlearn: 126.0664803\ttotal: 562ms\tremaining: 2.17s\n",
      "206:\tlearn: 125.3934071\ttotal: 564ms\tremaining: 2.16s\n",
      "207:\tlearn: 125.0899622\ttotal: 566ms\tremaining: 2.15s\n",
      "208:\tlearn: 124.7757310\ttotal: 568ms\tremaining: 2.15s\n",
      "209:\tlearn: 124.5475960\ttotal: 570ms\tremaining: 2.14s\n",
      "210:\tlearn: 124.1962887\ttotal: 572ms\tremaining: 2.14s\n",
      "211:\tlearn: 123.9686937\ttotal: 574ms\tremaining: 2.13s\n",
      "212:\tlearn: 123.0280048\ttotal: 577ms\tremaining: 2.13s\n",
      "213:\tlearn: 122.5447141\ttotal: 580ms\tremaining: 2.13s\n",
      "214:\tlearn: 122.1785305\ttotal: 582ms\tremaining: 2.12s\n",
      "215:\tlearn: 121.4403560\ttotal: 584ms\tremaining: 2.12s\n",
      "216:\tlearn: 120.8269584\ttotal: 591ms\tremaining: 2.13s\n",
      "217:\tlearn: 120.2399329\ttotal: 594ms\tremaining: 2.13s\n",
      "218:\tlearn: 119.4852557\ttotal: 598ms\tremaining: 2.13s\n",
      "219:\tlearn: 119.2094151\ttotal: 600ms\tremaining: 2.13s\n",
      "220:\tlearn: 119.0417229\ttotal: 601ms\tremaining: 2.12s\n",
      "221:\tlearn: 118.9557915\ttotal: 603ms\tremaining: 2.11s\n",
      "222:\tlearn: 118.3082421\ttotal: 605ms\tremaining: 2.11s\n",
      "223:\tlearn: 117.7364211\ttotal: 607ms\tremaining: 2.1s\n",
      "224:\tlearn: 117.6324235\ttotal: 609ms\tremaining: 2.1s\n",
      "225:\tlearn: 117.2879743\ttotal: 611ms\tremaining: 2.09s\n",
      "226:\tlearn: 117.0422612\ttotal: 612ms\tremaining: 2.08s\n",
      "227:\tlearn: 116.8001379\ttotal: 614ms\tremaining: 2.08s\n",
      "228:\tlearn: 116.4854978\ttotal: 616ms\tremaining: 2.08s\n",
      "229:\tlearn: 115.7559740\ttotal: 618ms\tremaining: 2.07s\n",
      "230:\tlearn: 115.1896271\ttotal: 620ms\tremaining: 2.06s\n",
      "231:\tlearn: 114.9666291\ttotal: 622ms\tremaining: 2.06s\n",
      "232:\tlearn: 114.1239318\ttotal: 624ms\tremaining: 2.05s\n",
      "233:\tlearn: 113.9964466\ttotal: 626ms\tremaining: 2.05s\n",
      "234:\tlearn: 113.8912592\ttotal: 627ms\tremaining: 2.04s\n",
      "235:\tlearn: 113.4606970\ttotal: 629ms\tremaining: 2.04s\n",
      "236:\tlearn: 113.0958922\ttotal: 631ms\tremaining: 2.03s\n",
      "237:\tlearn: 113.0091361\ttotal: 632ms\tremaining: 2.02s\n",
      "238:\tlearn: 112.7657197\ttotal: 634ms\tremaining: 2.02s\n",
      "239:\tlearn: 112.2315070\ttotal: 636ms\tremaining: 2.01s\n",
      "240:\tlearn: 111.9507125\ttotal: 638ms\tremaining: 2.01s\n",
      "241:\tlearn: 111.7384492\ttotal: 640ms\tremaining: 2s\n",
      "242:\tlearn: 111.0693763\ttotal: 641ms\tremaining: 2s\n",
      "243:\tlearn: 110.3499926\ttotal: 643ms\tremaining: 1.99s\n",
      "244:\tlearn: 110.2316231\ttotal: 645ms\tremaining: 1.99s\n",
      "245:\tlearn: 109.6985998\ttotal: 647ms\tremaining: 1.98s\n",
      "246:\tlearn: 109.4279824\ttotal: 648ms\tremaining: 1.98s\n",
      "247:\tlearn: 109.1466762\ttotal: 650ms\tremaining: 1.97s\n",
      "248:\tlearn: 108.9628542\ttotal: 652ms\tremaining: 1.97s\n",
      "249:\tlearn: 108.7268676\ttotal: 654ms\tremaining: 1.96s\n",
      "250:\tlearn: 108.0921190\ttotal: 656ms\tremaining: 1.96s\n",
      "251:\tlearn: 107.6167844\ttotal: 657ms\tremaining: 1.95s\n",
      "252:\tlearn: 106.9716563\ttotal: 659ms\tremaining: 1.95s\n",
      "253:\tlearn: 106.4272485\ttotal: 661ms\tremaining: 1.94s\n",
      "254:\tlearn: 106.2032614\ttotal: 663ms\tremaining: 1.94s\n",
      "255:\tlearn: 105.5756794\ttotal: 665ms\tremaining: 1.93s\n",
      "256:\tlearn: 105.4918649\ttotal: 667ms\tremaining: 1.93s\n",
      "257:\tlearn: 105.2466976\ttotal: 668ms\tremaining: 1.92s\n",
      "258:\tlearn: 105.0461428\ttotal: 671ms\tremaining: 1.92s\n",
      "259:\tlearn: 104.5887628\ttotal: 672ms\tremaining: 1.91s\n",
      "260:\tlearn: 104.1305873\ttotal: 675ms\tremaining: 1.91s\n",
      "261:\tlearn: 103.5527158\ttotal: 676ms\tremaining: 1.9s\n",
      "262:\tlearn: 103.0334823\ttotal: 678ms\tremaining: 1.9s\n",
      "263:\tlearn: 102.6732388\ttotal: 680ms\tremaining: 1.9s\n",
      "264:\tlearn: 102.4678728\ttotal: 682ms\tremaining: 1.89s\n",
      "265:\tlearn: 101.9608852\ttotal: 683ms\tremaining: 1.89s\n",
      "266:\tlearn: 101.4449668\ttotal: 685ms\tremaining: 1.88s\n",
      "267:\tlearn: 100.9647899\ttotal: 687ms\tremaining: 1.88s\n",
      "268:\tlearn: 100.4376357\ttotal: 688ms\tremaining: 1.87s\n",
      "269:\tlearn: 100.1038322\ttotal: 691ms\tremaining: 1.87s\n",
      "270:\tlearn: 99.8991183\ttotal: 693ms\tremaining: 1.86s\n",
      "271:\tlearn: 99.4016031\ttotal: 696ms\tremaining: 1.86s\n",
      "272:\tlearn: 98.9231252\ttotal: 699ms\tremaining: 1.86s\n",
      "273:\tlearn: 98.5734863\ttotal: 701ms\tremaining: 1.86s\n",
      "274:\tlearn: 98.3333355\ttotal: 703ms\tremaining: 1.85s\n",
      "275:\tlearn: 97.9164082\ttotal: 707ms\tremaining: 1.85s\n",
      "276:\tlearn: 97.3911203\ttotal: 708ms\tremaining: 1.85s\n",
      "277:\tlearn: 96.9317789\ttotal: 710ms\tremaining: 1.84s\n",
      "278:\tlearn: 96.6243997\ttotal: 712ms\tremaining: 1.84s\n",
      "279:\tlearn: 96.3288821\ttotal: 714ms\tremaining: 1.83s\n",
      "280:\tlearn: 95.8579534\ttotal: 716ms\tremaining: 1.83s\n",
      "281:\tlearn: 95.4136026\ttotal: 718ms\tremaining: 1.83s\n",
      "282:\tlearn: 95.3442077\ttotal: 719ms\tremaining: 1.82s\n",
      "283:\tlearn: 95.1166584\ttotal: 721ms\tremaining: 1.82s\n",
      "284:\tlearn: 94.8017360\ttotal: 723ms\tremaining: 1.81s\n",
      "285:\tlearn: 94.5863908\ttotal: 725ms\tremaining: 1.81s\n",
      "286:\tlearn: 94.4111694\ttotal: 727ms\tremaining: 1.8s\n",
      "287:\tlearn: 94.2678024\ttotal: 729ms\tremaining: 1.8s\n",
      "288:\tlearn: 93.7753419\ttotal: 732ms\tremaining: 1.8s\n",
      "289:\tlearn: 93.3772710\ttotal: 735ms\tremaining: 1.8s\n",
      "290:\tlearn: 92.8750904\ttotal: 737ms\tremaining: 1.79s\n",
      "291:\tlearn: 92.6654794\ttotal: 739ms\tremaining: 1.79s\n",
      "292:\tlearn: 92.2659876\ttotal: 742ms\tremaining: 1.79s\n",
      "293:\tlearn: 92.0282495\ttotal: 746ms\tremaining: 1.79s\n",
      "294:\tlearn: 91.8288855\ttotal: 748ms\tremaining: 1.79s\n",
      "295:\tlearn: 91.6752612\ttotal: 750ms\tremaining: 1.78s\n",
      "296:\tlearn: 91.2561883\ttotal: 753ms\tremaining: 1.78s\n",
      "297:\tlearn: 91.0227123\ttotal: 756ms\tremaining: 1.78s\n",
      "298:\tlearn: 90.8392142\ttotal: 758ms\tremaining: 1.78s\n",
      "299:\tlearn: 90.6853014\ttotal: 760ms\tremaining: 1.77s\n",
      "300:\tlearn: 90.5986761\ttotal: 763ms\tremaining: 1.77s\n",
      "301:\tlearn: 90.2180036\ttotal: 765ms\tremaining: 1.77s\n",
      "302:\tlearn: 89.8313622\ttotal: 767ms\tremaining: 1.76s\n",
      "303:\tlearn: 89.6872837\ttotal: 768ms\tremaining: 1.76s\n",
      "304:\tlearn: 89.3853276\ttotal: 771ms\tremaining: 1.76s\n",
      "305:\tlearn: 88.9459206\ttotal: 773ms\tremaining: 1.75s\n",
      "306:\tlearn: 88.7258770\ttotal: 774ms\tremaining: 1.75s\n",
      "307:\tlearn: 88.5374358\ttotal: 776ms\tremaining: 1.74s\n",
      "308:\tlearn: 88.0624447\ttotal: 778ms\tremaining: 1.74s\n",
      "309:\tlearn: 87.7942692\ttotal: 780ms\tremaining: 1.74s\n",
      "310:\tlearn: 87.6354184\ttotal: 782ms\tremaining: 1.73s\n",
      "311:\tlearn: 87.4879486\ttotal: 783ms\tremaining: 1.73s\n",
      "312:\tlearn: 87.0294739\ttotal: 786ms\tremaining: 1.72s\n",
      "313:\tlearn: 86.6746221\ttotal: 788ms\tremaining: 1.72s\n",
      "314:\tlearn: 86.2792146\ttotal: 790ms\tremaining: 1.72s\n",
      "315:\tlearn: 86.2127070\ttotal: 792ms\tremaining: 1.71s\n",
      "316:\tlearn: 86.1507368\ttotal: 794ms\tremaining: 1.71s\n",
      "317:\tlearn: 85.7089141\ttotal: 796ms\tremaining: 1.71s\n",
      "318:\tlearn: 85.6035137\ttotal: 800ms\tremaining: 1.71s\n",
      "319:\tlearn: 85.3587988\ttotal: 802ms\tremaining: 1.7s\n",
      "320:\tlearn: 84.9660906\ttotal: 803ms\tremaining: 1.7s\n",
      "321:\tlearn: 84.5474713\ttotal: 806ms\tremaining: 1.7s\n",
      "322:\tlearn: 84.1996852\ttotal: 809ms\tremaining: 1.7s\n",
      "323:\tlearn: 84.0654282\ttotal: 811ms\tremaining: 1.69s\n",
      "324:\tlearn: 83.7937327\ttotal: 812ms\tremaining: 1.69s\n",
      "325:\tlearn: 83.5064288\ttotal: 814ms\tremaining: 1.68s\n",
      "326:\tlearn: 83.3997655\ttotal: 816ms\tremaining: 1.68s\n",
      "327:\tlearn: 83.2958622\ttotal: 818ms\tremaining: 1.68s\n",
      "328:\tlearn: 82.9877578\ttotal: 820ms\tremaining: 1.67s\n",
      "329:\tlearn: 82.6286638\ttotal: 821ms\tremaining: 1.67s\n",
      "330:\tlearn: 82.2827132\ttotal: 823ms\tremaining: 1.66s\n",
      "331:\tlearn: 82.0895251\ttotal: 825ms\tremaining: 1.66s\n",
      "332:\tlearn: 82.0130649\ttotal: 827ms\tremaining: 1.66s\n",
      "333:\tlearn: 81.6771734\ttotal: 829ms\tremaining: 1.65s\n",
      "334:\tlearn: 81.3519124\ttotal: 830ms\tremaining: 1.65s\n",
      "335:\tlearn: 81.0170326\ttotal: 832ms\tremaining: 1.64s\n",
      "336:\tlearn: 80.6917886\ttotal: 833ms\tremaining: 1.64s\n",
      "337:\tlearn: 80.3455177\ttotal: 836ms\tremaining: 1.64s\n",
      "338:\tlearn: 80.0260727\ttotal: 837ms\tremaining: 1.63s\n",
      "339:\tlearn: 79.9154748\ttotal: 839ms\tremaining: 1.63s\n",
      "340:\tlearn: 79.7813079\ttotal: 841ms\tremaining: 1.62s\n",
      "341:\tlearn: 79.3513293\ttotal: 842ms\tremaining: 1.62s\n",
      "342:\tlearn: 78.8666019\ttotal: 844ms\tremaining: 1.62s\n",
      "343:\tlearn: 78.7959013\ttotal: 846ms\tremaining: 1.61s\n",
      "344:\tlearn: 78.7081334\ttotal: 848ms\tremaining: 1.61s\n",
      "345:\tlearn: 78.3354931\ttotal: 850ms\tremaining: 1.61s\n",
      "346:\tlearn: 77.9475067\ttotal: 852ms\tremaining: 1.6s\n",
      "347:\tlearn: 77.8910420\ttotal: 854ms\tremaining: 1.6s\n",
      "348:\tlearn: 77.5461672\ttotal: 856ms\tremaining: 1.6s\n",
      "349:\tlearn: 77.3717101\ttotal: 858ms\tremaining: 1.59s\n",
      "350:\tlearn: 77.0729657\ttotal: 859ms\tremaining: 1.59s\n",
      "351:\tlearn: 76.7699287\ttotal: 861ms\tremaining: 1.58s\n",
      "352:\tlearn: 76.6029759\ttotal: 863ms\tremaining: 1.58s\n"
     ]
    },
    {
     "name": "stdout",
     "output_type": "stream",
     "text": [
      "353:\tlearn: 76.1642615\ttotal: 866ms\tremaining: 1.58s\n",
      "354:\tlearn: 76.1202523\ttotal: 868ms\tremaining: 1.58s\n",
      "355:\tlearn: 75.9487132\ttotal: 871ms\tremaining: 1.58s\n",
      "356:\tlearn: 75.6748479\ttotal: 874ms\tremaining: 1.57s\n",
      "357:\tlearn: 75.4290864\ttotal: 877ms\tremaining: 1.57s\n",
      "358:\tlearn: 75.0463849\ttotal: 883ms\tremaining: 1.58s\n",
      "359:\tlearn: 74.9902381\ttotal: 886ms\tremaining: 1.57s\n",
      "360:\tlearn: 74.5243875\ttotal: 889ms\tremaining: 1.57s\n",
      "361:\tlearn: 74.1913065\ttotal: 892ms\tremaining: 1.57s\n",
      "362:\tlearn: 73.8413359\ttotal: 895ms\tremaining: 1.57s\n",
      "363:\tlearn: 73.7602119\ttotal: 898ms\tremaining: 1.57s\n",
      "364:\tlearn: 73.3278135\ttotal: 902ms\tremaining: 1.57s\n",
      "365:\tlearn: 72.9524336\ttotal: 905ms\tremaining: 1.57s\n",
      "366:\tlearn: 72.6791856\ttotal: 908ms\tremaining: 1.56s\n",
      "367:\tlearn: 72.4333577\ttotal: 911ms\tremaining: 1.56s\n",
      "368:\tlearn: 72.1672937\ttotal: 915ms\tremaining: 1.56s\n",
      "369:\tlearn: 71.9070276\ttotal: 918ms\tremaining: 1.56s\n",
      "370:\tlearn: 71.5496196\ttotal: 921ms\tremaining: 1.56s\n",
      "371:\tlearn: 71.3161902\ttotal: 923ms\tremaining: 1.56s\n",
      "372:\tlearn: 71.1259191\ttotal: 926ms\tremaining: 1.56s\n",
      "373:\tlearn: 70.9889962\ttotal: 929ms\tremaining: 1.55s\n",
      "374:\tlearn: 70.7417966\ttotal: 931ms\tremaining: 1.55s\n",
      "375:\tlearn: 70.4931174\ttotal: 934ms\tremaining: 1.55s\n",
      "376:\tlearn: 70.3300576\ttotal: 936ms\tremaining: 1.55s\n",
      "377:\tlearn: 69.9233248\ttotal: 939ms\tremaining: 1.54s\n",
      "378:\tlearn: 69.6261005\ttotal: 942ms\tremaining: 1.54s\n",
      "379:\tlearn: 69.3989708\ttotal: 945ms\tremaining: 1.54s\n",
      "380:\tlearn: 69.0085387\ttotal: 952ms\tremaining: 1.55s\n",
      "381:\tlearn: 68.7604153\ttotal: 956ms\tremaining: 1.55s\n",
      "382:\tlearn: 68.4602767\ttotal: 961ms\tremaining: 1.55s\n",
      "383:\tlearn: 68.1005452\ttotal: 964ms\tremaining: 1.55s\n",
      "384:\tlearn: 68.0540467\ttotal: 967ms\tremaining: 1.54s\n",
      "385:\tlearn: 67.8972753\ttotal: 970ms\tremaining: 1.54s\n",
      "386:\tlearn: 67.5389629\ttotal: 975ms\tremaining: 1.54s\n",
      "387:\tlearn: 67.2390178\ttotal: 978ms\tremaining: 1.54s\n",
      "388:\tlearn: 67.0279888\ttotal: 981ms\tremaining: 1.54s\n",
      "389:\tlearn: 66.8375919\ttotal: 984ms\tremaining: 1.54s\n",
      "390:\tlearn: 66.4118315\ttotal: 987ms\tremaining: 1.54s\n",
      "391:\tlearn: 66.3642690\ttotal: 992ms\tremaining: 1.54s\n",
      "392:\tlearn: 66.1673138\ttotal: 1000ms\tremaining: 1.54s\n",
      "393:\tlearn: 66.0177482\ttotal: 1s\tremaining: 1.54s\n",
      "394:\tlearn: 65.8018038\ttotal: 1.01s\tremaining: 1.54s\n",
      "395:\tlearn: 65.6886505\ttotal: 1.01s\tremaining: 1.54s\n",
      "396:\tlearn: 65.6120185\ttotal: 1.01s\tremaining: 1.53s\n",
      "397:\tlearn: 65.5746662\ttotal: 1.01s\tremaining: 1.53s\n",
      "398:\tlearn: 65.2974851\ttotal: 1.01s\tremaining: 1.53s\n",
      "399:\tlearn: 65.2464764\ttotal: 1.02s\tremaining: 1.53s\n",
      "400:\tlearn: 65.1241314\ttotal: 1.02s\tremaining: 1.52s\n",
      "401:\tlearn: 65.0515740\ttotal: 1.02s\tremaining: 1.52s\n",
      "402:\tlearn: 64.8089636\ttotal: 1.03s\tremaining: 1.52s\n",
      "403:\tlearn: 64.5992230\ttotal: 1.03s\tremaining: 1.52s\n",
      "404:\tlearn: 64.2907010\ttotal: 1.03s\tremaining: 1.52s\n",
      "405:\tlearn: 64.1568642\ttotal: 1.05s\tremaining: 1.54s\n",
      "406:\tlearn: 63.8279106\ttotal: 1.05s\tremaining: 1.54s\n",
      "407:\tlearn: 63.5558565\ttotal: 1.06s\tremaining: 1.54s\n",
      "408:\tlearn: 63.3865445\ttotal: 1.06s\tremaining: 1.54s\n",
      "409:\tlearn: 63.2752408\ttotal: 1.07s\tremaining: 1.54s\n",
      "410:\tlearn: 63.1070190\ttotal: 1.07s\tremaining: 1.53s\n",
      "411:\tlearn: 62.7868376\ttotal: 1.08s\tremaining: 1.54s\n",
      "412:\tlearn: 62.5345803\ttotal: 1.09s\tremaining: 1.55s\n",
      "413:\tlearn: 62.2729058\ttotal: 1.09s\tremaining: 1.55s\n",
      "414:\tlearn: 61.9850985\ttotal: 1.1s\tremaining: 1.55s\n",
      "415:\tlearn: 61.7784164\ttotal: 1.11s\tremaining: 1.56s\n",
      "416:\tlearn: 61.7431976\ttotal: 1.12s\tremaining: 1.56s\n",
      "417:\tlearn: 61.4309964\ttotal: 1.12s\tremaining: 1.56s\n",
      "418:\tlearn: 61.3513660\ttotal: 1.13s\tremaining: 1.57s\n",
      "419:\tlearn: 61.1253739\ttotal: 1.13s\tremaining: 1.56s\n",
      "420:\tlearn: 61.0742571\ttotal: 1.14s\tremaining: 1.56s\n",
      "421:\tlearn: 61.0390980\ttotal: 1.14s\tremaining: 1.56s\n",
      "422:\tlearn: 61.0095757\ttotal: 1.15s\tremaining: 1.56s\n",
      "423:\tlearn: 60.6843255\ttotal: 1.15s\tremaining: 1.56s\n",
      "424:\tlearn: 60.4045551\ttotal: 1.15s\tremaining: 1.56s\n",
      "425:\tlearn: 60.3649587\ttotal: 1.16s\tremaining: 1.56s\n",
      "426:\tlearn: 60.3315828\ttotal: 1.16s\tremaining: 1.56s\n",
      "427:\tlearn: 60.1047027\ttotal: 1.17s\tremaining: 1.56s\n",
      "428:\tlearn: 59.9170736\ttotal: 1.17s\tremaining: 1.55s\n",
      "429:\tlearn: 59.6875648\ttotal: 1.17s\tremaining: 1.55s\n",
      "430:\tlearn: 59.6662150\ttotal: 1.18s\tremaining: 1.56s\n",
      "431:\tlearn: 59.4208112\ttotal: 1.18s\tremaining: 1.55s\n",
      "432:\tlearn: 59.2358034\ttotal: 1.19s\tremaining: 1.55s\n",
      "433:\tlearn: 58.9818868\ttotal: 1.19s\tremaining: 1.55s\n",
      "434:\tlearn: 58.7089433\ttotal: 1.19s\tremaining: 1.55s\n",
      "435:\tlearn: 58.5898817\ttotal: 1.2s\tremaining: 1.55s\n",
      "436:\tlearn: 58.5425342\ttotal: 1.2s\tremaining: 1.54s\n",
      "437:\tlearn: 58.2884605\ttotal: 1.2s\tremaining: 1.54s\n",
      "438:\tlearn: 58.2643873\ttotal: 1.2s\tremaining: 1.54s\n",
      "439:\tlearn: 58.2330868\ttotal: 1.21s\tremaining: 1.53s\n",
      "440:\tlearn: 57.9676592\ttotal: 1.21s\tremaining: 1.53s\n",
      "441:\tlearn: 57.7670212\ttotal: 1.21s\tremaining: 1.53s\n",
      "442:\tlearn: 57.5322464\ttotal: 1.21s\tremaining: 1.52s\n",
      "443:\tlearn: 57.2771620\ttotal: 1.22s\tremaining: 1.52s\n",
      "444:\tlearn: 57.0227885\ttotal: 1.22s\tremaining: 1.52s\n",
      "445:\tlearn: 56.7616770\ttotal: 1.22s\tremaining: 1.51s\n",
      "446:\tlearn: 56.7367450\ttotal: 1.22s\tremaining: 1.51s\n",
      "447:\tlearn: 56.6715001\ttotal: 1.23s\tremaining: 1.51s\n",
      "448:\tlearn: 56.4881346\ttotal: 1.23s\tremaining: 1.51s\n",
      "449:\tlearn: 56.3749776\ttotal: 1.23s\tremaining: 1.5s\n",
      "450:\tlearn: 56.2172319\ttotal: 1.23s\tremaining: 1.5s\n",
      "451:\tlearn: 55.9461925\ttotal: 1.24s\tremaining: 1.5s\n",
      "452:\tlearn: 55.8884270\ttotal: 1.24s\tremaining: 1.5s\n",
      "453:\tlearn: 55.7987432\ttotal: 1.24s\tremaining: 1.49s\n",
      "454:\tlearn: 55.7376337\ttotal: 1.24s\tremaining: 1.49s\n",
      "455:\tlearn: 55.5150595\ttotal: 1.25s\tremaining: 1.49s\n",
      "456:\tlearn: 55.4819680\ttotal: 1.25s\tremaining: 1.49s\n",
      "457:\tlearn: 55.1719919\ttotal: 1.25s\tremaining: 1.48s\n",
      "458:\tlearn: 55.1295759\ttotal: 1.25s\tremaining: 1.48s\n",
      "459:\tlearn: 55.0856302\ttotal: 1.26s\tremaining: 1.48s\n",
      "460:\tlearn: 54.8056235\ttotal: 1.26s\tremaining: 1.47s\n",
      "461:\tlearn: 54.4030407\ttotal: 1.26s\tremaining: 1.47s\n",
      "462:\tlearn: 54.3308204\ttotal: 1.27s\tremaining: 1.47s\n",
      "463:\tlearn: 54.0283724\ttotal: 1.27s\tremaining: 1.47s\n",
      "464:\tlearn: 53.9962714\ttotal: 1.27s\tremaining: 1.46s\n",
      "465:\tlearn: 53.8149476\ttotal: 1.27s\tremaining: 1.46s\n",
      "466:\tlearn: 53.7806209\ttotal: 1.28s\tremaining: 1.46s\n",
      "467:\tlearn: 53.7585727\ttotal: 1.28s\tremaining: 1.45s\n",
      "468:\tlearn: 53.5042777\ttotal: 1.28s\tremaining: 1.45s\n",
      "469:\tlearn: 53.3257034\ttotal: 1.28s\tremaining: 1.45s\n",
      "470:\tlearn: 53.0801119\ttotal: 1.29s\tremaining: 1.45s\n",
      "471:\tlearn: 53.0136550\ttotal: 1.29s\tremaining: 1.44s\n",
      "472:\tlearn: 52.9408930\ttotal: 1.29s\tremaining: 1.44s\n",
      "473:\tlearn: 52.7089062\ttotal: 1.3s\tremaining: 1.44s\n",
      "474:\tlearn: 52.6819781\ttotal: 1.3s\tremaining: 1.44s\n",
      "475:\tlearn: 52.5065568\ttotal: 1.3s\tremaining: 1.44s\n",
      "476:\tlearn: 52.3688770\ttotal: 1.31s\tremaining: 1.43s\n",
      "477:\tlearn: 52.2402473\ttotal: 1.31s\tremaining: 1.43s\n",
      "478:\tlearn: 52.1406517\ttotal: 1.31s\tremaining: 1.43s\n",
      "479:\tlearn: 52.1107144\ttotal: 1.32s\tremaining: 1.43s\n",
      "480:\tlearn: 51.9239449\ttotal: 1.33s\tremaining: 1.43s\n",
      "481:\tlearn: 51.7096820\ttotal: 1.33s\tremaining: 1.43s\n",
      "482:\tlearn: 51.6266918\ttotal: 1.34s\tremaining: 1.43s\n",
      "483:\tlearn: 51.5969797\ttotal: 1.34s\tremaining: 1.43s\n",
      "484:\tlearn: 51.4480162\ttotal: 1.35s\tremaining: 1.43s\n",
      "485:\tlearn: 51.2269261\ttotal: 1.35s\tremaining: 1.43s\n",
      "486:\tlearn: 50.9904632\ttotal: 1.36s\tremaining: 1.43s\n",
      "487:\tlearn: 50.9342043\ttotal: 1.36s\tremaining: 1.43s\n",
      "488:\tlearn: 50.8423680\ttotal: 1.36s\tremaining: 1.43s\n",
      "489:\tlearn: 50.7269788\ttotal: 1.37s\tremaining: 1.43s\n",
      "490:\tlearn: 50.5384699\ttotal: 1.37s\tremaining: 1.42s\n",
      "491:\tlearn: 50.5047793\ttotal: 1.38s\tremaining: 1.42s\n",
      "492:\tlearn: 50.3234448\ttotal: 1.38s\tremaining: 1.42s\n",
      "493:\tlearn: 50.1653421\ttotal: 1.38s\tremaining: 1.42s\n",
      "494:\tlearn: 49.9835558\ttotal: 1.38s\tremaining: 1.41s\n",
      "495:\tlearn: 49.8884283\ttotal: 1.39s\tremaining: 1.41s\n",
      "496:\tlearn: 49.6217364\ttotal: 1.39s\tremaining: 1.41s\n",
      "497:\tlearn: 49.5268562\ttotal: 1.4s\tremaining: 1.41s\n",
      "498:\tlearn: 49.3078402\ttotal: 1.42s\tremaining: 1.42s\n",
      "499:\tlearn: 49.2571676\ttotal: 1.42s\tremaining: 1.42s\n",
      "500:\tlearn: 49.2173141\ttotal: 1.42s\tremaining: 1.42s\n",
      "501:\tlearn: 48.9813103\ttotal: 1.43s\tremaining: 1.42s\n",
      "502:\tlearn: 48.8304542\ttotal: 1.43s\tremaining: 1.41s\n",
      "503:\tlearn: 48.7430936\ttotal: 1.43s\tremaining: 1.41s\n",
      "504:\tlearn: 48.5493989\ttotal: 1.44s\tremaining: 1.41s\n",
      "505:\tlearn: 48.5134839\ttotal: 1.44s\tremaining: 1.4s\n",
      "506:\tlearn: 48.3516141\ttotal: 1.44s\tremaining: 1.4s\n",
      "507:\tlearn: 48.0631542\ttotal: 1.44s\tremaining: 1.4s\n",
      "508:\tlearn: 47.8591880\ttotal: 1.44s\tremaining: 1.39s\n",
      "509:\tlearn: 47.7182444\ttotal: 1.45s\tremaining: 1.39s\n",
      "510:\tlearn: 47.6301870\ttotal: 1.45s\tremaining: 1.39s\n",
      "511:\tlearn: 47.4767324\ttotal: 1.45s\tremaining: 1.38s\n",
      "512:\tlearn: 47.2822625\ttotal: 1.45s\tremaining: 1.38s\n",
      "513:\tlearn: 47.1022658\ttotal: 1.46s\tremaining: 1.38s\n",
      "514:\tlearn: 47.0536181\ttotal: 1.46s\tremaining: 1.38s\n",
      "515:\tlearn: 47.0249559\ttotal: 1.46s\tremaining: 1.37s\n",
      "516:\tlearn: 46.8789720\ttotal: 1.47s\tremaining: 1.37s\n",
      "517:\tlearn: 46.7133769\ttotal: 1.47s\tremaining: 1.37s\n",
      "518:\tlearn: 46.5157986\ttotal: 1.47s\tremaining: 1.36s\n",
      "519:\tlearn: 46.3630405\ttotal: 1.47s\tremaining: 1.36s\n",
      "520:\tlearn: 46.1730188\ttotal: 1.48s\tremaining: 1.36s\n",
      "521:\tlearn: 46.1360908\ttotal: 1.48s\tremaining: 1.35s\n",
      "522:\tlearn: 45.9652487\ttotal: 1.48s\tremaining: 1.35s\n",
      "523:\tlearn: 45.8122703\ttotal: 1.48s\tremaining: 1.35s\n",
      "524:\tlearn: 45.4984451\ttotal: 1.49s\tremaining: 1.34s\n",
      "525:\tlearn: 45.3161076\ttotal: 1.49s\tremaining: 1.34s\n",
      "526:\tlearn: 45.2802854\ttotal: 1.49s\tremaining: 1.34s\n",
      "527:\tlearn: 45.2448275\ttotal: 1.49s\tremaining: 1.33s\n",
      "528:\tlearn: 45.0816321\ttotal: 1.49s\tremaining: 1.33s\n",
      "529:\tlearn: 44.9794319\ttotal: 1.5s\tremaining: 1.33s\n",
      "530:\tlearn: 44.6832140\ttotal: 1.5s\tremaining: 1.32s\n",
      "531:\tlearn: 44.4460046\ttotal: 1.5s\tremaining: 1.32s\n",
      "532:\tlearn: 44.2118287\ttotal: 1.5s\tremaining: 1.32s\n",
      "533:\tlearn: 44.0693524\ttotal: 1.5s\tremaining: 1.31s\n",
      "534:\tlearn: 43.7781614\ttotal: 1.51s\tremaining: 1.31s\n",
      "535:\tlearn: 43.5541731\ttotal: 1.51s\tremaining: 1.31s\n",
      "536:\tlearn: 43.5134866\ttotal: 1.51s\tremaining: 1.3s\n",
      "537:\tlearn: 43.3609810\ttotal: 1.51s\tremaining: 1.3s\n",
      "538:\tlearn: 43.1828364\ttotal: 1.52s\tremaining: 1.3s\n",
      "539:\tlearn: 43.1681810\ttotal: 1.52s\tremaining: 1.29s\n",
      "540:\tlearn: 43.0597548\ttotal: 1.52s\tremaining: 1.29s\n",
      "541:\tlearn: 43.0399237\ttotal: 1.52s\tremaining: 1.29s\n",
      "542:\tlearn: 42.7955247\ttotal: 1.53s\tremaining: 1.29s\n",
      "543:\tlearn: 42.5339065\ttotal: 1.53s\tremaining: 1.28s\n",
      "544:\tlearn: 42.4295635\ttotal: 1.53s\tremaining: 1.28s\n",
      "545:\tlearn: 42.2338376\ttotal: 1.53s\tremaining: 1.28s\n",
      "546:\tlearn: 42.0124060\ttotal: 1.54s\tremaining: 1.27s\n",
      "547:\tlearn: 41.8255183\ttotal: 1.54s\tremaining: 1.27s\n",
      "548:\tlearn: 41.6388681\ttotal: 1.54s\tremaining: 1.27s\n",
      "549:\tlearn: 41.4001270\ttotal: 1.54s\tremaining: 1.26s\n",
      "550:\tlearn: 41.1013528\ttotal: 1.55s\tremaining: 1.26s\n",
      "551:\tlearn: 41.0100295\ttotal: 1.55s\tremaining: 1.26s\n",
      "552:\tlearn: 40.9906076\ttotal: 1.55s\tremaining: 1.25s\n",
      "553:\tlearn: 40.8809109\ttotal: 1.55s\tremaining: 1.25s\n",
      "554:\tlearn: 40.7831302\ttotal: 1.56s\tremaining: 1.25s\n",
      "555:\tlearn: 40.7317763\ttotal: 1.56s\tremaining: 1.25s\n",
      "556:\tlearn: 40.6321710\ttotal: 1.56s\tremaining: 1.24s\n"
     ]
    },
    {
     "name": "stdout",
     "output_type": "stream",
     "text": [
      "557:\tlearn: 40.4475073\ttotal: 1.56s\tremaining: 1.24s\n",
      "558:\tlearn: 40.2859957\ttotal: 1.57s\tremaining: 1.24s\n",
      "559:\tlearn: 40.0262057\ttotal: 1.57s\tremaining: 1.23s\n",
      "560:\tlearn: 39.9326350\ttotal: 1.57s\tremaining: 1.23s\n",
      "561:\tlearn: 39.8735956\ttotal: 1.57s\tremaining: 1.23s\n",
      "562:\tlearn: 39.7083019\ttotal: 1.58s\tremaining: 1.23s\n",
      "563:\tlearn: 39.5379855\ttotal: 1.58s\tremaining: 1.22s\n",
      "564:\tlearn: 39.3451301\ttotal: 1.59s\tremaining: 1.22s\n",
      "565:\tlearn: 39.2041273\ttotal: 1.59s\tremaining: 1.22s\n",
      "566:\tlearn: 38.9870162\ttotal: 1.59s\tremaining: 1.22s\n",
      "567:\tlearn: 38.8638040\ttotal: 1.59s\tremaining: 1.21s\n",
      "568:\tlearn: 38.7752116\ttotal: 1.59s\tremaining: 1.21s\n",
      "569:\tlearn: 38.6530297\ttotal: 1.6s\tremaining: 1.21s\n",
      "570:\tlearn: 38.5505372\ttotal: 1.6s\tremaining: 1.2s\n",
      "571:\tlearn: 38.5134486\ttotal: 1.6s\tremaining: 1.2s\n",
      "572:\tlearn: 38.3680902\ttotal: 1.6s\tremaining: 1.2s\n",
      "573:\tlearn: 38.1897295\ttotal: 1.61s\tremaining: 1.19s\n",
      "574:\tlearn: 38.1083536\ttotal: 1.61s\tremaining: 1.19s\n",
      "575:\tlearn: 37.9229216\ttotal: 1.61s\tremaining: 1.19s\n",
      "576:\tlearn: 37.8377087\ttotal: 1.61s\tremaining: 1.18s\n",
      "577:\tlearn: 37.7966900\ttotal: 1.62s\tremaining: 1.18s\n",
      "578:\tlearn: 37.6700761\ttotal: 1.62s\tremaining: 1.18s\n",
      "579:\tlearn: 37.6355177\ttotal: 1.62s\tremaining: 1.17s\n",
      "580:\tlearn: 37.4648199\ttotal: 1.62s\tremaining: 1.17s\n",
      "581:\tlearn: 37.2959505\ttotal: 1.62s\tremaining: 1.17s\n",
      "582:\tlearn: 37.1423961\ttotal: 1.62s\tremaining: 1.16s\n",
      "583:\tlearn: 36.9297315\ttotal: 1.63s\tremaining: 1.16s\n",
      "584:\tlearn: 36.8850382\ttotal: 1.63s\tremaining: 1.16s\n",
      "585:\tlearn: 36.7546519\ttotal: 1.63s\tremaining: 1.15s\n",
      "586:\tlearn: 36.7377554\ttotal: 1.63s\tremaining: 1.15s\n",
      "587:\tlearn: 36.6899102\ttotal: 1.63s\tremaining: 1.15s\n",
      "588:\tlearn: 36.5617094\ttotal: 1.64s\tremaining: 1.14s\n",
      "589:\tlearn: 36.4272921\ttotal: 1.64s\tremaining: 1.14s\n",
      "590:\tlearn: 36.2657889\ttotal: 1.64s\tremaining: 1.14s\n",
      "591:\tlearn: 36.2539345\ttotal: 1.64s\tremaining: 1.13s\n",
      "592:\tlearn: 36.2314399\ttotal: 1.64s\tremaining: 1.13s\n",
      "593:\tlearn: 36.0683824\ttotal: 1.65s\tremaining: 1.12s\n",
      "594:\tlearn: 35.9283095\ttotal: 1.65s\tremaining: 1.12s\n",
      "595:\tlearn: 35.7968288\ttotal: 1.65s\tremaining: 1.12s\n",
      "596:\tlearn: 35.7223423\ttotal: 1.65s\tremaining: 1.11s\n",
      "597:\tlearn: 35.5848854\ttotal: 1.65s\tremaining: 1.11s\n",
      "598:\tlearn: 35.4754344\ttotal: 1.66s\tremaining: 1.11s\n",
      "599:\tlearn: 35.3533890\ttotal: 1.66s\tremaining: 1.11s\n",
      "600:\tlearn: 35.2201505\ttotal: 1.66s\tremaining: 1.1s\n",
      "601:\tlearn: 35.0873272\ttotal: 1.66s\tremaining: 1.1s\n",
      "602:\tlearn: 35.0461873\ttotal: 1.66s\tremaining: 1.09s\n",
      "603:\tlearn: 34.9273071\ttotal: 1.67s\tremaining: 1.09s\n",
      "604:\tlearn: 34.8162855\ttotal: 1.67s\tremaining: 1.09s\n",
      "605:\tlearn: 34.7130059\ttotal: 1.67s\tremaining: 1.08s\n",
      "606:\tlearn: 34.5585617\ttotal: 1.67s\tremaining: 1.08s\n",
      "607:\tlearn: 34.4611907\ttotal: 1.67s\tremaining: 1.08s\n",
      "608:\tlearn: 34.4326546\ttotal: 1.68s\tremaining: 1.07s\n",
      "609:\tlearn: 34.2846979\ttotal: 1.68s\tremaining: 1.07s\n",
      "610:\tlearn: 34.1734501\ttotal: 1.68s\tremaining: 1.07s\n",
      "611:\tlearn: 34.0230965\ttotal: 1.68s\tremaining: 1.06s\n",
      "612:\tlearn: 33.8282501\ttotal: 1.68s\tremaining: 1.06s\n",
      "613:\tlearn: 33.7746747\ttotal: 1.68s\tremaining: 1.06s\n",
      "614:\tlearn: 33.7068386\ttotal: 1.69s\tremaining: 1.06s\n",
      "615:\tlearn: 33.5780800\ttotal: 1.69s\tremaining: 1.05s\n",
      "616:\tlearn: 33.4695325\ttotal: 1.69s\tremaining: 1.05s\n",
      "617:\tlearn: 33.3463443\ttotal: 1.69s\tremaining: 1.05s\n",
      "618:\tlearn: 33.2877395\ttotal: 1.7s\tremaining: 1.04s\n",
      "619:\tlearn: 33.2418826\ttotal: 1.7s\tremaining: 1.04s\n",
      "620:\tlearn: 33.1045465\ttotal: 1.7s\tremaining: 1.04s\n",
      "621:\tlearn: 32.9400639\ttotal: 1.7s\tremaining: 1.03s\n",
      "622:\tlearn: 32.8996970\ttotal: 1.71s\tremaining: 1.03s\n",
      "623:\tlearn: 32.7429487\ttotal: 1.71s\tremaining: 1.03s\n",
      "624:\tlearn: 32.6132355\ttotal: 1.71s\tremaining: 1.03s\n",
      "625:\tlearn: 32.4714976\ttotal: 1.71s\tremaining: 1.02s\n",
      "626:\tlearn: 32.4320448\ttotal: 1.72s\tremaining: 1.02s\n",
      "627:\tlearn: 32.2628258\ttotal: 1.72s\tremaining: 1.02s\n",
      "628:\tlearn: 32.2038569\ttotal: 1.72s\tremaining: 1.01s\n",
      "629:\tlearn: 32.0940738\ttotal: 1.72s\tremaining: 1.01s\n",
      "630:\tlearn: 32.0068495\ttotal: 1.72s\tremaining: 1.01s\n",
      "631:\tlearn: 31.9053748\ttotal: 1.73s\tremaining: 1s\n",
      "632:\tlearn: 31.7715772\ttotal: 1.73s\tremaining: 1s\n",
      "633:\tlearn: 31.6687835\ttotal: 1.73s\tremaining: 999ms\n",
      "634:\tlearn: 31.6368050\ttotal: 1.73s\tremaining: 996ms\n",
      "635:\tlearn: 31.5709628\ttotal: 1.74s\tremaining: 994ms\n",
      "636:\tlearn: 31.4052213\ttotal: 1.74s\tremaining: 992ms\n",
      "637:\tlearn: 31.2452229\ttotal: 1.74s\tremaining: 989ms\n",
      "638:\tlearn: 31.1221828\ttotal: 1.74s\tremaining: 986ms\n",
      "639:\tlearn: 31.0853500\ttotal: 1.75s\tremaining: 984ms\n",
      "640:\tlearn: 30.9167355\ttotal: 1.75s\tremaining: 981ms\n",
      "641:\tlearn: 30.8667253\ttotal: 1.75s\tremaining: 978ms\n",
      "642:\tlearn: 30.7427129\ttotal: 1.76s\tremaining: 976ms\n",
      "643:\tlearn: 30.5748228\ttotal: 1.76s\tremaining: 973ms\n",
      "644:\tlearn: 30.5080592\ttotal: 1.76s\tremaining: 970ms\n",
      "645:\tlearn: 30.3444228\ttotal: 1.76s\tremaining: 967ms\n",
      "646:\tlearn: 30.1858385\ttotal: 1.77s\tremaining: 964ms\n",
      "647:\tlearn: 30.1481951\ttotal: 1.77s\tremaining: 961ms\n",
      "648:\tlearn: 30.1139150\ttotal: 1.77s\tremaining: 958ms\n",
      "649:\tlearn: 30.0147177\ttotal: 1.77s\tremaining: 954ms\n",
      "650:\tlearn: 29.8610501\ttotal: 1.77s\tremaining: 951ms\n",
      "651:\tlearn: 29.7793561\ttotal: 1.78s\tremaining: 948ms\n",
      "652:\tlearn: 29.6870188\ttotal: 1.78s\tremaining: 945ms\n",
      "653:\tlearn: 29.6229921\ttotal: 1.78s\tremaining: 942ms\n",
      "654:\tlearn: 29.5806823\ttotal: 1.78s\tremaining: 939ms\n",
      "655:\tlearn: 29.4903496\ttotal: 1.78s\tremaining: 935ms\n",
      "656:\tlearn: 29.4011642\ttotal: 1.79s\tremaining: 933ms\n",
      "657:\tlearn: 29.3880977\ttotal: 1.79s\tremaining: 929ms\n",
      "658:\tlearn: 29.2615919\ttotal: 1.79s\tremaining: 926ms\n",
      "659:\tlearn: 29.1004727\ttotal: 1.79s\tremaining: 923ms\n",
      "660:\tlearn: 29.0530692\ttotal: 1.79s\tremaining: 920ms\n",
      "661:\tlearn: 28.9863628\ttotal: 1.79s\tremaining: 917ms\n",
      "662:\tlearn: 28.8714304\ttotal: 1.8s\tremaining: 914ms\n",
      "663:\tlearn: 28.7331979\ttotal: 1.8s\tremaining: 911ms\n",
      "664:\tlearn: 28.6366801\ttotal: 1.8s\tremaining: 907ms\n",
      "665:\tlearn: 28.5716341\ttotal: 1.8s\tremaining: 904ms\n",
      "666:\tlearn: 28.4974876\ttotal: 1.8s\tremaining: 901ms\n",
      "667:\tlearn: 28.4112710\ttotal: 1.81s\tremaining: 898ms\n",
      "668:\tlearn: 28.2984651\ttotal: 1.81s\tremaining: 895ms\n",
      "669:\tlearn: 28.1339510\ttotal: 1.81s\tremaining: 892ms\n",
      "670:\tlearn: 28.1075789\ttotal: 1.81s\tremaining: 889ms\n",
      "671:\tlearn: 28.0922293\ttotal: 1.81s\tremaining: 886ms\n",
      "672:\tlearn: 27.9723760\ttotal: 1.82s\tremaining: 882ms\n",
      "673:\tlearn: 27.9055283\ttotal: 1.82s\tremaining: 879ms\n",
      "674:\tlearn: 27.8205243\ttotal: 1.82s\tremaining: 876ms\n",
      "675:\tlearn: 27.8084834\ttotal: 1.82s\tremaining: 874ms\n",
      "676:\tlearn: 27.7891840\ttotal: 1.82s\tremaining: 871ms\n",
      "677:\tlearn: 27.6730952\ttotal: 1.83s\tremaining: 868ms\n",
      "678:\tlearn: 27.6094279\ttotal: 1.83s\tremaining: 864ms\n",
      "679:\tlearn: 27.5709406\ttotal: 1.83s\tremaining: 861ms\n",
      "680:\tlearn: 27.5062932\ttotal: 1.83s\tremaining: 858ms\n",
      "681:\tlearn: 27.4149358\ttotal: 1.83s\tremaining: 855ms\n",
      "682:\tlearn: 27.3480578\ttotal: 1.83s\tremaining: 852ms\n",
      "683:\tlearn: 27.2546632\ttotal: 1.84s\tremaining: 849ms\n",
      "684:\tlearn: 27.1581242\ttotal: 1.84s\tremaining: 846ms\n",
      "685:\tlearn: 27.1291330\ttotal: 1.84s\tremaining: 843ms\n",
      "686:\tlearn: 27.0589760\ttotal: 1.84s\tremaining: 840ms\n",
      "687:\tlearn: 26.9207571\ttotal: 1.84s\tremaining: 837ms\n",
      "688:\tlearn: 26.8046340\ttotal: 1.85s\tremaining: 834ms\n",
      "689:\tlearn: 26.7346039\ttotal: 1.85s\tremaining: 830ms\n",
      "690:\tlearn: 26.6359238\ttotal: 1.85s\tremaining: 828ms\n",
      "691:\tlearn: 26.5458163\ttotal: 1.85s\tremaining: 824ms\n",
      "692:\tlearn: 26.5287024\ttotal: 1.85s\tremaining: 821ms\n",
      "693:\tlearn: 26.4436127\ttotal: 1.85s\tremaining: 818ms\n",
      "694:\tlearn: 26.3860996\ttotal: 1.86s\tremaining: 815ms\n",
      "695:\tlearn: 26.3271824\ttotal: 1.86s\tremaining: 812ms\n",
      "696:\tlearn: 26.1929180\ttotal: 1.86s\tremaining: 809ms\n",
      "697:\tlearn: 26.0989501\ttotal: 1.86s\tremaining: 806ms\n",
      "698:\tlearn: 26.0348052\ttotal: 1.86s\tremaining: 803ms\n",
      "699:\tlearn: 25.9715846\ttotal: 1.87s\tremaining: 800ms\n",
      "700:\tlearn: 25.8624783\ttotal: 1.87s\tremaining: 797ms\n",
      "701:\tlearn: 25.8020332\ttotal: 1.87s\tremaining: 794ms\n",
      "702:\tlearn: 25.7940141\ttotal: 1.87s\tremaining: 791ms\n",
      "703:\tlearn: 25.6937173\ttotal: 1.87s\tremaining: 788ms\n",
      "704:\tlearn: 25.6133995\ttotal: 1.88s\tremaining: 785ms\n",
      "705:\tlearn: 25.5272559\ttotal: 1.88s\tremaining: 782ms\n",
      "706:\tlearn: 25.5087600\ttotal: 1.88s\tremaining: 779ms\n",
      "707:\tlearn: 25.3506858\ttotal: 1.88s\tremaining: 776ms\n",
      "708:\tlearn: 25.3314352\ttotal: 1.88s\tremaining: 773ms\n",
      "709:\tlearn: 25.3263712\ttotal: 1.88s\tremaining: 769ms\n",
      "710:\tlearn: 25.2377772\ttotal: 1.89s\tremaining: 766ms\n",
      "711:\tlearn: 25.1296003\ttotal: 1.89s\tremaining: 763ms\n",
      "712:\tlearn: 25.1138661\ttotal: 1.89s\tremaining: 760ms\n",
      "713:\tlearn: 25.0606164\ttotal: 1.89s\tremaining: 757ms\n",
      "714:\tlearn: 24.9701122\ttotal: 1.89s\tremaining: 754ms\n",
      "715:\tlearn: 24.9266980\ttotal: 1.89s\tremaining: 751ms\n",
      "716:\tlearn: 24.8355245\ttotal: 1.9s\tremaining: 748ms\n",
      "717:\tlearn: 24.7892595\ttotal: 1.9s\tremaining: 746ms\n",
      "718:\tlearn: 24.7784156\ttotal: 1.9s\tremaining: 743ms\n",
      "719:\tlearn: 24.7204068\ttotal: 1.9s\tremaining: 740ms\n",
      "720:\tlearn: 24.6868946\ttotal: 1.9s\tremaining: 737ms\n",
      "721:\tlearn: 24.5835248\ttotal: 1.91s\tremaining: 734ms\n"
     ]
    },
    {
     "name": "stdout",
     "output_type": "stream",
     "text": [
      "722:\tlearn: 24.4605667\ttotal: 1.91s\tremaining: 731ms\n",
      "723:\tlearn: 24.3780491\ttotal: 1.91s\tremaining: 728ms\n",
      "724:\tlearn: 24.3695387\ttotal: 1.91s\tremaining: 726ms\n",
      "725:\tlearn: 24.2713928\ttotal: 1.92s\tremaining: 723ms\n",
      "726:\tlearn: 24.2564573\ttotal: 1.92s\tremaining: 720ms\n",
      "727:\tlearn: 24.1259045\ttotal: 1.92s\tremaining: 717ms\n",
      "728:\tlearn: 24.0410925\ttotal: 1.92s\tremaining: 715ms\n",
      "729:\tlearn: 23.9454740\ttotal: 1.93s\tremaining: 713ms\n",
      "730:\tlearn: 23.9293944\ttotal: 1.93s\tremaining: 710ms\n",
      "731:\tlearn: 23.8408373\ttotal: 1.93s\tremaining: 707ms\n",
      "732:\tlearn: 23.7301307\ttotal: 1.93s\tremaining: 704ms\n",
      "733:\tlearn: 23.6751178\ttotal: 1.94s\tremaining: 702ms\n",
      "734:\tlearn: 23.5518474\ttotal: 1.94s\tremaining: 699ms\n",
      "735:\tlearn: 23.5054838\ttotal: 1.94s\tremaining: 696ms\n",
      "736:\tlearn: 23.4781040\ttotal: 1.94s\tremaining: 693ms\n",
      "737:\tlearn: 23.3774725\ttotal: 1.94s\tremaining: 690ms\n",
      "738:\tlearn: 23.3081022\ttotal: 1.95s\tremaining: 687ms\n",
      "739:\tlearn: 23.2915892\ttotal: 1.95s\tremaining: 684ms\n",
      "740:\tlearn: 23.2095735\ttotal: 1.95s\tremaining: 681ms\n",
      "741:\tlearn: 23.1588315\ttotal: 1.95s\tremaining: 679ms\n",
      "742:\tlearn: 23.1197993\ttotal: 1.95s\tremaining: 676ms\n",
      "743:\tlearn: 23.0327780\ttotal: 1.96s\tremaining: 673ms\n",
      "744:\tlearn: 22.9759480\ttotal: 1.96s\tremaining: 670ms\n",
      "745:\tlearn: 22.8751423\ttotal: 1.96s\tremaining: 667ms\n",
      "746:\tlearn: 22.7768127\ttotal: 1.96s\tremaining: 664ms\n",
      "747:\tlearn: 22.6474970\ttotal: 1.96s\tremaining: 661ms\n",
      "748:\tlearn: 22.5780525\ttotal: 1.96s\tremaining: 658ms\n",
      "749:\tlearn: 22.5338308\ttotal: 1.97s\tremaining: 655ms\n",
      "750:\tlearn: 22.4330276\ttotal: 1.97s\tremaining: 653ms\n",
      "751:\tlearn: 22.4193891\ttotal: 1.97s\tremaining: 650ms\n",
      "752:\tlearn: 22.4093040\ttotal: 1.97s\tremaining: 647ms\n",
      "753:\tlearn: 22.3758979\ttotal: 1.97s\tremaining: 644ms\n",
      "754:\tlearn: 22.3560173\ttotal: 1.98s\tremaining: 641ms\n",
      "755:\tlearn: 22.3264261\ttotal: 1.98s\tremaining: 638ms\n",
      "756:\tlearn: 22.2796605\ttotal: 1.98s\tremaining: 635ms\n",
      "757:\tlearn: 22.2253439\ttotal: 1.98s\tremaining: 633ms\n",
      "758:\tlearn: 22.1636409\ttotal: 1.98s\tremaining: 630ms\n",
      "759:\tlearn: 22.1078491\ttotal: 1.98s\tremaining: 627ms\n",
      "760:\tlearn: 22.0275756\ttotal: 1.99s\tremaining: 624ms\n",
      "761:\tlearn: 22.0174143\ttotal: 1.99s\tremaining: 621ms\n",
      "762:\tlearn: 21.9887391\ttotal: 1.99s\tremaining: 618ms\n",
      "763:\tlearn: 21.9746733\ttotal: 1.99s\tremaining: 615ms\n",
      "764:\tlearn: 21.9529216\ttotal: 1.99s\tremaining: 613ms\n",
      "765:\tlearn: 21.8767644\ttotal: 2s\tremaining: 610ms\n",
      "766:\tlearn: 21.8668039\ttotal: 2s\tremaining: 607ms\n",
      "767:\tlearn: 21.8008688\ttotal: 2s\tremaining: 604ms\n",
      "768:\tlearn: 21.7612208\ttotal: 2s\tremaining: 601ms\n",
      "769:\tlearn: 21.6977978\ttotal: 2s\tremaining: 598ms\n",
      "770:\tlearn: 21.6870461\ttotal: 2s\tremaining: 595ms\n",
      "771:\tlearn: 21.6599780\ttotal: 2.01s\tremaining: 593ms\n",
      "772:\tlearn: 21.5522064\ttotal: 2.01s\tremaining: 590ms\n",
      "773:\tlearn: 21.5426327\ttotal: 2.01s\tremaining: 587ms\n",
      "774:\tlearn: 21.4391089\ttotal: 2.01s\tremaining: 584ms\n",
      "775:\tlearn: 21.4042993\ttotal: 2.01s\tremaining: 581ms\n",
      "776:\tlearn: 21.3284836\ttotal: 2.02s\tremaining: 579ms\n",
      "777:\tlearn: 21.3163774\ttotal: 2.02s\tremaining: 576ms\n",
      "778:\tlearn: 21.2708416\ttotal: 2.02s\tremaining: 573ms\n",
      "779:\tlearn: 21.2056943\ttotal: 2.02s\tremaining: 570ms\n",
      "780:\tlearn: 21.1434774\ttotal: 2.02s\tremaining: 567ms\n",
      "781:\tlearn: 21.0672473\ttotal: 2.02s\tremaining: 565ms\n",
      "782:\tlearn: 20.9629645\ttotal: 2.03s\tremaining: 562ms\n",
      "783:\tlearn: 20.9522537\ttotal: 2.03s\tremaining: 559ms\n",
      "784:\tlearn: 20.9252425\ttotal: 2.03s\tremaining: 556ms\n",
      "785:\tlearn: 20.8576799\ttotal: 2.03s\tremaining: 553ms\n",
      "786:\tlearn: 20.7922970\ttotal: 2.03s\tremaining: 551ms\n",
      "787:\tlearn: 20.7802134\ttotal: 2.04s\tremaining: 548ms\n",
      "788:\tlearn: 20.7125213\ttotal: 2.04s\tremaining: 545ms\n",
      "789:\tlearn: 20.7000005\ttotal: 2.04s\tremaining: 542ms\n",
      "790:\tlearn: 20.6366378\ttotal: 2.04s\tremaining: 539ms\n",
      "791:\tlearn: 20.6170923\ttotal: 2.04s\tremaining: 537ms\n",
      "792:\tlearn: 20.5485950\ttotal: 2.04s\tremaining: 534ms\n",
      "793:\tlearn: 20.5212323\ttotal: 2.05s\tremaining: 531ms\n",
      "794:\tlearn: 20.5004347\ttotal: 2.05s\tremaining: 528ms\n",
      "795:\tlearn: 20.4884649\ttotal: 2.05s\tremaining: 526ms\n",
      "796:\tlearn: 20.3727007\ttotal: 2.05s\tremaining: 523ms\n",
      "797:\tlearn: 20.2776166\ttotal: 2.05s\tremaining: 520ms\n",
      "798:\tlearn: 20.2690965\ttotal: 2.06s\tremaining: 517ms\n",
      "799:\tlearn: 20.2166634\ttotal: 2.06s\tremaining: 515ms\n",
      "800:\tlearn: 20.1160179\ttotal: 2.06s\tremaining: 512ms\n",
      "801:\tlearn: 20.0642268\ttotal: 2.06s\tremaining: 509ms\n",
      "802:\tlearn: 20.0323601\ttotal: 2.06s\tremaining: 506ms\n",
      "803:\tlearn: 19.9485334\ttotal: 2.06s\tremaining: 504ms\n",
      "804:\tlearn: 19.9071725\ttotal: 2.07s\tremaining: 501ms\n",
      "805:\tlearn: 19.8943564\ttotal: 2.07s\tremaining: 498ms\n",
      "806:\tlearn: 19.7804687\ttotal: 2.07s\tremaining: 495ms\n",
      "807:\tlearn: 19.7343406\ttotal: 2.07s\tremaining: 493ms\n",
      "808:\tlearn: 19.6963930\ttotal: 2.08s\tremaining: 490ms\n",
      "809:\tlearn: 19.6705675\ttotal: 2.08s\tremaining: 487ms\n",
      "810:\tlearn: 19.6382933\ttotal: 2.08s\tremaining: 484ms\n",
      "811:\tlearn: 19.5889191\ttotal: 2.08s\tremaining: 482ms\n",
      "812:\tlearn: 19.5638487\ttotal: 2.08s\tremaining: 479ms\n",
      "813:\tlearn: 19.4926424\ttotal: 2.08s\tremaining: 477ms\n",
      "814:\tlearn: 19.3961396\ttotal: 2.09s\tremaining: 474ms\n",
      "815:\tlearn: 19.3880242\ttotal: 2.09s\tremaining: 472ms\n",
      "816:\tlearn: 19.2808372\ttotal: 2.09s\tremaining: 469ms\n",
      "817:\tlearn: 19.1712815\ttotal: 2.1s\tremaining: 466ms\n",
      "818:\tlearn: 19.0909823\ttotal: 2.1s\tremaining: 464ms\n",
      "819:\tlearn: 18.9993504\ttotal: 2.1s\tremaining: 461ms\n",
      "820:\tlearn: 18.9773399\ttotal: 2.1s\tremaining: 458ms\n",
      "821:\tlearn: 18.8989735\ttotal: 2.1s\tremaining: 456ms\n",
      "822:\tlearn: 18.8275176\ttotal: 2.11s\tremaining: 453ms\n",
      "823:\tlearn: 18.8092278\ttotal: 2.11s\tremaining: 451ms\n",
      "824:\tlearn: 18.7938447\ttotal: 2.11s\tremaining: 448ms\n",
      "825:\tlearn: 18.7871267\ttotal: 2.12s\tremaining: 446ms\n",
      "826:\tlearn: 18.7299674\ttotal: 2.12s\tremaining: 443ms\n",
      "827:\tlearn: 18.6808264\ttotal: 2.12s\tremaining: 441ms\n",
      "828:\tlearn: 18.5984875\ttotal: 2.12s\tremaining: 438ms\n",
      "829:\tlearn: 18.5170088\ttotal: 2.13s\tremaining: 436ms\n",
      "830:\tlearn: 18.4707382\ttotal: 2.13s\tremaining: 433ms\n",
      "831:\tlearn: 18.4368619\ttotal: 2.13s\tremaining: 431ms\n",
      "832:\tlearn: 18.3683191\ttotal: 2.13s\tremaining: 428ms\n",
      "833:\tlearn: 18.3295058\ttotal: 2.14s\tremaining: 425ms\n",
      "834:\tlearn: 18.2587263\ttotal: 2.14s\tremaining: 423ms\n",
      "835:\tlearn: 18.2103679\ttotal: 2.14s\tremaining: 420ms\n",
      "836:\tlearn: 18.1781032\ttotal: 2.14s\tremaining: 418ms\n",
      "837:\tlearn: 18.0746921\ttotal: 2.15s\tremaining: 415ms\n",
      "838:\tlearn: 18.0131984\ttotal: 2.15s\tremaining: 412ms\n",
      "839:\tlearn: 17.9510877\ttotal: 2.15s\tremaining: 409ms\n",
      "840:\tlearn: 17.8893536\ttotal: 2.15s\tremaining: 407ms\n",
      "841:\tlearn: 17.8813583\ttotal: 2.15s\tremaining: 404ms\n",
      "842:\tlearn: 17.8129857\ttotal: 2.15s\tremaining: 401ms\n",
      "843:\tlearn: 17.7981202\ttotal: 2.16s\tremaining: 399ms\n",
      "844:\tlearn: 17.7414627\ttotal: 2.16s\tremaining: 396ms\n",
      "845:\tlearn: 17.7255534\ttotal: 2.16s\tremaining: 393ms\n",
      "846:\tlearn: 17.6965545\ttotal: 2.16s\tremaining: 391ms\n",
      "847:\tlearn: 17.6499397\ttotal: 2.16s\tremaining: 388ms\n",
      "848:\tlearn: 17.6133852\ttotal: 2.17s\tremaining: 385ms\n",
      "849:\tlearn: 17.5621620\ttotal: 2.17s\tremaining: 382ms\n",
      "850:\tlearn: 17.5064049\ttotal: 2.17s\tremaining: 380ms\n",
      "851:\tlearn: 17.4643467\ttotal: 2.17s\tremaining: 377ms\n",
      "852:\tlearn: 17.4569544\ttotal: 2.17s\tremaining: 374ms\n",
      "853:\tlearn: 17.3731897\ttotal: 2.17s\tremaining: 372ms\n",
      "854:\tlearn: 17.3313609\ttotal: 2.18s\tremaining: 369ms\n",
      "855:\tlearn: 17.2781582\ttotal: 2.18s\tremaining: 366ms\n",
      "856:\tlearn: 17.2283433\ttotal: 2.18s\tremaining: 364ms\n",
      "857:\tlearn: 17.1944614\ttotal: 2.18s\tremaining: 361ms\n",
      "858:\tlearn: 17.1573393\ttotal: 2.18s\tremaining: 358ms\n",
      "859:\tlearn: 17.0975067\ttotal: 2.19s\tremaining: 356ms\n",
      "860:\tlearn: 17.0462043\ttotal: 2.19s\tremaining: 353ms\n",
      "861:\tlearn: 17.0118805\ttotal: 2.19s\tremaining: 350ms\n",
      "862:\tlearn: 17.0045195\ttotal: 2.19s\tremaining: 348ms\n",
      "863:\tlearn: 16.9528999\ttotal: 2.19s\tremaining: 345ms\n",
      "864:\tlearn: 16.9270632\ttotal: 2.19s\tremaining: 342ms\n",
      "865:\tlearn: 16.8915252\ttotal: 2.2s\tremaining: 340ms\n",
      "866:\tlearn: 16.7946576\ttotal: 2.2s\tremaining: 337ms\n",
      "867:\tlearn: 16.7737222\ttotal: 2.2s\tremaining: 335ms\n",
      "868:\tlearn: 16.7192509\ttotal: 2.2s\tremaining: 332ms\n",
      "869:\tlearn: 16.7138388\ttotal: 2.2s\tremaining: 329ms\n",
      "870:\tlearn: 16.6877768\ttotal: 2.21s\tremaining: 327ms\n",
      "871:\tlearn: 16.6265748\ttotal: 2.21s\tremaining: 324ms\n",
      "872:\tlearn: 16.5641199\ttotal: 2.21s\tremaining: 321ms\n",
      "873:\tlearn: 16.4935111\ttotal: 2.21s\tremaining: 319ms\n",
      "874:\tlearn: 16.4250863\ttotal: 2.21s\tremaining: 316ms\n",
      "875:\tlearn: 16.3566947\ttotal: 2.21s\tremaining: 314ms\n",
      "876:\tlearn: 16.2731185\ttotal: 2.22s\tremaining: 311ms\n",
      "877:\tlearn: 16.2207923\ttotal: 2.22s\tremaining: 308ms\n",
      "878:\tlearn: 16.2073108\ttotal: 2.22s\tremaining: 306ms\n",
      "879:\tlearn: 16.1336576\ttotal: 2.22s\tremaining: 303ms\n",
      "880:\tlearn: 16.0994139\ttotal: 2.23s\tremaining: 301ms\n",
      "881:\tlearn: 16.0720217\ttotal: 2.23s\tremaining: 298ms\n",
      "882:\tlearn: 16.0192163\ttotal: 2.23s\tremaining: 295ms\n",
      "883:\tlearn: 16.0021989\ttotal: 2.23s\tremaining: 293ms\n",
      "884:\tlearn: 15.9003005\ttotal: 2.23s\tremaining: 290ms\n",
      "885:\tlearn: 15.8685768\ttotal: 2.23s\tremaining: 288ms\n",
      "886:\tlearn: 15.7757199\ttotal: 2.24s\tremaining: 285ms\n",
      "887:\tlearn: 15.7280015\ttotal: 2.24s\tremaining: 282ms\n",
      "888:\tlearn: 15.7037867\ttotal: 2.24s\tremaining: 280ms\n",
      "889:\tlearn: 15.6876254\ttotal: 2.24s\tremaining: 277ms\n",
      "890:\tlearn: 15.6002589\ttotal: 2.24s\tremaining: 274ms\n",
      "891:\tlearn: 15.5663914\ttotal: 2.25s\tremaining: 272ms\n",
      "892:\tlearn: 15.4827503\ttotal: 2.25s\tremaining: 269ms\n",
      "893:\tlearn: 15.4422647\ttotal: 2.25s\tremaining: 267ms\n"
     ]
    },
    {
     "name": "stdout",
     "output_type": "stream",
     "text": [
      "894:\tlearn: 15.4230904\ttotal: 2.25s\tremaining: 264ms\n",
      "895:\tlearn: 15.3907978\ttotal: 2.25s\tremaining: 262ms\n",
      "896:\tlearn: 15.3022423\ttotal: 2.26s\tremaining: 259ms\n",
      "897:\tlearn: 15.2770800\ttotal: 2.26s\tremaining: 257ms\n",
      "898:\tlearn: 15.2708396\ttotal: 2.26s\tremaining: 254ms\n",
      "899:\tlearn: 15.2217814\ttotal: 2.26s\tremaining: 252ms\n",
      "900:\tlearn: 15.2150872\ttotal: 2.27s\tremaining: 249ms\n",
      "901:\tlearn: 15.1938758\ttotal: 2.27s\tremaining: 247ms\n",
      "902:\tlearn: 15.1087389\ttotal: 2.27s\tremaining: 244ms\n",
      "903:\tlearn: 15.0270836\ttotal: 2.27s\tremaining: 241ms\n",
      "904:\tlearn: 14.9579009\ttotal: 2.27s\tremaining: 239ms\n",
      "905:\tlearn: 14.9321713\ttotal: 2.28s\tremaining: 236ms\n",
      "906:\tlearn: 14.9254894\ttotal: 2.28s\tremaining: 234ms\n",
      "907:\tlearn: 14.8662999\ttotal: 2.28s\tremaining: 231ms\n",
      "908:\tlearn: 14.7969088\ttotal: 2.28s\tremaining: 229ms\n",
      "909:\tlearn: 14.7187437\ttotal: 2.29s\tremaining: 226ms\n",
      "910:\tlearn: 14.6594229\ttotal: 2.29s\tremaining: 224ms\n",
      "911:\tlearn: 14.6109629\ttotal: 2.29s\tremaining: 221ms\n",
      "912:\tlearn: 14.5833869\ttotal: 2.29s\tremaining: 219ms\n",
      "913:\tlearn: 14.5677206\ttotal: 2.3s\tremaining: 216ms\n",
      "914:\tlearn: 14.5260964\ttotal: 2.3s\tremaining: 214ms\n",
      "915:\tlearn: 14.4838792\ttotal: 2.3s\tremaining: 211ms\n",
      "916:\tlearn: 14.4614097\ttotal: 2.3s\tremaining: 208ms\n",
      "917:\tlearn: 14.4432212\ttotal: 2.31s\tremaining: 206ms\n",
      "918:\tlearn: 14.4363977\ttotal: 2.31s\tremaining: 203ms\n",
      "919:\tlearn: 14.3740822\ttotal: 2.31s\tremaining: 201ms\n",
      "920:\tlearn: 14.3363459\ttotal: 2.31s\tremaining: 198ms\n",
      "921:\tlearn: 14.2862425\ttotal: 2.32s\tremaining: 196ms\n",
      "922:\tlearn: 14.2195191\ttotal: 2.32s\tremaining: 193ms\n",
      "923:\tlearn: 14.1752422\ttotal: 2.32s\tremaining: 191ms\n",
      "924:\tlearn: 14.1582897\ttotal: 2.32s\tremaining: 188ms\n",
      "925:\tlearn: 14.0892518\ttotal: 2.32s\tremaining: 186ms\n",
      "926:\tlearn: 14.0163904\ttotal: 2.33s\tremaining: 183ms\n",
      "927:\tlearn: 13.9674906\ttotal: 2.33s\tremaining: 181ms\n",
      "928:\tlearn: 13.9421041\ttotal: 2.33s\tremaining: 178ms\n",
      "929:\tlearn: 13.9264108\ttotal: 2.33s\tremaining: 176ms\n",
      "930:\tlearn: 13.8953443\ttotal: 2.33s\tremaining: 173ms\n",
      "931:\tlearn: 13.8514821\ttotal: 2.33s\tremaining: 170ms\n",
      "932:\tlearn: 13.8317730\ttotal: 2.34s\tremaining: 168ms\n",
      "933:\tlearn: 13.7980615\ttotal: 2.34s\tremaining: 165ms\n",
      "934:\tlearn: 13.7252551\ttotal: 2.34s\tremaining: 163ms\n",
      "935:\tlearn: 13.6867475\ttotal: 2.34s\tremaining: 160ms\n",
      "936:\tlearn: 13.6663164\ttotal: 2.35s\tremaining: 158ms\n",
      "937:\tlearn: 13.6108173\ttotal: 2.35s\tremaining: 155ms\n",
      "938:\tlearn: 13.5827380\ttotal: 2.35s\tremaining: 153ms\n",
      "939:\tlearn: 13.5211246\ttotal: 2.35s\tremaining: 150ms\n",
      "940:\tlearn: 13.4752089\ttotal: 2.35s\tremaining: 148ms\n",
      "941:\tlearn: 13.4283115\ttotal: 2.35s\tremaining: 145ms\n",
      "942:\tlearn: 13.3912327\ttotal: 2.36s\tremaining: 142ms\n",
      "943:\tlearn: 13.3593766\ttotal: 2.36s\tremaining: 140ms\n",
      "944:\tlearn: 13.3015250\ttotal: 2.36s\tremaining: 138ms\n",
      "945:\tlearn: 13.2587480\ttotal: 2.36s\tremaining: 135ms\n",
      "946:\tlearn: 13.1949436\ttotal: 2.37s\tremaining: 132ms\n",
      "947:\tlearn: 13.1552441\ttotal: 2.37s\tremaining: 130ms\n",
      "948:\tlearn: 13.0700947\ttotal: 2.37s\tremaining: 128ms\n",
      "949:\tlearn: 13.0460884\ttotal: 2.38s\tremaining: 125ms\n",
      "950:\tlearn: 13.0315972\ttotal: 2.38s\tremaining: 122ms\n",
      "951:\tlearn: 12.9964111\ttotal: 2.38s\tremaining: 120ms\n",
      "952:\tlearn: 12.9757139\ttotal: 2.38s\tremaining: 117ms\n",
      "953:\tlearn: 12.9120533\ttotal: 2.38s\tremaining: 115ms\n",
      "954:\tlearn: 12.8776679\ttotal: 2.38s\tremaining: 112ms\n",
      "955:\tlearn: 12.8703243\ttotal: 2.38s\tremaining: 110ms\n",
      "956:\tlearn: 12.8058615\ttotal: 2.39s\tremaining: 107ms\n",
      "957:\tlearn: 12.7637381\ttotal: 2.39s\tremaining: 105ms\n",
      "958:\tlearn: 12.7517063\ttotal: 2.39s\tremaining: 102ms\n",
      "959:\tlearn: 12.7382108\ttotal: 2.39s\tremaining: 99.7ms\n",
      "960:\tlearn: 12.6881713\ttotal: 2.4s\tremaining: 97.2ms\n",
      "961:\tlearn: 12.6728317\ttotal: 2.4s\tremaining: 94.7ms\n",
      "962:\tlearn: 12.6386609\ttotal: 2.4s\tremaining: 92.2ms\n",
      "963:\tlearn: 12.5837642\ttotal: 2.4s\tremaining: 89.7ms\n",
      "964:\tlearn: 12.5689789\ttotal: 2.4s\tremaining: 87.2ms\n",
      "965:\tlearn: 12.5362136\ttotal: 2.4s\tremaining: 84.6ms\n",
      "966:\tlearn: 12.5186020\ttotal: 2.41s\tremaining: 82.1ms\n",
      "967:\tlearn: 12.4787889\ttotal: 2.41s\tremaining: 79.6ms\n",
      "968:\tlearn: 12.4463866\ttotal: 2.41s\tremaining: 77.1ms\n",
      "969:\tlearn: 12.3919484\ttotal: 2.41s\tremaining: 74.6ms\n",
      "970:\tlearn: 12.3583173\ttotal: 2.41s\tremaining: 72.1ms\n",
      "971:\tlearn: 12.3430204\ttotal: 2.42s\tremaining: 69.6ms\n",
      "972:\tlearn: 12.3036135\ttotal: 2.42s\tremaining: 67.1ms\n",
      "973:\tlearn: 12.2785886\ttotal: 2.42s\tremaining: 64.6ms\n",
      "974:\tlearn: 12.2424148\ttotal: 2.42s\tremaining: 62.1ms\n",
      "975:\tlearn: 12.2287225\ttotal: 2.42s\tremaining: 59.6ms\n",
      "976:\tlearn: 12.1894056\ttotal: 2.43s\tremaining: 57.1ms\n",
      "977:\tlearn: 12.1399699\ttotal: 2.43s\tremaining: 54.7ms\n",
      "978:\tlearn: 12.1165698\ttotal: 2.43s\tremaining: 52.2ms\n",
      "979:\tlearn: 12.1084930\ttotal: 2.44s\tremaining: 49.7ms\n",
      "980:\tlearn: 12.1041455\ttotal: 2.44s\tremaining: 47.2ms\n",
      "981:\tlearn: 12.0749440\ttotal: 2.44s\tremaining: 44.7ms\n",
      "982:\tlearn: 12.0676323\ttotal: 2.44s\tremaining: 42.2ms\n",
      "983:\tlearn: 12.0253491\ttotal: 2.44s\tremaining: 39.7ms\n",
      "984:\tlearn: 11.9725269\ttotal: 2.44s\tremaining: 37.2ms\n",
      "985:\tlearn: 11.9344239\ttotal: 2.44s\tremaining: 34.7ms\n",
      "986:\tlearn: 11.8870660\ttotal: 2.45s\tremaining: 32.2ms\n",
      "987:\tlearn: 11.8411099\ttotal: 2.45s\tremaining: 29.7ms\n",
      "988:\tlearn: 11.7973602\ttotal: 2.45s\tremaining: 27.3ms\n",
      "989:\tlearn: 11.7514376\ttotal: 2.45s\tremaining: 24.8ms\n",
      "990:\tlearn: 11.7232746\ttotal: 2.46s\tremaining: 22.3ms\n",
      "991:\tlearn: 11.6852796\ttotal: 2.46s\tremaining: 19.8ms\n",
      "992:\tlearn: 11.6463794\ttotal: 2.46s\tremaining: 17.3ms\n",
      "993:\tlearn: 11.6106308\ttotal: 2.46s\tremaining: 14.9ms\n",
      "994:\tlearn: 11.5731961\ttotal: 2.46s\tremaining: 12.4ms\n",
      "995:\tlearn: 11.5417359\ttotal: 2.46s\tremaining: 9.9ms\n",
      "996:\tlearn: 11.5167117\ttotal: 2.47s\tremaining: 7.42ms\n",
      "997:\tlearn: 11.4745232\ttotal: 2.47s\tremaining: 4.95ms\n",
      "998:\tlearn: 11.4604481\ttotal: 2.47s\tremaining: 2.47ms\n",
      "999:\tlearn: 11.4510502\ttotal: 2.47s\tremaining: 0us\n"
     ]
    }
   ],
   "source": [
    "catb = CatBoostRegressor()\n",
    "catb_model = catb.fit(X_train, y_train)"
   ]
  },
  {
   "cell_type": "markdown",
   "id": "35c710c1",
   "metadata": {},
   "source": [
    "# CATBOOST TAHMİN"
   ]
  },
  {
   "cell_type": "code",
   "execution_count": 252,
   "id": "1773e5af",
   "metadata": {},
   "outputs": [
    {
     "data": {
      "text/plain": [
       "351.194631344607"
      ]
     },
     "execution_count": 252,
     "metadata": {},
     "output_type": "execute_result"
    }
   ],
   "source": [
    "y_pred = catb_model.predict(X_test)\n",
    "np.sqrt(mean_squared_error(y_test, y_pred))"
   ]
  },
  {
   "cell_type": "markdown",
   "id": "548abd9f",
   "metadata": {},
   "source": [
    "# CATBOOST MODEL TUNİNG"
   ]
  },
  {
   "cell_type": "code",
   "execution_count": 253,
   "id": "0cd7338b",
   "metadata": {},
   "outputs": [],
   "source": [
    "catb_grid = {\n",
    "    'iterations': [200,500,1000,2000],\n",
    "    'learning_rate': [0.01, 0.03, 0.05, 0.1],\n",
    "    'depth': [3,4,5,6,7,8] }"
   ]
  },
  {
   "cell_type": "code",
   "execution_count": 254,
   "id": "6cb47d6f",
   "metadata": {},
   "outputs": [],
   "source": [
    "catb = CatBoostRegressor()\n",
    "catb_cv_model = GridSearchCV(catb, catb_grid, cv=5, n_jobs = -1, verbose = 2)"
   ]
  },
  {
   "cell_type": "code",
   "execution_count": 255,
   "id": "02fe117f",
   "metadata": {
    "collapsed": true
   },
   "outputs": [
    {
     "name": "stdout",
     "output_type": "stream",
     "text": [
      "Fitting 5 folds for each of 96 candidates, totalling 480 fits\n"
     ]
    },
    {
     "ename": "KeyboardInterrupt",
     "evalue": "",
     "output_type": "error",
     "traceback": [
      "\u001b[1;31m---------------------------------------------------------------------------\u001b[0m",
      "\u001b[1;31mKeyboardInterrupt\u001b[0m                         Traceback (most recent call last)",
      "Input \u001b[1;32mIn [255]\u001b[0m, in \u001b[0;36m<cell line: 1>\u001b[1;34m()\u001b[0m\n\u001b[1;32m----> 1\u001b[0m \u001b[43mcatb_cv_model\u001b[49m\u001b[38;5;241;43m.\u001b[39;49m\u001b[43mfit\u001b[49m\u001b[43m(\u001b[49m\u001b[43mX_train\u001b[49m\u001b[43m,\u001b[49m\u001b[43m \u001b[49m\u001b[43my_train\u001b[49m\u001b[43m)\u001b[49m\n",
      "File \u001b[1;32m~\\anaconda3\\lib\\site-packages\\sklearn\\model_selection\\_search.py:891\u001b[0m, in \u001b[0;36mBaseSearchCV.fit\u001b[1;34m(self, X, y, groups, **fit_params)\u001b[0m\n\u001b[0;32m    885\u001b[0m     results \u001b[38;5;241m=\u001b[39m \u001b[38;5;28mself\u001b[39m\u001b[38;5;241m.\u001b[39m_format_results(\n\u001b[0;32m    886\u001b[0m         all_candidate_params, n_splits, all_out, all_more_results\n\u001b[0;32m    887\u001b[0m     )\n\u001b[0;32m    889\u001b[0m     \u001b[38;5;28;01mreturn\u001b[39;00m results\n\u001b[1;32m--> 891\u001b[0m \u001b[38;5;28;43mself\u001b[39;49m\u001b[38;5;241;43m.\u001b[39;49m\u001b[43m_run_search\u001b[49m\u001b[43m(\u001b[49m\u001b[43mevaluate_candidates\u001b[49m\u001b[43m)\u001b[49m\n\u001b[0;32m    893\u001b[0m \u001b[38;5;66;03m# multimetric is determined here because in the case of a callable\u001b[39;00m\n\u001b[0;32m    894\u001b[0m \u001b[38;5;66;03m# self.scoring the return type is only known after calling\u001b[39;00m\n\u001b[0;32m    895\u001b[0m first_test_score \u001b[38;5;241m=\u001b[39m all_out[\u001b[38;5;241m0\u001b[39m][\u001b[38;5;124m\"\u001b[39m\u001b[38;5;124mtest_scores\u001b[39m\u001b[38;5;124m\"\u001b[39m]\n",
      "File \u001b[1;32m~\\anaconda3\\lib\\site-packages\\sklearn\\model_selection\\_search.py:1392\u001b[0m, in \u001b[0;36mGridSearchCV._run_search\u001b[1;34m(self, evaluate_candidates)\u001b[0m\n\u001b[0;32m   1390\u001b[0m \u001b[38;5;28;01mdef\u001b[39;00m \u001b[38;5;21m_run_search\u001b[39m(\u001b[38;5;28mself\u001b[39m, evaluate_candidates):\n\u001b[0;32m   1391\u001b[0m     \u001b[38;5;124;03m\"\"\"Search all candidates in param_grid\"\"\"\u001b[39;00m\n\u001b[1;32m-> 1392\u001b[0m     \u001b[43mevaluate_candidates\u001b[49m\u001b[43m(\u001b[49m\u001b[43mParameterGrid\u001b[49m\u001b[43m(\u001b[49m\u001b[38;5;28;43mself\u001b[39;49m\u001b[38;5;241;43m.\u001b[39;49m\u001b[43mparam_grid\u001b[49m\u001b[43m)\u001b[49m\u001b[43m)\u001b[49m\n",
      "File \u001b[1;32m~\\anaconda3\\lib\\site-packages\\sklearn\\model_selection\\_search.py:838\u001b[0m, in \u001b[0;36mBaseSearchCV.fit.<locals>.evaluate_candidates\u001b[1;34m(candidate_params, cv, more_results)\u001b[0m\n\u001b[0;32m    830\u001b[0m \u001b[38;5;28;01mif\u001b[39;00m \u001b[38;5;28mself\u001b[39m\u001b[38;5;241m.\u001b[39mverbose \u001b[38;5;241m>\u001b[39m \u001b[38;5;241m0\u001b[39m:\n\u001b[0;32m    831\u001b[0m     \u001b[38;5;28mprint\u001b[39m(\n\u001b[0;32m    832\u001b[0m         \u001b[38;5;124m\"\u001b[39m\u001b[38;5;124mFitting \u001b[39m\u001b[38;5;132;01m{0}\u001b[39;00m\u001b[38;5;124m folds for each of \u001b[39m\u001b[38;5;132;01m{1}\u001b[39;00m\u001b[38;5;124m candidates,\u001b[39m\u001b[38;5;124m\"\u001b[39m\n\u001b[0;32m    833\u001b[0m         \u001b[38;5;124m\"\u001b[39m\u001b[38;5;124m totalling \u001b[39m\u001b[38;5;132;01m{2}\u001b[39;00m\u001b[38;5;124m fits\u001b[39m\u001b[38;5;124m\"\u001b[39m\u001b[38;5;241m.\u001b[39mformat(\n\u001b[0;32m    834\u001b[0m             n_splits, n_candidates, n_candidates \u001b[38;5;241m*\u001b[39m n_splits\n\u001b[0;32m    835\u001b[0m         )\n\u001b[0;32m    836\u001b[0m     )\n\u001b[1;32m--> 838\u001b[0m out \u001b[38;5;241m=\u001b[39m \u001b[43mparallel\u001b[49m\u001b[43m(\u001b[49m\n\u001b[0;32m    839\u001b[0m \u001b[43m    \u001b[49m\u001b[43mdelayed\u001b[49m\u001b[43m(\u001b[49m\u001b[43m_fit_and_score\u001b[49m\u001b[43m)\u001b[49m\u001b[43m(\u001b[49m\n\u001b[0;32m    840\u001b[0m \u001b[43m        \u001b[49m\u001b[43mclone\u001b[49m\u001b[43m(\u001b[49m\u001b[43mbase_estimator\u001b[49m\u001b[43m)\u001b[49m\u001b[43m,\u001b[49m\n\u001b[0;32m    841\u001b[0m \u001b[43m        \u001b[49m\u001b[43mX\u001b[49m\u001b[43m,\u001b[49m\n\u001b[0;32m    842\u001b[0m \u001b[43m        \u001b[49m\u001b[43my\u001b[49m\u001b[43m,\u001b[49m\n\u001b[0;32m    843\u001b[0m \u001b[43m        \u001b[49m\u001b[43mtrain\u001b[49m\u001b[38;5;241;43m=\u001b[39;49m\u001b[43mtrain\u001b[49m\u001b[43m,\u001b[49m\n\u001b[0;32m    844\u001b[0m \u001b[43m        \u001b[49m\u001b[43mtest\u001b[49m\u001b[38;5;241;43m=\u001b[39;49m\u001b[43mtest\u001b[49m\u001b[43m,\u001b[49m\n\u001b[0;32m    845\u001b[0m \u001b[43m        \u001b[49m\u001b[43mparameters\u001b[49m\u001b[38;5;241;43m=\u001b[39;49m\u001b[43mparameters\u001b[49m\u001b[43m,\u001b[49m\n\u001b[0;32m    846\u001b[0m \u001b[43m        \u001b[49m\u001b[43msplit_progress\u001b[49m\u001b[38;5;241;43m=\u001b[39;49m\u001b[43m(\u001b[49m\u001b[43msplit_idx\u001b[49m\u001b[43m,\u001b[49m\u001b[43m \u001b[49m\u001b[43mn_splits\u001b[49m\u001b[43m)\u001b[49m\u001b[43m,\u001b[49m\n\u001b[0;32m    847\u001b[0m \u001b[43m        \u001b[49m\u001b[43mcandidate_progress\u001b[49m\u001b[38;5;241;43m=\u001b[39;49m\u001b[43m(\u001b[49m\u001b[43mcand_idx\u001b[49m\u001b[43m,\u001b[49m\u001b[43m \u001b[49m\u001b[43mn_candidates\u001b[49m\u001b[43m)\u001b[49m\u001b[43m,\u001b[49m\n\u001b[0;32m    848\u001b[0m \u001b[43m        \u001b[49m\u001b[38;5;241;43m*\u001b[39;49m\u001b[38;5;241;43m*\u001b[39;49m\u001b[43mfit_and_score_kwargs\u001b[49m\u001b[43m,\u001b[49m\n\u001b[0;32m    849\u001b[0m \u001b[43m    \u001b[49m\u001b[43m)\u001b[49m\n\u001b[0;32m    850\u001b[0m \u001b[43m    \u001b[49m\u001b[38;5;28;43;01mfor\u001b[39;49;00m\u001b[43m \u001b[49m\u001b[43m(\u001b[49m\u001b[43mcand_idx\u001b[49m\u001b[43m,\u001b[49m\u001b[43m \u001b[49m\u001b[43mparameters\u001b[49m\u001b[43m)\u001b[49m\u001b[43m,\u001b[49m\u001b[43m \u001b[49m\u001b[43m(\u001b[49m\u001b[43msplit_idx\u001b[49m\u001b[43m,\u001b[49m\u001b[43m \u001b[49m\u001b[43m(\u001b[49m\u001b[43mtrain\u001b[49m\u001b[43m,\u001b[49m\u001b[43m \u001b[49m\u001b[43mtest\u001b[49m\u001b[43m)\u001b[49m\u001b[43m)\u001b[49m\u001b[43m \u001b[49m\u001b[38;5;129;43;01min\u001b[39;49;00m\u001b[43m \u001b[49m\u001b[43mproduct\u001b[49m\u001b[43m(\u001b[49m\n\u001b[0;32m    851\u001b[0m \u001b[43m        \u001b[49m\u001b[38;5;28;43menumerate\u001b[39;49m\u001b[43m(\u001b[49m\u001b[43mcandidate_params\u001b[49m\u001b[43m)\u001b[49m\u001b[43m,\u001b[49m\u001b[43m \u001b[49m\u001b[38;5;28;43menumerate\u001b[39;49m\u001b[43m(\u001b[49m\u001b[43mcv\u001b[49m\u001b[38;5;241;43m.\u001b[39;49m\u001b[43msplit\u001b[49m\u001b[43m(\u001b[49m\u001b[43mX\u001b[49m\u001b[43m,\u001b[49m\u001b[43m \u001b[49m\u001b[43my\u001b[49m\u001b[43m,\u001b[49m\u001b[43m \u001b[49m\u001b[43mgroups\u001b[49m\u001b[43m)\u001b[49m\u001b[43m)\u001b[49m\n\u001b[0;32m    852\u001b[0m \u001b[43m    \u001b[49m\u001b[43m)\u001b[49m\n\u001b[0;32m    853\u001b[0m \u001b[43m\u001b[49m\u001b[43m)\u001b[49m\n\u001b[0;32m    855\u001b[0m \u001b[38;5;28;01mif\u001b[39;00m \u001b[38;5;28mlen\u001b[39m(out) \u001b[38;5;241m<\u001b[39m \u001b[38;5;241m1\u001b[39m:\n\u001b[0;32m    856\u001b[0m     \u001b[38;5;28;01mraise\u001b[39;00m \u001b[38;5;167;01mValueError\u001b[39;00m(\n\u001b[0;32m    857\u001b[0m         \u001b[38;5;124m\"\u001b[39m\u001b[38;5;124mNo fits were performed. \u001b[39m\u001b[38;5;124m\"\u001b[39m\n\u001b[0;32m    858\u001b[0m         \u001b[38;5;124m\"\u001b[39m\u001b[38;5;124mWas the CV iterator empty? \u001b[39m\u001b[38;5;124m\"\u001b[39m\n\u001b[0;32m    859\u001b[0m         \u001b[38;5;124m\"\u001b[39m\u001b[38;5;124mWere there no candidates?\u001b[39m\u001b[38;5;124m\"\u001b[39m\n\u001b[0;32m    860\u001b[0m     )\n",
      "File \u001b[1;32m~\\anaconda3\\lib\\site-packages\\joblib\\parallel.py:1056\u001b[0m, in \u001b[0;36mParallel.__call__\u001b[1;34m(self, iterable)\u001b[0m\n\u001b[0;32m   1053\u001b[0m     \u001b[38;5;28mself\u001b[39m\u001b[38;5;241m.\u001b[39m_iterating \u001b[38;5;241m=\u001b[39m \u001b[38;5;28;01mFalse\u001b[39;00m\n\u001b[0;32m   1055\u001b[0m \u001b[38;5;28;01mwith\u001b[39;00m \u001b[38;5;28mself\u001b[39m\u001b[38;5;241m.\u001b[39m_backend\u001b[38;5;241m.\u001b[39mretrieval_context():\n\u001b[1;32m-> 1056\u001b[0m     \u001b[38;5;28;43mself\u001b[39;49m\u001b[38;5;241;43m.\u001b[39;49m\u001b[43mretrieve\u001b[49m\u001b[43m(\u001b[49m\u001b[43m)\u001b[49m\n\u001b[0;32m   1057\u001b[0m \u001b[38;5;66;03m# Make sure that we get a last message telling us we are done\u001b[39;00m\n\u001b[0;32m   1058\u001b[0m elapsed_time \u001b[38;5;241m=\u001b[39m time\u001b[38;5;241m.\u001b[39mtime() \u001b[38;5;241m-\u001b[39m \u001b[38;5;28mself\u001b[39m\u001b[38;5;241m.\u001b[39m_start_time\n",
      "File \u001b[1;32m~\\anaconda3\\lib\\site-packages\\joblib\\parallel.py:935\u001b[0m, in \u001b[0;36mParallel.retrieve\u001b[1;34m(self)\u001b[0m\n\u001b[0;32m    933\u001b[0m \u001b[38;5;28;01mtry\u001b[39;00m:\n\u001b[0;32m    934\u001b[0m     \u001b[38;5;28;01mif\u001b[39;00m \u001b[38;5;28mgetattr\u001b[39m(\u001b[38;5;28mself\u001b[39m\u001b[38;5;241m.\u001b[39m_backend, \u001b[38;5;124m'\u001b[39m\u001b[38;5;124msupports_timeout\u001b[39m\u001b[38;5;124m'\u001b[39m, \u001b[38;5;28;01mFalse\u001b[39;00m):\n\u001b[1;32m--> 935\u001b[0m         \u001b[38;5;28mself\u001b[39m\u001b[38;5;241m.\u001b[39m_output\u001b[38;5;241m.\u001b[39mextend(\u001b[43mjob\u001b[49m\u001b[38;5;241;43m.\u001b[39;49m\u001b[43mget\u001b[49m\u001b[43m(\u001b[49m\u001b[43mtimeout\u001b[49m\u001b[38;5;241;43m=\u001b[39;49m\u001b[38;5;28;43mself\u001b[39;49m\u001b[38;5;241;43m.\u001b[39;49m\u001b[43mtimeout\u001b[49m\u001b[43m)\u001b[49m)\n\u001b[0;32m    936\u001b[0m     \u001b[38;5;28;01melse\u001b[39;00m:\n\u001b[0;32m    937\u001b[0m         \u001b[38;5;28mself\u001b[39m\u001b[38;5;241m.\u001b[39m_output\u001b[38;5;241m.\u001b[39mextend(job\u001b[38;5;241m.\u001b[39mget())\n",
      "File \u001b[1;32m~\\anaconda3\\lib\\site-packages\\joblib\\_parallel_backends.py:542\u001b[0m, in \u001b[0;36mLokyBackend.wrap_future_result\u001b[1;34m(future, timeout)\u001b[0m\n\u001b[0;32m    539\u001b[0m \u001b[38;5;124;03m\"\"\"Wrapper for Future.result to implement the same behaviour as\u001b[39;00m\n\u001b[0;32m    540\u001b[0m \u001b[38;5;124;03mAsyncResults.get from multiprocessing.\"\"\"\u001b[39;00m\n\u001b[0;32m    541\u001b[0m \u001b[38;5;28;01mtry\u001b[39;00m:\n\u001b[1;32m--> 542\u001b[0m     \u001b[38;5;28;01mreturn\u001b[39;00m \u001b[43mfuture\u001b[49m\u001b[38;5;241;43m.\u001b[39;49m\u001b[43mresult\u001b[49m\u001b[43m(\u001b[49m\u001b[43mtimeout\u001b[49m\u001b[38;5;241;43m=\u001b[39;49m\u001b[43mtimeout\u001b[49m\u001b[43m)\u001b[49m\n\u001b[0;32m    543\u001b[0m \u001b[38;5;28;01mexcept\u001b[39;00m CfTimeoutError \u001b[38;5;28;01mas\u001b[39;00m e:\n\u001b[0;32m    544\u001b[0m     \u001b[38;5;28;01mraise\u001b[39;00m \u001b[38;5;167;01mTimeoutError\u001b[39;00m \u001b[38;5;28;01mfrom\u001b[39;00m \u001b[38;5;21;01me\u001b[39;00m\n",
      "File \u001b[1;32m~\\anaconda3\\lib\\concurrent\\futures\\_base.py:441\u001b[0m, in \u001b[0;36mFuture.result\u001b[1;34m(self, timeout)\u001b[0m\n\u001b[0;32m    438\u001b[0m \u001b[38;5;28;01melif\u001b[39;00m \u001b[38;5;28mself\u001b[39m\u001b[38;5;241m.\u001b[39m_state \u001b[38;5;241m==\u001b[39m FINISHED:\n\u001b[0;32m    439\u001b[0m     \u001b[38;5;28;01mreturn\u001b[39;00m \u001b[38;5;28mself\u001b[39m\u001b[38;5;241m.\u001b[39m__get_result()\n\u001b[1;32m--> 441\u001b[0m \u001b[38;5;28;43mself\u001b[39;49m\u001b[38;5;241;43m.\u001b[39;49m\u001b[43m_condition\u001b[49m\u001b[38;5;241;43m.\u001b[39;49m\u001b[43mwait\u001b[49m\u001b[43m(\u001b[49m\u001b[43mtimeout\u001b[49m\u001b[43m)\u001b[49m\n\u001b[0;32m    443\u001b[0m \u001b[38;5;28;01mif\u001b[39;00m \u001b[38;5;28mself\u001b[39m\u001b[38;5;241m.\u001b[39m_state \u001b[38;5;129;01min\u001b[39;00m [CANCELLED, CANCELLED_AND_NOTIFIED]:\n\u001b[0;32m    444\u001b[0m     \u001b[38;5;28;01mraise\u001b[39;00m CancelledError()\n",
      "File \u001b[1;32m~\\anaconda3\\lib\\threading.py:312\u001b[0m, in \u001b[0;36mCondition.wait\u001b[1;34m(self, timeout)\u001b[0m\n\u001b[0;32m    310\u001b[0m \u001b[38;5;28;01mtry\u001b[39;00m:    \u001b[38;5;66;03m# restore state no matter what (e.g., KeyboardInterrupt)\u001b[39;00m\n\u001b[0;32m    311\u001b[0m     \u001b[38;5;28;01mif\u001b[39;00m timeout \u001b[38;5;129;01mis\u001b[39;00m \u001b[38;5;28;01mNone\u001b[39;00m:\n\u001b[1;32m--> 312\u001b[0m         \u001b[43mwaiter\u001b[49m\u001b[38;5;241;43m.\u001b[39;49m\u001b[43macquire\u001b[49m\u001b[43m(\u001b[49m\u001b[43m)\u001b[49m\n\u001b[0;32m    313\u001b[0m         gotit \u001b[38;5;241m=\u001b[39m \u001b[38;5;28;01mTrue\u001b[39;00m\n\u001b[0;32m    314\u001b[0m     \u001b[38;5;28;01melse\u001b[39;00m:\n",
      "\u001b[1;31mKeyboardInterrupt\u001b[0m: "
     ]
    }
   ],
   "source": [
    "catb_cv_model.fit(X_train, y_train)\n",
    "#45 DK SÜRDÜĞÜ İÇİN SALDIM"
   ]
  },
  {
   "cell_type": "code",
   "execution_count": 256,
   "id": "4af779b4",
   "metadata": {
    "collapsed": true
   },
   "outputs": [
    {
     "ename": "AttributeError",
     "evalue": "'GridSearchCV' object has no attribute 'best_params_'",
     "output_type": "error",
     "traceback": [
      "\u001b[1;31m---------------------------------------------------------------------------\u001b[0m",
      "\u001b[1;31mAttributeError\u001b[0m                            Traceback (most recent call last)",
      "Input \u001b[1;32mIn [256]\u001b[0m, in \u001b[0;36m<cell line: 1>\u001b[1;34m()\u001b[0m\n\u001b[1;32m----> 1\u001b[0m \u001b[43mcatb_cv_model\u001b[49m\u001b[38;5;241;43m.\u001b[39;49m\u001b[43mbest_params_\u001b[49m\n",
      "\u001b[1;31mAttributeError\u001b[0m: 'GridSearchCV' object has no attribute 'best_params_'"
     ]
    }
   ],
   "source": [
    "catb_cv_model.best_params_"
   ]
  },
  {
   "cell_type": "code",
   "execution_count": 266,
   "id": "476799d8",
   "metadata": {},
   "outputs": [
    {
     "name": "stdout",
     "output_type": "stream",
     "text": [
      "0:\tlearn: 442.4903140\ttotal: 8.56ms\tremaining: 8.56s\n",
      "1:\tlearn: 440.4621805\ttotal: 17ms\tremaining: 8.49s\n",
      "2:\tlearn: 438.5132091\ttotal: 26.7ms\tremaining: 8.87s\n",
      "3:\tlearn: 436.2180377\ttotal: 34.8ms\tremaining: 8.67s\n",
      "4:\tlearn: 434.0461579\ttotal: 42.6ms\tremaining: 8.48s\n",
      "5:\tlearn: 431.8437770\ttotal: 51.3ms\tremaining: 8.51s\n",
      "6:\tlearn: 430.1594587\ttotal: 59.5ms\tremaining: 8.44s\n",
      "7:\tlearn: 428.0941830\ttotal: 68.6ms\tremaining: 8.51s\n",
      "8:\tlearn: 426.0998774\ttotal: 132ms\tremaining: 14.5s\n",
      "9:\tlearn: 424.0249067\ttotal: 135ms\tremaining: 13.4s\n",
      "10:\tlearn: 422.1921868\ttotal: 164ms\tremaining: 14.7s\n",
      "11:\tlearn: 420.2506764\ttotal: 181ms\tremaining: 14.9s\n",
      "12:\tlearn: 418.3116383\ttotal: 210ms\tremaining: 15.9s\n",
      "13:\tlearn: 416.2966847\ttotal: 234ms\tremaining: 16.5s\n",
      "14:\tlearn: 414.5776175\ttotal: 254ms\tremaining: 16.7s\n",
      "15:\tlearn: 412.8009394\ttotal: 265ms\tremaining: 16.3s\n",
      "16:\tlearn: 410.9774146\ttotal: 272ms\tremaining: 15.7s\n",
      "17:\tlearn: 409.1047417\ttotal: 280ms\tremaining: 15.2s\n",
      "18:\tlearn: 407.6243957\ttotal: 286ms\tremaining: 14.8s\n",
      "19:\tlearn: 405.9072209\ttotal: 293ms\tremaining: 14.4s\n",
      "20:\tlearn: 404.2566200\ttotal: 300ms\tremaining: 14s\n",
      "21:\tlearn: 402.5329859\ttotal: 306ms\tremaining: 13.6s\n",
      "22:\tlearn: 400.6495607\ttotal: 314ms\tremaining: 13.3s\n",
      "23:\tlearn: 398.8468643\ttotal: 320ms\tremaining: 13s\n",
      "24:\tlearn: 397.0329195\ttotal: 327ms\tremaining: 12.8s\n",
      "25:\tlearn: 395.4747968\ttotal: 333ms\tremaining: 12.5s\n",
      "26:\tlearn: 393.7206925\ttotal: 341ms\tremaining: 12.3s\n",
      "27:\tlearn: 392.2904125\ttotal: 350ms\tremaining: 12.1s\n",
      "28:\tlearn: 390.5630617\ttotal: 357ms\tremaining: 11.9s\n",
      "29:\tlearn: 389.1479370\ttotal: 363ms\tremaining: 11.7s\n",
      "30:\tlearn: 387.6030700\ttotal: 370ms\tremaining: 11.6s\n",
      "31:\tlearn: 386.0164157\ttotal: 378ms\tremaining: 11.4s\n",
      "32:\tlearn: 384.1076046\ttotal: 386ms\tremaining: 11.3s\n",
      "33:\tlearn: 382.3830744\ttotal: 398ms\tremaining: 11.3s\n",
      "34:\tlearn: 380.5987560\ttotal: 417ms\tremaining: 11.5s\n",
      "35:\tlearn: 379.0931667\ttotal: 429ms\tremaining: 11.5s\n",
      "36:\tlearn: 377.6455643\ttotal: 439ms\tremaining: 11.4s\n",
      "37:\tlearn: 376.0951499\ttotal: 445ms\tremaining: 11.3s\n",
      "38:\tlearn: 374.6596684\ttotal: 451ms\tremaining: 11.1s\n",
      "39:\tlearn: 372.8982744\ttotal: 458ms\tremaining: 11s\n",
      "40:\tlearn: 371.4430906\ttotal: 464ms\tremaining: 10.8s\n",
      "41:\tlearn: 370.1346896\ttotal: 469ms\tremaining: 10.7s\n",
      "42:\tlearn: 368.3409801\ttotal: 475ms\tremaining: 10.6s\n",
      "43:\tlearn: 366.9161522\ttotal: 483ms\tremaining: 10.5s\n",
      "44:\tlearn: 365.5390053\ttotal: 492ms\tremaining: 10.4s\n",
      "45:\tlearn: 364.0156710\ttotal: 498ms\tremaining: 10.3s\n",
      "46:\tlearn: 362.5688240\ttotal: 506ms\tremaining: 10.3s\n",
      "47:\tlearn: 361.0766459\ttotal: 513ms\tremaining: 10.2s\n",
      "48:\tlearn: 359.4068914\ttotal: 519ms\tremaining: 10.1s\n",
      "49:\tlearn: 358.0264840\ttotal: 525ms\tremaining: 9.98s\n",
      "50:\tlearn: 356.6569261\ttotal: 531ms\tremaining: 9.88s\n",
      "51:\tlearn: 355.3295581\ttotal: 537ms\tremaining: 9.79s\n",
      "52:\tlearn: 353.7981543\ttotal: 544ms\tremaining: 9.72s\n",
      "53:\tlearn: 352.3857927\ttotal: 554ms\tremaining: 9.71s\n",
      "54:\tlearn: 351.0170630\ttotal: 563ms\tremaining: 9.68s\n",
      "55:\tlearn: 349.5583299\ttotal: 578ms\tremaining: 9.75s\n",
      "56:\tlearn: 348.3551914\ttotal: 587ms\tremaining: 9.71s\n",
      "57:\tlearn: 347.0770426\ttotal: 598ms\tremaining: 9.71s\n",
      "58:\tlearn: 345.9005401\ttotal: 607ms\tremaining: 9.68s\n",
      "59:\tlearn: 344.5492739\ttotal: 619ms\tremaining: 9.7s\n",
      "60:\tlearn: 343.4861303\ttotal: 628ms\tremaining: 9.66s\n",
      "61:\tlearn: 342.1246162\ttotal: 639ms\tremaining: 9.66s\n",
      "62:\tlearn: 340.6842766\ttotal: 651ms\tremaining: 9.68s\n",
      "63:\tlearn: 339.3315019\ttotal: 659ms\tremaining: 9.64s\n",
      "64:\tlearn: 337.8521507\ttotal: 672ms\tremaining: 9.66s\n",
      "65:\tlearn: 336.5759989\ttotal: 684ms\tremaining: 9.68s\n",
      "66:\tlearn: 335.2858902\ttotal: 691ms\tremaining: 9.62s\n",
      "67:\tlearn: 334.0030235\ttotal: 702ms\tremaining: 9.62s\n",
      "68:\tlearn: 332.7313763\ttotal: 714ms\tremaining: 9.63s\n",
      "69:\tlearn: 331.5974885\ttotal: 721ms\tremaining: 9.58s\n",
      "70:\tlearn: 330.5354149\ttotal: 732ms\tremaining: 9.57s\n",
      "71:\tlearn: 329.3024752\ttotal: 742ms\tremaining: 9.56s\n",
      "72:\tlearn: 328.0534820\ttotal: 751ms\tremaining: 9.54s\n",
      "73:\tlearn: 326.9395455\ttotal: 765ms\tremaining: 9.58s\n",
      "74:\tlearn: 325.5288974\ttotal: 777ms\tremaining: 9.59s\n",
      "75:\tlearn: 324.3277188\ttotal: 790ms\tremaining: 9.6s\n",
      "76:\tlearn: 323.0868571\ttotal: 815ms\tremaining: 9.77s\n",
      "77:\tlearn: 321.8690017\ttotal: 835ms\tremaining: 9.87s\n",
      "78:\tlearn: 320.9509169\ttotal: 846ms\tremaining: 9.86s\n",
      "79:\tlearn: 319.8700363\ttotal: 856ms\tremaining: 9.84s\n",
      "80:\tlearn: 318.4920699\ttotal: 862ms\tremaining: 9.78s\n",
      "81:\tlearn: 317.4778062\ttotal: 869ms\tremaining: 9.73s\n",
      "82:\tlearn: 316.3636635\ttotal: 875ms\tremaining: 9.67s\n",
      "83:\tlearn: 315.1041604\ttotal: 881ms\tremaining: 9.61s\n",
      "84:\tlearn: 314.0018701\ttotal: 888ms\tremaining: 9.56s\n",
      "85:\tlearn: 312.8242118\ttotal: 894ms\tremaining: 9.51s\n",
      "86:\tlearn: 311.7133822\ttotal: 900ms\tremaining: 9.45s\n",
      "87:\tlearn: 310.6125773\ttotal: 906ms\tremaining: 9.39s\n",
      "88:\tlearn: 309.5934070\ttotal: 913ms\tremaining: 9.35s\n",
      "89:\tlearn: 308.6035314\ttotal: 919ms\tremaining: 9.29s\n",
      "90:\tlearn: 307.4645756\ttotal: 926ms\tremaining: 9.25s\n",
      "91:\tlearn: 306.3359620\ttotal: 932ms\tremaining: 9.2s\n",
      "92:\tlearn: 305.3546576\ttotal: 938ms\tremaining: 9.15s\n",
      "93:\tlearn: 304.3497567\ttotal: 944ms\tremaining: 9.1s\n",
      "94:\tlearn: 303.3926155\ttotal: 956ms\tremaining: 9.11s\n",
      "95:\tlearn: 302.1234778\ttotal: 972ms\tremaining: 9.15s\n",
      "96:\tlearn: 300.8748060\ttotal: 980ms\tremaining: 9.12s\n",
      "97:\tlearn: 299.8192745\ttotal: 987ms\tremaining: 9.08s\n",
      "98:\tlearn: 298.8369756\ttotal: 998ms\tremaining: 9.08s\n",
      "99:\tlearn: 297.8913508\ttotal: 1.01s\tremaining: 9.1s\n",
      "100:\tlearn: 296.8220741\ttotal: 1.02s\tremaining: 9.12s\n",
      "101:\tlearn: 295.8591240\ttotal: 1.05s\tremaining: 9.26s\n",
      "102:\tlearn: 295.0212733\ttotal: 1.08s\tremaining: 9.39s\n",
      "103:\tlearn: 293.9712550\ttotal: 1.09s\tremaining: 9.4s\n",
      "104:\tlearn: 292.8563786\ttotal: 1.1s\tremaining: 9.39s\n",
      "105:\tlearn: 291.8182216\ttotal: 1.11s\tremaining: 9.39s\n",
      "106:\tlearn: 290.8176654\ttotal: 1.12s\tremaining: 9.38s\n",
      "107:\tlearn: 289.9383970\ttotal: 1.13s\tremaining: 9.32s\n",
      "108:\tlearn: 288.7005005\ttotal: 1.14s\tremaining: 9.32s\n",
      "109:\tlearn: 287.7512562\ttotal: 1.15s\tremaining: 9.31s\n",
      "110:\tlearn: 286.8929047\ttotal: 1.16s\tremaining: 9.29s\n",
      "111:\tlearn: 285.9704538\ttotal: 1.18s\tremaining: 9.33s\n",
      "112:\tlearn: 284.9057160\ttotal: 1.19s\tremaining: 9.3s\n",
      "113:\tlearn: 284.1826027\ttotal: 1.19s\tremaining: 9.28s\n",
      "114:\tlearn: 283.1170272\ttotal: 1.2s\tremaining: 9.25s\n",
      "115:\tlearn: 282.0680805\ttotal: 1.21s\tremaining: 9.22s\n",
      "116:\tlearn: 281.2294931\ttotal: 1.22s\tremaining: 9.18s\n",
      "117:\tlearn: 280.2761021\ttotal: 1.22s\tremaining: 9.14s\n",
      "118:\tlearn: 279.4292163\ttotal: 1.23s\tremaining: 9.09s\n",
      "119:\tlearn: 278.5105683\ttotal: 1.24s\tremaining: 9.06s\n",
      "120:\tlearn: 277.6361767\ttotal: 1.24s\tremaining: 9.02s\n",
      "121:\tlearn: 276.8037869\ttotal: 1.25s\tremaining: 8.98s\n",
      "122:\tlearn: 276.0239867\ttotal: 1.25s\tremaining: 8.95s\n",
      "123:\tlearn: 275.1795488\ttotal: 1.26s\tremaining: 8.91s\n",
      "124:\tlearn: 274.3292722\ttotal: 1.27s\tremaining: 8.87s\n",
      "125:\tlearn: 273.4198837\ttotal: 1.27s\tremaining: 8.83s\n",
      "126:\tlearn: 272.5973891\ttotal: 1.28s\tremaining: 8.79s\n",
      "127:\tlearn: 271.8101515\ttotal: 1.28s\tremaining: 8.76s\n",
      "128:\tlearn: 270.9025424\ttotal: 1.29s\tremaining: 8.72s\n",
      "129:\tlearn: 270.0364886\ttotal: 1.3s\tremaining: 8.68s\n",
      "130:\tlearn: 269.0385322\ttotal: 1.3s\tremaining: 8.64s\n",
      "131:\tlearn: 268.1937827\ttotal: 1.31s\tremaining: 8.61s\n",
      "132:\tlearn: 267.4049794\ttotal: 1.32s\tremaining: 8.58s\n",
      "133:\tlearn: 266.6338446\ttotal: 1.32s\tremaining: 8.54s\n",
      "134:\tlearn: 265.8071481\ttotal: 1.33s\tremaining: 8.53s\n",
      "135:\tlearn: 264.8647141\ttotal: 1.34s\tremaining: 8.51s\n",
      "136:\tlearn: 264.1327683\ttotal: 1.35s\tremaining: 8.49s\n",
      "137:\tlearn: 263.2736152\ttotal: 1.35s\tremaining: 8.47s\n",
      "138:\tlearn: 262.3035083\ttotal: 1.36s\tremaining: 8.43s\n",
      "139:\tlearn: 261.5548509\ttotal: 1.37s\tremaining: 8.41s\n",
      "140:\tlearn: 260.6810614\ttotal: 1.38s\tremaining: 8.38s\n",
      "141:\tlearn: 259.9520565\ttotal: 1.38s\tremaining: 8.35s\n",
      "142:\tlearn: 259.1637940\ttotal: 1.39s\tremaining: 8.32s\n",
      "143:\tlearn: 258.4748956\ttotal: 1.39s\tremaining: 8.29s\n",
      "144:\tlearn: 257.7311746\ttotal: 1.4s\tremaining: 8.26s\n",
      "145:\tlearn: 256.9606337\ttotal: 1.41s\tremaining: 8.24s\n",
      "146:\tlearn: 256.3518311\ttotal: 1.42s\tremaining: 8.24s\n",
      "147:\tlearn: 255.5049330\ttotal: 1.43s\tremaining: 8.23s\n",
      "148:\tlearn: 254.7238850\ttotal: 1.44s\tremaining: 8.21s\n",
      "149:\tlearn: 253.8840501\ttotal: 1.45s\tremaining: 8.2s\n",
      "150:\tlearn: 253.0754983\ttotal: 1.45s\tremaining: 8.17s\n",
      "151:\tlearn: 252.2453750\ttotal: 1.46s\tremaining: 8.14s\n",
      "152:\tlearn: 251.5607633\ttotal: 1.47s\tremaining: 8.11s\n",
      "153:\tlearn: 250.9442552\ttotal: 1.47s\tremaining: 8.09s\n",
      "154:\tlearn: 250.1822151\ttotal: 1.48s\tremaining: 8.06s\n",
      "155:\tlearn: 249.4448988\ttotal: 1.48s\tremaining: 8.03s\n",
      "156:\tlearn: 248.7637093\ttotal: 1.49s\tremaining: 8.01s\n",
      "157:\tlearn: 248.1165411\ttotal: 1.5s\tremaining: 7.98s\n",
      "158:\tlearn: 247.4318005\ttotal: 1.5s\tremaining: 7.95s\n"
     ]
    },
    {
     "name": "stdout",
     "output_type": "stream",
     "text": [
      "159:\tlearn: 246.6414875\ttotal: 1.51s\tremaining: 7.93s\n",
      "160:\tlearn: 245.9710878\ttotal: 1.52s\tremaining: 7.92s\n",
      "161:\tlearn: 245.2531651\ttotal: 1.53s\tremaining: 7.91s\n",
      "162:\tlearn: 244.3669394\ttotal: 1.53s\tremaining: 7.88s\n",
      "163:\tlearn: 243.5127155\ttotal: 1.54s\tremaining: 7.86s\n",
      "164:\tlearn: 242.7095888\ttotal: 1.55s\tremaining: 7.83s\n",
      "165:\tlearn: 242.0376740\ttotal: 1.55s\tremaining: 7.81s\n",
      "166:\tlearn: 241.2252825\ttotal: 1.56s\tremaining: 7.79s\n",
      "167:\tlearn: 240.5849477\ttotal: 1.57s\tremaining: 7.77s\n",
      "168:\tlearn: 239.7800585\ttotal: 1.58s\tremaining: 7.75s\n",
      "169:\tlearn: 239.1427178\ttotal: 1.58s\tremaining: 7.73s\n",
      "170:\tlearn: 238.5203908\ttotal: 1.59s\tremaining: 7.71s\n",
      "171:\tlearn: 237.7975333\ttotal: 1.6s\tremaining: 7.69s\n",
      "172:\tlearn: 237.3602037\ttotal: 1.6s\tremaining: 7.64s\n",
      "173:\tlearn: 236.6786338\ttotal: 1.6s\tremaining: 7.62s\n",
      "174:\tlearn: 236.0202210\ttotal: 1.61s\tremaining: 7.59s\n",
      "175:\tlearn: 235.3476701\ttotal: 1.62s\tremaining: 7.57s\n",
      "176:\tlearn: 234.6718452\ttotal: 1.62s\tremaining: 7.55s\n",
      "177:\tlearn: 233.8885269\ttotal: 1.63s\tremaining: 7.53s\n",
      "178:\tlearn: 233.1892495\ttotal: 1.64s\tremaining: 7.51s\n",
      "179:\tlearn: 232.5527509\ttotal: 1.65s\tremaining: 7.5s\n",
      "180:\tlearn: 231.9618575\ttotal: 1.66s\tremaining: 7.5s\n",
      "181:\tlearn: 231.3342102\ttotal: 1.66s\tremaining: 7.48s\n",
      "182:\tlearn: 230.7244333\ttotal: 1.67s\tremaining: 7.46s\n",
      "183:\tlearn: 230.1436842\ttotal: 1.68s\tremaining: 7.45s\n",
      "184:\tlearn: 229.5095318\ttotal: 1.69s\tremaining: 7.43s\n",
      "185:\tlearn: 228.8917327\ttotal: 1.7s\tremaining: 7.42s\n",
      "186:\tlearn: 228.2636690\ttotal: 1.73s\tremaining: 7.5s\n",
      "187:\tlearn: 227.6023563\ttotal: 1.75s\tremaining: 7.56s\n",
      "188:\tlearn: 227.0846972\ttotal: 1.77s\tremaining: 7.6s\n",
      "189:\tlearn: 226.4545281\ttotal: 1.79s\tremaining: 7.64s\n",
      "190:\tlearn: 225.8981660\ttotal: 1.83s\tremaining: 7.76s\n",
      "191:\tlearn: 225.3663235\ttotal: 1.88s\tremaining: 7.93s\n",
      "192:\tlearn: 224.7996893\ttotal: 1.93s\tremaining: 8.06s\n",
      "193:\tlearn: 224.2439337\ttotal: 1.93s\tremaining: 8.04s\n",
      "194:\tlearn: 223.6864443\ttotal: 1.94s\tremaining: 8.01s\n",
      "195:\tlearn: 223.1405707\ttotal: 1.95s\tremaining: 7.99s\n",
      "196:\tlearn: 222.4965559\ttotal: 1.95s\tremaining: 7.96s\n",
      "197:\tlearn: 221.9452309\ttotal: 1.96s\tremaining: 7.93s\n",
      "198:\tlearn: 221.4075421\ttotal: 1.96s\tremaining: 7.91s\n",
      "199:\tlearn: 220.9138000\ttotal: 1.97s\tremaining: 7.88s\n",
      "200:\tlearn: 220.2814328\ttotal: 1.98s\tremaining: 7.86s\n",
      "201:\tlearn: 219.7271414\ttotal: 1.98s\tremaining: 7.83s\n",
      "202:\tlearn: 219.0639244\ttotal: 1.99s\tremaining: 7.82s\n",
      "203:\tlearn: 218.5511022\ttotal: 2s\tremaining: 7.81s\n",
      "204:\tlearn: 217.9711002\ttotal: 2.01s\tremaining: 7.8s\n",
      "205:\tlearn: 217.3549902\ttotal: 2.02s\tremaining: 7.78s\n",
      "206:\tlearn: 216.7889932\ttotal: 2.03s\tremaining: 7.77s\n",
      "207:\tlearn: 216.2205590\ttotal: 2.03s\tremaining: 7.73s\n",
      "208:\tlearn: 215.6895196\ttotal: 2.04s\tremaining: 7.71s\n",
      "209:\tlearn: 215.2548655\ttotal: 2.05s\tremaining: 7.7s\n",
      "210:\tlearn: 214.7100470\ttotal: 2.05s\tremaining: 7.68s\n",
      "211:\tlearn: 214.2061464\ttotal: 2.06s\tremaining: 7.66s\n",
      "212:\tlearn: 213.5482710\ttotal: 2.07s\tremaining: 7.64s\n",
      "213:\tlearn: 212.8613587\ttotal: 2.08s\tremaining: 7.63s\n",
      "214:\tlearn: 212.3889286\ttotal: 2.08s\tremaining: 7.61s\n",
      "215:\tlearn: 211.8185385\ttotal: 2.09s\tremaining: 7.59s\n",
      "216:\tlearn: 211.2312973\ttotal: 2.1s\tremaining: 7.57s\n",
      "217:\tlearn: 210.7943745\ttotal: 2.1s\tremaining: 7.55s\n",
      "218:\tlearn: 210.2568387\ttotal: 2.11s\tremaining: 7.53s\n",
      "219:\tlearn: 209.7727138\ttotal: 2.12s\tremaining: 7.5s\n",
      "220:\tlearn: 209.1975976\ttotal: 2.12s\tremaining: 7.48s\n",
      "221:\tlearn: 208.6518502\ttotal: 2.13s\tremaining: 7.46s\n",
      "222:\tlearn: 208.0848359\ttotal: 2.13s\tremaining: 7.44s\n",
      "223:\tlearn: 207.5653417\ttotal: 2.14s\tremaining: 7.42s\n",
      "224:\tlearn: 207.0889476\ttotal: 2.15s\tremaining: 7.39s\n",
      "225:\tlearn: 206.5395348\ttotal: 2.15s\tremaining: 7.37s\n",
      "226:\tlearn: 206.0553523\ttotal: 2.16s\tremaining: 7.35s\n",
      "227:\tlearn: 205.5889803\ttotal: 2.16s\tremaining: 7.33s\n",
      "228:\tlearn: 205.0714861\ttotal: 2.17s\tremaining: 7.31s\n",
      "229:\tlearn: 204.5544095\ttotal: 2.18s\tremaining: 7.29s\n",
      "230:\tlearn: 204.0935341\ttotal: 2.18s\tremaining: 7.26s\n",
      "231:\tlearn: 203.6125901\ttotal: 2.19s\tremaining: 7.24s\n",
      "232:\tlearn: 203.1118684\ttotal: 2.19s\tremaining: 7.22s\n",
      "233:\tlearn: 202.5410613\ttotal: 2.2s\tremaining: 7.2s\n",
      "234:\tlearn: 202.1050306\ttotal: 2.21s\tremaining: 7.18s\n",
      "235:\tlearn: 201.6835883\ttotal: 2.21s\tremaining: 7.16s\n",
      "236:\tlearn: 201.0931833\ttotal: 2.22s\tremaining: 7.14s\n",
      "237:\tlearn: 200.5308519\ttotal: 2.22s\tremaining: 7.12s\n",
      "238:\tlearn: 199.9954391\ttotal: 2.23s\tremaining: 7.1s\n",
      "239:\tlearn: 199.5186610\ttotal: 2.24s\tremaining: 7.08s\n",
      "240:\tlearn: 199.1093141\ttotal: 2.24s\tremaining: 7.06s\n",
      "241:\tlearn: 198.5746018\ttotal: 2.25s\tremaining: 7.04s\n",
      "242:\tlearn: 198.1383407\ttotal: 2.26s\tremaining: 7.03s\n",
      "243:\tlearn: 197.6916411\ttotal: 2.27s\tremaining: 7.02s\n",
      "244:\tlearn: 197.2551780\ttotal: 2.27s\tremaining: 7s\n",
      "245:\tlearn: 196.7330181\ttotal: 2.28s\tremaining: 6.98s\n",
      "246:\tlearn: 196.2732548\ttotal: 2.29s\tremaining: 6.97s\n",
      "247:\tlearn: 195.8560885\ttotal: 2.29s\tremaining: 6.96s\n",
      "248:\tlearn: 195.3700247\ttotal: 2.3s\tremaining: 6.93s\n",
      "249:\tlearn: 194.8895663\ttotal: 2.31s\tremaining: 6.92s\n",
      "250:\tlearn: 194.4447238\ttotal: 2.31s\tremaining: 6.9s\n",
      "251:\tlearn: 194.0613196\ttotal: 2.32s\tremaining: 6.88s\n",
      "252:\tlearn: 193.6425545\ttotal: 2.32s\tremaining: 6.86s\n",
      "253:\tlearn: 193.1783742\ttotal: 2.33s\tremaining: 6.84s\n",
      "254:\tlearn: 192.7465667\ttotal: 2.34s\tremaining: 6.83s\n",
      "255:\tlearn: 192.2967688\ttotal: 2.34s\tremaining: 6.81s\n",
      "256:\tlearn: 191.8804441\ttotal: 2.35s\tremaining: 6.79s\n",
      "257:\tlearn: 191.5090531\ttotal: 2.35s\tremaining: 6.77s\n",
      "258:\tlearn: 191.0455241\ttotal: 2.36s\tremaining: 6.76s\n",
      "259:\tlearn: 190.5804047\ttotal: 2.37s\tremaining: 6.74s\n",
      "260:\tlearn: 190.1987326\ttotal: 2.37s\tremaining: 6.72s\n",
      "261:\tlearn: 189.7387514\ttotal: 2.38s\tremaining: 6.71s\n",
      "262:\tlearn: 189.3892566\ttotal: 2.39s\tremaining: 6.7s\n",
      "263:\tlearn: 189.0069465\ttotal: 2.4s\tremaining: 6.68s\n",
      "264:\tlearn: 188.4735789\ttotal: 2.4s\tremaining: 6.67s\n",
      "265:\tlearn: 188.0031990\ttotal: 2.41s\tremaining: 6.65s\n",
      "266:\tlearn: 187.5569533\ttotal: 2.42s\tremaining: 6.63s\n",
      "267:\tlearn: 187.1365168\ttotal: 2.42s\tremaining: 6.62s\n",
      "268:\tlearn: 186.7058257\ttotal: 2.43s\tremaining: 6.61s\n",
      "269:\tlearn: 186.1952995\ttotal: 2.44s\tremaining: 6.6s\n",
      "270:\tlearn: 185.7495740\ttotal: 2.45s\tremaining: 6.6s\n",
      "271:\tlearn: 185.3045224\ttotal: 2.46s\tremaining: 6.59s\n",
      "272:\tlearn: 184.8921259\ttotal: 2.47s\tremaining: 6.58s\n",
      "273:\tlearn: 184.4895175\ttotal: 2.48s\tremaining: 6.57s\n",
      "274:\tlearn: 184.0222103\ttotal: 2.48s\tremaining: 6.55s\n",
      "275:\tlearn: 183.6753470\ttotal: 2.49s\tremaining: 6.54s\n",
      "276:\tlearn: 183.2042526\ttotal: 2.5s\tremaining: 6.52s\n",
      "277:\tlearn: 182.8313521\ttotal: 2.51s\tremaining: 6.51s\n",
      "278:\tlearn: 182.3888084\ttotal: 2.52s\tremaining: 6.5s\n",
      "279:\tlearn: 181.9538677\ttotal: 2.52s\tremaining: 6.49s\n",
      "280:\tlearn: 181.5607928\ttotal: 2.53s\tremaining: 6.47s\n",
      "281:\tlearn: 181.1039348\ttotal: 2.54s\tremaining: 6.46s\n",
      "282:\tlearn: 180.7529046\ttotal: 2.55s\tremaining: 6.45s\n",
      "283:\tlearn: 180.3997023\ttotal: 2.55s\tremaining: 6.44s\n",
      "284:\tlearn: 180.0141712\ttotal: 2.56s\tremaining: 6.43s\n",
      "285:\tlearn: 179.6375708\ttotal: 2.57s\tremaining: 6.41s\n",
      "286:\tlearn: 179.2345343\ttotal: 2.58s\tremaining: 6.4s\n",
      "287:\tlearn: 178.9004867\ttotal: 2.58s\tremaining: 6.38s\n",
      "288:\tlearn: 178.5862608\ttotal: 2.59s\tremaining: 6.37s\n",
      "289:\tlearn: 178.2396298\ttotal: 2.6s\tremaining: 6.36s\n",
      "290:\tlearn: 177.9499185\ttotal: 2.6s\tremaining: 6.34s\n",
      "291:\tlearn: 177.5526593\ttotal: 2.61s\tremaining: 6.33s\n",
      "292:\tlearn: 177.1892667\ttotal: 2.62s\tremaining: 6.31s\n",
      "293:\tlearn: 176.8020321\ttotal: 2.62s\tremaining: 6.29s\n",
      "294:\tlearn: 176.4232131\ttotal: 2.63s\tremaining: 6.29s\n",
      "295:\tlearn: 175.9384562\ttotal: 2.64s\tremaining: 6.27s\n",
      "296:\tlearn: 175.6193802\ttotal: 2.65s\tremaining: 6.26s\n",
      "297:\tlearn: 175.2247348\ttotal: 2.65s\tremaining: 6.25s\n",
      "298:\tlearn: 174.8764605\ttotal: 2.66s\tremaining: 6.23s\n",
      "299:\tlearn: 174.5204292\ttotal: 2.66s\tremaining: 6.22s\n",
      "300:\tlearn: 174.0633517\ttotal: 2.67s\tremaining: 6.2s\n",
      "301:\tlearn: 173.7184992\ttotal: 2.68s\tremaining: 6.18s\n",
      "302:\tlearn: 173.3976789\ttotal: 2.68s\tremaining: 6.17s\n",
      "303:\tlearn: 172.9899050\ttotal: 2.69s\tremaining: 6.16s\n",
      "304:\tlearn: 172.5800821\ttotal: 2.69s\tremaining: 6.14s\n",
      "305:\tlearn: 172.1916259\ttotal: 2.7s\tremaining: 6.13s\n",
      "306:\tlearn: 171.8913870\ttotal: 2.71s\tremaining: 6.11s\n",
      "307:\tlearn: 171.5417261\ttotal: 2.71s\tremaining: 6.1s\n",
      "308:\tlearn: 171.0865354\ttotal: 2.72s\tremaining: 6.09s\n",
      "309:\tlearn: 170.7327916\ttotal: 2.73s\tremaining: 6.07s\n",
      "310:\tlearn: 170.3355800\ttotal: 2.73s\tremaining: 6.06s\n",
      "311:\tlearn: 169.9860064\ttotal: 2.74s\tremaining: 6.04s\n",
      "312:\tlearn: 169.6906788\ttotal: 2.75s\tremaining: 6.03s\n",
      "313:\tlearn: 169.3012355\ttotal: 2.75s\tremaining: 6.01s\n",
      "314:\tlearn: 168.9427924\ttotal: 2.76s\tremaining: 6s\n",
      "315:\tlearn: 168.5765852\ttotal: 2.77s\tremaining: 5.99s\n",
      "316:\tlearn: 168.1591336\ttotal: 2.77s\tremaining: 5.97s\n",
      "317:\tlearn: 167.8198090\ttotal: 2.78s\tremaining: 5.96s\n",
      "318:\tlearn: 167.4951136\ttotal: 2.79s\tremaining: 5.95s\n",
      "319:\tlearn: 167.1549055\ttotal: 2.79s\tremaining: 5.93s\n",
      "320:\tlearn: 166.7758168\ttotal: 2.8s\tremaining: 5.92s\n",
      "321:\tlearn: 166.3745536\ttotal: 2.8s\tremaining: 5.91s\n"
     ]
    },
    {
     "name": "stdout",
     "output_type": "stream",
     "text": [
      "322:\tlearn: 165.9563514\ttotal: 2.81s\tremaining: 5.9s\n",
      "323:\tlearn: 165.6048040\ttotal: 2.82s\tremaining: 5.89s\n",
      "324:\tlearn: 165.2834172\ttotal: 2.83s\tremaining: 5.88s\n",
      "325:\tlearn: 164.8962448\ttotal: 2.84s\tremaining: 5.87s\n",
      "326:\tlearn: 164.6262569\ttotal: 2.84s\tremaining: 5.85s\n",
      "327:\tlearn: 164.3714077\ttotal: 2.85s\tremaining: 5.84s\n",
      "328:\tlearn: 164.0279276\ttotal: 2.85s\tremaining: 5.82s\n",
      "329:\tlearn: 163.6950660\ttotal: 2.86s\tremaining: 5.81s\n",
      "330:\tlearn: 163.3639374\ttotal: 2.87s\tremaining: 5.8s\n",
      "331:\tlearn: 162.9850439\ttotal: 2.87s\tremaining: 5.78s\n",
      "332:\tlearn: 162.6397263\ttotal: 2.88s\tremaining: 5.76s\n",
      "333:\tlearn: 162.2688052\ttotal: 2.88s\tremaining: 5.75s\n",
      "334:\tlearn: 161.9076209\ttotal: 2.89s\tremaining: 5.74s\n",
      "335:\tlearn: 161.6145358\ttotal: 2.9s\tremaining: 5.74s\n",
      "336:\tlearn: 161.3414894\ttotal: 2.91s\tremaining: 5.73s\n",
      "337:\tlearn: 161.0235120\ttotal: 2.92s\tremaining: 5.71s\n",
      "338:\tlearn: 160.6820811\ttotal: 2.92s\tremaining: 5.71s\n",
      "339:\tlearn: 160.3057652\ttotal: 2.93s\tremaining: 5.69s\n",
      "340:\tlearn: 160.0320295\ttotal: 2.94s\tremaining: 5.68s\n",
      "341:\tlearn: 159.6741706\ttotal: 2.94s\tremaining: 5.67s\n",
      "342:\tlearn: 159.3518416\ttotal: 2.95s\tremaining: 5.65s\n",
      "343:\tlearn: 159.0765202\ttotal: 2.96s\tremaining: 5.64s\n",
      "344:\tlearn: 158.7607690\ttotal: 2.96s\tremaining: 5.63s\n",
      "345:\tlearn: 158.4724676\ttotal: 2.97s\tremaining: 5.61s\n",
      "346:\tlearn: 158.1550684\ttotal: 2.98s\tremaining: 5.6s\n",
      "347:\tlearn: 157.8540023\ttotal: 2.98s\tremaining: 5.59s\n",
      "348:\tlearn: 157.5921960\ttotal: 2.99s\tremaining: 5.58s\n",
      "349:\tlearn: 157.2876258\ttotal: 3s\tremaining: 5.57s\n",
      "350:\tlearn: 156.8871771\ttotal: 3.01s\tremaining: 5.56s\n",
      "351:\tlearn: 156.5229626\ttotal: 3.01s\tremaining: 5.54s\n",
      "352:\tlearn: 156.2202617\ttotal: 3.02s\tremaining: 5.53s\n",
      "353:\tlearn: 155.9007090\ttotal: 3.02s\tremaining: 5.52s\n",
      "354:\tlearn: 155.6211303\ttotal: 3.03s\tremaining: 5.51s\n",
      "355:\tlearn: 155.2069077\ttotal: 3.04s\tremaining: 5.5s\n",
      "356:\tlearn: 154.8844414\ttotal: 3.04s\tremaining: 5.48s\n",
      "357:\tlearn: 154.5605465\ttotal: 3.05s\tremaining: 5.47s\n",
      "358:\tlearn: 154.2448718\ttotal: 3.06s\tremaining: 5.46s\n",
      "359:\tlearn: 153.9630957\ttotal: 3.06s\tremaining: 5.45s\n",
      "360:\tlearn: 153.6481181\ttotal: 3.07s\tremaining: 5.43s\n",
      "361:\tlearn: 153.3492313\ttotal: 3.08s\tremaining: 5.42s\n",
      "362:\tlearn: 152.9803592\ttotal: 3.08s\tremaining: 5.41s\n",
      "363:\tlearn: 152.6794712\ttotal: 3.09s\tremaining: 5.4s\n",
      "364:\tlearn: 152.4379058\ttotal: 3.09s\tremaining: 5.38s\n",
      "365:\tlearn: 152.1454105\ttotal: 3.1s\tremaining: 5.37s\n",
      "366:\tlearn: 151.8252785\ttotal: 3.11s\tremaining: 5.36s\n",
      "367:\tlearn: 151.5007582\ttotal: 3.11s\tremaining: 5.35s\n",
      "368:\tlearn: 151.1959273\ttotal: 3.12s\tremaining: 5.33s\n",
      "369:\tlearn: 150.9388387\ttotal: 3.13s\tremaining: 5.32s\n",
      "370:\tlearn: 150.6259550\ttotal: 3.13s\tremaining: 5.31s\n",
      "371:\tlearn: 150.3672724\ttotal: 3.14s\tremaining: 5.3s\n",
      "372:\tlearn: 150.0303144\ttotal: 3.14s\tremaining: 5.28s\n",
      "373:\tlearn: 149.7601184\ttotal: 3.15s\tremaining: 5.27s\n",
      "374:\tlearn: 149.4798282\ttotal: 3.16s\tremaining: 5.26s\n",
      "375:\tlearn: 149.1602823\ttotal: 3.16s\tremaining: 5.25s\n",
      "376:\tlearn: 148.8723587\ttotal: 3.17s\tremaining: 5.24s\n",
      "377:\tlearn: 148.5930346\ttotal: 3.18s\tremaining: 5.24s\n",
      "378:\tlearn: 148.3357258\ttotal: 3.19s\tremaining: 5.22s\n",
      "379:\tlearn: 147.9721446\ttotal: 3.19s\tremaining: 5.21s\n",
      "380:\tlearn: 147.6840472\ttotal: 3.2s\tremaining: 5.2s\n",
      "381:\tlearn: 147.3333187\ttotal: 3.21s\tremaining: 5.19s\n",
      "382:\tlearn: 147.0059042\ttotal: 3.21s\tremaining: 5.18s\n",
      "383:\tlearn: 146.7159886\ttotal: 3.22s\tremaining: 5.17s\n",
      "384:\tlearn: 146.4595326\ttotal: 3.23s\tremaining: 5.16s\n",
      "385:\tlearn: 146.2297844\ttotal: 3.24s\tremaining: 5.15s\n",
      "386:\tlearn: 145.9646759\ttotal: 3.24s\tremaining: 5.14s\n",
      "387:\tlearn: 145.5680719\ttotal: 3.25s\tremaining: 5.13s\n",
      "388:\tlearn: 145.2972467\ttotal: 3.26s\tremaining: 5.11s\n",
      "389:\tlearn: 144.9896418\ttotal: 3.26s\tremaining: 5.1s\n",
      "390:\tlearn: 144.7053091\ttotal: 3.27s\tremaining: 5.09s\n",
      "391:\tlearn: 144.5244424\ttotal: 3.28s\tremaining: 5.08s\n",
      "392:\tlearn: 144.2368494\ttotal: 3.28s\tremaining: 5.07s\n",
      "393:\tlearn: 143.9436266\ttotal: 3.29s\tremaining: 5.06s\n",
      "394:\tlearn: 143.6104806\ttotal: 3.3s\tremaining: 5.05s\n",
      "395:\tlearn: 143.2409760\ttotal: 3.3s\tremaining: 5.04s\n",
      "396:\tlearn: 142.9205477\ttotal: 3.31s\tremaining: 5.03s\n",
      "397:\tlearn: 142.5621441\ttotal: 3.32s\tremaining: 5.02s\n",
      "398:\tlearn: 142.3202696\ttotal: 3.33s\tremaining: 5.01s\n",
      "399:\tlearn: 142.0090832\ttotal: 3.33s\tremaining: 5s\n",
      "400:\tlearn: 141.7341676\ttotal: 3.34s\tremaining: 4.98s\n",
      "401:\tlearn: 141.4697784\ttotal: 3.34s\tremaining: 4.97s\n",
      "402:\tlearn: 141.2378690\ttotal: 3.35s\tremaining: 4.96s\n",
      "403:\tlearn: 140.9564685\ttotal: 3.36s\tremaining: 4.95s\n",
      "404:\tlearn: 140.6286408\ttotal: 3.37s\tremaining: 4.94s\n",
      "405:\tlearn: 140.3455536\ttotal: 3.37s\tremaining: 4.93s\n",
      "406:\tlearn: 140.0538746\ttotal: 3.38s\tremaining: 4.92s\n",
      "407:\tlearn: 139.8066967\ttotal: 3.38s\tremaining: 4.91s\n",
      "408:\tlearn: 139.6094779\ttotal: 3.39s\tremaining: 4.9s\n",
      "409:\tlearn: 139.3036004\ttotal: 3.4s\tremaining: 4.89s\n",
      "410:\tlearn: 139.0291013\ttotal: 3.4s\tremaining: 4.88s\n",
      "411:\tlearn: 138.7195040\ttotal: 3.41s\tremaining: 4.87s\n",
      "412:\tlearn: 138.4183834\ttotal: 3.42s\tremaining: 4.85s\n",
      "413:\tlearn: 138.1022609\ttotal: 3.42s\tremaining: 4.84s\n",
      "414:\tlearn: 137.8207080\ttotal: 3.43s\tremaining: 4.83s\n",
      "415:\tlearn: 137.5729655\ttotal: 3.43s\tremaining: 4.82s\n",
      "416:\tlearn: 137.3495917\ttotal: 3.44s\tremaining: 4.81s\n",
      "417:\tlearn: 137.0422472\ttotal: 3.44s\tremaining: 4.8s\n",
      "418:\tlearn: 136.8214494\ttotal: 3.45s\tremaining: 4.79s\n",
      "419:\tlearn: 136.5076515\ttotal: 3.46s\tremaining: 4.78s\n",
      "420:\tlearn: 136.3585909\ttotal: 3.47s\tremaining: 4.77s\n",
      "421:\tlearn: 136.0875931\ttotal: 3.48s\tremaining: 4.76s\n",
      "422:\tlearn: 135.8127148\ttotal: 3.49s\tremaining: 4.75s\n",
      "423:\tlearn: 135.5266643\ttotal: 3.49s\tremaining: 4.75s\n",
      "424:\tlearn: 135.2749632\ttotal: 3.5s\tremaining: 4.73s\n",
      "425:\tlearn: 134.9955325\ttotal: 3.5s\tremaining: 4.72s\n",
      "426:\tlearn: 134.8426380\ttotal: 3.51s\tremaining: 4.71s\n",
      "427:\tlearn: 134.6366142\ttotal: 3.52s\tremaining: 4.7s\n",
      "428:\tlearn: 134.4447638\ttotal: 3.52s\tremaining: 4.69s\n",
      "429:\tlearn: 134.1758603\ttotal: 3.53s\tremaining: 4.68s\n",
      "430:\tlearn: 133.9419536\ttotal: 3.54s\tremaining: 4.67s\n",
      "431:\tlearn: 133.7532787\ttotal: 3.55s\tremaining: 4.66s\n",
      "432:\tlearn: 133.5492117\ttotal: 3.55s\tremaining: 4.65s\n",
      "433:\tlearn: 133.2563576\ttotal: 3.56s\tremaining: 4.64s\n",
      "434:\tlearn: 133.0481736\ttotal: 3.57s\tremaining: 4.63s\n",
      "435:\tlearn: 132.7525624\ttotal: 3.57s\tremaining: 4.62s\n",
      "436:\tlearn: 132.4521937\ttotal: 3.58s\tremaining: 4.61s\n",
      "437:\tlearn: 132.2383939\ttotal: 3.59s\tremaining: 4.6s\n",
      "438:\tlearn: 132.0642229\ttotal: 3.59s\tremaining: 4.59s\n",
      "439:\tlearn: 131.8013040\ttotal: 3.6s\tremaining: 4.58s\n",
      "440:\tlearn: 131.5727053\ttotal: 3.6s\tremaining: 4.57s\n",
      "441:\tlearn: 131.3640440\ttotal: 3.61s\tremaining: 4.56s\n",
      "442:\tlearn: 131.1310529\ttotal: 3.62s\tremaining: 4.55s\n",
      "443:\tlearn: 130.8932823\ttotal: 3.62s\tremaining: 4.54s\n",
      "444:\tlearn: 130.6886984\ttotal: 3.63s\tremaining: 4.53s\n",
      "445:\tlearn: 130.4973668\ttotal: 3.63s\tremaining: 4.52s\n",
      "446:\tlearn: 130.2957520\ttotal: 3.64s\tremaining: 4.51s\n",
      "447:\tlearn: 130.0725013\ttotal: 3.65s\tremaining: 4.5s\n",
      "448:\tlearn: 129.8443323\ttotal: 3.65s\tremaining: 4.48s\n",
      "449:\tlearn: 129.6845380\ttotal: 3.66s\tremaining: 4.47s\n",
      "450:\tlearn: 129.4355077\ttotal: 3.67s\tremaining: 4.46s\n",
      "451:\tlearn: 129.2839419\ttotal: 3.67s\tremaining: 4.45s\n",
      "452:\tlearn: 129.1005450\ttotal: 3.68s\tremaining: 4.44s\n",
      "453:\tlearn: 128.8308564\ttotal: 3.68s\tremaining: 4.43s\n",
      "454:\tlearn: 128.5394744\ttotal: 3.69s\tremaining: 4.42s\n",
      "455:\tlearn: 128.3202027\ttotal: 3.7s\tremaining: 4.41s\n",
      "456:\tlearn: 128.0629767\ttotal: 3.7s\tremaining: 4.4s\n",
      "457:\tlearn: 127.7697386\ttotal: 3.71s\tremaining: 4.39s\n",
      "458:\tlearn: 127.5861938\ttotal: 3.73s\tremaining: 4.4s\n",
      "459:\tlearn: 127.3608372\ttotal: 3.75s\tremaining: 4.4s\n",
      "460:\tlearn: 127.1990907\ttotal: 3.77s\tremaining: 4.41s\n",
      "461:\tlearn: 126.9800344\ttotal: 3.79s\tremaining: 4.41s\n",
      "462:\tlearn: 126.7419781\ttotal: 3.8s\tremaining: 4.41s\n",
      "463:\tlearn: 126.5239001\ttotal: 3.83s\tremaining: 4.43s\n",
      "464:\tlearn: 126.3470799\ttotal: 3.84s\tremaining: 4.42s\n",
      "465:\tlearn: 126.1115795\ttotal: 3.84s\tremaining: 4.41s\n",
      "466:\tlearn: 125.9141714\ttotal: 3.85s\tremaining: 4.39s\n",
      "467:\tlearn: 125.7057646\ttotal: 3.86s\tremaining: 4.38s\n",
      "468:\tlearn: 125.5275874\ttotal: 3.86s\tremaining: 4.37s\n",
      "469:\tlearn: 125.3814207\ttotal: 3.87s\tremaining: 4.36s\n",
      "470:\tlearn: 125.1846902\ttotal: 3.88s\tremaining: 4.35s\n",
      "471:\tlearn: 124.9618558\ttotal: 3.88s\tremaining: 4.35s\n",
      "472:\tlearn: 124.8059010\ttotal: 3.89s\tremaining: 4.34s\n",
      "473:\tlearn: 124.6679543\ttotal: 3.91s\tremaining: 4.33s\n",
      "474:\tlearn: 124.4351701\ttotal: 3.92s\tremaining: 4.33s\n",
      "475:\tlearn: 124.1850043\ttotal: 3.92s\tremaining: 4.32s\n",
      "476:\tlearn: 124.0107814\ttotal: 3.93s\tremaining: 4.31s\n",
      "477:\tlearn: 123.7662720\ttotal: 3.94s\tremaining: 4.3s\n",
      "478:\tlearn: 123.5309899\ttotal: 3.94s\tremaining: 4.29s\n",
      "479:\tlearn: 123.4672046\ttotal: 3.95s\tremaining: 4.28s\n",
      "480:\tlearn: 123.2897002\ttotal: 3.96s\tremaining: 4.27s\n",
      "481:\tlearn: 123.0033119\ttotal: 3.96s\tremaining: 4.26s\n",
      "482:\tlearn: 122.8439888\ttotal: 3.97s\tremaining: 4.25s\n",
      "483:\tlearn: 122.6800623\ttotal: 3.97s\tremaining: 4.24s\n",
      "484:\tlearn: 122.4535577\ttotal: 3.98s\tremaining: 4.23s\n",
      "485:\tlearn: 122.1891223\ttotal: 3.99s\tremaining: 4.22s\n",
      "486:\tlearn: 121.9669599\ttotal: 3.99s\tremaining: 4.21s\n",
      "487:\tlearn: 121.7743559\ttotal: 4s\tremaining: 4.19s\n",
      "488:\tlearn: 121.5473929\ttotal: 4s\tremaining: 4.18s\n",
      "489:\tlearn: 121.3481257\ttotal: 4.01s\tremaining: 4.17s\n",
      "490:\tlearn: 121.1925265\ttotal: 4.02s\tremaining: 4.16s\n",
      "491:\tlearn: 120.9540115\ttotal: 4.02s\tremaining: 4.15s\n",
      "492:\tlearn: 120.8069064\ttotal: 4.03s\tremaining: 4.14s\n",
      "493:\tlearn: 120.6126132\ttotal: 4.03s\tremaining: 4.13s\n",
      "494:\tlearn: 120.4349949\ttotal: 4.04s\tremaining: 4.12s\n",
      "495:\tlearn: 120.2533516\ttotal: 4.05s\tremaining: 4.11s\n",
      "496:\tlearn: 120.0348841\ttotal: 4.05s\tremaining: 4.1s\n",
      "497:\tlearn: 119.7489266\ttotal: 4.06s\tremaining: 4.1s\n",
      "498:\tlearn: 119.6030455\ttotal: 4.09s\tremaining: 4.11s\n"
     ]
    },
    {
     "name": "stdout",
     "output_type": "stream",
     "text": [
      "499:\tlearn: 119.4692821\ttotal: 4.1s\tremaining: 4.1s\n",
      "500:\tlearn: 119.3949425\ttotal: 4.12s\tremaining: 4.1s\n",
      "501:\tlearn: 119.2757248\ttotal: 4.14s\tremaining: 4.11s\n",
      "502:\tlearn: 119.1466102\ttotal: 4.15s\tremaining: 4.1s\n",
      "503:\tlearn: 118.9603349\ttotal: 4.17s\tremaining: 4.11s\n",
      "504:\tlearn: 118.7318459\ttotal: 4.18s\tremaining: 4.1s\n",
      "505:\tlearn: 118.5723044\ttotal: 4.19s\tremaining: 4.09s\n",
      "506:\tlearn: 118.3677627\ttotal: 4.19s\tremaining: 4.08s\n",
      "507:\tlearn: 118.3016336\ttotal: 4.2s\tremaining: 4.07s\n",
      "508:\tlearn: 118.0639161\ttotal: 4.21s\tremaining: 4.06s\n",
      "509:\tlearn: 117.8040530\ttotal: 4.21s\tremaining: 4.05s\n",
      "510:\tlearn: 117.7566037\ttotal: 4.22s\tremaining: 4.04s\n",
      "511:\tlearn: 117.5614328\ttotal: 4.22s\tremaining: 4.03s\n",
      "512:\tlearn: 117.4239520\ttotal: 4.23s\tremaining: 4.02s\n",
      "513:\tlearn: 117.3234982\ttotal: 4.24s\tremaining: 4s\n",
      "514:\tlearn: 117.1492514\ttotal: 4.24s\tremaining: 4s\n",
      "515:\tlearn: 116.9649623\ttotal: 4.25s\tremaining: 3.98s\n",
      "516:\tlearn: 116.7689767\ttotal: 4.25s\tremaining: 3.98s\n",
      "517:\tlearn: 116.6069525\ttotal: 4.26s\tremaining: 3.96s\n",
      "518:\tlearn: 116.4069113\ttotal: 4.27s\tremaining: 3.96s\n",
      "519:\tlearn: 116.2038416\ttotal: 4.27s\tremaining: 3.94s\n",
      "520:\tlearn: 116.0802347\ttotal: 4.28s\tremaining: 3.94s\n",
      "521:\tlearn: 115.9350325\ttotal: 4.29s\tremaining: 3.93s\n",
      "522:\tlearn: 115.7883566\ttotal: 4.3s\tremaining: 3.92s\n",
      "523:\tlearn: 115.5246179\ttotal: 4.3s\tremaining: 3.91s\n",
      "524:\tlearn: 115.3667320\ttotal: 4.31s\tremaining: 3.9s\n",
      "525:\tlearn: 115.0996457\ttotal: 4.32s\tremaining: 3.89s\n",
      "526:\tlearn: 114.8182345\ttotal: 4.32s\tremaining: 3.88s\n",
      "527:\tlearn: 114.5906540\ttotal: 4.33s\tremaining: 3.87s\n",
      "528:\tlearn: 114.3732011\ttotal: 4.34s\tremaining: 3.86s\n",
      "529:\tlearn: 114.2005273\ttotal: 4.34s\tremaining: 3.85s\n",
      "530:\tlearn: 114.0472285\ttotal: 4.35s\tremaining: 3.84s\n",
      "531:\tlearn: 113.8885604\ttotal: 4.35s\tremaining: 3.83s\n",
      "532:\tlearn: 113.7263872\ttotal: 4.36s\tremaining: 3.82s\n",
      "533:\tlearn: 113.4764723\ttotal: 4.37s\tremaining: 3.81s\n",
      "534:\tlearn: 113.1900983\ttotal: 4.37s\tremaining: 3.8s\n",
      "535:\tlearn: 112.9875371\ttotal: 4.38s\tremaining: 3.79s\n",
      "536:\tlearn: 112.8807559\ttotal: 4.38s\tremaining: 3.78s\n",
      "537:\tlearn: 112.7116373\ttotal: 4.39s\tremaining: 3.77s\n",
      "538:\tlearn: 112.5438403\ttotal: 4.4s\tremaining: 3.76s\n",
      "539:\tlearn: 112.4280788\ttotal: 4.4s\tremaining: 3.75s\n",
      "540:\tlearn: 112.2994647\ttotal: 4.41s\tremaining: 3.74s\n",
      "541:\tlearn: 112.1969194\ttotal: 4.42s\tremaining: 3.73s\n",
      "542:\tlearn: 112.0154639\ttotal: 4.42s\tremaining: 3.72s\n",
      "543:\tlearn: 111.8500617\ttotal: 4.43s\tremaining: 3.72s\n",
      "544:\tlearn: 111.7513874\ttotal: 4.44s\tremaining: 3.71s\n",
      "545:\tlearn: 111.5374046\ttotal: 4.45s\tremaining: 3.7s\n",
      "546:\tlearn: 111.5013655\ttotal: 4.45s\tremaining: 3.69s\n",
      "547:\tlearn: 111.2316916\ttotal: 4.47s\tremaining: 3.68s\n",
      "548:\tlearn: 111.0692886\ttotal: 4.47s\tremaining: 3.67s\n",
      "549:\tlearn: 111.0299880\ttotal: 4.47s\tremaining: 3.66s\n",
      "550:\tlearn: 110.7495396\ttotal: 4.48s\tremaining: 3.65s\n",
      "551:\tlearn: 110.6307478\ttotal: 4.49s\tremaining: 3.65s\n",
      "552:\tlearn: 110.4760852\ttotal: 4.5s\tremaining: 3.64s\n",
      "553:\tlearn: 110.3104481\ttotal: 4.51s\tremaining: 3.63s\n",
      "554:\tlearn: 110.1890459\ttotal: 4.51s\tremaining: 3.62s\n",
      "555:\tlearn: 110.0068442\ttotal: 4.52s\tremaining: 3.61s\n",
      "556:\tlearn: 109.8857167\ttotal: 4.53s\tremaining: 3.6s\n",
      "557:\tlearn: 109.7671474\ttotal: 4.53s\tremaining: 3.59s\n",
      "558:\tlearn: 109.6875021\ttotal: 4.54s\tremaining: 3.58s\n",
      "559:\tlearn: 109.5053880\ttotal: 4.55s\tremaining: 3.57s\n",
      "560:\tlearn: 109.4225412\ttotal: 4.55s\tremaining: 3.56s\n",
      "561:\tlearn: 109.3209120\ttotal: 4.55s\tremaining: 3.55s\n",
      "562:\tlearn: 109.1523627\ttotal: 4.56s\tremaining: 3.54s\n",
      "563:\tlearn: 108.9785469\ttotal: 4.57s\tremaining: 3.53s\n",
      "564:\tlearn: 108.8630109\ttotal: 4.58s\tremaining: 3.52s\n",
      "565:\tlearn: 108.6927763\ttotal: 4.58s\tremaining: 3.51s\n",
      "566:\tlearn: 108.5644202\ttotal: 4.59s\tremaining: 3.5s\n",
      "567:\tlearn: 108.4686802\ttotal: 4.59s\tremaining: 3.49s\n",
      "568:\tlearn: 108.3516003\ttotal: 4.6s\tremaining: 3.48s\n",
      "569:\tlearn: 108.2034316\ttotal: 4.6s\tremaining: 3.47s\n",
      "570:\tlearn: 107.9909839\ttotal: 4.61s\tremaining: 3.46s\n",
      "571:\tlearn: 107.8097893\ttotal: 4.62s\tremaining: 3.45s\n",
      "572:\tlearn: 107.7190329\ttotal: 4.62s\tremaining: 3.44s\n",
      "573:\tlearn: 107.5955492\ttotal: 4.63s\tremaining: 3.43s\n",
      "574:\tlearn: 107.4114063\ttotal: 4.63s\tremaining: 3.42s\n",
      "575:\tlearn: 107.2678682\ttotal: 4.64s\tremaining: 3.42s\n",
      "576:\tlearn: 107.1561796\ttotal: 4.65s\tremaining: 3.41s\n",
      "577:\tlearn: 106.9391095\ttotal: 4.66s\tremaining: 3.4s\n",
      "578:\tlearn: 106.8267979\ttotal: 4.67s\tremaining: 3.39s\n",
      "579:\tlearn: 106.7890349\ttotal: 4.67s\tremaining: 3.38s\n",
      "580:\tlearn: 106.7388337\ttotal: 4.67s\tremaining: 3.37s\n",
      "581:\tlearn: 106.5384582\ttotal: 4.67s\tremaining: 3.36s\n",
      "582:\tlearn: 106.4346546\ttotal: 4.68s\tremaining: 3.35s\n",
      "583:\tlearn: 106.2563176\ttotal: 4.69s\tremaining: 3.34s\n",
      "584:\tlearn: 106.1822447\ttotal: 4.69s\tremaining: 3.33s\n",
      "585:\tlearn: 106.0678834\ttotal: 4.7s\tremaining: 3.32s\n",
      "586:\tlearn: 105.9302109\ttotal: 4.71s\tremaining: 3.31s\n",
      "587:\tlearn: 105.8517913\ttotal: 4.71s\tremaining: 3.3s\n",
      "588:\tlearn: 105.7009669\ttotal: 4.72s\tremaining: 3.29s\n",
      "589:\tlearn: 105.5977449\ttotal: 4.73s\tremaining: 3.28s\n",
      "590:\tlearn: 105.4238727\ttotal: 4.73s\tremaining: 3.27s\n",
      "591:\tlearn: 105.2037423\ttotal: 4.74s\tremaining: 3.27s\n",
      "592:\tlearn: 105.0850400\ttotal: 4.75s\tremaining: 3.26s\n",
      "593:\tlearn: 104.8609829\ttotal: 4.75s\tremaining: 3.25s\n",
      "594:\tlearn: 104.7115993\ttotal: 4.76s\tremaining: 3.24s\n",
      "595:\tlearn: 104.5411376\ttotal: 4.76s\tremaining: 3.23s\n",
      "596:\tlearn: 104.3453496\ttotal: 4.77s\tremaining: 3.22s\n",
      "597:\tlearn: 104.2429765\ttotal: 4.78s\tremaining: 3.21s\n",
      "598:\tlearn: 104.0554483\ttotal: 4.78s\tremaining: 3.2s\n",
      "599:\tlearn: 103.9471122\ttotal: 4.79s\tremaining: 3.19s\n",
      "600:\tlearn: 103.8290948\ttotal: 4.8s\tremaining: 3.19s\n",
      "601:\tlearn: 103.7203594\ttotal: 4.82s\tremaining: 3.18s\n",
      "602:\tlearn: 103.5081236\ttotal: 4.84s\tremaining: 3.19s\n",
      "603:\tlearn: 103.3818526\ttotal: 4.86s\tremaining: 3.18s\n",
      "604:\tlearn: 103.2476062\ttotal: 4.87s\tremaining: 3.18s\n",
      "605:\tlearn: 103.1231281\ttotal: 4.93s\tremaining: 3.2s\n",
      "606:\tlearn: 103.0029273\ttotal: 4.94s\tremaining: 3.2s\n",
      "607:\tlearn: 102.9542972\ttotal: 4.98s\tremaining: 3.21s\n",
      "608:\tlearn: 102.7900494\ttotal: 4.99s\tremaining: 3.21s\n",
      "609:\tlearn: 102.6682469\ttotal: 5.03s\tremaining: 3.21s\n",
      "610:\tlearn: 102.4409710\ttotal: 5.04s\tremaining: 3.21s\n",
      "611:\tlearn: 102.2598504\ttotal: 5.04s\tremaining: 3.2s\n",
      "612:\tlearn: 102.1175213\ttotal: 5.05s\tremaining: 3.19s\n",
      "613:\tlearn: 101.9424930\ttotal: 5.06s\tremaining: 3.18s\n",
      "614:\tlearn: 101.7299370\ttotal: 5.06s\tremaining: 3.17s\n",
      "615:\tlearn: 101.6369346\ttotal: 5.07s\tremaining: 3.16s\n",
      "616:\tlearn: 101.5078611\ttotal: 5.08s\tremaining: 3.15s\n",
      "617:\tlearn: 101.3881910\ttotal: 5.08s\tremaining: 3.14s\n",
      "618:\tlearn: 101.2881064\ttotal: 5.08s\tremaining: 3.13s\n",
      "619:\tlearn: 101.0763295\ttotal: 5.09s\tremaining: 3.12s\n",
      "620:\tlearn: 100.9235519\ttotal: 5.09s\tremaining: 3.11s\n",
      "621:\tlearn: 100.7559232\ttotal: 5.1s\tremaining: 3.1s\n",
      "622:\tlearn: 100.6828743\ttotal: 5.11s\tremaining: 3.09s\n",
      "623:\tlearn: 100.5489083\ttotal: 5.11s\tremaining: 3.08s\n",
      "624:\tlearn: 100.4173269\ttotal: 5.12s\tremaining: 3.07s\n",
      "625:\tlearn: 100.2649714\ttotal: 5.13s\tremaining: 3.06s\n",
      "626:\tlearn: 100.1380779\ttotal: 5.13s\tremaining: 3.05s\n",
      "627:\tlearn: 100.0332459\ttotal: 5.14s\tremaining: 3.04s\n",
      "628:\tlearn: 99.9352967\ttotal: 5.14s\tremaining: 3.03s\n",
      "629:\tlearn: 99.7696480\ttotal: 5.15s\tremaining: 3.02s\n",
      "630:\tlearn: 99.5683546\ttotal: 5.16s\tremaining: 3.02s\n",
      "631:\tlearn: 99.3611848\ttotal: 5.16s\tremaining: 3.01s\n",
      "632:\tlearn: 99.1615484\ttotal: 5.17s\tremaining: 3s\n",
      "633:\tlearn: 99.0199091\ttotal: 5.17s\tremaining: 2.99s\n",
      "634:\tlearn: 98.9243716\ttotal: 5.18s\tremaining: 2.98s\n",
      "635:\tlearn: 98.7602551\ttotal: 5.19s\tremaining: 2.97s\n",
      "636:\tlearn: 98.5602308\ttotal: 5.19s\tremaining: 2.96s\n",
      "637:\tlearn: 98.4943544\ttotal: 5.2s\tremaining: 2.95s\n",
      "638:\tlearn: 98.2880646\ttotal: 5.21s\tremaining: 2.94s\n",
      "639:\tlearn: 98.1958708\ttotal: 5.21s\tremaining: 2.93s\n",
      "640:\tlearn: 97.9929031\ttotal: 5.22s\tremaining: 2.92s\n",
      "641:\tlearn: 97.8281350\ttotal: 5.23s\tremaining: 2.92s\n",
      "642:\tlearn: 97.6819077\ttotal: 5.24s\tremaining: 2.91s\n",
      "643:\tlearn: 97.5315662\ttotal: 5.24s\tremaining: 2.9s\n",
      "644:\tlearn: 97.3686404\ttotal: 5.25s\tremaining: 2.89s\n",
      "645:\tlearn: 97.2893437\ttotal: 5.25s\tremaining: 2.88s\n",
      "646:\tlearn: 97.1200548\ttotal: 5.26s\tremaining: 2.87s\n",
      "647:\tlearn: 96.9817314\ttotal: 5.26s\tremaining: 2.86s\n",
      "648:\tlearn: 96.7168256\ttotal: 5.27s\tremaining: 2.85s\n",
      "649:\tlearn: 96.6226668\ttotal: 5.28s\tremaining: 2.84s\n",
      "650:\tlearn: 96.4970561\ttotal: 5.28s\tremaining: 2.83s\n",
      "651:\tlearn: 96.4146371\ttotal: 5.29s\tremaining: 2.82s\n",
      "652:\tlearn: 96.2533866\ttotal: 5.29s\tremaining: 2.81s\n",
      "653:\tlearn: 96.0438576\ttotal: 5.3s\tremaining: 2.8s\n",
      "654:\tlearn: 95.9157294\ttotal: 5.31s\tremaining: 2.79s\n",
      "655:\tlearn: 95.7638289\ttotal: 5.31s\tremaining: 2.79s\n",
      "656:\tlearn: 95.5478205\ttotal: 5.32s\tremaining: 2.78s\n",
      "657:\tlearn: 95.4219891\ttotal: 5.32s\tremaining: 2.77s\n",
      "658:\tlearn: 95.2741663\ttotal: 5.33s\tremaining: 2.76s\n",
      "659:\tlearn: 95.1524650\ttotal: 5.33s\tremaining: 2.75s\n",
      "660:\tlearn: 95.0503747\ttotal: 5.34s\tremaining: 2.74s\n",
      "661:\tlearn: 94.9759355\ttotal: 5.35s\tremaining: 2.73s\n",
      "662:\tlearn: 94.9514067\ttotal: 5.35s\tremaining: 2.72s\n",
      "663:\tlearn: 94.8415158\ttotal: 5.35s\tremaining: 2.71s\n",
      "664:\tlearn: 94.7901176\ttotal: 5.36s\tremaining: 2.7s\n",
      "665:\tlearn: 94.5799555\ttotal: 5.36s\tremaining: 2.69s\n",
      "666:\tlearn: 94.5091086\ttotal: 5.37s\tremaining: 2.68s\n",
      "667:\tlearn: 94.4236909\ttotal: 5.37s\tremaining: 2.67s\n",
      "668:\tlearn: 94.3091329\ttotal: 5.38s\tremaining: 2.66s\n",
      "669:\tlearn: 94.1501800\ttotal: 5.38s\tremaining: 2.65s\n",
      "670:\tlearn: 93.9579921\ttotal: 5.39s\tremaining: 2.64s\n"
     ]
    },
    {
     "name": "stdout",
     "output_type": "stream",
     "text": [
      "671:\tlearn: 93.8826542\ttotal: 5.4s\tremaining: 2.63s\n",
      "672:\tlearn: 93.7949033\ttotal: 5.41s\tremaining: 2.63s\n",
      "673:\tlearn: 93.6860967\ttotal: 5.44s\tremaining: 2.63s\n",
      "674:\tlearn: 93.5794880\ttotal: 5.46s\tremaining: 2.63s\n",
      "675:\tlearn: 93.4918227\ttotal: 5.48s\tremaining: 2.63s\n",
      "676:\tlearn: 93.3896233\ttotal: 5.49s\tremaining: 2.62s\n",
      "677:\tlearn: 93.3028217\ttotal: 5.5s\tremaining: 2.61s\n",
      "678:\tlearn: 93.2060608\ttotal: 5.5s\tremaining: 2.6s\n",
      "679:\tlearn: 93.0268037\ttotal: 5.51s\tremaining: 2.59s\n",
      "680:\tlearn: 92.8643379\ttotal: 5.51s\tremaining: 2.58s\n",
      "681:\tlearn: 92.7431070\ttotal: 5.52s\tremaining: 2.57s\n",
      "682:\tlearn: 92.6613701\ttotal: 5.53s\tremaining: 2.56s\n",
      "683:\tlearn: 92.4015024\ttotal: 5.53s\tremaining: 2.56s\n",
      "684:\tlearn: 92.2993218\ttotal: 5.54s\tremaining: 2.55s\n",
      "685:\tlearn: 92.1847517\ttotal: 5.54s\tremaining: 2.54s\n",
      "686:\tlearn: 91.9796714\ttotal: 5.55s\tremaining: 2.53s\n",
      "687:\tlearn: 91.9517394\ttotal: 5.55s\tremaining: 2.52s\n",
      "688:\tlearn: 91.8181586\ttotal: 5.56s\tremaining: 2.51s\n",
      "689:\tlearn: 91.6217954\ttotal: 5.57s\tremaining: 2.5s\n",
      "690:\tlearn: 91.5021671\ttotal: 5.57s\tremaining: 2.49s\n",
      "691:\tlearn: 91.3463092\ttotal: 5.58s\tremaining: 2.48s\n",
      "692:\tlearn: 91.2225923\ttotal: 5.59s\tremaining: 2.48s\n",
      "693:\tlearn: 91.1528174\ttotal: 5.59s\tremaining: 2.47s\n",
      "694:\tlearn: 91.0733822\ttotal: 5.6s\tremaining: 2.46s\n",
      "695:\tlearn: 90.9056056\ttotal: 5.61s\tremaining: 2.45s\n",
      "696:\tlearn: 90.8061401\ttotal: 5.61s\tremaining: 2.44s\n",
      "697:\tlearn: 90.6976505\ttotal: 5.62s\tremaining: 2.43s\n",
      "698:\tlearn: 90.5760837\ttotal: 5.63s\tremaining: 2.42s\n",
      "699:\tlearn: 90.5042354\ttotal: 5.63s\tremaining: 2.41s\n",
      "700:\tlearn: 90.3055885\ttotal: 5.64s\tremaining: 2.4s\n",
      "701:\tlearn: 90.2246569\ttotal: 5.64s\tremaining: 2.4s\n",
      "702:\tlearn: 89.9386116\ttotal: 5.65s\tremaining: 2.39s\n",
      "703:\tlearn: 89.8242673\ttotal: 5.66s\tremaining: 2.38s\n",
      "704:\tlearn: 89.7514228\ttotal: 5.66s\tremaining: 2.37s\n",
      "705:\tlearn: 89.6534119\ttotal: 5.67s\tremaining: 2.36s\n",
      "706:\tlearn: 89.5031089\ttotal: 5.67s\tremaining: 2.35s\n",
      "707:\tlearn: 89.3808877\ttotal: 5.68s\tremaining: 2.34s\n",
      "708:\tlearn: 89.2217728\ttotal: 5.69s\tremaining: 2.33s\n",
      "709:\tlearn: 89.0532527\ttotal: 5.69s\tremaining: 2.33s\n",
      "710:\tlearn: 88.8421488\ttotal: 5.7s\tremaining: 2.32s\n",
      "711:\tlearn: 88.7880217\ttotal: 5.7s\tremaining: 2.31s\n",
      "712:\tlearn: 88.6383884\ttotal: 5.71s\tremaining: 2.3s\n",
      "713:\tlearn: 88.5585592\ttotal: 5.71s\tremaining: 2.29s\n",
      "714:\tlearn: 88.4867982\ttotal: 5.72s\tremaining: 2.28s\n",
      "715:\tlearn: 88.3332001\ttotal: 5.72s\tremaining: 2.27s\n",
      "716:\tlearn: 88.2431535\ttotal: 5.73s\tremaining: 2.26s\n",
      "717:\tlearn: 88.1582019\ttotal: 5.74s\tremaining: 2.25s\n",
      "718:\tlearn: 87.9663583\ttotal: 5.74s\tremaining: 2.24s\n",
      "719:\tlearn: 87.8924156\ttotal: 5.75s\tremaining: 2.23s\n",
      "720:\tlearn: 87.8300601\ttotal: 5.75s\tremaining: 2.23s\n",
      "721:\tlearn: 87.7854768\ttotal: 5.76s\tremaining: 2.22s\n",
      "722:\tlearn: 87.7111744\ttotal: 5.77s\tremaining: 2.21s\n",
      "723:\tlearn: 87.6176652\ttotal: 5.78s\tremaining: 2.2s\n",
      "724:\tlearn: 87.5086118\ttotal: 5.78s\tremaining: 2.19s\n",
      "725:\tlearn: 87.4012359\ttotal: 5.79s\tremaining: 2.19s\n",
      "726:\tlearn: 87.2955094\ttotal: 5.8s\tremaining: 2.18s\n",
      "727:\tlearn: 87.2275113\ttotal: 5.8s\tremaining: 2.17s\n",
      "728:\tlearn: 87.1513845\ttotal: 5.81s\tremaining: 2.16s\n",
      "729:\tlearn: 87.0705887\ttotal: 5.81s\tremaining: 2.15s\n",
      "730:\tlearn: 87.0113011\ttotal: 5.82s\tremaining: 2.14s\n",
      "731:\tlearn: 86.9363028\ttotal: 5.83s\tremaining: 2.13s\n",
      "732:\tlearn: 86.8433044\ttotal: 5.83s\tremaining: 2.12s\n",
      "733:\tlearn: 86.7194240\ttotal: 5.84s\tremaining: 2.12s\n",
      "734:\tlearn: 86.5261431\ttotal: 5.84s\tremaining: 2.11s\n",
      "735:\tlearn: 86.3705392\ttotal: 5.85s\tremaining: 2.1s\n",
      "736:\tlearn: 86.1417444\ttotal: 5.86s\tremaining: 2.09s\n",
      "737:\tlearn: 86.0566002\ttotal: 5.86s\tremaining: 2.08s\n",
      "738:\tlearn: 85.9935511\ttotal: 5.87s\tremaining: 2.07s\n",
      "739:\tlearn: 85.9128917\ttotal: 5.87s\tremaining: 2.06s\n",
      "740:\tlearn: 85.8289382\ttotal: 5.88s\tremaining: 2.06s\n",
      "741:\tlearn: 85.7522773\ttotal: 5.88s\tremaining: 2.05s\n",
      "742:\tlearn: 85.6763234\ttotal: 5.89s\tremaining: 2.04s\n",
      "743:\tlearn: 85.6130119\ttotal: 5.9s\tremaining: 2.03s\n",
      "744:\tlearn: 85.5490199\ttotal: 5.9s\tremaining: 2.02s\n",
      "745:\tlearn: 85.4925750\ttotal: 5.91s\tremaining: 2.01s\n",
      "746:\tlearn: 85.3025549\ttotal: 5.92s\tremaining: 2s\n",
      "747:\tlearn: 85.2248966\ttotal: 5.92s\tremaining: 1.99s\n",
      "748:\tlearn: 85.1450392\ttotal: 5.93s\tremaining: 1.99s\n",
      "749:\tlearn: 84.9292101\ttotal: 5.94s\tremaining: 1.98s\n",
      "750:\tlearn: 84.7448668\ttotal: 5.95s\tremaining: 1.97s\n",
      "751:\tlearn: 84.5701576\ttotal: 5.96s\tremaining: 1.97s\n",
      "752:\tlearn: 84.4256190\ttotal: 5.97s\tremaining: 1.96s\n",
      "753:\tlearn: 84.3574139\ttotal: 5.97s\tremaining: 1.95s\n",
      "754:\tlearn: 84.2633516\ttotal: 5.98s\tremaining: 1.94s\n",
      "755:\tlearn: 84.2065223\ttotal: 5.99s\tremaining: 1.93s\n",
      "756:\tlearn: 84.1126762\ttotal: 6s\tremaining: 1.92s\n",
      "757:\tlearn: 84.0443538\ttotal: 6s\tremaining: 1.92s\n",
      "758:\tlearn: 83.9714626\ttotal: 6.01s\tremaining: 1.91s\n",
      "759:\tlearn: 83.8157740\ttotal: 6.01s\tremaining: 1.9s\n",
      "760:\tlearn: 83.6568362\ttotal: 6.02s\tremaining: 1.89s\n",
      "761:\tlearn: 83.5978141\ttotal: 6.03s\tremaining: 1.88s\n",
      "762:\tlearn: 83.3938597\ttotal: 6.03s\tremaining: 1.87s\n",
      "763:\tlearn: 83.2872092\ttotal: 6.04s\tremaining: 1.86s\n",
      "764:\tlearn: 83.2401651\ttotal: 6.04s\tremaining: 1.86s\n",
      "765:\tlearn: 83.0614652\ttotal: 6.05s\tremaining: 1.85s\n",
      "766:\tlearn: 83.0161985\ttotal: 6.05s\tremaining: 1.84s\n",
      "767:\tlearn: 82.9378319\ttotal: 6.06s\tremaining: 1.83s\n",
      "768:\tlearn: 82.7473887\ttotal: 6.07s\tremaining: 1.82s\n",
      "769:\tlearn: 82.6929952\ttotal: 6.07s\tremaining: 1.81s\n",
      "770:\tlearn: 82.6292088\ttotal: 6.08s\tremaining: 1.81s\n",
      "771:\tlearn: 82.4295725\ttotal: 6.09s\tremaining: 1.8s\n",
      "772:\tlearn: 82.3213123\ttotal: 6.09s\tremaining: 1.79s\n",
      "773:\tlearn: 82.2558316\ttotal: 6.1s\tremaining: 1.78s\n",
      "774:\tlearn: 82.1611559\ttotal: 6.11s\tremaining: 1.77s\n",
      "775:\tlearn: 82.0693673\ttotal: 6.11s\tremaining: 1.76s\n",
      "776:\tlearn: 81.9506174\ttotal: 6.12s\tremaining: 1.75s\n",
      "777:\tlearn: 81.8661653\ttotal: 6.12s\tremaining: 1.75s\n",
      "778:\tlearn: 81.8020784\ttotal: 6.13s\tremaining: 1.74s\n",
      "779:\tlearn: 81.7382721\ttotal: 6.13s\tremaining: 1.73s\n",
      "780:\tlearn: 81.6574665\ttotal: 6.14s\tremaining: 1.72s\n",
      "781:\tlearn: 81.5925056\ttotal: 6.15s\tremaining: 1.71s\n",
      "782:\tlearn: 81.4460657\ttotal: 6.16s\tremaining: 1.71s\n",
      "783:\tlearn: 81.2697373\ttotal: 6.17s\tremaining: 1.7s\n",
      "784:\tlearn: 81.1460460\ttotal: 6.17s\tremaining: 1.69s\n",
      "785:\tlearn: 81.0788284\ttotal: 6.18s\tremaining: 1.68s\n",
      "786:\tlearn: 80.9130999\ttotal: 6.18s\tremaining: 1.67s\n",
      "787:\tlearn: 80.8357234\ttotal: 6.19s\tremaining: 1.67s\n",
      "788:\tlearn: 80.7638675\ttotal: 6.2s\tremaining: 1.66s\n",
      "789:\tlearn: 80.7182475\ttotal: 6.2s\tremaining: 1.65s\n",
      "790:\tlearn: 80.6928272\ttotal: 6.21s\tremaining: 1.64s\n",
      "791:\tlearn: 80.6244855\ttotal: 6.21s\tremaining: 1.63s\n",
      "792:\tlearn: 80.5799793\ttotal: 6.22s\tremaining: 1.62s\n",
      "793:\tlearn: 80.3944802\ttotal: 6.23s\tremaining: 1.61s\n",
      "794:\tlearn: 80.3503613\ttotal: 6.23s\tremaining: 1.61s\n",
      "795:\tlearn: 80.3060203\ttotal: 6.24s\tremaining: 1.6s\n",
      "796:\tlearn: 80.1821482\ttotal: 6.24s\tremaining: 1.59s\n",
      "797:\tlearn: 80.0018271\ttotal: 6.25s\tremaining: 1.58s\n",
      "798:\tlearn: 79.7797892\ttotal: 6.26s\tremaining: 1.57s\n",
      "799:\tlearn: 79.7078108\ttotal: 6.26s\tremaining: 1.56s\n",
      "800:\tlearn: 79.6327380\ttotal: 6.27s\tremaining: 1.56s\n",
      "801:\tlearn: 79.5620895\ttotal: 6.27s\tremaining: 1.55s\n",
      "802:\tlearn: 79.3845567\ttotal: 6.28s\tremaining: 1.54s\n",
      "803:\tlearn: 79.1855164\ttotal: 6.29s\tremaining: 1.53s\n",
      "804:\tlearn: 79.0564205\ttotal: 6.29s\tremaining: 1.52s\n",
      "805:\tlearn: 78.9762655\ttotal: 6.3s\tremaining: 1.51s\n",
      "806:\tlearn: 78.9183203\ttotal: 6.3s\tremaining: 1.51s\n",
      "807:\tlearn: 78.8152830\ttotal: 6.31s\tremaining: 1.5s\n",
      "808:\tlearn: 78.6483017\ttotal: 6.32s\tremaining: 1.49s\n",
      "809:\tlearn: 78.5707680\ttotal: 6.32s\tremaining: 1.48s\n",
      "810:\tlearn: 78.5073917\ttotal: 6.33s\tremaining: 1.48s\n",
      "811:\tlearn: 78.4503926\ttotal: 6.34s\tremaining: 1.47s\n",
      "812:\tlearn: 78.3804516\ttotal: 6.34s\tremaining: 1.46s\n",
      "813:\tlearn: 78.1857213\ttotal: 6.35s\tremaining: 1.45s\n",
      "814:\tlearn: 77.9689769\ttotal: 6.36s\tremaining: 1.44s\n",
      "815:\tlearn: 77.8010790\ttotal: 6.37s\tremaining: 1.44s\n",
      "816:\tlearn: 77.7401043\ttotal: 6.37s\tremaining: 1.43s\n",
      "817:\tlearn: 77.5551915\ttotal: 6.38s\tremaining: 1.42s\n",
      "818:\tlearn: 77.4028574\ttotal: 6.39s\tremaining: 1.41s\n",
      "819:\tlearn: 77.2217278\ttotal: 6.4s\tremaining: 1.4s\n",
      "820:\tlearn: 77.1636048\ttotal: 6.4s\tremaining: 1.4s\n",
      "821:\tlearn: 77.1123983\ttotal: 6.41s\tremaining: 1.39s\n",
      "822:\tlearn: 77.0504449\ttotal: 6.42s\tremaining: 1.38s\n",
      "823:\tlearn: 76.9860122\ttotal: 6.42s\tremaining: 1.37s\n",
      "824:\tlearn: 76.8208998\ttotal: 6.43s\tremaining: 1.36s\n",
      "825:\tlearn: 76.6852818\ttotal: 6.43s\tremaining: 1.35s\n",
      "826:\tlearn: 76.6128549\ttotal: 6.44s\tremaining: 1.35s\n",
      "827:\tlearn: 76.4130028\ttotal: 6.45s\tremaining: 1.34s\n",
      "828:\tlearn: 76.3569039\ttotal: 6.45s\tremaining: 1.33s\n",
      "829:\tlearn: 76.2872085\ttotal: 6.46s\tremaining: 1.32s\n",
      "830:\tlearn: 76.1099510\ttotal: 6.46s\tremaining: 1.31s\n",
      "831:\tlearn: 76.0520945\ttotal: 6.47s\tremaining: 1.31s\n",
      "832:\tlearn: 75.9578088\ttotal: 6.48s\tremaining: 1.3s\n",
      "833:\tlearn: 75.7540434\ttotal: 6.49s\tremaining: 1.29s\n",
      "834:\tlearn: 75.5921100\ttotal: 6.5s\tremaining: 1.28s\n",
      "835:\tlearn: 75.4251747\ttotal: 6.5s\tremaining: 1.28s\n"
     ]
    },
    {
     "name": "stdout",
     "output_type": "stream",
     "text": [
      "836:\tlearn: 75.2794591\ttotal: 6.51s\tremaining: 1.27s\n",
      "837:\tlearn: 75.2137650\ttotal: 6.52s\tremaining: 1.26s\n",
      "838:\tlearn: 75.0504232\ttotal: 6.53s\tremaining: 1.25s\n",
      "839:\tlearn: 74.9302149\ttotal: 6.54s\tremaining: 1.25s\n",
      "840:\tlearn: 74.8648877\ttotal: 6.54s\tremaining: 1.24s\n",
      "841:\tlearn: 74.6702750\ttotal: 6.55s\tremaining: 1.23s\n",
      "842:\tlearn: 74.6048553\ttotal: 6.55s\tremaining: 1.22s\n",
      "843:\tlearn: 74.5503750\ttotal: 6.56s\tremaining: 1.21s\n",
      "844:\tlearn: 74.5102854\ttotal: 6.57s\tremaining: 1.2s\n",
      "845:\tlearn: 74.3754904\ttotal: 6.57s\tremaining: 1.2s\n",
      "846:\tlearn: 74.2018788\ttotal: 6.58s\tremaining: 1.19s\n",
      "847:\tlearn: 74.0332043\ttotal: 6.59s\tremaining: 1.18s\n",
      "848:\tlearn: 73.9766979\ttotal: 6.59s\tremaining: 1.17s\n",
      "849:\tlearn: 73.9078031\ttotal: 6.6s\tremaining: 1.16s\n",
      "850:\tlearn: 73.7466684\ttotal: 6.61s\tremaining: 1.16s\n",
      "851:\tlearn: 73.5579237\ttotal: 6.61s\tremaining: 1.15s\n",
      "852:\tlearn: 73.5057752\ttotal: 6.62s\tremaining: 1.14s\n",
      "853:\tlearn: 73.3248300\ttotal: 6.62s\tremaining: 1.13s\n",
      "854:\tlearn: 73.1532992\ttotal: 6.63s\tremaining: 1.12s\n",
      "855:\tlearn: 73.0098570\ttotal: 6.64s\tremaining: 1.12s\n",
      "856:\tlearn: 72.8690037\ttotal: 6.64s\tremaining: 1.11s\n",
      "857:\tlearn: 72.6817313\ttotal: 6.65s\tremaining: 1.1s\n",
      "858:\tlearn: 72.5465831\ttotal: 6.66s\tremaining: 1.09s\n",
      "859:\tlearn: 72.4575352\ttotal: 6.66s\tremaining: 1.08s\n",
      "860:\tlearn: 72.2938918\ttotal: 6.67s\tremaining: 1.08s\n",
      "861:\tlearn: 72.1383146\ttotal: 6.67s\tremaining: 1.07s\n",
      "862:\tlearn: 71.9848217\ttotal: 6.68s\tremaining: 1.06s\n",
      "863:\tlearn: 71.9300457\ttotal: 6.69s\tremaining: 1.05s\n",
      "864:\tlearn: 71.8933903\ttotal: 6.69s\tremaining: 1.04s\n",
      "865:\tlearn: 71.7306529\ttotal: 6.7s\tremaining: 1.04s\n",
      "866:\tlearn: 71.7092427\ttotal: 6.71s\tremaining: 1.03s\n",
      "867:\tlearn: 71.6483453\ttotal: 6.71s\tremaining: 1.02s\n",
      "868:\tlearn: 71.5687600\ttotal: 6.72s\tremaining: 1.01s\n",
      "869:\tlearn: 71.4352336\ttotal: 6.73s\tremaining: 1s\n",
      "870:\tlearn: 71.3161827\ttotal: 6.73s\tremaining: 997ms\n",
      "871:\tlearn: 71.2702046\ttotal: 6.74s\tremaining: 989ms\n",
      "872:\tlearn: 71.1462144\ttotal: 6.75s\tremaining: 982ms\n",
      "873:\tlearn: 71.1063410\ttotal: 6.76s\tremaining: 974ms\n",
      "874:\tlearn: 70.9374013\ttotal: 6.76s\tremaining: 966ms\n",
      "875:\tlearn: 70.8057360\ttotal: 6.77s\tremaining: 958ms\n",
      "876:\tlearn: 70.7547746\ttotal: 6.78s\tremaining: 951ms\n",
      "877:\tlearn: 70.6627348\ttotal: 6.78s\tremaining: 943ms\n",
      "878:\tlearn: 70.6048625\ttotal: 6.79s\tremaining: 935ms\n",
      "879:\tlearn: 70.4606889\ttotal: 6.79s\tremaining: 927ms\n",
      "880:\tlearn: 70.3021178\ttotal: 6.8s\tremaining: 919ms\n",
      "881:\tlearn: 70.1610516\ttotal: 6.81s\tremaining: 911ms\n",
      "882:\tlearn: 70.0042972\ttotal: 6.81s\tremaining: 903ms\n",
      "883:\tlearn: 69.8722007\ttotal: 6.82s\tremaining: 895ms\n",
      "884:\tlearn: 69.7404974\ttotal: 6.83s\tremaining: 887ms\n",
      "885:\tlearn: 69.6873039\ttotal: 6.83s\tremaining: 879ms\n",
      "886:\tlearn: 69.5309757\ttotal: 6.84s\tremaining: 871ms\n",
      "887:\tlearn: 69.4823634\ttotal: 6.84s\tremaining: 863ms\n",
      "888:\tlearn: 69.4340938\ttotal: 6.85s\tremaining: 855ms\n",
      "889:\tlearn: 69.4051129\ttotal: 6.85s\tremaining: 847ms\n",
      "890:\tlearn: 69.3411484\ttotal: 6.86s\tremaining: 839ms\n",
      "891:\tlearn: 69.1636131\ttotal: 6.87s\tremaining: 831ms\n",
      "892:\tlearn: 69.0266322\ttotal: 6.87s\tremaining: 823ms\n",
      "893:\tlearn: 69.0083176\ttotal: 6.88s\tremaining: 816ms\n",
      "894:\tlearn: 68.9547903\ttotal: 6.89s\tremaining: 808ms\n",
      "895:\tlearn: 68.8327014\ttotal: 6.89s\tremaining: 800ms\n",
      "896:\tlearn: 68.7698688\ttotal: 6.9s\tremaining: 792ms\n",
      "897:\tlearn: 68.6340047\ttotal: 6.91s\tremaining: 785ms\n",
      "898:\tlearn: 68.5257404\ttotal: 6.91s\tremaining: 777ms\n",
      "899:\tlearn: 68.4295890\ttotal: 6.92s\tremaining: 769ms\n",
      "900:\tlearn: 68.3864706\ttotal: 6.92s\tremaining: 761ms\n",
      "901:\tlearn: 68.2387975\ttotal: 6.93s\tremaining: 753ms\n",
      "902:\tlearn: 68.0906110\ttotal: 6.94s\tremaining: 745ms\n",
      "903:\tlearn: 67.9454863\ttotal: 6.94s\tremaining: 737ms\n",
      "904:\tlearn: 67.8902373\ttotal: 6.95s\tremaining: 730ms\n",
      "905:\tlearn: 67.8383249\ttotal: 6.96s\tremaining: 722ms\n",
      "906:\tlearn: 67.6853771\ttotal: 6.97s\tremaining: 715ms\n",
      "907:\tlearn: 67.6434632\ttotal: 6.98s\tremaining: 707ms\n",
      "908:\tlearn: 67.6190459\ttotal: 6.98s\tremaining: 699ms\n",
      "909:\tlearn: 67.5165578\ttotal: 6.99s\tremaining: 692ms\n",
      "910:\tlearn: 67.4396660\ttotal: 7s\tremaining: 684ms\n",
      "911:\tlearn: 67.4039891\ttotal: 7s\tremaining: 676ms\n",
      "912:\tlearn: 67.2553143\ttotal: 7.01s\tremaining: 668ms\n",
      "913:\tlearn: 67.2168654\ttotal: 7.01s\tremaining: 660ms\n",
      "914:\tlearn: 67.1569852\ttotal: 7.02s\tremaining: 652ms\n",
      "915:\tlearn: 67.0127762\ttotal: 7.02s\tremaining: 644ms\n",
      "916:\tlearn: 66.9822062\ttotal: 7.03s\tremaining: 636ms\n",
      "917:\tlearn: 66.9190638\ttotal: 7.04s\tremaining: 628ms\n",
      "918:\tlearn: 66.8660366\ttotal: 7.04s\tremaining: 621ms\n",
      "919:\tlearn: 66.6950857\ttotal: 7.05s\tremaining: 613ms\n",
      "920:\tlearn: 66.5578781\ttotal: 7.06s\tremaining: 605ms\n",
      "921:\tlearn: 66.5151097\ttotal: 7.07s\tremaining: 598ms\n",
      "922:\tlearn: 66.4645233\ttotal: 7.07s\tremaining: 590ms\n",
      "923:\tlearn: 66.4351528\ttotal: 7.08s\tremaining: 582ms\n",
      "924:\tlearn: 66.2860637\ttotal: 7.09s\tremaining: 575ms\n",
      "925:\tlearn: 66.1447457\ttotal: 7.1s\tremaining: 568ms\n",
      "926:\tlearn: 66.0988713\ttotal: 7.11s\tremaining: 560ms\n",
      "927:\tlearn: 66.0599110\ttotal: 7.12s\tremaining: 552ms\n",
      "928:\tlearn: 65.9411483\ttotal: 7.13s\tremaining: 545ms\n",
      "929:\tlearn: 65.8463362\ttotal: 7.13s\tremaining: 537ms\n",
      "930:\tlearn: 65.8067675\ttotal: 7.14s\tremaining: 529ms\n",
      "931:\tlearn: 65.6648055\ttotal: 7.14s\tremaining: 521ms\n",
      "932:\tlearn: 65.6036523\ttotal: 7.15s\tremaining: 514ms\n",
      "933:\tlearn: 65.4581352\ttotal: 7.16s\tremaining: 506ms\n",
      "934:\tlearn: 65.3961042\ttotal: 7.16s\tremaining: 498ms\n",
      "935:\tlearn: 65.3640033\ttotal: 7.17s\tremaining: 490ms\n",
      "936:\tlearn: 65.2248565\ttotal: 7.18s\tremaining: 483ms\n",
      "937:\tlearn: 65.0927316\ttotal: 7.18s\tremaining: 475ms\n",
      "938:\tlearn: 64.9467895\ttotal: 7.19s\tremaining: 467ms\n",
      "939:\tlearn: 64.7980961\ttotal: 7.2s\tremaining: 459ms\n",
      "940:\tlearn: 64.6752347\ttotal: 7.2s\tremaining: 452ms\n",
      "941:\tlearn: 64.6371598\ttotal: 7.21s\tremaining: 444ms\n",
      "942:\tlearn: 64.6085446\ttotal: 7.21s\tremaining: 436ms\n",
      "943:\tlearn: 64.5002121\ttotal: 7.22s\tremaining: 428ms\n",
      "944:\tlearn: 64.4048477\ttotal: 7.23s\tremaining: 421ms\n",
      "945:\tlearn: 64.2790364\ttotal: 7.23s\tremaining: 413ms\n",
      "946:\tlearn: 64.1653366\ttotal: 7.24s\tremaining: 405ms\n",
      "947:\tlearn: 64.0110484\ttotal: 7.25s\tremaining: 398ms\n",
      "948:\tlearn: 63.8897016\ttotal: 7.26s\tremaining: 390ms\n",
      "949:\tlearn: 63.7619496\ttotal: 7.26s\tremaining: 382ms\n",
      "950:\tlearn: 63.6338557\ttotal: 7.27s\tremaining: 374ms\n",
      "951:\tlearn: 63.4665883\ttotal: 7.28s\tremaining: 367ms\n",
      "952:\tlearn: 63.3246104\ttotal: 7.28s\tremaining: 359ms\n",
      "953:\tlearn: 63.1968974\ttotal: 7.29s\tremaining: 351ms\n",
      "954:\tlearn: 63.1783919\ttotal: 7.29s\tremaining: 344ms\n",
      "955:\tlearn: 63.0465259\ttotal: 7.3s\tremaining: 336ms\n",
      "956:\tlearn: 62.9325994\ttotal: 7.31s\tremaining: 328ms\n",
      "957:\tlearn: 62.8070956\ttotal: 7.31s\tremaining: 321ms\n",
      "958:\tlearn: 62.7137607\ttotal: 7.32s\tremaining: 313ms\n",
      "959:\tlearn: 62.6213222\ttotal: 7.33s\tremaining: 305ms\n",
      "960:\tlearn: 62.5048421\ttotal: 7.33s\tremaining: 298ms\n",
      "961:\tlearn: 62.4616001\ttotal: 7.34s\tremaining: 290ms\n",
      "962:\tlearn: 62.4449901\ttotal: 7.34s\tremaining: 282ms\n",
      "963:\tlearn: 62.3202704\ttotal: 7.35s\tremaining: 275ms\n",
      "964:\tlearn: 62.2907030\ttotal: 7.36s\tremaining: 267ms\n",
      "965:\tlearn: 62.1809152\ttotal: 7.36s\tremaining: 259ms\n",
      "966:\tlearn: 62.1528863\ttotal: 7.37s\tremaining: 251ms\n",
      "967:\tlearn: 62.0337825\ttotal: 7.37s\tremaining: 244ms\n",
      "968:\tlearn: 61.9472644\ttotal: 7.38s\tremaining: 236ms\n",
      "969:\tlearn: 61.8343022\ttotal: 7.39s\tremaining: 228ms\n",
      "970:\tlearn: 61.7094531\ttotal: 7.39s\tremaining: 221ms\n",
      "971:\tlearn: 61.6931984\ttotal: 7.4s\tremaining: 213ms\n",
      "972:\tlearn: 61.5564009\ttotal: 7.41s\tremaining: 206ms\n",
      "973:\tlearn: 61.4226491\ttotal: 7.41s\tremaining: 198ms\n",
      "974:\tlearn: 61.3931401\ttotal: 7.42s\tremaining: 190ms\n",
      "975:\tlearn: 61.3529062\ttotal: 7.43s\tremaining: 183ms\n",
      "976:\tlearn: 61.2373041\ttotal: 7.43s\tremaining: 175ms\n",
      "977:\tlearn: 61.2107013\ttotal: 7.44s\tremaining: 167ms\n",
      "978:\tlearn: 61.1712229\ttotal: 7.45s\tremaining: 160ms\n",
      "979:\tlearn: 61.1509743\ttotal: 7.46s\tremaining: 152ms\n",
      "980:\tlearn: 61.0580719\ttotal: 7.46s\tremaining: 145ms\n",
      "981:\tlearn: 60.9400555\ttotal: 7.47s\tremaining: 137ms\n",
      "982:\tlearn: 60.8303574\ttotal: 7.47s\tremaining: 129ms\n",
      "983:\tlearn: 60.7884544\ttotal: 7.48s\tremaining: 122ms\n",
      "984:\tlearn: 60.7521503\ttotal: 7.49s\tremaining: 114ms\n",
      "985:\tlearn: 60.7243360\ttotal: 7.5s\tremaining: 106ms\n",
      "986:\tlearn: 60.7025056\ttotal: 7.5s\tremaining: 98.9ms\n",
      "987:\tlearn: 60.5788325\ttotal: 7.51s\tremaining: 91.3ms\n",
      "988:\tlearn: 60.5191668\ttotal: 7.52s\tremaining: 83.7ms\n",
      "989:\tlearn: 60.3851363\ttotal: 7.53s\tremaining: 76.1ms\n",
      "990:\tlearn: 60.2830516\ttotal: 7.54s\tremaining: 68.5ms\n",
      "991:\tlearn: 60.2437512\ttotal: 7.54s\tremaining: 60.8ms\n",
      "992:\tlearn: 60.1839133\ttotal: 7.55s\tremaining: 53.2ms\n",
      "993:\tlearn: 60.1673739\ttotal: 7.55s\tremaining: 45.6ms\n",
      "994:\tlearn: 60.1294057\ttotal: 7.56s\tremaining: 38ms\n",
      "995:\tlearn: 60.0088396\ttotal: 7.57s\tremaining: 30.4ms\n",
      "996:\tlearn: 59.9910226\ttotal: 7.57s\tremaining: 22.8ms\n",
      "997:\tlearn: 59.9707131\ttotal: 7.58s\tremaining: 15.2ms\n",
      "998:\tlearn: 59.8571185\ttotal: 7.59s\tremaining: 7.59ms\n",
      "999:\tlearn: 59.8240218\ttotal: 7.59s\tremaining: 0us\n"
     ]
    }
   ],
   "source": [
    "catb_tuned = CatBoostRegressor(iterations = 1000, \n",
    "                               learning_rate = 0.01, \n",
    "                               depth = 8)\n",
    "\n",
    "catb_tuned = catb_tuned.fit(X_train,y_train)"
   ]
  },
  {
   "cell_type": "code",
   "execution_count": 267,
   "id": "c5e28082",
   "metadata": {},
   "outputs": [
    {
     "data": {
      "text/plain": [
       "346.82462611665545"
      ]
     },
     "execution_count": 267,
     "metadata": {},
     "output_type": "execute_result"
    }
   ],
   "source": [
    "y_pred = catb_tuned.predict(X_test)\n",
    "np.sqrt(mean_squared_error(y_test, y_pred))"
   ]
  },
  {
   "cell_type": "code",
   "execution_count": null,
   "id": "3984c914",
   "metadata": {},
   "outputs": [],
   "source": []
  }
 ],
 "metadata": {
  "kernelspec": {
   "display_name": "Python 3 (ipykernel)",
   "language": "python",
   "name": "python3"
  },
  "language_info": {
   "codemirror_mode": {
    "name": "ipython",
    "version": 3
   },
   "file_extension": ".py",
   "mimetype": "text/x-python",
   "name": "python",
   "nbconvert_exporter": "python",
   "pygments_lexer": "ipython3",
   "version": "3.9.12"
  }
 },
 "nbformat": 4,
 "nbformat_minor": 5
}
